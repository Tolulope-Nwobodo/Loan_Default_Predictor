{
 "cells": [
  {
   "cell_type": "markdown",
   "id": "139d63e3-4e4a-41f2-9e91-af32e79dbeb8",
   "metadata": {},
   "source": [
    "# Predicting Loan Default Risk"
   ]
  },
  {
   "cell_type": "markdown",
   "id": "294dd4ea-91b1-45b8-af9e-0d444f93565b",
   "metadata": {},
   "source": [
    "## Problem Statement: This project entails developing a robust machine learning pipeline to predict loan default risk, enabling better credit decisions and minimizing financial losses"
   ]
  },
  {
   "cell_type": "markdown",
   "id": "6cd2b884-bdd3-4cf1-b4bf-ccbf459f52b2",
   "metadata": {},
   "source": [
    "### It is a classification problem and would require the use of logistic regression to fix\n",
    "+ Our target column is the good_bad_flag"
   ]
  },
  {
   "cell_type": "code",
   "execution_count": 1,
   "id": "de2ba8cf-6bde-488c-89aa-99591263cc75",
   "metadata": {},
   "outputs": [],
   "source": [
    "#import necessary libraries\n",
    "import pandas as pd\n",
    "import numpy as np\n",
    "import matplotlib.pyplot as plt\n",
    "import seaborn as sns\n",
    "import warnings\n",
    "\n",
    "warnings.filterwarnings('ignore')"
   ]
  },
  {
   "cell_type": "code",
   "execution_count": 2,
   "id": "ebb46b24-9d3d-4c72-a4b8-855f2f4bca2d",
   "metadata": {},
   "outputs": [],
   "source": [
    "#load the three datasets\n",
    "url1 = 'https://raw.githubusercontent.com/Oyeniran20/axia_cohort_8/refs/heads/main/trainperf.csv'\n",
    "url2 = 'https://raw.githubusercontent.com/Oyeniran20/axia_cohort_8/refs/heads/main/traindemographics.csv'\n",
    "url3 = 'https://raw.githubusercontent.com/Oyeniran20/axia_cohort_8/refs/heads/main/trainprevloans.csv'"
   ]
  },
  {
   "cell_type": "code",
   "execution_count": 3,
   "id": "56af3e4c-bd32-4ba8-b873-e4a882036220",
   "metadata": {},
   "outputs": [],
   "source": [
    "#read them into dataframes\n",
    "df1 = pd.read_csv(url1)\n",
    "df2 = pd.read_csv(url2)\n",
    "df3 = pd.read_csv(url3)"
   ]
  },
  {
   "cell_type": "markdown",
   "id": "360f9ffe-ac83-4a88-892d-03e0b7568864",
   "metadata": {},
   "source": [
    "### Data Understanding"
   ]
  },
  {
   "cell_type": "code",
   "execution_count": 4,
   "id": "2f9bfe98-f938-4e97-8995-10d26902646b",
   "metadata": {},
   "outputs": [
    {
     "data": {
      "text/html": [
       "<div>\n",
       "<style scoped>\n",
       "    .dataframe tbody tr th:only-of-type {\n",
       "        vertical-align: middle;\n",
       "    }\n",
       "\n",
       "    .dataframe tbody tr th {\n",
       "        vertical-align: top;\n",
       "    }\n",
       "\n",
       "    .dataframe thead th {\n",
       "        text-align: right;\n",
       "    }\n",
       "</style>\n",
       "<table border=\"1\" class=\"dataframe\">\n",
       "  <thead>\n",
       "    <tr style=\"text-align: right;\">\n",
       "      <th></th>\n",
       "      <th>customerid</th>\n",
       "      <th>systemloanid</th>\n",
       "      <th>loannumber</th>\n",
       "      <th>approveddate</th>\n",
       "      <th>creationdate</th>\n",
       "      <th>loanamount</th>\n",
       "      <th>totaldue</th>\n",
       "      <th>termdays</th>\n",
       "      <th>referredby</th>\n",
       "      <th>good_bad_flag</th>\n",
       "    </tr>\n",
       "  </thead>\n",
       "  <tbody>\n",
       "    <tr>\n",
       "      <th>2709</th>\n",
       "      <td>8a858e875b910dfe015b9ad5d2a2413d</td>\n",
       "      <td>301983132</td>\n",
       "      <td>4</td>\n",
       "      <td>2017-07-18 07:21:39.000000</td>\n",
       "      <td>2017-07-18 06:21:31.000000</td>\n",
       "      <td>10000.0</td>\n",
       "      <td>12500.0</td>\n",
       "      <td>30</td>\n",
       "      <td>NaN</td>\n",
       "      <td>Good</td>\n",
       "    </tr>\n",
       "    <tr>\n",
       "      <th>2192</th>\n",
       "      <td>8a85882653e2eb990153f0f8a8520c4b</td>\n",
       "      <td>301986947</td>\n",
       "      <td>8</td>\n",
       "      <td>2017-07-20 08:08:21.000000</td>\n",
       "      <td>2017-07-20 07:08:13.000000</td>\n",
       "      <td>25000.0</td>\n",
       "      <td>27500.0</td>\n",
       "      <td>30</td>\n",
       "      <td>NaN</td>\n",
       "      <td>Good</td>\n",
       "    </tr>\n",
       "  </tbody>\n",
       "</table>\n",
       "</div>"
      ],
      "text/plain": [
       "                            customerid  systemloanid  loannumber  \\\n",
       "2709  8a858e875b910dfe015b9ad5d2a2413d     301983132           4   \n",
       "2192  8a85882653e2eb990153f0f8a8520c4b     301986947           8   \n",
       "\n",
       "                    approveddate                creationdate  loanamount  \\\n",
       "2709  2017-07-18 07:21:39.000000  2017-07-18 06:21:31.000000     10000.0   \n",
       "2192  2017-07-20 08:08:21.000000  2017-07-20 07:08:13.000000     25000.0   \n",
       "\n",
       "      totaldue  termdays referredby good_bad_flag  \n",
       "2709   12500.0        30        NaN          Good  \n",
       "2192   27500.0        30        NaN          Good  "
      ]
     },
     "execution_count": 4,
     "metadata": {},
     "output_type": "execute_result"
    }
   ],
   "source": [
    "df1.sample(2)"
   ]
  },
  {
   "cell_type": "code",
   "execution_count": 5,
   "id": "e00f2bf2-0292-475c-9cb1-33e6bf5d2e42",
   "metadata": {},
   "outputs": [
    {
     "data": {
      "text/html": [
       "<div>\n",
       "<style scoped>\n",
       "    .dataframe tbody tr th:only-of-type {\n",
       "        vertical-align: middle;\n",
       "    }\n",
       "\n",
       "    .dataframe tbody tr th {\n",
       "        vertical-align: top;\n",
       "    }\n",
       "\n",
       "    .dataframe thead th {\n",
       "        text-align: right;\n",
       "    }\n",
       "</style>\n",
       "<table border=\"1\" class=\"dataframe\">\n",
       "  <thead>\n",
       "    <tr style=\"text-align: right;\">\n",
       "      <th></th>\n",
       "      <th>customerid</th>\n",
       "      <th>birthdate</th>\n",
       "      <th>bank_account_type</th>\n",
       "      <th>longitude_gps</th>\n",
       "      <th>latitude_gps</th>\n",
       "      <th>bank_name_clients</th>\n",
       "      <th>bank_branch_clients</th>\n",
       "      <th>employment_status_clients</th>\n",
       "      <th>level_of_education_clients</th>\n",
       "    </tr>\n",
       "  </thead>\n",
       "  <tbody>\n",
       "    <tr>\n",
       "      <th>2541</th>\n",
       "      <td>8a858f085bcf44be015bd30eaa241e6e</td>\n",
       "      <td>1984-12-22 00:00:00.000000</td>\n",
       "      <td>Savings</td>\n",
       "      <td>3.382199</td>\n",
       "      <td>6.629799</td>\n",
       "      <td>UBA</td>\n",
       "      <td>NaN</td>\n",
       "      <td>NaN</td>\n",
       "      <td>NaN</td>\n",
       "    </tr>\n",
       "    <tr>\n",
       "      <th>1645</th>\n",
       "      <td>8a8589a053acc39e0153b20ebccf30b9</td>\n",
       "      <td>1968-12-16 00:00:00.000000</td>\n",
       "      <td>Savings</td>\n",
       "      <td>5.844780</td>\n",
       "      <td>5.503782</td>\n",
       "      <td>First Bank</td>\n",
       "      <td>NaN</td>\n",
       "      <td>Permanent</td>\n",
       "      <td>NaN</td>\n",
       "    </tr>\n",
       "  </tbody>\n",
       "</table>\n",
       "</div>"
      ],
      "text/plain": [
       "                            customerid                   birthdate  \\\n",
       "2541  8a858f085bcf44be015bd30eaa241e6e  1984-12-22 00:00:00.000000   \n",
       "1645  8a8589a053acc39e0153b20ebccf30b9  1968-12-16 00:00:00.000000   \n",
       "\n",
       "     bank_account_type  longitude_gps  latitude_gps bank_name_clients  \\\n",
       "2541           Savings       3.382199      6.629799               UBA   \n",
       "1645           Savings       5.844780      5.503782        First Bank   \n",
       "\n",
       "     bank_branch_clients employment_status_clients level_of_education_clients  \n",
       "2541                 NaN                       NaN                        NaN  \n",
       "1645                 NaN                 Permanent                        NaN  "
      ]
     },
     "execution_count": 5,
     "metadata": {},
     "output_type": "execute_result"
    }
   ],
   "source": [
    "df2.sample(2)"
   ]
  },
  {
   "cell_type": "code",
   "execution_count": 6,
   "id": "2575a11d-a5d1-4b98-b3cc-ba3947bbad64",
   "metadata": {},
   "outputs": [
    {
     "data": {
      "text/html": [
       "<div>\n",
       "<style scoped>\n",
       "    .dataframe tbody tr th:only-of-type {\n",
       "        vertical-align: middle;\n",
       "    }\n",
       "\n",
       "    .dataframe tbody tr th {\n",
       "        vertical-align: top;\n",
       "    }\n",
       "\n",
       "    .dataframe thead th {\n",
       "        text-align: right;\n",
       "    }\n",
       "</style>\n",
       "<table border=\"1\" class=\"dataframe\">\n",
       "  <thead>\n",
       "    <tr style=\"text-align: right;\">\n",
       "      <th></th>\n",
       "      <th>customerid</th>\n",
       "      <th>systemloanid</th>\n",
       "      <th>loannumber</th>\n",
       "      <th>approveddate</th>\n",
       "      <th>creationdate</th>\n",
       "      <th>loanamount</th>\n",
       "      <th>totaldue</th>\n",
       "      <th>termdays</th>\n",
       "      <th>closeddate</th>\n",
       "      <th>referredby</th>\n",
       "      <th>firstduedate</th>\n",
       "      <th>firstrepaiddate</th>\n",
       "    </tr>\n",
       "  </thead>\n",
       "  <tbody>\n",
       "    <tr>\n",
       "      <th>10210</th>\n",
       "      <td>8a858f335c8d9723015c9cef3ef85af2</td>\n",
       "      <td>301936273</td>\n",
       "      <td>1</td>\n",
       "      <td>2017-06-12 16:53:43.000000</td>\n",
       "      <td>2017-06-12 15:52:35.000000</td>\n",
       "      <td>10000.0</td>\n",
       "      <td>13000.0</td>\n",
       "      <td>30</td>\n",
       "      <td>2017-07-03 18:55:59.000000</td>\n",
       "      <td>NaN</td>\n",
       "      <td>2017-07-13 00:00:00.000000</td>\n",
       "      <td>2017-07-03 18:45:51.000000</td>\n",
       "    </tr>\n",
       "    <tr>\n",
       "      <th>12970</th>\n",
       "      <td>8a8588fd53c244bc0153c9c031e76307</td>\n",
       "      <td>301923794</td>\n",
       "      <td>5</td>\n",
       "      <td>2017-06-01 11:09:30.000000</td>\n",
       "      <td>2017-06-01 10:09:22.000000</td>\n",
       "      <td>20000.0</td>\n",
       "      <td>22250.0</td>\n",
       "      <td>15</td>\n",
       "      <td>2017-06-02 22:49:09.000000</td>\n",
       "      <td>NaN</td>\n",
       "      <td>2017-06-16 00:00:00.000000</td>\n",
       "      <td>2017-06-02 22:39:00.000000</td>\n",
       "    </tr>\n",
       "  </tbody>\n",
       "</table>\n",
       "</div>"
      ],
      "text/plain": [
       "                             customerid  systemloanid  loannumber  \\\n",
       "10210  8a858f335c8d9723015c9cef3ef85af2     301936273           1   \n",
       "12970  8a8588fd53c244bc0153c9c031e76307     301923794           5   \n",
       "\n",
       "                     approveddate                creationdate  loanamount  \\\n",
       "10210  2017-06-12 16:53:43.000000  2017-06-12 15:52:35.000000     10000.0   \n",
       "12970  2017-06-01 11:09:30.000000  2017-06-01 10:09:22.000000     20000.0   \n",
       "\n",
       "       totaldue  termdays                  closeddate referredby  \\\n",
       "10210   13000.0        30  2017-07-03 18:55:59.000000        NaN   \n",
       "12970   22250.0        15  2017-06-02 22:49:09.000000        NaN   \n",
       "\n",
       "                     firstduedate             firstrepaiddate  \n",
       "10210  2017-07-13 00:00:00.000000  2017-07-03 18:45:51.000000  \n",
       "12970  2017-06-16 00:00:00.000000  2017-06-02 22:39:00.000000  "
      ]
     },
     "execution_count": 6,
     "metadata": {},
     "output_type": "execute_result"
    }
   ],
   "source": [
    "df3.sample(2)"
   ]
  },
  {
   "cell_type": "code",
   "execution_count": 7,
   "id": "4a5f1938-4a69-457b-aa3e-32d44cde0deb",
   "metadata": {},
   "outputs": [
    {
     "name": "stdout",
     "output_type": "stream",
     "text": [
      "(4368, 10)\n",
      "<class 'pandas.core.frame.DataFrame'>\n",
      "RangeIndex: 4368 entries, 0 to 4367\n",
      "Data columns (total 10 columns):\n",
      " #   Column         Non-Null Count  Dtype  \n",
      "---  ------         --------------  -----  \n",
      " 0   customerid     4368 non-null   object \n",
      " 1   systemloanid   4368 non-null   int64  \n",
      " 2   loannumber     4368 non-null   int64  \n",
      " 3   approveddate   4368 non-null   object \n",
      " 4   creationdate   4368 non-null   object \n",
      " 5   loanamount     4368 non-null   float64\n",
      " 6   totaldue       4368 non-null   float64\n",
      " 7   termdays       4368 non-null   int64  \n",
      " 8   referredby     587 non-null    object \n",
      " 9   good_bad_flag  4368 non-null   object \n",
      "dtypes: float64(2), int64(3), object(5)\n",
      "memory usage: 341.4+ KB\n"
     ]
    }
   ],
   "source": [
    "#inspect the data\n",
    "print(df1.shape)\n",
    "df1.info()"
   ]
  },
  {
   "cell_type": "code",
   "execution_count": 8,
   "id": "d00b576d-2f23-411b-a423-9530024bbc2e",
   "metadata": {},
   "outputs": [
    {
     "name": "stdout",
     "output_type": "stream",
     "text": [
      "(4346, 9)\n",
      "<class 'pandas.core.frame.DataFrame'>\n",
      "RangeIndex: 4346 entries, 0 to 4345\n",
      "Data columns (total 9 columns):\n",
      " #   Column                      Non-Null Count  Dtype  \n",
      "---  ------                      --------------  -----  \n",
      " 0   customerid                  4346 non-null   object \n",
      " 1   birthdate                   4346 non-null   object \n",
      " 2   bank_account_type           4346 non-null   object \n",
      " 3   longitude_gps               4346 non-null   float64\n",
      " 4   latitude_gps                4346 non-null   float64\n",
      " 5   bank_name_clients           4346 non-null   object \n",
      " 6   bank_branch_clients         51 non-null     object \n",
      " 7   employment_status_clients   3698 non-null   object \n",
      " 8   level_of_education_clients  587 non-null    object \n",
      "dtypes: float64(2), object(7)\n",
      "memory usage: 305.7+ KB\n"
     ]
    }
   ],
   "source": [
    "print(df2.shape)\n",
    "df2.info()"
   ]
  },
  {
   "cell_type": "code",
   "execution_count": 9,
   "id": "5d1ff9e8-06f7-4b6c-8dc0-f3f8e5db249c",
   "metadata": {},
   "outputs": [
    {
     "name": "stdout",
     "output_type": "stream",
     "text": [
      "(18183, 12)\n",
      "<class 'pandas.core.frame.DataFrame'>\n",
      "RangeIndex: 18183 entries, 0 to 18182\n",
      "Data columns (total 12 columns):\n",
      " #   Column           Non-Null Count  Dtype  \n",
      "---  ------           --------------  -----  \n",
      " 0   customerid       18183 non-null  object \n",
      " 1   systemloanid     18183 non-null  int64  \n",
      " 2   loannumber       18183 non-null  int64  \n",
      " 3   approveddate     18183 non-null  object \n",
      " 4   creationdate     18183 non-null  object \n",
      " 5   loanamount       18183 non-null  float64\n",
      " 6   totaldue         18183 non-null  float64\n",
      " 7   termdays         18183 non-null  int64  \n",
      " 8   closeddate       18183 non-null  object \n",
      " 9   referredby       1026 non-null   object \n",
      " 10  firstduedate     18183 non-null  object \n",
      " 11  firstrepaiddate  18183 non-null  object \n",
      "dtypes: float64(2), int64(3), object(7)\n",
      "memory usage: 1.7+ MB\n"
     ]
    }
   ],
   "source": [
    "print(df3.shape)\n",
    "df3.info()"
   ]
  },
  {
   "cell_type": "markdown",
   "id": "20edd131-3b50-4024-8275-bdf5435623ce",
   "metadata": {},
   "source": [
    "### a) Demographic data (traindemographics.csv)\n",
    "+ customerid (Primary key used to merge to other data)\n",
    "+ birthdate (date of birth of the customer)\n",
    "+ bank_account_type (type of primary bank account)\n",
    "+ longitude_gps\n",
    "+ latitude_gps\n",
    "+ bank_name_clients (name of the bank)\n",
    "+ bank_branch_clients (location of the branch - not compulsory - so missing in a lot of the cases)\n",
    "+ employment_status_clients (type of employment that customer has)\n",
    "+ level_of_education_clients (highest level of education)\n",
    "\n",
    "### b) Performance data (trainperf.csv) : This is the repeat loan that the customer has taken for which we need to predict the performance of. Basically, we need to predict whether this loan would default given all previous loans and demographics of a customer.\n",
    "+ customerid (Primary key used to merge to other data)\n",
    "+ systemloanid (The id associated with the particular loan. The same customerId can have multiple systemloanid’s for each loan he/she has taken out)\n",
    "+ loannumber (The number of the loan that you have to predict)\n",
    "+ approveddate (Date that loan was approved)\n",
    "+ creationdate (Date that loan application was created)\n",
    "+ loanamount (Loan value taken)\n",
    "+ totaldue (Total repayment required to settle the loan - this is the capital loan value disbursed +interest and fees)\n",
    "+ termdays (Term of loan)\n",
    "+ referredby (customerId of the customer that referred this person - is missing, then not referred)\n",
    "+ good_bad_flag (good = settled loan on time; bad = did not settled loan on time) - this is the target variable that we need to predict\n",
    "\n",
    "### c) Previous loans data (trainprevloans.csv) : This dataset contains all previous loans that the customer had prior to the loan above that we want to predict the performance of. Each loan will have a different systemloanid, but the same customerid for each customer.\n",
    "+ customerid (Primary key used to merge to other data)\n",
    "+ systemloanid (The id associated with the particular loan. The same customerId can have multiple systemloanid’s for each loan he/she has taken out)\n",
    "+ loannumber (The number of the loan that you have to predict)\n",
    "+ approveddate (Date that loan was approved)\n",
    "+ creationdate (Date that loan application was created)\n",
    "+ loanamount (Date that loan application was created)\n",
    "+ totaldue (Total repayment required to settle the loan - this is the capital loan value disbursed +interest and fees) termdays (Term of loan)\n",
    "+ closeddate (Date that the loan was settled)\n",
    "+ referredby (customerId of the customer that referred this person - is missing, then not refrerred)\n",
    "+ firstduedate (Date of first payment due in cases where the term is longer than 30 days. So in the case where the term is 60+ days - then there are + multiple monthly payments due - and this dates reflects the date of the first payment)\n",
    "+ firstrepaiddate (Actual date that he/she paid the first payment as defined above)\n"
   ]
  },
  {
   "cell_type": "code",
   "execution_count": 10,
   "id": "f408f4ab-3657-4a75-abd9-ffb9adfeaa2d",
   "metadata": {},
   "outputs": [
    {
     "name": "stdout",
     "output_type": "stream",
     "text": [
      "customerid          0\n",
      "systemloanid        0\n",
      "loannumber          0\n",
      "approveddate        0\n",
      "creationdate        0\n",
      "loanamount          0\n",
      "totaldue            0\n",
      "termdays            0\n",
      "referredby       3781\n",
      "good_bad_flag       0\n",
      "dtype: int64\n",
      "customerid                       0\n",
      "birthdate                        0\n",
      "bank_account_type                0\n",
      "longitude_gps                    0\n",
      "latitude_gps                     0\n",
      "bank_name_clients                0\n",
      "bank_branch_clients           4295\n",
      "employment_status_clients      648\n",
      "level_of_education_clients    3759\n",
      "dtype: int64\n",
      "customerid             0\n",
      "systemloanid           0\n",
      "loannumber             0\n",
      "approveddate           0\n",
      "creationdate           0\n",
      "loanamount             0\n",
      "totaldue               0\n",
      "termdays               0\n",
      "closeddate             0\n",
      "referredby         17157\n",
      "firstduedate           0\n",
      "firstrepaiddate        0\n",
      "dtype: int64\n"
     ]
    }
   ],
   "source": [
    "#check for missing values\n",
    "print(df1.isna().sum())\n",
    "print(df2.isna().sum())\n",
    "print(df3.isna().sum())"
   ]
  },
  {
   "cell_type": "code",
   "execution_count": 11,
   "id": "4723ec73-9e37-4e26-b9d9-6539e5a44d23",
   "metadata": {},
   "outputs": [
    {
     "name": "stdout",
     "output_type": "stream",
     "text": [
      "0\n",
      "12\n",
      "0\n"
     ]
    }
   ],
   "source": [
    "#check for duplicates\n",
    "print(df1.duplicated().sum())\n",
    "print(df2.duplicated().sum())\n",
    "print(df3.duplicated().sum())"
   ]
  },
  {
   "cell_type": "code",
   "execution_count": 12,
   "id": "81e7db16-8fe3-4b5c-97a5-4b2961440f37",
   "metadata": {},
   "outputs": [
    {
     "name": "stdout",
     "output_type": "stream",
     "text": [
      "0\n",
      "12\n",
      "13824\n"
     ]
    }
   ],
   "source": [
    "print(df1['customerid'].duplicated().sum())\n",
    "print(df2['customerid'].duplicated().sum())\n",
    "print(df3['customerid'].duplicated().sum())"
   ]
  },
  {
   "cell_type": "code",
   "execution_count": 13,
   "id": "f95fbd19-306c-41e7-b29f-63e77523e617",
   "metadata": {},
   "outputs": [
    {
     "data": {
      "text/plain": [
       "4359"
      ]
     },
     "execution_count": 13,
     "metadata": {},
     "output_type": "execute_result"
    }
   ],
   "source": [
    "len(df3['customerid'].unique())"
   ]
  },
  {
   "cell_type": "code",
   "execution_count": 14,
   "id": "d5b08038-f755-4908-9dbb-ec6727ef8b74",
   "metadata": {},
   "outputs": [
    {
     "data": {
      "text/html": [
       "<div>\n",
       "<style scoped>\n",
       "    .dataframe tbody tr th:only-of-type {\n",
       "        vertical-align: middle;\n",
       "    }\n",
       "\n",
       "    .dataframe tbody tr th {\n",
       "        vertical-align: top;\n",
       "    }\n",
       "\n",
       "    .dataframe thead th {\n",
       "        text-align: right;\n",
       "    }\n",
       "</style>\n",
       "<table border=\"1\" class=\"dataframe\">\n",
       "  <thead>\n",
       "    <tr style=\"text-align: right;\">\n",
       "      <th></th>\n",
       "      <th>count</th>\n",
       "      <th>mean</th>\n",
       "      <th>std</th>\n",
       "      <th>min</th>\n",
       "      <th>25%</th>\n",
       "      <th>50%</th>\n",
       "      <th>75%</th>\n",
       "      <th>max</th>\n",
       "    </tr>\n",
       "  </thead>\n",
       "  <tbody>\n",
       "    <tr>\n",
       "      <th>systemloanid</th>\n",
       "      <td>4368.0</td>\n",
       "      <td>301980957.0</td>\n",
       "      <td>13431.0</td>\n",
       "      <td>301958485.0</td>\n",
       "      <td>301969128.0</td>\n",
       "      <td>301980100.0</td>\n",
       "      <td>301993504.0</td>\n",
       "      <td>302004050.0</td>\n",
       "    </tr>\n",
       "    <tr>\n",
       "      <th>loannumber</th>\n",
       "      <td>4368.0</td>\n",
       "      <td>5.0</td>\n",
       "      <td>4.0</td>\n",
       "      <td>2.0</td>\n",
       "      <td>2.0</td>\n",
       "      <td>4.0</td>\n",
       "      <td>7.0</td>\n",
       "      <td>27.0</td>\n",
       "    </tr>\n",
       "    <tr>\n",
       "      <th>loanamount</th>\n",
       "      <td>4368.0</td>\n",
       "      <td>17809.0</td>\n",
       "      <td>10750.0</td>\n",
       "      <td>10000.0</td>\n",
       "      <td>10000.0</td>\n",
       "      <td>10000.0</td>\n",
       "      <td>20000.0</td>\n",
       "      <td>60000.0</td>\n",
       "    </tr>\n",
       "    <tr>\n",
       "      <th>totaldue</th>\n",
       "      <td>4368.0</td>\n",
       "      <td>21257.0</td>\n",
       "      <td>11944.0</td>\n",
       "      <td>10000.0</td>\n",
       "      <td>13000.0</td>\n",
       "      <td>13000.0</td>\n",
       "      <td>24500.0</td>\n",
       "      <td>68100.0</td>\n",
       "    </tr>\n",
       "    <tr>\n",
       "      <th>termdays</th>\n",
       "      <td>4368.0</td>\n",
       "      <td>29.0</td>\n",
       "      <td>12.0</td>\n",
       "      <td>15.0</td>\n",
       "      <td>30.0</td>\n",
       "      <td>30.0</td>\n",
       "      <td>30.0</td>\n",
       "      <td>90.0</td>\n",
       "    </tr>\n",
       "  </tbody>\n",
       "</table>\n",
       "</div>"
      ],
      "text/plain": [
       "               count         mean      std          min          25%  \\\n",
       "systemloanid  4368.0  301980957.0  13431.0  301958485.0  301969128.0   \n",
       "loannumber    4368.0          5.0      4.0          2.0          2.0   \n",
       "loanamount    4368.0      17809.0  10750.0      10000.0      10000.0   \n",
       "totaldue      4368.0      21257.0  11944.0      10000.0      13000.0   \n",
       "termdays      4368.0         29.0     12.0         15.0         30.0   \n",
       "\n",
       "                      50%          75%          max  \n",
       "systemloanid  301980100.0  301993504.0  302004050.0  \n",
       "loannumber            4.0          7.0         27.0  \n",
       "loanamount        10000.0      20000.0      60000.0  \n",
       "totaldue          13000.0      24500.0      68100.0  \n",
       "termdays             30.0         30.0         90.0  "
      ]
     },
     "execution_count": 14,
     "metadata": {},
     "output_type": "execute_result"
    }
   ],
   "source": [
    "# check summary statistics\n",
    "df1.describe().T.round()"
   ]
  },
  {
   "cell_type": "code",
   "execution_count": 15,
   "id": "9b9d0822-49eb-49b2-ac64-2cabb0e41322",
   "metadata": {},
   "outputs": [
    {
     "data": {
      "text/html": [
       "<div>\n",
       "<style scoped>\n",
       "    .dataframe tbody tr th:only-of-type {\n",
       "        vertical-align: middle;\n",
       "    }\n",
       "\n",
       "    .dataframe tbody tr th {\n",
       "        vertical-align: top;\n",
       "    }\n",
       "\n",
       "    .dataframe thead th {\n",
       "        text-align: right;\n",
       "    }\n",
       "</style>\n",
       "<table border=\"1\" class=\"dataframe\">\n",
       "  <thead>\n",
       "    <tr style=\"text-align: right;\">\n",
       "      <th></th>\n",
       "      <th>count</th>\n",
       "      <th>mean</th>\n",
       "      <th>std</th>\n",
       "      <th>min</th>\n",
       "      <th>25%</th>\n",
       "      <th>50%</th>\n",
       "      <th>75%</th>\n",
       "      <th>max</th>\n",
       "    </tr>\n",
       "  </thead>\n",
       "  <tbody>\n",
       "    <tr>\n",
       "      <th>systemloanid</th>\n",
       "      <td>18183.0</td>\n",
       "      <td>301839474.0</td>\n",
       "      <td>93678.0</td>\n",
       "      <td>301600134.0</td>\n",
       "      <td>301776577.0</td>\n",
       "      <td>301854965.0</td>\n",
       "      <td>301919682.0</td>\n",
       "      <td>302000275.0</td>\n",
       "    </tr>\n",
       "    <tr>\n",
       "      <th>loannumber</th>\n",
       "      <td>18183.0</td>\n",
       "      <td>4.0</td>\n",
       "      <td>3.0</td>\n",
       "      <td>1.0</td>\n",
       "      <td>2.0</td>\n",
       "      <td>3.0</td>\n",
       "      <td>6.0</td>\n",
       "      <td>26.0</td>\n",
       "    </tr>\n",
       "    <tr>\n",
       "      <th>loanamount</th>\n",
       "      <td>18183.0</td>\n",
       "      <td>16501.0</td>\n",
       "      <td>9321.0</td>\n",
       "      <td>3000.0</td>\n",
       "      <td>10000.0</td>\n",
       "      <td>10000.0</td>\n",
       "      <td>20000.0</td>\n",
       "      <td>60000.0</td>\n",
       "    </tr>\n",
       "    <tr>\n",
       "      <th>totaldue</th>\n",
       "      <td>18183.0</td>\n",
       "      <td>19573.0</td>\n",
       "      <td>10454.0</td>\n",
       "      <td>3450.0</td>\n",
       "      <td>11500.0</td>\n",
       "      <td>13000.0</td>\n",
       "      <td>24500.0</td>\n",
       "      <td>68100.0</td>\n",
       "    </tr>\n",
       "    <tr>\n",
       "      <th>termdays</th>\n",
       "      <td>18183.0</td>\n",
       "      <td>27.0</td>\n",
       "      <td>11.0</td>\n",
       "      <td>15.0</td>\n",
       "      <td>15.0</td>\n",
       "      <td>30.0</td>\n",
       "      <td>30.0</td>\n",
       "      <td>90.0</td>\n",
       "    </tr>\n",
       "  </tbody>\n",
       "</table>\n",
       "</div>"
      ],
      "text/plain": [
       "                count         mean      std          min          25%  \\\n",
       "systemloanid  18183.0  301839474.0  93678.0  301600134.0  301776577.0   \n",
       "loannumber    18183.0          4.0      3.0          1.0          2.0   \n",
       "loanamount    18183.0      16501.0   9321.0       3000.0      10000.0   \n",
       "totaldue      18183.0      19573.0  10454.0       3450.0      11500.0   \n",
       "termdays      18183.0         27.0     11.0         15.0         15.0   \n",
       "\n",
       "                      50%          75%          max  \n",
       "systemloanid  301854965.0  301919682.0  302000275.0  \n",
       "loannumber            3.0          6.0         26.0  \n",
       "loanamount        10000.0      20000.0      60000.0  \n",
       "totaldue          13000.0      24500.0      68100.0  \n",
       "termdays             30.0         30.0         90.0  "
      ]
     },
     "execution_count": 15,
     "metadata": {},
     "output_type": "execute_result"
    }
   ],
   "source": [
    "df3.describe().T.round()"
   ]
  },
  {
   "cell_type": "markdown",
   "id": "a05cc10e-b5e9-4c6b-a76c-b7ce295780f3",
   "metadata": {},
   "source": [
    "### Observation\n",
    "+ It appears there are outliers in the loanamount and totaldue"
   ]
  },
  {
   "cell_type": "markdown",
   "id": "56d4ec9f-4150-4465-a910-fe7b58a94895",
   "metadata": {},
   "source": [
    "### Feature Engineering on the PrevLoan Dataset"
   ]
  },
  {
   "cell_type": "code",
   "execution_count": 16,
   "id": "6d372d40-fdc8-43db-897f-0af250c7c337",
   "metadata": {},
   "outputs": [
    {
     "data": {
      "text/plain": [
       "Index(['customerid', 'systemloanid', 'loannumber', 'approveddate',\n",
       "       'creationdate', 'loanamount', 'totaldue', 'termdays', 'closeddate',\n",
       "       'referredby', 'firstduedate', 'firstrepaiddate'],\n",
       "      dtype='object')"
      ]
     },
     "execution_count": 16,
     "metadata": {},
     "output_type": "execute_result"
    }
   ],
   "source": [
    "df3.columns"
   ]
  },
  {
   "cell_type": "code",
   "execution_count": 17,
   "id": "fbe6c365-b2bb-4283-99a9-689857f9e450",
   "metadata": {},
   "outputs": [],
   "source": [
    "#creating a loan_to_due ratio = if totaldue > loanamount, the customer likely missed the firstduedate and has incured interest on their loan\n",
    "df3['loan_to_due_ratio'] = df3['totaldue'] / df3['loanamount']"
   ]
  },
  {
   "cell_type": "code",
   "execution_count": 18,
   "id": "694be88c-7ab3-469d-8770-799206fe0f90",
   "metadata": {},
   "outputs": [
    {
     "data": {
      "text/html": [
       "<div>\n",
       "<style scoped>\n",
       "    .dataframe tbody tr th:only-of-type {\n",
       "        vertical-align: middle;\n",
       "    }\n",
       "\n",
       "    .dataframe tbody tr th {\n",
       "        vertical-align: top;\n",
       "    }\n",
       "\n",
       "    .dataframe thead th {\n",
       "        text-align: right;\n",
       "    }\n",
       "</style>\n",
       "<table border=\"1\" class=\"dataframe\">\n",
       "  <thead>\n",
       "    <tr style=\"text-align: right;\">\n",
       "      <th></th>\n",
       "      <th>customerid</th>\n",
       "      <th>systemloanid</th>\n",
       "      <th>loannumber</th>\n",
       "      <th>approveddate</th>\n",
       "      <th>creationdate</th>\n",
       "      <th>loanamount</th>\n",
       "      <th>totaldue</th>\n",
       "      <th>termdays</th>\n",
       "      <th>closeddate</th>\n",
       "      <th>referredby</th>\n",
       "      <th>firstduedate</th>\n",
       "      <th>firstrepaiddate</th>\n",
       "      <th>loan_to_due_ratio</th>\n",
       "    </tr>\n",
       "  </thead>\n",
       "  <tbody>\n",
       "    <tr>\n",
       "      <th>1972</th>\n",
       "      <td>8a858ee65be8d42d015bea072bee5936</td>\n",
       "      <td>301943649</td>\n",
       "      <td>3</td>\n",
       "      <td>2017-06-19 13:38:17.000000</td>\n",
       "      <td>2017-06-19 12:38:11.000000</td>\n",
       "      <td>10000.0</td>\n",
       "      <td>13000.0</td>\n",
       "      <td>30</td>\n",
       "      <td>2017-07-12 13:28:23.000000</td>\n",
       "      <td>NaN</td>\n",
       "      <td>2017-07-19 00:00:00.000000</td>\n",
       "      <td>2017-07-12 13:18:15.000000</td>\n",
       "      <td>1.30</td>\n",
       "    </tr>\n",
       "    <tr>\n",
       "      <th>501</th>\n",
       "      <td>8a858e165ad25487015ad6eb97ee2fbe</td>\n",
       "      <td>301873564</td>\n",
       "      <td>3</td>\n",
       "      <td>2017-04-19 16:40:59.000000</td>\n",
       "      <td>2017-04-19 15:40:53.000000</td>\n",
       "      <td>10000.0</td>\n",
       "      <td>11500.0</td>\n",
       "      <td>15</td>\n",
       "      <td>2017-05-03 11:52:00.000000</td>\n",
       "      <td>NaN</td>\n",
       "      <td>2017-05-04 00:00:00.000000</td>\n",
       "      <td>2017-05-03 11:36:51.000000</td>\n",
       "      <td>1.15</td>\n",
       "    </tr>\n",
       "  </tbody>\n",
       "</table>\n",
       "</div>"
      ],
      "text/plain": [
       "                            customerid  systemloanid  loannumber  \\\n",
       "1972  8a858ee65be8d42d015bea072bee5936     301943649           3   \n",
       "501   8a858e165ad25487015ad6eb97ee2fbe     301873564           3   \n",
       "\n",
       "                    approveddate                creationdate  loanamount  \\\n",
       "1972  2017-06-19 13:38:17.000000  2017-06-19 12:38:11.000000     10000.0   \n",
       "501   2017-04-19 16:40:59.000000  2017-04-19 15:40:53.000000     10000.0   \n",
       "\n",
       "      totaldue  termdays                  closeddate referredby  \\\n",
       "1972   13000.0        30  2017-07-12 13:28:23.000000        NaN   \n",
       "501    11500.0        15  2017-05-03 11:52:00.000000        NaN   \n",
       "\n",
       "                    firstduedate             firstrepaiddate  \\\n",
       "1972  2017-07-19 00:00:00.000000  2017-07-12 13:18:15.000000   \n",
       "501   2017-05-04 00:00:00.000000  2017-05-03 11:36:51.000000   \n",
       "\n",
       "      loan_to_due_ratio  \n",
       "1972               1.30  \n",
       "501                1.15  "
      ]
     },
     "execution_count": 18,
     "metadata": {},
     "output_type": "execute_result"
    }
   ],
   "source": [
    "df3.sample(2)"
   ]
  },
  {
   "cell_type": "code",
   "execution_count": 19,
   "id": "b869eb60-469c-446a-93be-b901bc7580e7",
   "metadata": {},
   "outputs": [
    {
     "data": {
      "text/plain": [
       "array([1.3       , 1.19      , 1.15      , 1.225     , 1.14666667,\n",
       "       1.095     , 1.1125    , 1.1       , 1.075     , 1.12      ,\n",
       "       1.16      , 1.22666667, 1.145     , 1.2       , 1.05      ,\n",
       "       1.22333333, 1.10666667, 1.29      , 1.18      , 1.175     ,\n",
       "       1.21333333, 1.14      , 1.11166667, 1.025     , 1.17      ,\n",
       "       1.085     , 1.25      , 1.135     , 1.28      , 1.07      ,\n",
       "       1.0875    , 1.13      , 1.09      , 1.20666667, 1.19714286,\n",
       "       1.13333   , 1.12714286, 1.10166667, 1.0225    , 1.13666667,\n",
       "       1.165     , 1.1875    , 1.0625    , 1.1775    , 1.20333333,\n",
       "       1.045     , 1.        ])"
      ]
     },
     "execution_count": 19,
     "metadata": {},
     "output_type": "execute_result"
    }
   ],
   "source": [
    "df3['loan_to_due_ratio'].unique()"
   ]
  },
  {
   "cell_type": "code",
   "execution_count": 20,
   "id": "597719bb-ded7-42f6-a0b6-af22c357c5a6",
   "metadata": {},
   "outputs": [
    {
     "data": {
      "text/html": [
       "<div>\n",
       "<style scoped>\n",
       "    .dataframe tbody tr th:only-of-type {\n",
       "        vertical-align: middle;\n",
       "    }\n",
       "\n",
       "    .dataframe tbody tr th {\n",
       "        vertical-align: top;\n",
       "    }\n",
       "\n",
       "    .dataframe thead th {\n",
       "        text-align: right;\n",
       "    }\n",
       "</style>\n",
       "<table border=\"1\" class=\"dataframe\">\n",
       "  <thead>\n",
       "    <tr style=\"text-align: right;\">\n",
       "      <th></th>\n",
       "      <th>customerid</th>\n",
       "      <th>systemloanid</th>\n",
       "      <th>loannumber</th>\n",
       "      <th>approveddate</th>\n",
       "      <th>creationdate</th>\n",
       "      <th>loanamount</th>\n",
       "      <th>totaldue</th>\n",
       "      <th>termdays</th>\n",
       "      <th>closeddate</th>\n",
       "      <th>referredby</th>\n",
       "      <th>firstduedate</th>\n",
       "      <th>firstrepaiddate</th>\n",
       "      <th>loan_to_due_ratio</th>\n",
       "    </tr>\n",
       "  </thead>\n",
       "  <tbody>\n",
       "    <tr>\n",
       "      <th>17139</th>\n",
       "      <td>8a858e645755e62201575e72c8b77fd5</td>\n",
       "      <td>301889386</td>\n",
       "      <td>12</td>\n",
       "      <td>2017-05-04 12:11:34.000000</td>\n",
       "      <td>2017-05-04 11:11:27.000000</td>\n",
       "      <td>10000.0</td>\n",
       "      <td>10000.0</td>\n",
       "      <td>15</td>\n",
       "      <td>2017-05-04 12:36:49.000000</td>\n",
       "      <td>NaN</td>\n",
       "      <td>2017-05-19 00:00:00.000000</td>\n",
       "      <td>2017-05-04 12:21:40.000000</td>\n",
       "      <td>1.0</td>\n",
       "    </tr>\n",
       "  </tbody>\n",
       "</table>\n",
       "</div>"
      ],
      "text/plain": [
       "                             customerid  systemloanid  loannumber  \\\n",
       "17139  8a858e645755e62201575e72c8b77fd5     301889386          12   \n",
       "\n",
       "                     approveddate                creationdate  loanamount  \\\n",
       "17139  2017-05-04 12:11:34.000000  2017-05-04 11:11:27.000000     10000.0   \n",
       "\n",
       "       totaldue  termdays                  closeddate referredby  \\\n",
       "17139   10000.0        15  2017-05-04 12:36:49.000000        NaN   \n",
       "\n",
       "                     firstduedate             firstrepaiddate  \\\n",
       "17139  2017-05-19 00:00:00.000000  2017-05-04 12:21:40.000000   \n",
       "\n",
       "       loan_to_due_ratio  \n",
       "17139                1.0  "
      ]
     },
     "execution_count": 20,
     "metadata": {},
     "output_type": "execute_result"
    }
   ],
   "source": [
    "df3[df3['loan_to_due_ratio'] == 1]"
   ]
  },
  {
   "cell_type": "markdown",
   "id": "8228fc6e-db98-4cc4-8c26-d7f45a3c9a51",
   "metadata": {},
   "source": [
    "### Observation\n",
    "+ Only one customer in this dataset fully repaid their loan on time!"
   ]
  },
  {
   "cell_type": "code",
   "execution_count": 21,
   "id": "6d5bf9e7-01db-49e4-9ff0-352950e6eeed",
   "metadata": {},
   "outputs": [],
   "source": [
    "#aggregating df3 to take care of the numerous duplicates on customerid\n",
    "df4 = df3.groupby('customerid')['loan_to_due_ratio'].agg('mean').reset_index()"
   ]
  },
  {
   "cell_type": "code",
   "execution_count": 22,
   "id": "7be7f958-14d2-444c-9651-2299576a99e5",
   "metadata": {},
   "outputs": [
    {
     "data": {
      "text/plain": [
       "(18183, 13)"
      ]
     },
     "execution_count": 22,
     "metadata": {},
     "output_type": "execute_result"
    }
   ],
   "source": [
    "df3.shape"
   ]
  },
  {
   "cell_type": "code",
   "execution_count": 23,
   "id": "eb125705-4e8a-4557-a747-5f1c4ce57965",
   "metadata": {},
   "outputs": [
    {
     "data": {
      "text/html": [
       "<div>\n",
       "<style scoped>\n",
       "    .dataframe tbody tr th:only-of-type {\n",
       "        vertical-align: middle;\n",
       "    }\n",
       "\n",
       "    .dataframe tbody tr th {\n",
       "        vertical-align: top;\n",
       "    }\n",
       "\n",
       "    .dataframe thead th {\n",
       "        text-align: right;\n",
       "    }\n",
       "</style>\n",
       "<table border=\"1\" class=\"dataframe\">\n",
       "  <thead>\n",
       "    <tr style=\"text-align: right;\">\n",
       "      <th></th>\n",
       "      <th>customerid</th>\n",
       "      <th>loan_to_due_ratio</th>\n",
       "    </tr>\n",
       "  </thead>\n",
       "  <tbody>\n",
       "    <tr>\n",
       "      <th>0</th>\n",
       "      <td>8a1088a0484472eb01484669e3ce4e0b</td>\n",
       "      <td>1.150000</td>\n",
       "    </tr>\n",
       "    <tr>\n",
       "      <th>1</th>\n",
       "      <td>8a1a1e7e4f707f8b014f797718316cad</td>\n",
       "      <td>1.281250</td>\n",
       "    </tr>\n",
       "    <tr>\n",
       "      <th>2</th>\n",
       "      <td>8a1a32fc49b632520149c3b8fdf85139</td>\n",
       "      <td>1.171429</td>\n",
       "    </tr>\n",
       "    <tr>\n",
       "      <th>3</th>\n",
       "      <td>8a1eb5ba49a682300149c3c068b806c7</td>\n",
       "      <td>1.258750</td>\n",
       "    </tr>\n",
       "    <tr>\n",
       "      <th>4</th>\n",
       "      <td>8a1edbf14734127f0147356fdb1b1eb2</td>\n",
       "      <td>1.225000</td>\n",
       "    </tr>\n",
       "  </tbody>\n",
       "</table>\n",
       "</div>"
      ],
      "text/plain": [
       "                         customerid  loan_to_due_ratio\n",
       "0  8a1088a0484472eb01484669e3ce4e0b           1.150000\n",
       "1  8a1a1e7e4f707f8b014f797718316cad           1.281250\n",
       "2  8a1a32fc49b632520149c3b8fdf85139           1.171429\n",
       "3  8a1eb5ba49a682300149c3c068b806c7           1.258750\n",
       "4  8a1edbf14734127f0147356fdb1b1eb2           1.225000"
      ]
     },
     "execution_count": 23,
     "metadata": {},
     "output_type": "execute_result"
    }
   ],
   "source": [
    "df4.head()"
   ]
  },
  {
   "cell_type": "code",
   "execution_count": 24,
   "id": "967d632a-ad3a-4a75-997f-881e1815a169",
   "metadata": {},
   "outputs": [
    {
     "name": "stdout",
     "output_type": "stream",
     "text": [
      "<class 'pandas.core.frame.DataFrame'>\n",
      "RangeIndex: 4359 entries, 0 to 4358\n",
      "Data columns (total 2 columns):\n",
      " #   Column             Non-Null Count  Dtype  \n",
      "---  ------             --------------  -----  \n",
      " 0   customerid         4359 non-null   object \n",
      " 1   loan_to_due_ratio  4359 non-null   float64\n",
      "dtypes: float64(1), object(1)\n",
      "memory usage: 68.2+ KB\n"
     ]
    }
   ],
   "source": [
    "df4.info()"
   ]
  },
  {
   "cell_type": "code",
   "execution_count": 25,
   "id": "0d64ca35-25e9-4556-a97b-2e4062eda2f6",
   "metadata": {},
   "outputs": [
    {
     "data": {
      "text/plain": [
       "0"
      ]
     },
     "execution_count": 25,
     "metadata": {},
     "output_type": "execute_result"
    }
   ],
   "source": [
    "df4.duplicated().sum()"
   ]
  },
  {
   "cell_type": "markdown",
   "id": "ff454dde-8bbe-4cc4-bd33-c08163a635dd",
   "metadata": {},
   "source": [
    "### Observation\n",
    "+ I'll merge df1, df2, and df4 - I'm dropping df3 because the columns there are very similar to those in df1.\n",
    "+ Since I have engineered the loan to due ratio from the loan amount and total due - I have an idea of the customers past loan repayment behaviour\n",
    "+ The loan to due ratio is an important feature that is okay for me"
   ]
  },
  {
   "cell_type": "code",
   "execution_count": 26,
   "id": "afcf9028-be90-44e9-84d9-0ee5d7fec66f",
   "metadata": {},
   "outputs": [
    {
     "data": {
      "text/plain": [
       "Index(['customerid', 'systemloanid', 'loannumber', 'approveddate',\n",
       "       'creationdate', 'loanamount', 'totaldue', 'termdays', 'referredby',\n",
       "       'good_bad_flag'],\n",
       "      dtype='object')"
      ]
     },
     "execution_count": 26,
     "metadata": {},
     "output_type": "execute_result"
    }
   ],
   "source": [
    "df1.columns"
   ]
  },
  {
   "cell_type": "code",
   "execution_count": 27,
   "id": "6e6807c5-4fab-43bd-a50f-984e200c61ee",
   "metadata": {},
   "outputs": [
    {
     "data": {
      "text/plain": [
       "Index(['customerid', 'birthdate', 'bank_account_type', 'longitude_gps',\n",
       "       'latitude_gps', 'bank_name_clients', 'bank_branch_clients',\n",
       "       'employment_status_clients', 'level_of_education_clients'],\n",
       "      dtype='object')"
      ]
     },
     "execution_count": 27,
     "metadata": {},
     "output_type": "execute_result"
    }
   ],
   "source": [
    "df2.columns"
   ]
  },
  {
   "cell_type": "code",
   "execution_count": 28,
   "id": "5cfe758c-71c3-4875-89d1-9c36e27af4b0",
   "metadata": {},
   "outputs": [],
   "source": [
    "#before merging, I want to drop some columns with over 80% missing values from df1 and df2\n",
    "df1 = df1.drop('referredby', axis=1)\n",
    "df2 = df2.drop('bank_branch_clients', axis=1)\n",
    "df3 = df3.drop('referredby', axis=1)"
   ]
  },
  {
   "cell_type": "code",
   "execution_count": 29,
   "id": "44de2298-fc43-4b72-a787-76fb053053f2",
   "metadata": {},
   "outputs": [
    {
     "data": {
      "text/plain": [
       "((4368, 9), (4346, 8), (18183, 12), (4359, 2))"
      ]
     },
     "execution_count": 29,
     "metadata": {},
     "output_type": "execute_result"
    }
   ],
   "source": [
    "df1.shape, df2.shape, df3.shape, df4.shape"
   ]
  },
  {
   "cell_type": "code",
   "execution_count": 30,
   "id": "33ba00ea-5382-4052-9dd5-0431677f1bc1",
   "metadata": {},
   "outputs": [
    {
     "data": {
      "text/html": [
       "<div>\n",
       "<style scoped>\n",
       "    .dataframe tbody tr th:only-of-type {\n",
       "        vertical-align: middle;\n",
       "    }\n",
       "\n",
       "    .dataframe tbody tr th {\n",
       "        vertical-align: top;\n",
       "    }\n",
       "\n",
       "    .dataframe thead th {\n",
       "        text-align: right;\n",
       "    }\n",
       "</style>\n",
       "<table border=\"1\" class=\"dataframe\">\n",
       "  <thead>\n",
       "    <tr style=\"text-align: right;\">\n",
       "      <th></th>\n",
       "      <th>customerid</th>\n",
       "      <th>systemloanid</th>\n",
       "      <th>loannumber</th>\n",
       "      <th>approveddate</th>\n",
       "      <th>creationdate</th>\n",
       "      <th>loanamount</th>\n",
       "      <th>totaldue</th>\n",
       "      <th>termdays</th>\n",
       "      <th>closeddate</th>\n",
       "      <th>firstduedate</th>\n",
       "      <th>firstrepaiddate</th>\n",
       "      <th>loan_to_due_ratio</th>\n",
       "    </tr>\n",
       "  </thead>\n",
       "  <tbody>\n",
       "    <tr>\n",
       "      <th>10591</th>\n",
       "      <td>8a8589ec54517bf90154575802725303</td>\n",
       "      <td>301695056</td>\n",
       "      <td>2</td>\n",
       "      <td>2016-08-25 16:46:29.000000</td>\n",
       "      <td>2016-08-25 15:46:23.000000</td>\n",
       "      <td>10000.0</td>\n",
       "      <td>11500.0</td>\n",
       "      <td>15</td>\n",
       "      <td>2016-09-08 10:58:18.000000</td>\n",
       "      <td>2016-09-09 00:00:00.000000</td>\n",
       "      <td>2016-09-08 10:43:14.000000</td>\n",
       "      <td>1.15</td>\n",
       "    </tr>\n",
       "    <tr>\n",
       "      <th>13679</th>\n",
       "      <td>8a858fe854ccb9610154cda3930e3ed2</td>\n",
       "      <td>301846170</td>\n",
       "      <td>5</td>\n",
       "      <td>2017-03-25 08:22:55.000000</td>\n",
       "      <td>2017-03-25 07:22:40.000000</td>\n",
       "      <td>10000.0</td>\n",
       "      <td>13000.0</td>\n",
       "      <td>30</td>\n",
       "      <td>2017-04-15 08:27:36.000000</td>\n",
       "      <td>2017-04-24 00:00:00.000000</td>\n",
       "      <td>2017-04-15 08:12:26.000000</td>\n",
       "      <td>1.30</td>\n",
       "    </tr>\n",
       "  </tbody>\n",
       "</table>\n",
       "</div>"
      ],
      "text/plain": [
       "                             customerid  systemloanid  loannumber  \\\n",
       "10591  8a8589ec54517bf90154575802725303     301695056           2   \n",
       "13679  8a858fe854ccb9610154cda3930e3ed2     301846170           5   \n",
       "\n",
       "                     approveddate                creationdate  loanamount  \\\n",
       "10591  2016-08-25 16:46:29.000000  2016-08-25 15:46:23.000000     10000.0   \n",
       "13679  2017-03-25 08:22:55.000000  2017-03-25 07:22:40.000000     10000.0   \n",
       "\n",
       "       totaldue  termdays                  closeddate  \\\n",
       "10591   11500.0        15  2016-09-08 10:58:18.000000   \n",
       "13679   13000.0        30  2017-04-15 08:27:36.000000   \n",
       "\n",
       "                     firstduedate             firstrepaiddate  \\\n",
       "10591  2016-09-09 00:00:00.000000  2016-09-08 10:43:14.000000   \n",
       "13679  2017-04-24 00:00:00.000000  2017-04-15 08:12:26.000000   \n",
       "\n",
       "       loan_to_due_ratio  \n",
       "10591               1.15  \n",
       "13679               1.30  "
      ]
     },
     "execution_count": 30,
     "metadata": {},
     "output_type": "execute_result"
    }
   ],
   "source": [
    "df3.sample(2)"
   ]
  },
  {
   "cell_type": "code",
   "execution_count": 31,
   "id": "98f0086f-a9c2-4a9c-9607-dc3ee248af4d",
   "metadata": {},
   "outputs": [
    {
     "data": {
      "text/plain": [
       "customerid                       0\n",
       "birthdate                        0\n",
       "bank_account_type                0\n",
       "longitude_gps                    0\n",
       "latitude_gps                     0\n",
       "bank_name_clients                0\n",
       "employment_status_clients      648\n",
       "level_of_education_clients    3759\n",
       "dtype: int64"
      ]
     },
     "execution_count": 31,
     "metadata": {},
     "output_type": "execute_result"
    }
   ],
   "source": [
    "df2.isna().sum()"
   ]
  },
  {
   "cell_type": "code",
   "execution_count": 32,
   "id": "4dde7044-ca33-45a1-96c1-cb3f3fd48917",
   "metadata": {},
   "outputs": [
    {
     "data": {
      "text/plain": [
       "array([nan, 'Permanent', 'Student', 'Self-Employed', 'Unemployed',\n",
       "       'Retired', 'Contract'], dtype=object)"
      ]
     },
     "execution_count": 32,
     "metadata": {},
     "output_type": "execute_result"
    }
   ],
   "source": [
    "df2['employment_status_clients'].unique()"
   ]
  },
  {
   "cell_type": "code",
   "execution_count": 33,
   "id": "0c77a38b-d72e-4f8e-8913-c2f417a6c428",
   "metadata": {},
   "outputs": [
    {
     "data": {
      "text/plain": [
       "employment_status_clients\n",
       "Permanent        3146\n",
       "Self-Employed     348\n",
       "Student           142\n",
       "Unemployed         57\n",
       "Retired             4\n",
       "Contract            1\n",
       "Name: count, dtype: int64"
      ]
     },
     "execution_count": 33,
     "metadata": {},
     "output_type": "execute_result"
    }
   ],
   "source": [
    "df2['employment_status_clients'].value_counts()"
   ]
  },
  {
   "cell_type": "code",
   "execution_count": 34,
   "id": "93dcfe32-6dfc-4637-9de8-6693f11456fb",
   "metadata": {},
   "outputs": [],
   "source": [
    "#to handle the 648 missing values in employment_status_clients, I'm going to fill with the modal class/mode\n",
    "df2['employment_status_clients'].fillna(df2['employment_status_clients'].mode()[0], inplace=True)"
   ]
  },
  {
   "cell_type": "code",
   "execution_count": 35,
   "id": "8d3006d9-cf90-4cb1-8ec0-fa8bc52c3994",
   "metadata": {},
   "outputs": [
    {
     "data": {
      "text/plain": [
       "customerid                       0\n",
       "birthdate                        0\n",
       "bank_account_type                0\n",
       "longitude_gps                    0\n",
       "latitude_gps                     0\n",
       "bank_name_clients                0\n",
       "employment_status_clients        0\n",
       "level_of_education_clients    3759\n",
       "dtype: int64"
      ]
     },
     "execution_count": 35,
     "metadata": {},
     "output_type": "execute_result"
    }
   ],
   "source": [
    "df2.isna().sum()"
   ]
  },
  {
   "cell_type": "markdown",
   "id": "848fa952-bb7f-4278-ad90-1252fdb49c19",
   "metadata": {},
   "source": [
    "### Observation\n",
    "+ There are numerous missing values in level_of_education_clients \n",
    "+ However, this feature could be useful as their educational level could influence their loan repayment behaviour\n",
    "+ So I'll also attempt to fill with the mode"
   ]
  },
  {
   "cell_type": "code",
   "execution_count": 36,
   "id": "68d600dc-dee0-4f33-957f-365cadb73c9a",
   "metadata": {},
   "outputs": [
    {
     "data": {
      "text/plain": [
       "array([nan, 'Secondary', 'Graduate', 'Post-Graduate', 'Primary'],\n",
       "      dtype=object)"
      ]
     },
     "execution_count": 36,
     "metadata": {},
     "output_type": "execute_result"
    }
   ],
   "source": [
    "df2['level_of_education_clients'].unique()"
   ]
  },
  {
   "cell_type": "code",
   "execution_count": 37,
   "id": "785acace-bba5-46f6-8018-7e19999b463d",
   "metadata": {},
   "outputs": [
    {
     "data": {
      "text/plain": [
       "level_of_education_clients\n",
       "Graduate         420\n",
       "Secondary         89\n",
       "Post-Graduate     68\n",
       "Primary           10\n",
       "Name: count, dtype: int64"
      ]
     },
     "execution_count": 37,
     "metadata": {},
     "output_type": "execute_result"
    }
   ],
   "source": [
    "df2['level_of_education_clients'].value_counts()"
   ]
  },
  {
   "cell_type": "code",
   "execution_count": 38,
   "id": "b4a7ba11-09bc-4547-8504-5b76c55c8e6c",
   "metadata": {},
   "outputs": [],
   "source": [
    "df2['level_of_education_clients'].fillna(df2['level_of_education_clients'].mode()[0], inplace=True)"
   ]
  },
  {
   "cell_type": "code",
   "execution_count": 39,
   "id": "c4b40732-eb98-458a-a43a-aa49481c3fd8",
   "metadata": {},
   "outputs": [
    {
     "data": {
      "text/plain": [
       "customerid                    0\n",
       "birthdate                     0\n",
       "bank_account_type             0\n",
       "longitude_gps                 0\n",
       "latitude_gps                  0\n",
       "bank_name_clients             0\n",
       "employment_status_clients     0\n",
       "level_of_education_clients    0\n",
       "dtype: int64"
      ]
     },
     "execution_count": 39,
     "metadata": {},
     "output_type": "execute_result"
    }
   ],
   "source": [
    "df2.isna().sum()"
   ]
  },
  {
   "cell_type": "code",
   "execution_count": 40,
   "id": "3d98db6b-c8f2-4ad8-8bb6-52bba97dc454",
   "metadata": {},
   "outputs": [
    {
     "data": {
      "text/plain": [
       "12"
      ]
     },
     "execution_count": 40,
     "metadata": {},
     "output_type": "execute_result"
    }
   ],
   "source": [
    "df2.duplicated().sum()"
   ]
  },
  {
   "cell_type": "code",
   "execution_count": 41,
   "id": "92b3b80a-090a-4aaf-ac01-202090e5cec2",
   "metadata": {},
   "outputs": [
    {
     "data": {
      "text/plain": [
       "12"
      ]
     },
     "execution_count": 41,
     "metadata": {},
     "output_type": "execute_result"
    }
   ],
   "source": [
    "df2['customerid'].duplicated().sum()"
   ]
  },
  {
   "cell_type": "code",
   "execution_count": 42,
   "id": "37e23e0b-ac00-403d-b4e3-1dffccc897c5",
   "metadata": {},
   "outputs": [
    {
     "data": {
      "text/plain": [
       "4334"
      ]
     },
     "execution_count": 42,
     "metadata": {},
     "output_type": "execute_result"
    }
   ],
   "source": [
    "len(df2['customerid'].unique())"
   ]
  },
  {
   "cell_type": "code",
   "execution_count": 43,
   "id": "98ad57a6-4ee0-40f4-a9e6-9c41f97fa688",
   "metadata": {},
   "outputs": [
    {
     "data": {
      "text/html": [
       "<div>\n",
       "<style scoped>\n",
       "    .dataframe tbody tr th:only-of-type {\n",
       "        vertical-align: middle;\n",
       "    }\n",
       "\n",
       "    .dataframe tbody tr th {\n",
       "        vertical-align: top;\n",
       "    }\n",
       "\n",
       "    .dataframe thead th {\n",
       "        text-align: right;\n",
       "    }\n",
       "</style>\n",
       "<table border=\"1\" class=\"dataframe\">\n",
       "  <thead>\n",
       "    <tr style=\"text-align: right;\">\n",
       "      <th></th>\n",
       "      <th>customerid</th>\n",
       "      <th>birthdate</th>\n",
       "      <th>bank_account_type</th>\n",
       "      <th>longitude_gps</th>\n",
       "      <th>latitude_gps</th>\n",
       "      <th>bank_name_clients</th>\n",
       "      <th>employment_status_clients</th>\n",
       "      <th>level_of_education_clients</th>\n",
       "    </tr>\n",
       "  </thead>\n",
       "  <tbody>\n",
       "    <tr>\n",
       "      <th>138</th>\n",
       "      <td>8a858fca5c35df2c015c39ad8695343e</td>\n",
       "      <td>1980-11-26 00:00:00.000000</td>\n",
       "      <td>Savings</td>\n",
       "      <td>3.352588</td>\n",
       "      <td>7.211089</td>\n",
       "      <td>GT Bank</td>\n",
       "      <td>Permanent</td>\n",
       "      <td>Graduate</td>\n",
       "    </tr>\n",
       "    <tr>\n",
       "      <th>159</th>\n",
       "      <td>8a858fca5c35df2c015c39ad8695343e</td>\n",
       "      <td>1980-11-26 00:00:00.000000</td>\n",
       "      <td>Savings</td>\n",
       "      <td>3.352588</td>\n",
       "      <td>7.211089</td>\n",
       "      <td>GT Bank</td>\n",
       "      <td>Permanent</td>\n",
       "      <td>Graduate</td>\n",
       "    </tr>\n",
       "    <tr>\n",
       "      <th>272</th>\n",
       "      <td>8a858edd57f790040157ffe9b6ed3fbb</td>\n",
       "      <td>1988-01-18 00:00:00.000000</td>\n",
       "      <td>Other</td>\n",
       "      <td>3.782563</td>\n",
       "      <td>7.171356</td>\n",
       "      <td>First Bank</td>\n",
       "      <td>Permanent</td>\n",
       "      <td>Secondary</td>\n",
       "    </tr>\n",
       "    <tr>\n",
       "      <th>445</th>\n",
       "      <td>8a858e6c5c88d145015c8b9627cd5a48</td>\n",
       "      <td>1979-09-30 00:00:00.000000</td>\n",
       "      <td>Savings</td>\n",
       "      <td>3.367008</td>\n",
       "      <td>6.497313</td>\n",
       "      <td>Sterling Bank</td>\n",
       "      <td>Permanent</td>\n",
       "      <td>Graduate</td>\n",
       "    </tr>\n",
       "    <tr>\n",
       "      <th>517</th>\n",
       "      <td>8a858edd57f790040157ffe9b6ed3fbb</td>\n",
       "      <td>1988-01-18 00:00:00.000000</td>\n",
       "      <td>Other</td>\n",
       "      <td>3.782563</td>\n",
       "      <td>7.171356</td>\n",
       "      <td>First Bank</td>\n",
       "      <td>Permanent</td>\n",
       "      <td>Secondary</td>\n",
       "    </tr>\n",
       "    <tr>\n",
       "      <th>750</th>\n",
       "      <td>8a858f965bb63a25015bbf63fd062e2e</td>\n",
       "      <td>1974-02-25 00:00:00.000000</td>\n",
       "      <td>Savings</td>\n",
       "      <td>3.936366</td>\n",
       "      <td>6.817958</td>\n",
       "      <td>Stanbic IBTC</td>\n",
       "      <td>Permanent</td>\n",
       "      <td>Graduate</td>\n",
       "    </tr>\n",
       "    <tr>\n",
       "      <th>776</th>\n",
       "      <td>8a858f965bb63a25015bbf63fd062e2e</td>\n",
       "      <td>1974-02-25 00:00:00.000000</td>\n",
       "      <td>Savings</td>\n",
       "      <td>3.936366</td>\n",
       "      <td>6.817958</td>\n",
       "      <td>Stanbic IBTC</td>\n",
       "      <td>Permanent</td>\n",
       "      <td>Graduate</td>\n",
       "    </tr>\n",
       "    <tr>\n",
       "      <th>798</th>\n",
       "      <td>8a858fc75cd62882015cdaf2f4311b3f</td>\n",
       "      <td>1975-10-27 00:00:00.000000</td>\n",
       "      <td>Savings</td>\n",
       "      <td>7.437607</td>\n",
       "      <td>9.088935</td>\n",
       "      <td>GT Bank</td>\n",
       "      <td>Permanent</td>\n",
       "      <td>Graduate</td>\n",
       "    </tr>\n",
       "    <tr>\n",
       "      <th>1010</th>\n",
       "      <td>8a858fe65675195a015679452588279c</td>\n",
       "      <td>1982-08-01 00:00:00.000000</td>\n",
       "      <td>Savings</td>\n",
       "      <td>7.533646</td>\n",
       "      <td>9.046885</td>\n",
       "      <td>UBA</td>\n",
       "      <td>Permanent</td>\n",
       "      <td>Graduate</td>\n",
       "    </tr>\n",
       "    <tr>\n",
       "      <th>1015</th>\n",
       "      <td>8a858fe65675195a015679452588279c</td>\n",
       "      <td>1982-08-01 00:00:00.000000</td>\n",
       "      <td>Savings</td>\n",
       "      <td>7.533646</td>\n",
       "      <td>9.046885</td>\n",
       "      <td>UBA</td>\n",
       "      <td>Permanent</td>\n",
       "      <td>Graduate</td>\n",
       "    </tr>\n",
       "    <tr>\n",
       "      <th>1090</th>\n",
       "      <td>8a858e6c5c88d145015c8b9627cd5a48</td>\n",
       "      <td>1979-09-30 00:00:00.000000</td>\n",
       "      <td>Savings</td>\n",
       "      <td>3.367008</td>\n",
       "      <td>6.497313</td>\n",
       "      <td>Sterling Bank</td>\n",
       "      <td>Permanent</td>\n",
       "      <td>Graduate</td>\n",
       "    </tr>\n",
       "    <tr>\n",
       "      <th>1188</th>\n",
       "      <td>8a858fc75cd62882015cdaf2f4311b3f</td>\n",
       "      <td>1975-10-27 00:00:00.000000</td>\n",
       "      <td>Savings</td>\n",
       "      <td>7.437607</td>\n",
       "      <td>9.088935</td>\n",
       "      <td>GT Bank</td>\n",
       "      <td>Permanent</td>\n",
       "      <td>Graduate</td>\n",
       "    </tr>\n",
       "    <tr>\n",
       "      <th>1338</th>\n",
       "      <td>8a858fe05d421ff4015d4c87d2a21ceb</td>\n",
       "      <td>1983-01-20 00:00:00.000000</td>\n",
       "      <td>Savings</td>\n",
       "      <td>8.526960</td>\n",
       "      <td>12.023015</td>\n",
       "      <td>Skye Bank</td>\n",
       "      <td>Permanent</td>\n",
       "      <td>Graduate</td>\n",
       "    </tr>\n",
       "    <tr>\n",
       "      <th>1414</th>\n",
       "      <td>8a858e625c8d993a015c938f829f77ee</td>\n",
       "      <td>1988-12-20 00:00:00.000000</td>\n",
       "      <td>Savings</td>\n",
       "      <td>5.768333</td>\n",
       "      <td>5.561992</td>\n",
       "      <td>First Bank</td>\n",
       "      <td>Permanent</td>\n",
       "      <td>Graduate</td>\n",
       "    </tr>\n",
       "    <tr>\n",
       "      <th>1480</th>\n",
       "      <td>8a858fe05d421ff4015d4c87d2a21ceb</td>\n",
       "      <td>1983-01-20 00:00:00.000000</td>\n",
       "      <td>Savings</td>\n",
       "      <td>8.526960</td>\n",
       "      <td>12.023015</td>\n",
       "      <td>Skye Bank</td>\n",
       "      <td>Permanent</td>\n",
       "      <td>Graduate</td>\n",
       "    </tr>\n",
       "    <tr>\n",
       "      <th>1520</th>\n",
       "      <td>8a858ec65cc6352b015cc64525ea0763</td>\n",
       "      <td>1985-01-30 00:00:00.000000</td>\n",
       "      <td>Savings</td>\n",
       "      <td>3.845728</td>\n",
       "      <td>7.411737</td>\n",
       "      <td>GT Bank</td>\n",
       "      <td>Permanent</td>\n",
       "      <td>Graduate</td>\n",
       "    </tr>\n",
       "    <tr>\n",
       "      <th>1928</th>\n",
       "      <td>8a858e625c8d993a015c938f829f77ee</td>\n",
       "      <td>1988-12-20 00:00:00.000000</td>\n",
       "      <td>Savings</td>\n",
       "      <td>5.768333</td>\n",
       "      <td>5.561992</td>\n",
       "      <td>First Bank</td>\n",
       "      <td>Permanent</td>\n",
       "      <td>Graduate</td>\n",
       "    </tr>\n",
       "    <tr>\n",
       "      <th>1996</th>\n",
       "      <td>8a858ec65cc6352b015cc64525ea0763</td>\n",
       "      <td>1985-01-30 00:00:00.000000</td>\n",
       "      <td>Savings</td>\n",
       "      <td>3.845728</td>\n",
       "      <td>7.411737</td>\n",
       "      <td>GT Bank</td>\n",
       "      <td>Permanent</td>\n",
       "      <td>Graduate</td>\n",
       "    </tr>\n",
       "    <tr>\n",
       "      <th>3021</th>\n",
       "      <td>8a858f1e5baffcc9015bb02b505f180d</td>\n",
       "      <td>1983-04-06 00:00:00.000000</td>\n",
       "      <td>Savings</td>\n",
       "      <td>6.969350</td>\n",
       "      <td>4.818535</td>\n",
       "      <td>GT Bank</td>\n",
       "      <td>Permanent</td>\n",
       "      <td>Graduate</td>\n",
       "    </tr>\n",
       "    <tr>\n",
       "      <th>3546</th>\n",
       "      <td>8a858f9f5679951a01567a5b90644817</td>\n",
       "      <td>1984-12-17 00:00:00.000000</td>\n",
       "      <td>Savings</td>\n",
       "      <td>4.196662</td>\n",
       "      <td>12.429509</td>\n",
       "      <td>Access Bank</td>\n",
       "      <td>Permanent</td>\n",
       "      <td>Graduate</td>\n",
       "    </tr>\n",
       "    <tr>\n",
       "      <th>4115</th>\n",
       "      <td>8a858f1e5cc4bc81015cc548e1eb5206</td>\n",
       "      <td>1979-09-15 00:00:00.000000</td>\n",
       "      <td>Savings</td>\n",
       "      <td>6.285242</td>\n",
       "      <td>4.922719</td>\n",
       "      <td>UBA</td>\n",
       "      <td>Permanent</td>\n",
       "      <td>Graduate</td>\n",
       "    </tr>\n",
       "    <tr>\n",
       "      <th>4126</th>\n",
       "      <td>8a858f1e5baffcc9015bb02b505f180d</td>\n",
       "      <td>1983-04-06 00:00:00.000000</td>\n",
       "      <td>Savings</td>\n",
       "      <td>6.969350</td>\n",
       "      <td>4.818535</td>\n",
       "      <td>GT Bank</td>\n",
       "      <td>Permanent</td>\n",
       "      <td>Graduate</td>\n",
       "    </tr>\n",
       "    <tr>\n",
       "      <th>4266</th>\n",
       "      <td>8a858f1e5cc4bc81015cc548e1eb5206</td>\n",
       "      <td>1979-09-15 00:00:00.000000</td>\n",
       "      <td>Savings</td>\n",
       "      <td>6.285242</td>\n",
       "      <td>4.922719</td>\n",
       "      <td>UBA</td>\n",
       "      <td>Permanent</td>\n",
       "      <td>Graduate</td>\n",
       "    </tr>\n",
       "    <tr>\n",
       "      <th>4286</th>\n",
       "      <td>8a858f9f5679951a01567a5b90644817</td>\n",
       "      <td>1984-12-17 00:00:00.000000</td>\n",
       "      <td>Savings</td>\n",
       "      <td>4.196662</td>\n",
       "      <td>12.429509</td>\n",
       "      <td>Access Bank</td>\n",
       "      <td>Permanent</td>\n",
       "      <td>Graduate</td>\n",
       "    </tr>\n",
       "  </tbody>\n",
       "</table>\n",
       "</div>"
      ],
      "text/plain": [
       "                            customerid                   birthdate  \\\n",
       "138   8a858fca5c35df2c015c39ad8695343e  1980-11-26 00:00:00.000000   \n",
       "159   8a858fca5c35df2c015c39ad8695343e  1980-11-26 00:00:00.000000   \n",
       "272   8a858edd57f790040157ffe9b6ed3fbb  1988-01-18 00:00:00.000000   \n",
       "445   8a858e6c5c88d145015c8b9627cd5a48  1979-09-30 00:00:00.000000   \n",
       "517   8a858edd57f790040157ffe9b6ed3fbb  1988-01-18 00:00:00.000000   \n",
       "750   8a858f965bb63a25015bbf63fd062e2e  1974-02-25 00:00:00.000000   \n",
       "776   8a858f965bb63a25015bbf63fd062e2e  1974-02-25 00:00:00.000000   \n",
       "798   8a858fc75cd62882015cdaf2f4311b3f  1975-10-27 00:00:00.000000   \n",
       "1010  8a858fe65675195a015679452588279c  1982-08-01 00:00:00.000000   \n",
       "1015  8a858fe65675195a015679452588279c  1982-08-01 00:00:00.000000   \n",
       "1090  8a858e6c5c88d145015c8b9627cd5a48  1979-09-30 00:00:00.000000   \n",
       "1188  8a858fc75cd62882015cdaf2f4311b3f  1975-10-27 00:00:00.000000   \n",
       "1338  8a858fe05d421ff4015d4c87d2a21ceb  1983-01-20 00:00:00.000000   \n",
       "1414  8a858e625c8d993a015c938f829f77ee  1988-12-20 00:00:00.000000   \n",
       "1480  8a858fe05d421ff4015d4c87d2a21ceb  1983-01-20 00:00:00.000000   \n",
       "1520  8a858ec65cc6352b015cc64525ea0763  1985-01-30 00:00:00.000000   \n",
       "1928  8a858e625c8d993a015c938f829f77ee  1988-12-20 00:00:00.000000   \n",
       "1996  8a858ec65cc6352b015cc64525ea0763  1985-01-30 00:00:00.000000   \n",
       "3021  8a858f1e5baffcc9015bb02b505f180d  1983-04-06 00:00:00.000000   \n",
       "3546  8a858f9f5679951a01567a5b90644817  1984-12-17 00:00:00.000000   \n",
       "4115  8a858f1e5cc4bc81015cc548e1eb5206  1979-09-15 00:00:00.000000   \n",
       "4126  8a858f1e5baffcc9015bb02b505f180d  1983-04-06 00:00:00.000000   \n",
       "4266  8a858f1e5cc4bc81015cc548e1eb5206  1979-09-15 00:00:00.000000   \n",
       "4286  8a858f9f5679951a01567a5b90644817  1984-12-17 00:00:00.000000   \n",
       "\n",
       "     bank_account_type  longitude_gps  latitude_gps bank_name_clients  \\\n",
       "138            Savings       3.352588      7.211089           GT Bank   \n",
       "159            Savings       3.352588      7.211089           GT Bank   \n",
       "272              Other       3.782563      7.171356        First Bank   \n",
       "445            Savings       3.367008      6.497313     Sterling Bank   \n",
       "517              Other       3.782563      7.171356        First Bank   \n",
       "750            Savings       3.936366      6.817958      Stanbic IBTC   \n",
       "776            Savings       3.936366      6.817958      Stanbic IBTC   \n",
       "798            Savings       7.437607      9.088935           GT Bank   \n",
       "1010           Savings       7.533646      9.046885               UBA   \n",
       "1015           Savings       7.533646      9.046885               UBA   \n",
       "1090           Savings       3.367008      6.497313     Sterling Bank   \n",
       "1188           Savings       7.437607      9.088935           GT Bank   \n",
       "1338           Savings       8.526960     12.023015         Skye Bank   \n",
       "1414           Savings       5.768333      5.561992        First Bank   \n",
       "1480           Savings       8.526960     12.023015         Skye Bank   \n",
       "1520           Savings       3.845728      7.411737           GT Bank   \n",
       "1928           Savings       5.768333      5.561992        First Bank   \n",
       "1996           Savings       3.845728      7.411737           GT Bank   \n",
       "3021           Savings       6.969350      4.818535           GT Bank   \n",
       "3546           Savings       4.196662     12.429509       Access Bank   \n",
       "4115           Savings       6.285242      4.922719               UBA   \n",
       "4126           Savings       6.969350      4.818535           GT Bank   \n",
       "4266           Savings       6.285242      4.922719               UBA   \n",
       "4286           Savings       4.196662     12.429509       Access Bank   \n",
       "\n",
       "     employment_status_clients level_of_education_clients  \n",
       "138                  Permanent                   Graduate  \n",
       "159                  Permanent                   Graduate  \n",
       "272                  Permanent                  Secondary  \n",
       "445                  Permanent                   Graduate  \n",
       "517                  Permanent                  Secondary  \n",
       "750                  Permanent                   Graduate  \n",
       "776                  Permanent                   Graduate  \n",
       "798                  Permanent                   Graduate  \n",
       "1010                 Permanent                   Graduate  \n",
       "1015                 Permanent                   Graduate  \n",
       "1090                 Permanent                   Graduate  \n",
       "1188                 Permanent                   Graduate  \n",
       "1338                 Permanent                   Graduate  \n",
       "1414                 Permanent                   Graduate  \n",
       "1480                 Permanent                   Graduate  \n",
       "1520                 Permanent                   Graduate  \n",
       "1928                 Permanent                   Graduate  \n",
       "1996                 Permanent                   Graduate  \n",
       "3021                 Permanent                   Graduate  \n",
       "3546                 Permanent                   Graduate  \n",
       "4115                 Permanent                   Graduate  \n",
       "4126                 Permanent                   Graduate  \n",
       "4266                 Permanent                   Graduate  \n",
       "4286                 Permanent                   Graduate  "
      ]
     },
     "execution_count": 43,
     "metadata": {},
     "output_type": "execute_result"
    }
   ],
   "source": [
    "#find duplicates\n",
    "df2[df2.duplicated(subset='customerid', keep=False)]"
   ]
  },
  {
   "cell_type": "code",
   "execution_count": 44,
   "id": "fb4d30c8-a137-4e16-a6fb-16f82560823d",
   "metadata": {},
   "outputs": [],
   "source": [
    "#since the duplicates are completely identical, I can safely drop them\n",
    "df2 = df2.drop_duplicates(subset='customerid', keep='first')"
   ]
  },
  {
   "cell_type": "code",
   "execution_count": 45,
   "id": "d7220e2e-bce1-43e9-975f-27fb10375972",
   "metadata": {},
   "outputs": [
    {
     "data": {
      "text/plain": [
       "0"
      ]
     },
     "execution_count": 45,
     "metadata": {},
     "output_type": "execute_result"
    }
   ],
   "source": [
    "df2.duplicated().sum()"
   ]
  },
  {
   "cell_type": "code",
   "execution_count": 46,
   "id": "830d043d-3ed0-4251-be60-ca3d6fe6aadb",
   "metadata": {},
   "outputs": [
    {
     "data": {
      "text/plain": [
       "0"
      ]
     },
     "execution_count": 46,
     "metadata": {},
     "output_type": "execute_result"
    }
   ],
   "source": [
    "df2['customerid'].duplicated().sum()"
   ]
  },
  {
   "cell_type": "code",
   "execution_count": 47,
   "id": "1e12f045-168f-4a4b-80bc-28755ff70daf",
   "metadata": {},
   "outputs": [
    {
     "name": "stdout",
     "output_type": "stream",
     "text": [
      "<class 'pandas.core.frame.DataFrame'>\n",
      "Index: 4334 entries, 0 to 4345\n",
      "Data columns (total 8 columns):\n",
      " #   Column                      Non-Null Count  Dtype  \n",
      "---  ------                      --------------  -----  \n",
      " 0   customerid                  4334 non-null   object \n",
      " 1   birthdate                   4334 non-null   object \n",
      " 2   bank_account_type           4334 non-null   object \n",
      " 3   longitude_gps               4334 non-null   float64\n",
      " 4   latitude_gps                4334 non-null   float64\n",
      " 5   bank_name_clients           4334 non-null   object \n",
      " 6   employment_status_clients   4334 non-null   object \n",
      " 7   level_of_education_clients  4334 non-null   object \n",
      "dtypes: float64(2), object(6)\n",
      "memory usage: 304.7+ KB\n"
     ]
    }
   ],
   "source": [
    "df2.info()"
   ]
  },
  {
   "cell_type": "code",
   "execution_count": 48,
   "id": "86e22d47-d49c-46e2-a2a3-c2a8ab0455b1",
   "metadata": {},
   "outputs": [
    {
     "name": "stdout",
     "output_type": "stream",
     "text": [
      "<class 'pandas.core.frame.DataFrame'>\n",
      "RangeIndex: 4368 entries, 0 to 4367\n",
      "Data columns (total 9 columns):\n",
      " #   Column         Non-Null Count  Dtype  \n",
      "---  ------         --------------  -----  \n",
      " 0   customerid     4368 non-null   object \n",
      " 1   systemloanid   4368 non-null   int64  \n",
      " 2   loannumber     4368 non-null   int64  \n",
      " 3   approveddate   4368 non-null   object \n",
      " 4   creationdate   4368 non-null   object \n",
      " 5   loanamount     4368 non-null   float64\n",
      " 6   totaldue       4368 non-null   float64\n",
      " 7   termdays       4368 non-null   int64  \n",
      " 8   good_bad_flag  4368 non-null   object \n",
      "dtypes: float64(2), int64(3), object(4)\n",
      "memory usage: 307.3+ KB\n"
     ]
    }
   ],
   "source": [
    "df1.info()"
   ]
  },
  {
   "cell_type": "code",
   "execution_count": 49,
   "id": "5e096d47-589c-4828-9f3f-a0a842a95019",
   "metadata": {},
   "outputs": [
    {
     "data": {
      "text/plain": [
       "0"
      ]
     },
     "execution_count": 49,
     "metadata": {},
     "output_type": "execute_result"
    }
   ],
   "source": [
    "df1.duplicated().sum()"
   ]
  },
  {
   "cell_type": "code",
   "execution_count": 50,
   "id": "97a2258b-cff9-4721-bc85-85e34dc4056d",
   "metadata": {},
   "outputs": [
    {
     "data": {
      "text/plain": [
       "((4368, 9), (4334, 8), (4359, 2))"
      ]
     },
     "execution_count": 50,
     "metadata": {},
     "output_type": "execute_result"
    }
   ],
   "source": [
    "df1.shape, df2.shape, df4.shape"
   ]
  },
  {
   "cell_type": "code",
   "execution_count": 51,
   "id": "b0471f8f-fc0a-4453-8fe6-8712fae8ea1c",
   "metadata": {},
   "outputs": [],
   "source": [
    "#merge df2 and df4\n",
    "df5 = df1.merge(df4, on='customerid', how='left')"
   ]
  },
  {
   "cell_type": "code",
   "execution_count": 52,
   "id": "04b528c2-843c-4d17-bb43-50b5155841ee",
   "metadata": {},
   "outputs": [
    {
     "data": {
      "text/plain": [
       "(4368, 10)"
      ]
     },
     "execution_count": 52,
     "metadata": {},
     "output_type": "execute_result"
    }
   ],
   "source": [
    "df5.shape"
   ]
  },
  {
   "cell_type": "code",
   "execution_count": 53,
   "id": "dbaa1f65-fe67-4033-87a4-c0ac72cedb71",
   "metadata": {},
   "outputs": [
    {
     "data": {
      "text/html": [
       "<div>\n",
       "<style scoped>\n",
       "    .dataframe tbody tr th:only-of-type {\n",
       "        vertical-align: middle;\n",
       "    }\n",
       "\n",
       "    .dataframe tbody tr th {\n",
       "        vertical-align: top;\n",
       "    }\n",
       "\n",
       "    .dataframe thead th {\n",
       "        text-align: right;\n",
       "    }\n",
       "</style>\n",
       "<table border=\"1\" class=\"dataframe\">\n",
       "  <thead>\n",
       "    <tr style=\"text-align: right;\">\n",
       "      <th></th>\n",
       "      <th>customerid</th>\n",
       "      <th>systemloanid</th>\n",
       "      <th>loannumber</th>\n",
       "      <th>approveddate</th>\n",
       "      <th>creationdate</th>\n",
       "      <th>loanamount</th>\n",
       "      <th>totaldue</th>\n",
       "      <th>termdays</th>\n",
       "      <th>good_bad_flag</th>\n",
       "      <th>loan_to_due_ratio</th>\n",
       "    </tr>\n",
       "  </thead>\n",
       "  <tbody>\n",
       "    <tr>\n",
       "      <th>2895</th>\n",
       "      <td>8a8589a453bc422d0153c87530bf4e94</td>\n",
       "      <td>301967836</td>\n",
       "      <td>14</td>\n",
       "      <td>2017-07-07 11:51:16.000000</td>\n",
       "      <td>2017-07-07 10:51:10.000000</td>\n",
       "      <td>40000.0</td>\n",
       "      <td>44000.0</td>\n",
       "      <td>30</td>\n",
       "      <td>Good</td>\n",
       "      <td>1.189103</td>\n",
       "    </tr>\n",
       "    <tr>\n",
       "      <th>1583</th>\n",
       "      <td>8a858e195d320ff1015d3211a37f011d</td>\n",
       "      <td>302003800</td>\n",
       "      <td>2</td>\n",
       "      <td>2017-07-30 18:36:56.000000</td>\n",
       "      <td>2017-07-30 17:36:48.000000</td>\n",
       "      <td>10000.0</td>\n",
       "      <td>11500.0</td>\n",
       "      <td>15</td>\n",
       "      <td>Good</td>\n",
       "      <td>1.150000</td>\n",
       "    </tr>\n",
       "  </tbody>\n",
       "</table>\n",
       "</div>"
      ],
      "text/plain": [
       "                            customerid  systemloanid  loannumber  \\\n",
       "2895  8a8589a453bc422d0153c87530bf4e94     301967836          14   \n",
       "1583  8a858e195d320ff1015d3211a37f011d     302003800           2   \n",
       "\n",
       "                    approveddate                creationdate  loanamount  \\\n",
       "2895  2017-07-07 11:51:16.000000  2017-07-07 10:51:10.000000     40000.0   \n",
       "1583  2017-07-30 18:36:56.000000  2017-07-30 17:36:48.000000     10000.0   \n",
       "\n",
       "      totaldue  termdays good_bad_flag  loan_to_due_ratio  \n",
       "2895   44000.0        30          Good           1.189103  \n",
       "1583   11500.0        15          Good           1.150000  "
      ]
     },
     "execution_count": 53,
     "metadata": {},
     "output_type": "execute_result"
    }
   ],
   "source": [
    "df5.sample(2)"
   ]
  },
  {
   "cell_type": "code",
   "execution_count": 54,
   "id": "079f0b9d-5b6f-4dce-920c-675f42742801",
   "metadata": {},
   "outputs": [
    {
     "name": "stdout",
     "output_type": "stream",
     "text": [
      "<class 'pandas.core.frame.DataFrame'>\n",
      "RangeIndex: 4368 entries, 0 to 4367\n",
      "Data columns (total 10 columns):\n",
      " #   Column             Non-Null Count  Dtype  \n",
      "---  ------             --------------  -----  \n",
      " 0   customerid         4368 non-null   object \n",
      " 1   systemloanid       4368 non-null   int64  \n",
      " 2   loannumber         4368 non-null   int64  \n",
      " 3   approveddate       4368 non-null   object \n",
      " 4   creationdate       4368 non-null   object \n",
      " 5   loanamount         4368 non-null   float64\n",
      " 6   totaldue           4368 non-null   float64\n",
      " 7   termdays           4368 non-null   int64  \n",
      " 8   good_bad_flag      4368 non-null   object \n",
      " 9   loan_to_due_ratio  4359 non-null   float64\n",
      "dtypes: float64(3), int64(3), object(4)\n",
      "memory usage: 341.4+ KB\n"
     ]
    }
   ],
   "source": [
    "df5.info()"
   ]
  },
  {
   "cell_type": "code",
   "execution_count": 55,
   "id": "a0e45e85-4936-4770-99ff-c6054a958106",
   "metadata": {},
   "outputs": [],
   "source": [
    "#merge df5 with df2\n",
    "df6 = df5.merge(df2, on='customerid', how='left')"
   ]
  },
  {
   "cell_type": "code",
   "execution_count": 56,
   "id": "e77a7283-8b9a-4539-8bee-ecf79884a805",
   "metadata": {},
   "outputs": [
    {
     "data": {
      "text/plain": [
       "(4368, 17)"
      ]
     },
     "execution_count": 56,
     "metadata": {},
     "output_type": "execute_result"
    }
   ],
   "source": [
    "df6.shape"
   ]
  },
  {
   "cell_type": "code",
   "execution_count": 57,
   "id": "eef25ecf-478b-45ec-a73b-6f22cba56231",
   "metadata": {},
   "outputs": [
    {
     "name": "stdout",
     "output_type": "stream",
     "text": [
      "<class 'pandas.core.frame.DataFrame'>\n",
      "RangeIndex: 4368 entries, 0 to 4367\n",
      "Data columns (total 17 columns):\n",
      " #   Column                      Non-Null Count  Dtype  \n",
      "---  ------                      --------------  -----  \n",
      " 0   customerid                  4368 non-null   object \n",
      " 1   systemloanid                4368 non-null   int64  \n",
      " 2   loannumber                  4368 non-null   int64  \n",
      " 3   approveddate                4368 non-null   object \n",
      " 4   creationdate                4368 non-null   object \n",
      " 5   loanamount                  4368 non-null   float64\n",
      " 6   totaldue                    4368 non-null   float64\n",
      " 7   termdays                    4368 non-null   int64  \n",
      " 8   good_bad_flag               4368 non-null   object \n",
      " 9   loan_to_due_ratio           4359 non-null   float64\n",
      " 10  birthdate                   3269 non-null   object \n",
      " 11  bank_account_type           3269 non-null   object \n",
      " 12  longitude_gps               3269 non-null   float64\n",
      " 13  latitude_gps                3269 non-null   float64\n",
      " 14  bank_name_clients           3269 non-null   object \n",
      " 15  employment_status_clients   3269 non-null   object \n",
      " 16  level_of_education_clients  3269 non-null   object \n",
      "dtypes: float64(5), int64(3), object(9)\n",
      "memory usage: 580.3+ KB\n"
     ]
    }
   ],
   "source": [
    "df6.info()"
   ]
  },
  {
   "cell_type": "code",
   "execution_count": 58,
   "id": "b980749e-2257-48bf-8bc5-e0c1ee16a9e6",
   "metadata": {},
   "outputs": [
    {
     "data": {
      "text/html": [
       "<div>\n",
       "<style scoped>\n",
       "    .dataframe tbody tr th:only-of-type {\n",
       "        vertical-align: middle;\n",
       "    }\n",
       "\n",
       "    .dataframe tbody tr th {\n",
       "        vertical-align: top;\n",
       "    }\n",
       "\n",
       "    .dataframe thead th {\n",
       "        text-align: right;\n",
       "    }\n",
       "</style>\n",
       "<table border=\"1\" class=\"dataframe\">\n",
       "  <thead>\n",
       "    <tr style=\"text-align: right;\">\n",
       "      <th></th>\n",
       "      <th>customerid</th>\n",
       "      <th>systemloanid</th>\n",
       "      <th>loannumber</th>\n",
       "      <th>approveddate</th>\n",
       "      <th>creationdate</th>\n",
       "      <th>loanamount</th>\n",
       "      <th>totaldue</th>\n",
       "      <th>termdays</th>\n",
       "      <th>good_bad_flag</th>\n",
       "      <th>loan_to_due_ratio</th>\n",
       "      <th>birthdate</th>\n",
       "      <th>bank_account_type</th>\n",
       "      <th>longitude_gps</th>\n",
       "      <th>latitude_gps</th>\n",
       "      <th>bank_name_clients</th>\n",
       "      <th>employment_status_clients</th>\n",
       "      <th>level_of_education_clients</th>\n",
       "    </tr>\n",
       "  </thead>\n",
       "  <tbody>\n",
       "    <tr>\n",
       "      <th>4263</th>\n",
       "      <td>8a858f0056b7cf8e0156c3d05ee2250a</td>\n",
       "      <td>301969961</td>\n",
       "      <td>8</td>\n",
       "      <td>2017-07-09 08:36:11.000000</td>\n",
       "      <td>2017-07-09 07:35:56.000000</td>\n",
       "      <td>30000.0</td>\n",
       "      <td>34500.0</td>\n",
       "      <td>30</td>\n",
       "      <td>Good</td>\n",
       "      <td>1.220476</td>\n",
       "      <td>1969-01-01 00:00:00.000000</td>\n",
       "      <td>Savings</td>\n",
       "      <td>3.305261</td>\n",
       "      <td>6.528776</td>\n",
       "      <td>First Bank</td>\n",
       "      <td>Self-Employed</td>\n",
       "      <td>Graduate</td>\n",
       "    </tr>\n",
       "    <tr>\n",
       "      <th>2660</th>\n",
       "      <td>8a858f265cfa1a64015d0906c8d50f79</td>\n",
       "      <td>301987855</td>\n",
       "      <td>2</td>\n",
       "      <td>2017-07-20 15:59:17.000000</td>\n",
       "      <td>2017-07-20 14:59:10.000000</td>\n",
       "      <td>10000.0</td>\n",
       "      <td>13000.0</td>\n",
       "      <td>30</td>\n",
       "      <td>Good</td>\n",
       "      <td>1.150000</td>\n",
       "      <td>1982-05-06 00:00:00.000000</td>\n",
       "      <td>Savings</td>\n",
       "      <td>3.415660</td>\n",
       "      <td>6.425697</td>\n",
       "      <td>GT Bank</td>\n",
       "      <td>Permanent</td>\n",
       "      <td>Graduate</td>\n",
       "    </tr>\n",
       "  </tbody>\n",
       "</table>\n",
       "</div>"
      ],
      "text/plain": [
       "                            customerid  systemloanid  loannumber  \\\n",
       "4263  8a858f0056b7cf8e0156c3d05ee2250a     301969961           8   \n",
       "2660  8a858f265cfa1a64015d0906c8d50f79     301987855           2   \n",
       "\n",
       "                    approveddate                creationdate  loanamount  \\\n",
       "4263  2017-07-09 08:36:11.000000  2017-07-09 07:35:56.000000     30000.0   \n",
       "2660  2017-07-20 15:59:17.000000  2017-07-20 14:59:10.000000     10000.0   \n",
       "\n",
       "      totaldue  termdays good_bad_flag  loan_to_due_ratio  \\\n",
       "4263   34500.0        30          Good           1.220476   \n",
       "2660   13000.0        30          Good           1.150000   \n",
       "\n",
       "                       birthdate bank_account_type  longitude_gps  \\\n",
       "4263  1969-01-01 00:00:00.000000           Savings       3.305261   \n",
       "2660  1982-05-06 00:00:00.000000           Savings       3.415660   \n",
       "\n",
       "      latitude_gps bank_name_clients employment_status_clients  \\\n",
       "4263      6.528776        First Bank             Self-Employed   \n",
       "2660      6.425697           GT Bank                 Permanent   \n",
       "\n",
       "     level_of_education_clients  \n",
       "4263                   Graduate  \n",
       "2660                   Graduate  "
      ]
     },
     "execution_count": 58,
     "metadata": {},
     "output_type": "execute_result"
    }
   ],
   "source": [
    "df6.sample(2)"
   ]
  },
  {
   "cell_type": "code",
   "execution_count": 59,
   "id": "af235fb3-2450-437e-918c-4b8704cf6c67",
   "metadata": {},
   "outputs": [
    {
     "data": {
      "text/plain": [
       "customerid                       0\n",
       "systemloanid                     0\n",
       "loannumber                       0\n",
       "approveddate                     0\n",
       "creationdate                     0\n",
       "loanamount                       0\n",
       "totaldue                         0\n",
       "termdays                         0\n",
       "good_bad_flag                    0\n",
       "loan_to_due_ratio                9\n",
       "birthdate                     1099\n",
       "bank_account_type             1099\n",
       "longitude_gps                 1099\n",
       "latitude_gps                  1099\n",
       "bank_name_clients             1099\n",
       "employment_status_clients     1099\n",
       "level_of_education_clients    1099\n",
       "dtype: int64"
      ]
     },
     "execution_count": 59,
     "metadata": {},
     "output_type": "execute_result"
    }
   ],
   "source": [
    "df6.isna().sum()"
   ]
  },
  {
   "cell_type": "code",
   "execution_count": 60,
   "id": "5b23f9fd-5239-4328-829e-7d6cd5e741bc",
   "metadata": {},
   "outputs": [],
   "source": [
    "#treating missing values in the final merged dataset - df6\n",
    "# starting with the loan_to_due_ratio, i'll recalculate it and fill out the missing rows\n",
    "df6['loan_to_due_ratio'] = df6['totaldue'] / df6['loanamount']"
   ]
  },
  {
   "cell_type": "code",
   "execution_count": 61,
   "id": "00636a94-8553-43f0-a671-64914dac356c",
   "metadata": {},
   "outputs": [
    {
     "name": "stdout",
     "output_type": "stream",
     "text": [
      "<class 'pandas.core.frame.DataFrame'>\n",
      "RangeIndex: 4368 entries, 0 to 4367\n",
      "Data columns (total 17 columns):\n",
      " #   Column                      Non-Null Count  Dtype  \n",
      "---  ------                      --------------  -----  \n",
      " 0   customerid                  4368 non-null   object \n",
      " 1   systemloanid                4368 non-null   int64  \n",
      " 2   loannumber                  4368 non-null   int64  \n",
      " 3   approveddate                4368 non-null   object \n",
      " 4   creationdate                4368 non-null   object \n",
      " 5   loanamount                  4368 non-null   float64\n",
      " 6   totaldue                    4368 non-null   float64\n",
      " 7   termdays                    4368 non-null   int64  \n",
      " 8   good_bad_flag               4368 non-null   object \n",
      " 9   loan_to_due_ratio           4368 non-null   float64\n",
      " 10  birthdate                   3269 non-null   object \n",
      " 11  bank_account_type           3269 non-null   object \n",
      " 12  longitude_gps               3269 non-null   float64\n",
      " 13  latitude_gps                3269 non-null   float64\n",
      " 14  bank_name_clients           3269 non-null   object \n",
      " 15  employment_status_clients   3269 non-null   object \n",
      " 16  level_of_education_clients  3269 non-null   object \n",
      "dtypes: float64(5), int64(3), object(9)\n",
      "memory usage: 580.3+ KB\n"
     ]
    }
   ],
   "source": [
    "df6.info()"
   ]
  },
  {
   "cell_type": "code",
   "execution_count": 62,
   "id": "7623dc4c-e5ff-4250-8fa8-163c86f36dc8",
   "metadata": {},
   "outputs": [],
   "source": [
    "#for categorical data such as bank_account_type, bank_name_clients, employment_status_clients, and level_of_education_clients, \n",
    "#I'll fill the missing values with the mode\n",
    "\n",
    "df6['bank_account_type'].fillna(df6['bank_account_type'].mode()[0], inplace=True)\n",
    "df6['bank_name_clients'].fillna(df6['bank_name_clients'].mode()[0], inplace=True)\n",
    "df6['employment_status_clients'].fillna(df6['employment_status_clients'].mode()[0], inplace=True)\n",
    "df6['level_of_education_clients'].fillna(df6['level_of_education_clients'].mode()[0], inplace=True)"
   ]
  },
  {
   "cell_type": "code",
   "execution_count": 63,
   "id": "abdc5a36-c9b0-4669-b9fc-d52a0d6f15d6",
   "metadata": {},
   "outputs": [
    {
     "name": "stdout",
     "output_type": "stream",
     "text": [
      "<class 'pandas.core.frame.DataFrame'>\n",
      "RangeIndex: 4368 entries, 0 to 4367\n",
      "Data columns (total 17 columns):\n",
      " #   Column                      Non-Null Count  Dtype  \n",
      "---  ------                      --------------  -----  \n",
      " 0   customerid                  4368 non-null   object \n",
      " 1   systemloanid                4368 non-null   int64  \n",
      " 2   loannumber                  4368 non-null   int64  \n",
      " 3   approveddate                4368 non-null   object \n",
      " 4   creationdate                4368 non-null   object \n",
      " 5   loanamount                  4368 non-null   float64\n",
      " 6   totaldue                    4368 non-null   float64\n",
      " 7   termdays                    4368 non-null   int64  \n",
      " 8   good_bad_flag               4368 non-null   object \n",
      " 9   loan_to_due_ratio           4368 non-null   float64\n",
      " 10  birthdate                   3269 non-null   object \n",
      " 11  bank_account_type           4368 non-null   object \n",
      " 12  longitude_gps               3269 non-null   float64\n",
      " 13  latitude_gps                3269 non-null   float64\n",
      " 14  bank_name_clients           4368 non-null   object \n",
      " 15  employment_status_clients   4368 non-null   object \n",
      " 16  level_of_education_clients  4368 non-null   object \n",
      "dtypes: float64(5), int64(3), object(9)\n",
      "memory usage: 580.3+ KB\n"
     ]
    }
   ],
   "source": [
    "df6.info()"
   ]
  },
  {
   "cell_type": "code",
   "execution_count": 64,
   "id": "23610a73-6017-498c-b9ee-db355c85b050",
   "metadata": {},
   "outputs": [],
   "source": [
    "#the remaining columns with missing values are 'birthdate', 'longitude_gps', 'latitude_gps'\n",
    "#to treat the missing values in birthdate, I'll do a little feature engineering to convert to age and fill the missing values with the median age \n",
    "\n",
    "from datetime import datetime\n",
    "\n",
    "df6['birthdate'] = pd.to_datetime(df6['birthdate'], errors='coerce')\n",
    "\n",
    "today = pd.Timestamp.today()\n",
    "df6['age'] = (today - df6['birthdate']).dt.days // 365"
   ]
  },
  {
   "cell_type": "code",
   "execution_count": 65,
   "id": "b78f8807-6436-4ac3-93d4-27e4ac8f2079",
   "metadata": {},
   "outputs": [
    {
     "data": {
      "text/html": [
       "<div>\n",
       "<style scoped>\n",
       "    .dataframe tbody tr th:only-of-type {\n",
       "        vertical-align: middle;\n",
       "    }\n",
       "\n",
       "    .dataframe tbody tr th {\n",
       "        vertical-align: top;\n",
       "    }\n",
       "\n",
       "    .dataframe thead th {\n",
       "        text-align: right;\n",
       "    }\n",
       "</style>\n",
       "<table border=\"1\" class=\"dataframe\">\n",
       "  <thead>\n",
       "    <tr style=\"text-align: right;\">\n",
       "      <th></th>\n",
       "      <th>customerid</th>\n",
       "      <th>systemloanid</th>\n",
       "      <th>loannumber</th>\n",
       "      <th>approveddate</th>\n",
       "      <th>creationdate</th>\n",
       "      <th>loanamount</th>\n",
       "      <th>totaldue</th>\n",
       "      <th>termdays</th>\n",
       "      <th>good_bad_flag</th>\n",
       "      <th>loan_to_due_ratio</th>\n",
       "      <th>birthdate</th>\n",
       "      <th>bank_account_type</th>\n",
       "      <th>longitude_gps</th>\n",
       "      <th>latitude_gps</th>\n",
       "      <th>bank_name_clients</th>\n",
       "      <th>employment_status_clients</th>\n",
       "      <th>level_of_education_clients</th>\n",
       "      <th>age</th>\n",
       "    </tr>\n",
       "  </thead>\n",
       "  <tbody>\n",
       "    <tr>\n",
       "      <th>4177</th>\n",
       "      <td>8a858e585beda464015bef3c04ba7d64</td>\n",
       "      <td>301984911</td>\n",
       "      <td>4</td>\n",
       "      <td>2017-07-19 03:43:37.000000</td>\n",
       "      <td>2017-07-19 02:43:26.000000</td>\n",
       "      <td>15000.0</td>\n",
       "      <td>18375.0</td>\n",
       "      <td>30</td>\n",
       "      <td>Good</td>\n",
       "      <td>1.225</td>\n",
       "      <td>1985-09-07</td>\n",
       "      <td>Savings</td>\n",
       "      <td>3.256005</td>\n",
       "      <td>6.449161</td>\n",
       "      <td>Diamond Bank</td>\n",
       "      <td>Permanent</td>\n",
       "      <td>Graduate</td>\n",
       "      <td>40.0</td>\n",
       "    </tr>\n",
       "    <tr>\n",
       "      <th>647</th>\n",
       "      <td>8a858fe45cd62cbf015ce8a5a46a57a7</td>\n",
       "      <td>301995070</td>\n",
       "      <td>2</td>\n",
       "      <td>2017-07-25 11:15:55.000000</td>\n",
       "      <td>2017-07-25 10:15:49.000000</td>\n",
       "      <td>10000.0</td>\n",
       "      <td>13000.0</td>\n",
       "      <td>30</td>\n",
       "      <td>Bad</td>\n",
       "      <td>1.300</td>\n",
       "      <td>NaT</td>\n",
       "      <td>Savings</td>\n",
       "      <td>NaN</td>\n",
       "      <td>NaN</td>\n",
       "      <td>GT Bank</td>\n",
       "      <td>Permanent</td>\n",
       "      <td>Graduate</td>\n",
       "      <td>NaN</td>\n",
       "    </tr>\n",
       "  </tbody>\n",
       "</table>\n",
       "</div>"
      ],
      "text/plain": [
       "                            customerid  systemloanid  loannumber  \\\n",
       "4177  8a858e585beda464015bef3c04ba7d64     301984911           4   \n",
       "647   8a858fe45cd62cbf015ce8a5a46a57a7     301995070           2   \n",
       "\n",
       "                    approveddate                creationdate  loanamount  \\\n",
       "4177  2017-07-19 03:43:37.000000  2017-07-19 02:43:26.000000     15000.0   \n",
       "647   2017-07-25 11:15:55.000000  2017-07-25 10:15:49.000000     10000.0   \n",
       "\n",
       "      totaldue  termdays good_bad_flag  loan_to_due_ratio  birthdate  \\\n",
       "4177   18375.0        30          Good              1.225 1985-09-07   \n",
       "647    13000.0        30           Bad              1.300        NaT   \n",
       "\n",
       "     bank_account_type  longitude_gps  latitude_gps bank_name_clients  \\\n",
       "4177           Savings       3.256005      6.449161      Diamond Bank   \n",
       "647            Savings            NaN           NaN           GT Bank   \n",
       "\n",
       "     employment_status_clients level_of_education_clients   age  \n",
       "4177                 Permanent                   Graduate  40.0  \n",
       "647                  Permanent                   Graduate   NaN  "
      ]
     },
     "execution_count": 65,
     "metadata": {},
     "output_type": "execute_result"
    }
   ],
   "source": [
    "df6.sample(2)"
   ]
  },
  {
   "cell_type": "code",
   "execution_count": 66,
   "id": "f14fe613-bc81-44e6-83a2-0e792d3cea5c",
   "metadata": {},
   "outputs": [
    {
     "name": "stdout",
     "output_type": "stream",
     "text": [
      "<class 'pandas.core.frame.DataFrame'>\n",
      "RangeIndex: 4368 entries, 0 to 4367\n",
      "Data columns (total 18 columns):\n",
      " #   Column                      Non-Null Count  Dtype         \n",
      "---  ------                      --------------  -----         \n",
      " 0   customerid                  4368 non-null   object        \n",
      " 1   systemloanid                4368 non-null   int64         \n",
      " 2   loannumber                  4368 non-null   int64         \n",
      " 3   approveddate                4368 non-null   object        \n",
      " 4   creationdate                4368 non-null   object        \n",
      " 5   loanamount                  4368 non-null   float64       \n",
      " 6   totaldue                    4368 non-null   float64       \n",
      " 7   termdays                    4368 non-null   int64         \n",
      " 8   good_bad_flag               4368 non-null   object        \n",
      " 9   loan_to_due_ratio           4368 non-null   float64       \n",
      " 10  birthdate                   3269 non-null   datetime64[ns]\n",
      " 11  bank_account_type           4368 non-null   object        \n",
      " 12  longitude_gps               3269 non-null   float64       \n",
      " 13  latitude_gps                3269 non-null   float64       \n",
      " 14  bank_name_clients           4368 non-null   object        \n",
      " 15  employment_status_clients   4368 non-null   object        \n",
      " 16  level_of_education_clients  4368 non-null   object        \n",
      " 17  age                         3269 non-null   float64       \n",
      "dtypes: datetime64[ns](1), float64(6), int64(3), object(8)\n",
      "memory usage: 614.4+ KB\n"
     ]
    }
   ],
   "source": [
    "df6.info()"
   ]
  },
  {
   "cell_type": "code",
   "execution_count": 67,
   "id": "f85d9335-4717-4e40-8af0-3dc72cdcb61f",
   "metadata": {},
   "outputs": [
    {
     "data": {
      "text/plain": [
       "40.0"
      ]
     },
     "execution_count": 67,
     "metadata": {},
     "output_type": "execute_result"
    }
   ],
   "source": [
    "#calculate median age\n",
    "median_age = df6['age'].median()\n",
    "median_age"
   ]
  },
  {
   "cell_type": "code",
   "execution_count": 68,
   "id": "f2f4c6ad-79d9-4272-81f8-58134ef73c0c",
   "metadata": {},
   "outputs": [],
   "source": [
    "#fill missing ages with the median age\n",
    "df6['age'] = df6['age'].fillna(median_age)"
   ]
  },
  {
   "cell_type": "code",
   "execution_count": 69,
   "id": "ded23c12-1cd3-4ff3-94f9-76ba2ebf4262",
   "metadata": {},
   "outputs": [
    {
     "name": "stdout",
     "output_type": "stream",
     "text": [
      "<class 'pandas.core.frame.DataFrame'>\n",
      "RangeIndex: 4368 entries, 0 to 4367\n",
      "Data columns (total 18 columns):\n",
      " #   Column                      Non-Null Count  Dtype         \n",
      "---  ------                      --------------  -----         \n",
      " 0   customerid                  4368 non-null   object        \n",
      " 1   systemloanid                4368 non-null   int64         \n",
      " 2   loannumber                  4368 non-null   int64         \n",
      " 3   approveddate                4368 non-null   object        \n",
      " 4   creationdate                4368 non-null   object        \n",
      " 5   loanamount                  4368 non-null   float64       \n",
      " 6   totaldue                    4368 non-null   float64       \n",
      " 7   termdays                    4368 non-null   int64         \n",
      " 8   good_bad_flag               4368 non-null   object        \n",
      " 9   loan_to_due_ratio           4368 non-null   float64       \n",
      " 10  birthdate                   3269 non-null   datetime64[ns]\n",
      " 11  bank_account_type           4368 non-null   object        \n",
      " 12  longitude_gps               3269 non-null   float64       \n",
      " 13  latitude_gps                3269 non-null   float64       \n",
      " 14  bank_name_clients           4368 non-null   object        \n",
      " 15  employment_status_clients   4368 non-null   object        \n",
      " 16  level_of_education_clients  4368 non-null   object        \n",
      " 17  age                         4368 non-null   float64       \n",
      "dtypes: datetime64[ns](1), float64(6), int64(3), object(8)\n",
      "memory usage: 614.4+ KB\n"
     ]
    }
   ],
   "source": [
    "df6.info()"
   ]
  },
  {
   "cell_type": "code",
   "execution_count": 70,
   "id": "38b3c5e2-7e4d-4bdc-96f7-3795a5a691d8",
   "metadata": {},
   "outputs": [],
   "source": [
    "#to treat the missing values in my longitude and latitude, I'll first do a group-wise imputation based on bank_name_clients and employment_status_clients \n",
    "#this is because customers using the same bank might live in the same area (especially in rural settings)\n",
    "#employment type may sometimes vary with location\n",
    "\n",
    "group_cols = ['bank_name_clients', 'employment_status_clients']\n",
    "\n",
    "df6['longitude_gps'] = df6.groupby(group_cols)['longitude_gps'].transform(lambda x: x.fillna(x.median()))\n",
    "df6['latitude_gps'] = df6.groupby(group_cols)['latitude_gps'].transform(lambda x: x.fillna(x.median()))"
   ]
  },
  {
   "cell_type": "code",
   "execution_count": 71,
   "id": "8b40dff5-6963-4e34-bf2f-c954f2c5298d",
   "metadata": {},
   "outputs": [
    {
     "name": "stdout",
     "output_type": "stream",
     "text": [
      "<class 'pandas.core.frame.DataFrame'>\n",
      "RangeIndex: 4368 entries, 0 to 4367\n",
      "Data columns (total 18 columns):\n",
      " #   Column                      Non-Null Count  Dtype         \n",
      "---  ------                      --------------  -----         \n",
      " 0   customerid                  4368 non-null   object        \n",
      " 1   systemloanid                4368 non-null   int64         \n",
      " 2   loannumber                  4368 non-null   int64         \n",
      " 3   approveddate                4368 non-null   object        \n",
      " 4   creationdate                4368 non-null   object        \n",
      " 5   loanamount                  4368 non-null   float64       \n",
      " 6   totaldue                    4368 non-null   float64       \n",
      " 7   termdays                    4368 non-null   int64         \n",
      " 8   good_bad_flag               4368 non-null   object        \n",
      " 9   loan_to_due_ratio           4368 non-null   float64       \n",
      " 10  birthdate                   3269 non-null   datetime64[ns]\n",
      " 11  bank_account_type           4368 non-null   object        \n",
      " 12  longitude_gps               4368 non-null   float64       \n",
      " 13  latitude_gps                4368 non-null   float64       \n",
      " 14  bank_name_clients           4368 non-null   object        \n",
      " 15  employment_status_clients   4368 non-null   object        \n",
      " 16  level_of_education_clients  4368 non-null   object        \n",
      " 17  age                         4368 non-null   float64       \n",
      "dtypes: datetime64[ns](1), float64(6), int64(3), object(8)\n",
      "memory usage: 614.4+ KB\n"
     ]
    }
   ],
   "source": [
    "df6.info()"
   ]
  },
  {
   "cell_type": "code",
   "execution_count": 72,
   "id": "6f5599cc-1b4d-4121-b45d-bffaf72045da",
   "metadata": {},
   "outputs": [],
   "source": [
    "#I'll now drop the birthdate could since I have the age now\n",
    "df6.drop('birthdate', axis=1, inplace=True)"
   ]
  },
  {
   "cell_type": "code",
   "execution_count": 73,
   "id": "39a28fac-0ba4-4ce8-af48-755a14ddcc52",
   "metadata": {},
   "outputs": [
    {
     "name": "stdout",
     "output_type": "stream",
     "text": [
      "<class 'pandas.core.frame.DataFrame'>\n",
      "RangeIndex: 4368 entries, 0 to 4367\n",
      "Data columns (total 17 columns):\n",
      " #   Column                      Non-Null Count  Dtype  \n",
      "---  ------                      --------------  -----  \n",
      " 0   customerid                  4368 non-null   object \n",
      " 1   systemloanid                4368 non-null   int64  \n",
      " 2   loannumber                  4368 non-null   int64  \n",
      " 3   approveddate                4368 non-null   object \n",
      " 4   creationdate                4368 non-null   object \n",
      " 5   loanamount                  4368 non-null   float64\n",
      " 6   totaldue                    4368 non-null   float64\n",
      " 7   termdays                    4368 non-null   int64  \n",
      " 8   good_bad_flag               4368 non-null   object \n",
      " 9   loan_to_due_ratio           4368 non-null   float64\n",
      " 10  bank_account_type           4368 non-null   object \n",
      " 11  longitude_gps               4368 non-null   float64\n",
      " 12  latitude_gps                4368 non-null   float64\n",
      " 13  bank_name_clients           4368 non-null   object \n",
      " 14  employment_status_clients   4368 non-null   object \n",
      " 15  level_of_education_clients  4368 non-null   object \n",
      " 16  age                         4368 non-null   float64\n",
      "dtypes: float64(6), int64(3), object(8)\n",
      "memory usage: 580.3+ KB\n"
     ]
    }
   ],
   "source": [
    "df6.info()"
   ]
  },
  {
   "cell_type": "code",
   "execution_count": 74,
   "id": "ce019463-d3af-4e2c-843a-09ba39ce99cc",
   "metadata": {},
   "outputs": [
    {
     "data": {
      "text/html": [
       "<div>\n",
       "<style scoped>\n",
       "    .dataframe tbody tr th:only-of-type {\n",
       "        vertical-align: middle;\n",
       "    }\n",
       "\n",
       "    .dataframe tbody tr th {\n",
       "        vertical-align: top;\n",
       "    }\n",
       "\n",
       "    .dataframe thead th {\n",
       "        text-align: right;\n",
       "    }\n",
       "</style>\n",
       "<table border=\"1\" class=\"dataframe\">\n",
       "  <thead>\n",
       "    <tr style=\"text-align: right;\">\n",
       "      <th></th>\n",
       "      <th>customerid</th>\n",
       "      <th>systemloanid</th>\n",
       "      <th>loannumber</th>\n",
       "      <th>approveddate</th>\n",
       "      <th>creationdate</th>\n",
       "      <th>loanamount</th>\n",
       "      <th>totaldue</th>\n",
       "      <th>termdays</th>\n",
       "      <th>good_bad_flag</th>\n",
       "      <th>loan_to_due_ratio</th>\n",
       "      <th>bank_account_type</th>\n",
       "      <th>longitude_gps</th>\n",
       "      <th>latitude_gps</th>\n",
       "      <th>bank_name_clients</th>\n",
       "      <th>employment_status_clients</th>\n",
       "      <th>level_of_education_clients</th>\n",
       "      <th>age</th>\n",
       "    </tr>\n",
       "  </thead>\n",
       "  <tbody>\n",
       "    <tr>\n",
       "      <th>2664</th>\n",
       "      <td>8a858f4c5bc9eb48015bcb86cee34584</td>\n",
       "      <td>301997543</td>\n",
       "      <td>5</td>\n",
       "      <td>2017-07-26 18:41:21.000000</td>\n",
       "      <td>2017-07-26 17:41:16.000000</td>\n",
       "      <td>10000.0</td>\n",
       "      <td>13000.0</td>\n",
       "      <td>30</td>\n",
       "      <td>Good</td>\n",
       "      <td>1.300</td>\n",
       "      <td>Savings</td>\n",
       "      <td>7.390760</td>\n",
       "      <td>10.479799</td>\n",
       "      <td>FCMB</td>\n",
       "      <td>Permanent</td>\n",
       "      <td>Graduate</td>\n",
       "      <td>45.0</td>\n",
       "    </tr>\n",
       "    <tr>\n",
       "      <th>3576</th>\n",
       "      <td>8a858e935b496584015b5198c2b30b82</td>\n",
       "      <td>301958616</td>\n",
       "      <td>4</td>\n",
       "      <td>2017-07-01 07:37:03.000000</td>\n",
       "      <td>2017-07-01 06:36:53.000000</td>\n",
       "      <td>10000.0</td>\n",
       "      <td>12250.0</td>\n",
       "      <td>30</td>\n",
       "      <td>Good</td>\n",
       "      <td>1.225</td>\n",
       "      <td>Savings</td>\n",
       "      <td>3.517088</td>\n",
       "      <td>6.649616</td>\n",
       "      <td>Union Bank</td>\n",
       "      <td>Permanent</td>\n",
       "      <td>Graduate</td>\n",
       "      <td>36.0</td>\n",
       "    </tr>\n",
       "  </tbody>\n",
       "</table>\n",
       "</div>"
      ],
      "text/plain": [
       "                            customerid  systemloanid  loannumber  \\\n",
       "2664  8a858f4c5bc9eb48015bcb86cee34584     301997543           5   \n",
       "3576  8a858e935b496584015b5198c2b30b82     301958616           4   \n",
       "\n",
       "                    approveddate                creationdate  loanamount  \\\n",
       "2664  2017-07-26 18:41:21.000000  2017-07-26 17:41:16.000000     10000.0   \n",
       "3576  2017-07-01 07:37:03.000000  2017-07-01 06:36:53.000000     10000.0   \n",
       "\n",
       "      totaldue  termdays good_bad_flag  loan_to_due_ratio bank_account_type  \\\n",
       "2664   13000.0        30          Good              1.300           Savings   \n",
       "3576   12250.0        30          Good              1.225           Savings   \n",
       "\n",
       "      longitude_gps  latitude_gps bank_name_clients employment_status_clients  \\\n",
       "2664       7.390760     10.479799              FCMB                 Permanent   \n",
       "3576       3.517088      6.649616        Union Bank                 Permanent   \n",
       "\n",
       "     level_of_education_clients   age  \n",
       "2664                   Graduate  45.0  \n",
       "3576                   Graduate  36.0  "
      ]
     },
     "execution_count": 74,
     "metadata": {},
     "output_type": "execute_result"
    }
   ],
   "source": [
    "df6.sample(2)"
   ]
  },
  {
   "cell_type": "markdown",
   "id": "ec825b05-a220-4d08-99a1-a25da3f2db27",
   "metadata": {},
   "source": [
    "### Data Visualization"
   ]
  },
  {
   "cell_type": "code",
   "execution_count": 75,
   "id": "b4b6d9d9-9bd7-47c5-a8a7-9a6d1768281c",
   "metadata": {},
   "outputs": [
    {
     "name": "stdout",
     "output_type": "stream",
     "text": [
      "<class 'pandas.core.frame.DataFrame'>\n",
      "RangeIndex: 4368 entries, 0 to 4367\n",
      "Data columns (total 17 columns):\n",
      " #   Column                      Non-Null Count  Dtype  \n",
      "---  ------                      --------------  -----  \n",
      " 0   customerid                  4368 non-null   object \n",
      " 1   systemloanid                4368 non-null   int64  \n",
      " 2   loannumber                  4368 non-null   int64  \n",
      " 3   approveddate                4368 non-null   object \n",
      " 4   creationdate                4368 non-null   object \n",
      " 5   loanamount                  4368 non-null   float64\n",
      " 6   totaldue                    4368 non-null   float64\n",
      " 7   termdays                    4368 non-null   int64  \n",
      " 8   good_bad_flag               4368 non-null   object \n",
      " 9   loan_to_due_ratio           4368 non-null   float64\n",
      " 10  bank_account_type           4368 non-null   object \n",
      " 11  longitude_gps               4368 non-null   float64\n",
      " 12  latitude_gps                4368 non-null   float64\n",
      " 13  bank_name_clients           4368 non-null   object \n",
      " 14  employment_status_clients   4368 non-null   object \n",
      " 15  level_of_education_clients  4368 non-null   object \n",
      " 16  age                         4368 non-null   float64\n",
      "dtypes: float64(6), int64(3), object(8)\n",
      "memory usage: 580.3+ KB\n"
     ]
    }
   ],
   "source": [
    "df6.info()"
   ]
  },
  {
   "cell_type": "code",
   "execution_count": 76,
   "id": "5aecf194-8e5d-4d31-809b-dc9b21264264",
   "metadata": {},
   "outputs": [],
   "source": [
    "# separate into numerical and categorical columns\n",
    "\n",
    "num_cols = df6.select_dtypes(include=['int64', 'float64']).columns.tolist()\n",
    "cat_cols = df6.select_dtypes(include=['object']).columns.tolist()"
   ]
  },
  {
   "cell_type": "code",
   "execution_count": 77,
   "id": "b90544be-0b7f-48df-9964-ea0358fcdd4a",
   "metadata": {},
   "outputs": [
    {
     "data": {
      "text/plain": [
       "['systemloanid',\n",
       " 'loannumber',\n",
       " 'loanamount',\n",
       " 'totaldue',\n",
       " 'termdays',\n",
       " 'loan_to_due_ratio',\n",
       " 'longitude_gps',\n",
       " 'latitude_gps',\n",
       " 'age']"
      ]
     },
     "execution_count": 77,
     "metadata": {},
     "output_type": "execute_result"
    }
   ],
   "source": [
    "num_cols"
   ]
  },
  {
   "cell_type": "code",
   "execution_count": 78,
   "id": "5157213d-8db4-4db8-b222-3cf67c222164",
   "metadata": {},
   "outputs": [
    {
     "data": {
      "text/plain": [
       "['customerid',\n",
       " 'approveddate',\n",
       " 'creationdate',\n",
       " 'good_bad_flag',\n",
       " 'bank_account_type',\n",
       " 'bank_name_clients',\n",
       " 'employment_status_clients',\n",
       " 'level_of_education_clients']"
      ]
     },
     "execution_count": 78,
     "metadata": {},
     "output_type": "execute_result"
    }
   ],
   "source": [
    "cat_cols"
   ]
  },
  {
   "cell_type": "code",
   "execution_count": 79,
   "id": "f550f114-a3d4-4571-87fb-cb8486469074",
   "metadata": {},
   "outputs": [],
   "source": [
    "#viewing the distribution of select columns\n",
    "num_cols = ['loanamount', 'totaldue', 'loan_to_due_ratio', 'age']"
   ]
  },
  {
   "cell_type": "code",
   "execution_count": 80,
   "id": "99e7268e-29bc-47ce-8e99-15fe4f0e2c46",
   "metadata": {},
   "outputs": [],
   "source": [
    "cat_cols = ['good_bad_flag', 'bank_account_type', 'bank_name_clients','employment_status_clients', 'level_of_education_clients']"
   ]
  },
  {
   "cell_type": "code",
   "execution_count": 81,
   "id": "e0f4fad4-3349-43bd-a455-5dfac271207d",
   "metadata": {},
   "outputs": [
    {
     "data": {
      "image/png": "[encoded data removed]",
      "text/plain": [
       "<Figure size 700x300 with 2 Axes>"
      ]
     },
     "metadata": {},
     "output_type": "display_data"
    },
    {
     "data": {
      "image/png": "[encoded data removed]",
      "text/plain": [
       "<Figure size 700x300 with 2 Axes>"
      ]
     },
     "metadata": {},
     "output_type": "display_data"
    },
    {
     "data": {
      "image/png": "[encoded data removed]",
      "text/plain": [
       "<Figure size 700x300 with 2 Axes>"
      ]
     },
     "metadata": {},
     "output_type": "display_data"
    },
    {
     "data": {
      "image/png": "[encoded data removed]",
      "text/plain": [
       "<Figure size 700x300 with 2 Axes>"
      ]
     },
     "metadata": {},
     "output_type": "display_data"
    }
   ],
   "source": [
    "for col in num_cols:\n",
    "    plt.figure(figsize=(7, 3))\n",
    "    # plot histogram\n",
    "    plt.subplot(1, 2, 1)\n",
    "    sns.histplot(df6[col], kde=True, bins=20)\n",
    "    plt.title(f'{col} distribution')\n",
    "    plt.xlabel(col)\n",
    "    plt.ylabel('Count')\n",
    "\n",
    "    # plot boxplot\n",
    "    plt.subplot(1, 2, 2)\n",
    "    sns.boxplot(x = df6[col], color='darkblue')\n",
    "    plt.title(f'{col} distribution')\n",
    "    plt.xlabel(col)\n",
    "    plt.ylabel('Count')\n",
    "\n",
    "plt.tight_layout()\n",
    "plt.show()"
   ]
  },
  {
   "cell_type": "markdown",
   "id": "eb1d9935-5548-4442-b704-64ee72714afb",
   "metadata": {},
   "source": [
    "### Observation\n",
    "+ Only the age seems to be well distributed, probably because I filled the missing values with the median age"
   ]
  },
  {
   "cell_type": "code",
   "execution_count": 82,
   "id": "4a894a07-aed4-4901-9cc8-e8dbbb426d10",
   "metadata": {},
   "outputs": [
    {
     "data": {
      "image/png": "[encoded data removed]",
      "text/plain": [
       "<Figure size 2500x400 with 1 Axes>"
      ]
     },
     "metadata": {},
     "output_type": "display_data"
    },
    {
     "data": {
      "image/png": "[encoded data removed]",
      "text/plain": [
       "<Figure size 2500x400 with 1 Axes>"
      ]
     },
     "metadata": {},
     "output_type": "display_data"
    },
    {
     "data": {
      "image/png": "[encoded data removed]",
      "text/plain": [
       "<Figure size 2500x400 with 1 Axes>"
      ]
     },
     "metadata": {},
     "output_type": "display_data"
    },
    {
     "data": {
      "image/png": "[encoded data removed]",
      "text/plain": [
       "<Figure size 2500x400 with 1 Axes>"
      ]
     },
     "metadata": {},
     "output_type": "display_data"
    },
    {
     "data": {
      "image/png": "[encoded data removed]",
      "text/plain": [
       "<Figure size 2500x400 with 1 Axes>"
      ]
     },
     "metadata": {},
     "output_type": "display_data"
    }
   ],
   "source": [
    "# visualize the categorical columns\n",
    "for col in cat_cols:\n",
    "    plt.figure(figsize=(25, 4))\n",
    "    sns.histplot(df6[col], kde=True, bins=30, color='red')\n",
    "    plt.title(f'{col} distribution')\n",
    "    plt.xlabel(col)\n",
    "    plt.ylabel('Count')\n",
    "    \n",
    "plt.tight_layout()\n",
    "plt.show()"
   ]
  },
  {
   "cell_type": "markdown",
   "id": "196bc66d-819d-482a-bde7-48d196542ec6",
   "metadata": {},
   "source": [
    "### Observation\n",
    "+ GTBank gives out the most loans to a lot of permanent staff - this could be because permanent staff are more likely to pay back"
   ]
  },
  {
   "cell_type": "code",
   "execution_count": 83,
   "id": "1d645ae5-d74e-4742-8b1b-f047e362659d",
   "metadata": {},
   "outputs": [],
   "source": [
    "#the data is skewed, I'll use the interquartile range (IQR) to determine the outliers\n",
    "def find_outliers_IQR(num_cols):\n",
    "   q1 = num_cols.quantile(0.25)\n",
    "   q3 = num_cols.quantile(0.75)\n",
    "\n",
    "   IQR = q3-q1\n",
    "\n",
    "   outliers = num_cols[((num_cols<(q1-1.5*IQR)) | (num_cols>(q3+1.5*IQR)))]\n",
    "\n",
    "   return outliers"
   ]
  },
  {
   "cell_type": "code",
   "execution_count": 84,
   "id": "a294d194-79aa-4c2a-9d62-582ec97fd611",
   "metadata": {},
   "outputs": [
    {
     "name": "stdout",
     "output_type": "stream",
     "text": [
      "number of outliers in loanamount: 419\n",
      "max outlier value in loanamount: 60000.0\n",
      "min outlier value in loanamount: 40000.0\n",
      "number of outliers in totaldue: 422\n",
      "max outlier value in totaldue: 68100.0\n",
      "min outlier value in totaldue: 42000.0\n",
      "number of outliers in loan_to_due_ratio: 0\n",
      "max outlier value in loan_to_due_ratio: nan\n",
      "min outlier value in loan_to_due_ratio: nan\n",
      "number of outliers in age: 493\n",
      "max outlier value in age: 63.0\n",
      "min outlier value in age: 29.0\n"
     ]
    }
   ],
   "source": [
    "for col in num_cols:\n",
    "    outliers = find_outliers_IQR(df6[col])\n",
    "    print(f'number of outliers in {col}: '+ str(len(outliers)))\n",
    "    print(f'max outlier value in {col}: '+ str(outliers.max()))\n",
    "    print(f'min outlier value in {col}: '+ str(outliers.min()))\n",
    "    \n",
    "    outliers"
   ]
  },
  {
   "cell_type": "code",
   "execution_count": 85,
   "id": "ebe64cdf-2824-4eb2-bc33-a133dbcc5e4f",
   "metadata": {},
   "outputs": [
    {
     "data": {
      "text/plain": [
       "good_bad_flag\n",
       "Good    3416\n",
       "Bad      952\n",
       "Name: count, dtype: int64"
      ]
     },
     "execution_count": 85,
     "metadata": {},
     "output_type": "execute_result"
    }
   ],
   "source": [
    "#target column = good_bad_flag\n",
    "df6.good_bad_flag.value_counts()"
   ]
  },
  {
   "cell_type": "code",
   "execution_count": 86,
   "id": "0480f9a3-38ab-4bea-831d-e7a258eb3157",
   "metadata": {},
   "outputs": [
    {
     "data": {
      "text/plain": [
       "<Axes: xlabel='good_bad_flag'>"
      ]
     },
     "execution_count": 86,
     "metadata": {},
     "output_type": "execute_result"
    },
    {
     "data": {
      "image/png": "[encoded data removed]",
      "text/plain": [
       "<Figure size 640x480 with 1 Axes>"
      ]
     },
     "metadata": {},
     "output_type": "display_data"
    }
   ],
   "source": [
    "df6.good_bad_flag.value_counts().plot(kind='bar')"
   ]
  },
  {
   "cell_type": "markdown",
   "id": "d2ce4d8a-c55f-4b50-b095-137d0e1d93b1",
   "metadata": {},
   "source": [
    "### Observation\n",
    "+ The target column is quite imbalanced"
   ]
  },
  {
   "cell_type": "markdown",
   "id": "16ce3a3f-5395-4937-8bcb-3986c34a7b7b",
   "metadata": {},
   "source": [
    "### Correlation Matrix"
   ]
  },
  {
   "cell_type": "code",
   "execution_count": 87,
   "id": "db5da7cc-90f1-4fdc-9ea2-9c0a16bfbadd",
   "metadata": {},
   "outputs": [
    {
     "data": {
      "text/html": [
       "<div>\n",
       "<style scoped>\n",
       "    .dataframe tbody tr th:only-of-type {\n",
       "        vertical-align: middle;\n",
       "    }\n",
       "\n",
       "    .dataframe tbody tr th {\n",
       "        vertical-align: top;\n",
       "    }\n",
       "\n",
       "    .dataframe thead th {\n",
       "        text-align: right;\n",
       "    }\n",
       "</style>\n",
       "<table border=\"1\" class=\"dataframe\">\n",
       "  <thead>\n",
       "    <tr style=\"text-align: right;\">\n",
       "      <th></th>\n",
       "      <th>loanamount</th>\n",
       "      <th>totaldue</th>\n",
       "      <th>loan_to_due_ratio</th>\n",
       "      <th>age</th>\n",
       "    </tr>\n",
       "  </thead>\n",
       "  <tbody>\n",
       "    <tr>\n",
       "      <th>loanamount</th>\n",
       "      <td>1.000000</td>\n",
       "      <td>0.994392</td>\n",
       "      <td>-0.518592</td>\n",
       "      <td>0.011997</td>\n",
       "    </tr>\n",
       "    <tr>\n",
       "      <th>totaldue</th>\n",
       "      <td>0.994392</td>\n",
       "      <td>1.000000</td>\n",
       "      <td>-0.443280</td>\n",
       "      <td>0.014570</td>\n",
       "    </tr>\n",
       "    <tr>\n",
       "      <th>loan_to_due_ratio</th>\n",
       "      <td>-0.518592</td>\n",
       "      <td>-0.443280</td>\n",
       "      <td>1.000000</td>\n",
       "      <td>0.024443</td>\n",
       "    </tr>\n",
       "    <tr>\n",
       "      <th>age</th>\n",
       "      <td>0.011997</td>\n",
       "      <td>0.014570</td>\n",
       "      <td>0.024443</td>\n",
       "      <td>1.000000</td>\n",
       "    </tr>\n",
       "  </tbody>\n",
       "</table>\n",
       "</div>"
      ],
      "text/plain": [
       "                   loanamount  totaldue  loan_to_due_ratio       age\n",
       "loanamount           1.000000  0.994392          -0.518592  0.011997\n",
       "totaldue             0.994392  1.000000          -0.443280  0.014570\n",
       "loan_to_due_ratio   -0.518592 -0.443280           1.000000  0.024443\n",
       "age                  0.011997  0.014570           0.024443  1.000000"
      ]
     },
     "execution_count": 87,
     "metadata": {},
     "output_type": "execute_result"
    }
   ],
   "source": [
    "corr_matrix = df6[num_cols].corr()\n",
    "corr_matrix"
   ]
  },
  {
   "cell_type": "code",
   "execution_count": 88,
   "id": "4b8feac9-8e6d-4d56-a4ef-17f270e0e64c",
   "metadata": {},
   "outputs": [
    {
     "data": {
      "image/png": "[encoded data removed]",
      "text/plain": [
       "<Figure size 800x300 with 2 Axes>"
      ]
     },
     "metadata": {},
     "output_type": "display_data"
    }
   ],
   "source": [
    "corr_matrix = df6[num_cols].corr()\n",
    "plt.figure(figsize=(8, 3))\n",
    "sns.heatmap(corr_matrix, annot=True, fmt='.2f', cmap='Reds')\n",
    "plt.show()"
   ]
  },
  {
   "cell_type": "markdown",
   "id": "20714b5a-ebf7-480d-9ef8-8d7ba3e20bdd",
   "metadata": {},
   "source": [
    "### Data Preparation"
   ]
  },
  {
   "cell_type": "code",
   "execution_count": 89,
   "id": "fc3a7063-4657-4853-ae89-4e746428e470",
   "metadata": {},
   "outputs": [
    {
     "data": {
      "text/plain": [
       "Index(['customerid', 'systemloanid', 'loannumber', 'approveddate',\n",
       "       'creationdate', 'loanamount', 'totaldue', 'termdays', 'good_bad_flag',\n",
       "       'loan_to_due_ratio', 'bank_account_type', 'longitude_gps',\n",
       "       'latitude_gps', 'bank_name_clients', 'employment_status_clients',\n",
       "       'level_of_education_clients', 'age'],\n",
       "      dtype='object')"
      ]
     },
     "execution_count": 89,
     "metadata": {},
     "output_type": "execute_result"
    }
   ],
   "source": [
    "df6.columns"
   ]
  },
  {
   "cell_type": "code",
   "execution_count": 90,
   "id": "3b1e4b19-6479-40a7-99b1-bec1f3795a2e",
   "metadata": {},
   "outputs": [],
   "source": [
    "X = df6.drop(columns=['customerid', 'systemloanid', 'loannumber', 'approveddate',\n",
    "       'creationdate', 'loanamount', 'bank_account_type', 'bank_name_clients', 'longitude_gps', 'latitude_gps', 'good_bad_flag'])\n",
    "y = df6['good_bad_flag']"
   ]
  },
  {
   "cell_type": "code",
   "execution_count": 91,
   "id": "d065cabb-4358-41a9-9446-93cfadbece9a",
   "metadata": {},
   "outputs": [],
   "source": [
    "from sklearn.model_selection import train_test_split"
   ]
  },
  {
   "cell_type": "code",
   "execution_count": 92,
   "id": "9fb38850-0f2b-4c9e-b219-47a430df077d",
   "metadata": {},
   "outputs": [],
   "source": [
    "# split into train and test\n",
    "X_train, X_test, y_train, y_test = train_test_split(X, y, test_size=0.2, random_state=42, stratify=y)"
   ]
  },
  {
   "cell_type": "markdown",
   "id": "82b3f14f-b7c1-4255-ad77-4c78eeeb8fa9",
   "metadata": {},
   "source": [
    "### Data Preprocessing - Pipeline Creation"
   ]
  },
  {
   "cell_type": "code",
   "execution_count": 93,
   "id": "5870d600-8f76-41f2-af0c-62a11c60b156",
   "metadata": {},
   "outputs": [],
   "source": [
    "# split into num and cat columns\n",
    "num_cols = X.select_dtypes(include=np.number).columns.tolist()\n",
    "cat_cols = X.select_dtypes(include='object').columns.tolist()"
   ]
  },
  {
   "cell_type": "code",
   "execution_count": 94,
   "id": "17316bf2-96c9-4586-ae6d-dc16198e3120",
   "metadata": {},
   "outputs": [
    {
     "data": {
      "text/plain": [
       "['totaldue', 'termdays', 'loan_to_due_ratio', 'age']"
      ]
     },
     "execution_count": 94,
     "metadata": {},
     "output_type": "execute_result"
    }
   ],
   "source": [
    "num_cols"
   ]
  },
  {
   "cell_type": "code",
   "execution_count": 95,
   "id": "a944aae9-4a89-490b-813b-d51c07097068",
   "metadata": {},
   "outputs": [
    {
     "data": {
      "text/plain": [
       "['employment_status_clients', 'level_of_education_clients']"
      ]
     },
     "execution_count": 95,
     "metadata": {},
     "output_type": "execute_result"
    }
   ],
   "source": [
    "cat_cols"
   ]
  },
  {
   "cell_type": "code",
   "execution_count": 96,
   "id": "da035e4f-f92b-457b-96da-4780af3e3307",
   "metadata": {},
   "outputs": [],
   "source": [
    "from sklearn.preprocessing import StandardScaler, OneHotEncoder \n",
    "from sklearn.compose import ColumnTransformer\n",
    "from sklearn.pipeline import Pipeline\n",
    "\n",
    "# create a pipeline for the preprocessing\n",
    "num_pipeline = Pipeline(steps=[\n",
    "    ('scaler', StandardScaler())\n",
    "])\n",
    "\n",
    "cat_pipeline = Pipeline(steps=[\n",
    "    ('encoder', OneHotEncoder(sparse_output=False, handle_unknown='ignore'))\n",
    "])"
   ]
  },
  {
   "cell_type": "code",
   "execution_count": 97,
   "id": "356900af-9195-42c3-8b03-8b0d70df1cdb",
   "metadata": {},
   "outputs": [],
   "source": [
    "# apply preprocessing\n",
    "preprocessor = ColumnTransformer(transformers=[\n",
    "    ('num', num_pipeline, num_cols),\n",
    "    ('cat', cat_pipeline, cat_cols)\n",
    "])"
   ]
  },
  {
   "cell_type": "code",
   "execution_count": 98,
   "id": "2379b99a-b9eb-42c3-9506-0902d5ab1ab4",
   "metadata": {},
   "outputs": [
    {
     "data": {
      "text/html": [
       "<style>#sk-container-id-1 {\n",
       "  /* Definition of color scheme common for light and dark mode */\n",
       "  --sklearn-color-text: black;\n",
       "  --sklearn-color-line: gray;\n",
       "  /* Definition of color scheme for unfitted estimators */\n",
       "  --sklearn-color-unfitted-level-0: #fff5e6;\n",
       "  --sklearn-color-unfitted-level-1: #f6e4d2;\n",
       "  --sklearn-color-unfitted-level-2: #ffe0b3;\n",
       "  --sklearn-color-unfitted-level-3: chocolate;\n",
       "  /* Definition of color scheme for fitted estimators */\n",
       "  --sklearn-color-fitted-level-0: #f0f8ff;\n",
       "  --sklearn-color-fitted-level-1: #d4ebff;\n",
       "  --sklearn-color-fitted-level-2: #b3dbfd;\n",
       "  --sklearn-color-fitted-level-3: cornflowerblue;\n",
       "\n",
       "  /* Specific color for light theme */\n",
       "  --sklearn-color-text-on-default-background: var(--sg-text-color, var(--theme-code-foreground, var(--jp-content-font-color1, black)));\n",
       "  --sklearn-color-background: var(--sg-background-color, var(--theme-background, var(--jp-layout-color0, white)));\n",
       "  --sklearn-color-border-box: var(--sg-text-color, var(--theme-code-foreground, var(--jp-content-font-color1, black)));\n",
       "  --sklearn-color-icon: #696969;\n",
       "\n",
       "  @media (prefers-color-scheme: dark) {\n",
       "    /* Redefinition of color scheme for dark theme */\n",
       "    --sklearn-color-text-on-default-background: var(--sg-text-color, var(--theme-code-foreground, var(--jp-content-font-color1, white)));\n",
       "    --sklearn-color-background: var(--sg-background-color, var(--theme-background, var(--jp-layout-color0, #111)));\n",
       "    --sklearn-color-border-box: var(--sg-text-color, var(--theme-code-foreground, var(--jp-content-font-color1, white)));\n",
       "    --sklearn-color-icon: #878787;\n",
       "  }\n",
       "}\n",
       "\n",
       "#sk-container-id-1 {\n",
       "  color: var(--sklearn-color-text);\n",
       "}\n",
       "\n",
       "#sk-container-id-1 pre {\n",
       "  padding: 0;\n",
       "}\n",
       "\n",
       "#sk-container-id-1 input.sk-hidden--visually {\n",
       "  border: 0;\n",
       "  clip: rect(1px 1px 1px 1px);\n",
       "  clip: rect(1px, 1px, 1px, 1px);\n",
       "  height: 1px;\n",
       "  margin: -1px;\n",
       "  overflow: hidden;\n",
       "  padding: 0;\n",
       "  position: absolute;\n",
       "  width: 1px;\n",
       "}\n",
       "\n",
       "#sk-container-id-1 div.sk-dashed-wrapped {\n",
       "  border: 1px dashed var(--sklearn-color-line);\n",
       "  margin: 0 0.4em 0.5em 0.4em;\n",
       "  box-sizing: border-box;\n",
       "  padding-bottom: 0.4em;\n",
       "  background-color: var(--sklearn-color-background);\n",
       "}\n",
       "\n",
       "#sk-container-id-1 div.sk-container {\n",
       "  /* jupyter's `normalize.less` sets `[hidden] { display: none; }`\n",
       "     but bootstrap.min.css set `[hidden] { display: none !important; }`\n",
       "     so we also need the `!important` here to be able to override the\n",
       "     default hidden behavior on the sphinx rendered scikit-learn.org.\n",
       "     See: https://github.com/scikit-learn/scikit-learn/issues/21755 */\n",
       "  display: inline-block !important;\n",
       "  position: relative;\n",
       "}\n",
       "\n",
       "#sk-container-id-1 div.sk-text-repr-fallback {\n",
       "  display: none;\n",
       "}\n",
       "\n",
       "div.sk-parallel-item,\n",
       "div.sk-serial,\n",
       "div.sk-item {\n",
       "  /* draw centered vertical line to link estimators */\n",
       "  background-image: linear-gradient(var(--sklearn-color-text-on-default-background), var(--sklearn-color-text-on-default-background));\n",
       "  background-size: 2px 100%;\n",
       "  background-repeat: no-repeat;\n",
       "  background-position: center center;\n",
       "}\n",
       "\n",
       "/* Parallel-specific style estimator block */\n",
       "\n",
       "#sk-container-id-1 div.sk-parallel-item::after {\n",
       "  content: \"\";\n",
       "  width: 100%;\n",
       "  border-bottom: 2px solid var(--sklearn-color-text-on-default-background);\n",
       "  flex-grow: 1;\n",
       "}\n",
       "\n",
       "#sk-container-id-1 div.sk-parallel {\n",
       "  display: flex;\n",
       "  align-items: stretch;\n",
       "  justify-content: center;\n",
       "  background-color: var(--sklearn-color-background);\n",
       "  position: relative;\n",
       "}\n",
       "\n",
       "#sk-container-id-1 div.sk-parallel-item {\n",
       "  display: flex;\n",
       "  flex-direction: column;\n",
       "}\n",
       "\n",
       "#sk-container-id-1 div.sk-parallel-item:first-child::after {\n",
       "  align-self: flex-end;\n",
       "  width: 50%;\n",
       "}\n",
       "\n",
       "#sk-container-id-1 div.sk-parallel-item:last-child::after {\n",
       "  align-self: flex-start;\n",
       "  width: 50%;\n",
       "}\n",
       "\n",
       "#sk-container-id-1 div.sk-parallel-item:only-child::after {\n",
       "  width: 0;\n",
       "}\n",
       "\n",
       "/* Serial-specific style estimator block */\n",
       "\n",
       "#sk-container-id-1 div.sk-serial {\n",
       "  display: flex;\n",
       "  flex-direction: column;\n",
       "  align-items: center;\n",
       "  background-color: var(--sklearn-color-background);\n",
       "  padding-right: 1em;\n",
       "  padding-left: 1em;\n",
       "}\n",
       "\n",
       "\n",
       "/* Toggleable style: style used for estimator/Pipeline/ColumnTransformer box that is\n",
       "clickable and can be expanded/collapsed.\n",
       "- Pipeline and ColumnTransformer use this feature and define the default style\n",
       "- Estimators will overwrite some part of the style using the `sk-estimator` class\n",
       "*/\n",
       "\n",
       "/* Pipeline and ColumnTransformer style (default) */\n",
       "\n",
       "#sk-container-id-1 div.sk-toggleable {\n",
       "  /* Default theme specific background. It is overwritten whether we have a\n",
       "  specific estimator or a Pipeline/ColumnTransformer */\n",
       "  background-color: var(--sklearn-color-background);\n",
       "}\n",
       "\n",
       "/* Toggleable label */\n",
       "#sk-container-id-1 label.sk-toggleable__label {\n",
       "  cursor: pointer;\n",
       "  display: block;\n",
       "  width: 100%;\n",
       "  margin-bottom: 0;\n",
       "  padding: 0.5em;\n",
       "  box-sizing: border-box;\n",
       "  text-align: center;\n",
       "}\n",
       "\n",
       "#sk-container-id-1 label.sk-toggleable__label-arrow:before {\n",
       "  /* Arrow on the left of the label */\n",
       "  content: \"▸\";\n",
       "  float: left;\n",
       "  margin-right: 0.25em;\n",
       "  color: var(--sklearn-color-icon);\n",
       "}\n",
       "\n",
       "#sk-container-id-1 label.sk-toggleable__label-arrow:hover:before {\n",
       "  color: var(--sklearn-color-text);\n",
       "}\n",
       "\n",
       "/* Toggleable content - dropdown */\n",
       "\n",
       "#sk-container-id-1 div.sk-toggleable__content {\n",
       "  max-height: 0;\n",
       "  max-width: 0;\n",
       "  overflow: hidden;\n",
       "  text-align: left;\n",
       "  /* unfitted */\n",
       "  background-color: var(--sklearn-color-unfitted-level-0);\n",
       "}\n",
       "\n",
       "#sk-container-id-1 div.sk-toggleable__content.fitted {\n",
       "  /* fitted */\n",
       "  background-color: var(--sklearn-color-fitted-level-0);\n",
       "}\n",
       "\n",
       "#sk-container-id-1 div.sk-toggleable__content pre {\n",
       "  margin: 0.2em;\n",
       "  border-radius: 0.25em;\n",
       "  color: var(--sklearn-color-text);\n",
       "  /* unfitted */\n",
       "  background-color: var(--sklearn-color-unfitted-level-0);\n",
       "}\n",
       "\n",
       "#sk-container-id-1 div.sk-toggleable__content.fitted pre {\n",
       "  /* unfitted */\n",
       "  background-color: var(--sklearn-color-fitted-level-0);\n",
       "}\n",
       "\n",
       "#sk-container-id-1 input.sk-toggleable__control:checked~div.sk-toggleable__content {\n",
       "  /* Expand drop-down */\n",
       "  max-height: 200px;\n",
       "  max-width: 100%;\n",
       "  overflow: auto;\n",
       "}\n",
       "\n",
       "#sk-container-id-1 input.sk-toggleable__control:checked~label.sk-toggleable__label-arrow:before {\n",
       "  content: \"▾\";\n",
       "}\n",
       "\n",
       "/* Pipeline/ColumnTransformer-specific style */\n",
       "\n",
       "#sk-container-id-1 div.sk-label input.sk-toggleable__control:checked~label.sk-toggleable__label {\n",
       "  color: var(--sklearn-color-text);\n",
       "  background-color: var(--sklearn-color-unfitted-level-2);\n",
       "}\n",
       "\n",
       "#sk-container-id-1 div.sk-label.fitted input.sk-toggleable__control:checked~label.sk-toggleable__label {\n",
       "  background-color: var(--sklearn-color-fitted-level-2);\n",
       "}\n",
       "\n",
       "/* Estimator-specific style */\n",
       "\n",
       "/* Colorize estimator box */\n",
       "#sk-container-id-1 div.sk-estimator input.sk-toggleable__control:checked~label.sk-toggleable__label {\n",
       "  /* unfitted */\n",
       "  background-color: var(--sklearn-color-unfitted-level-2);\n",
       "}\n",
       "\n",
       "#sk-container-id-1 div.sk-estimator.fitted input.sk-toggleable__control:checked~label.sk-toggleable__label {\n",
       "  /* fitted */\n",
       "  background-color: var(--sklearn-color-fitted-level-2);\n",
       "}\n",
       "\n",
       "#sk-container-id-1 div.sk-label label.sk-toggleable__label,\n",
       "#sk-container-id-1 div.sk-label label {\n",
       "  /* The background is the default theme color */\n",
       "  color: var(--sklearn-color-text-on-default-background);\n",
       "}\n",
       "\n",
       "/* On hover, darken the color of the background */\n",
       "#sk-container-id-1 div.sk-label:hover label.sk-toggleable__label {\n",
       "  color: var(--sklearn-color-text);\n",
       "  background-color: var(--sklearn-color-unfitted-level-2);\n",
       "}\n",
       "\n",
       "/* Label box, darken color on hover, fitted */\n",
       "#sk-container-id-1 div.sk-label.fitted:hover label.sk-toggleable__label.fitted {\n",
       "  color: var(--sklearn-color-text);\n",
       "  background-color: var(--sklearn-color-fitted-level-2);\n",
       "}\n",
       "\n",
       "/* Estimator label */\n",
       "\n",
       "#sk-container-id-1 div.sk-label label {\n",
       "  font-family: monospace;\n",
       "  font-weight: bold;\n",
       "  display: inline-block;\n",
       "  line-height: 1.2em;\n",
       "}\n",
       "\n",
       "#sk-container-id-1 div.sk-label-container {\n",
       "  text-align: center;\n",
       "}\n",
       "\n",
       "/* Estimator-specific */\n",
       "#sk-container-id-1 div.sk-estimator {\n",
       "  font-family: monospace;\n",
       "  border: 1px dotted var(--sklearn-color-border-box);\n",
       "  border-radius: 0.25em;\n",
       "  box-sizing: border-box;\n",
       "  margin-bottom: 0.5em;\n",
       "  /* unfitted */\n",
       "  background-color: var(--sklearn-color-unfitted-level-0);\n",
       "}\n",
       "\n",
       "#sk-container-id-1 div.sk-estimator.fitted {\n",
       "  /* fitted */\n",
       "  background-color: var(--sklearn-color-fitted-level-0);\n",
       "}\n",
       "\n",
       "/* on hover */\n",
       "#sk-container-id-1 div.sk-estimator:hover {\n",
       "  /* unfitted */\n",
       "  background-color: var(--sklearn-color-unfitted-level-2);\n",
       "}\n",
       "\n",
       "#sk-container-id-1 div.sk-estimator.fitted:hover {\n",
       "  /* fitted */\n",
       "  background-color: var(--sklearn-color-fitted-level-2);\n",
       "}\n",
       "\n",
       "/* Specification for estimator info (e.g. \"i\" and \"?\") */\n",
       "\n",
       "/* Common style for \"i\" and \"?\" */\n",
       "\n",
       ".sk-estimator-doc-link,\n",
       "a:link.sk-estimator-doc-link,\n",
       "a:visited.sk-estimator-doc-link {\n",
       "  float: right;\n",
       "  font-size: smaller;\n",
       "  line-height: 1em;\n",
       "  font-family: monospace;\n",
       "  background-color: var(--sklearn-color-background);\n",
       "  border-radius: 1em;\n",
       "  height: 1em;\n",
       "  width: 1em;\n",
       "  text-decoration: none !important;\n",
       "  margin-left: 1ex;\n",
       "  /* unfitted */\n",
       "  border: var(--sklearn-color-unfitted-level-1) 1pt solid;\n",
       "  color: var(--sklearn-color-unfitted-level-1);\n",
       "}\n",
       "\n",
       ".sk-estimator-doc-link.fitted,\n",
       "a:link.sk-estimator-doc-link.fitted,\n",
       "a:visited.sk-estimator-doc-link.fitted {\n",
       "  /* fitted */\n",
       "  border: var(--sklearn-color-fitted-level-1) 1pt solid;\n",
       "  color: var(--sklearn-color-fitted-level-1);\n",
       "}\n",
       "\n",
       "/* On hover */\n",
       "div.sk-estimator:hover .sk-estimator-doc-link:hover,\n",
       ".sk-estimator-doc-link:hover,\n",
       "div.sk-label-container:hover .sk-estimator-doc-link:hover,\n",
       ".sk-estimator-doc-link:hover {\n",
       "  /* unfitted */\n",
       "  background-color: var(--sklearn-color-unfitted-level-3);\n",
       "  color: var(--sklearn-color-background);\n",
       "  text-decoration: none;\n",
       "}\n",
       "\n",
       "div.sk-estimator.fitted:hover .sk-estimator-doc-link.fitted:hover,\n",
       ".sk-estimator-doc-link.fitted:hover,\n",
       "div.sk-label-container:hover .sk-estimator-doc-link.fitted:hover,\n",
       ".sk-estimator-doc-link.fitted:hover {\n",
       "  /* fitted */\n",
       "  background-color: var(--sklearn-color-fitted-level-3);\n",
       "  color: var(--sklearn-color-background);\n",
       "  text-decoration: none;\n",
       "}\n",
       "\n",
       "/* Span, style for the box shown on hovering the info icon */\n",
       ".sk-estimator-doc-link span {\n",
       "  display: none;\n",
       "  z-index: 9999;\n",
       "  position: relative;\n",
       "  font-weight: normal;\n",
       "  right: .2ex;\n",
       "  padding: .5ex;\n",
       "  margin: .5ex;\n",
       "  width: min-content;\n",
       "  min-width: 20ex;\n",
       "  max-width: 50ex;\n",
       "  color: var(--sklearn-color-text);\n",
       "  box-shadow: 2pt 2pt 4pt #999;\n",
       "  /* unfitted */\n",
       "  background: var(--sklearn-color-unfitted-level-0);\n",
       "  border: .5pt solid var(--sklearn-color-unfitted-level-3);\n",
       "}\n",
       "\n",
       ".sk-estimator-doc-link.fitted span {\n",
       "  /* fitted */\n",
       "  background: var(--sklearn-color-fitted-level-0);\n",
       "  border: var(--sklearn-color-fitted-level-3);\n",
       "}\n",
       "\n",
       ".sk-estimator-doc-link:hover span {\n",
       "  display: block;\n",
       "}\n",
       "\n",
       "/* \"?\"-specific style due to the `<a>` HTML tag */\n",
       "\n",
       "#sk-container-id-1 a.estimator_doc_link {\n",
       "  float: right;\n",
       "  font-size: 1rem;\n",
       "  line-height: 1em;\n",
       "  font-family: monospace;\n",
       "  background-color: var(--sklearn-color-background);\n",
       "  border-radius: 1rem;\n",
       "  height: 1rem;\n",
       "  width: 1rem;\n",
       "  text-decoration: none;\n",
       "  /* unfitted */\n",
       "  color: var(--sklearn-color-unfitted-level-1);\n",
       "  border: var(--sklearn-color-unfitted-level-1) 1pt solid;\n",
       "}\n",
       "\n",
       "#sk-container-id-1 a.estimator_doc_link.fitted {\n",
       "  /* fitted */\n",
       "  border: var(--sklearn-color-fitted-level-1) 1pt solid;\n",
       "  color: var(--sklearn-color-fitted-level-1);\n",
       "}\n",
       "\n",
       "/* On hover */\n",
       "#sk-container-id-1 a.estimator_doc_link:hover {\n",
       "  /* unfitted */\n",
       "  background-color: var(--sklearn-color-unfitted-level-3);\n",
       "  color: var(--sklearn-color-background);\n",
       "  text-decoration: none;\n",
       "}\n",
       "\n",
       "#sk-container-id-1 a.estimator_doc_link.fitted:hover {\n",
       "  /* fitted */\n",
       "  background-color: var(--sklearn-color-fitted-level-3);\n",
       "}\n",
       "</style><div id=\"sk-container-id-1\" class=\"sk-top-container\"><div class=\"sk-text-repr-fallback\"><pre>ColumnTransformer(transformers=[(&#x27;num&#x27;,\n",
       "                                 Pipeline(steps=[(&#x27;scaler&#x27;, StandardScaler())]),\n",
       "                                 [&#x27;totaldue&#x27;, &#x27;termdays&#x27;, &#x27;loan_to_due_ratio&#x27;,\n",
       "                                  &#x27;age&#x27;]),\n",
       "                                (&#x27;cat&#x27;,\n",
       "                                 Pipeline(steps=[(&#x27;encoder&#x27;,\n",
       "                                                  OneHotEncoder(handle_unknown=&#x27;ignore&#x27;,\n",
       "                                                                sparse_output=False))]),\n",
       "                                 [&#x27;employment_status_clients&#x27;,\n",
       "                                  &#x27;level_of_education_clients&#x27;])])</pre><b>In a Jupyter environment, please rerun this cell to show the HTML representation or trust the notebook. <br />On GitHub, the HTML representation is unable to render, please try loading this page with nbviewer.org.</b></div><div class=\"sk-container\" hidden><div class=\"sk-item sk-dashed-wrapped\"><div class=\"sk-label-container\"><div class=\"sk-label  sk-toggleable\"><input class=\"sk-toggleable__control sk-hidden--visually\" id=\"sk-estimator-id-1\" type=\"checkbox\" ><label for=\"sk-estimator-id-1\" class=\"sk-toggleable__label  sk-toggleable__label-arrow \">&nbsp;&nbsp;ColumnTransformer<a class=\"sk-estimator-doc-link \" rel=\"noreferrer\" target=\"_blank\" href=\"https://scikit-learn.org/1.5/modules/generated/sklearn.compose.ColumnTransformer.html\">?<span>Documentation for ColumnTransformer</span></a><span class=\"sk-estimator-doc-link \">i<span>Not fitted</span></span></label><div class=\"sk-toggleable__content \"><pre>ColumnTransformer(transformers=[(&#x27;num&#x27;,\n",
       "                                 Pipeline(steps=[(&#x27;scaler&#x27;, StandardScaler())]),\n",
       "                                 [&#x27;totaldue&#x27;, &#x27;termdays&#x27;, &#x27;loan_to_due_ratio&#x27;,\n",
       "                                  &#x27;age&#x27;]),\n",
       "                                (&#x27;cat&#x27;,\n",
       "                                 Pipeline(steps=[(&#x27;encoder&#x27;,\n",
       "                                                  OneHotEncoder(handle_unknown=&#x27;ignore&#x27;,\n",
       "                                                                sparse_output=False))]),\n",
       "                                 [&#x27;employment_status_clients&#x27;,\n",
       "                                  &#x27;level_of_education_clients&#x27;])])</pre></div> </div></div><div class=\"sk-parallel\"><div class=\"sk-parallel-item\"><div class=\"sk-item\"><div class=\"sk-label-container\"><div class=\"sk-label  sk-toggleable\"><input class=\"sk-toggleable__control sk-hidden--visually\" id=\"sk-estimator-id-2\" type=\"checkbox\" ><label for=\"sk-estimator-id-2\" class=\"sk-toggleable__label  sk-toggleable__label-arrow \">num</label><div class=\"sk-toggleable__content \"><pre>[&#x27;totaldue&#x27;, &#x27;termdays&#x27;, &#x27;loan_to_due_ratio&#x27;, &#x27;age&#x27;]</pre></div> </div></div><div class=\"sk-serial\"><div class=\"sk-item\"><div class=\"sk-serial\"><div class=\"sk-item\"><div class=\"sk-estimator  sk-toggleable\"><input class=\"sk-toggleable__control sk-hidden--visually\" id=\"sk-estimator-id-3\" type=\"checkbox\" ><label for=\"sk-estimator-id-3\" class=\"sk-toggleable__label  sk-toggleable__label-arrow \">&nbsp;StandardScaler<a class=\"sk-estimator-doc-link \" rel=\"noreferrer\" target=\"_blank\" href=\"https://scikit-learn.org/1.5/modules/generated/sklearn.preprocessing.StandardScaler.html\">?<span>Documentation for StandardScaler</span></a></label><div class=\"sk-toggleable__content \"><pre>StandardScaler()</pre></div> </div></div></div></div></div></div></div><div class=\"sk-parallel-item\"><div class=\"sk-item\"><div class=\"sk-label-container\"><div class=\"sk-label  sk-toggleable\"><input class=\"sk-toggleable__control sk-hidden--visually\" id=\"sk-estimator-id-4\" type=\"checkbox\" ><label for=\"sk-estimator-id-4\" class=\"sk-toggleable__label  sk-toggleable__label-arrow \">cat</label><div class=\"sk-toggleable__content \"><pre>[&#x27;employment_status_clients&#x27;, &#x27;level_of_education_clients&#x27;]</pre></div> </div></div><div class=\"sk-serial\"><div class=\"sk-item\"><div class=\"sk-serial\"><div class=\"sk-item\"><div class=\"sk-estimator  sk-toggleable\"><input class=\"sk-toggleable__control sk-hidden--visually\" id=\"sk-estimator-id-5\" type=\"checkbox\" ><label for=\"sk-estimator-id-5\" class=\"sk-toggleable__label  sk-toggleable__label-arrow \">&nbsp;OneHotEncoder<a class=\"sk-estimator-doc-link \" rel=\"noreferrer\" target=\"_blank\" href=\"https://scikit-learn.org/1.5/modules/generated/sklearn.preprocessing.OneHotEncoder.html\">?<span>Documentation for OneHotEncoder</span></a></label><div class=\"sk-toggleable__content \"><pre>OneHotEncoder(handle_unknown=&#x27;ignore&#x27;, sparse_output=False)</pre></div> </div></div></div></div></div></div></div></div></div></div></div>"
      ],
      "text/plain": [
       "ColumnTransformer(transformers=[('num',\n",
       "                                 Pipeline(steps=[('scaler', StandardScaler())]),\n",
       "                                 ['totaldue', 'termdays', 'loan_to_due_ratio',\n",
       "                                  'age']),\n",
       "                                ('cat',\n",
       "                                 Pipeline(steps=[('encoder',\n",
       "                                                  OneHotEncoder(handle_unknown='ignore',\n",
       "                                                                sparse_output=False))]),\n",
       "                                 ['employment_status_clients',\n",
       "                                  'level_of_education_clients'])])"
      ]
     },
     "execution_count": 98,
     "metadata": {},
     "output_type": "execute_result"
    }
   ],
   "source": [
    "preprocessor"
   ]
  },
  {
   "cell_type": "code",
   "execution_count": 99,
   "id": "d1910134-32c0-4888-9904-a1322973829b",
   "metadata": {},
   "outputs": [
    {
     "name": "stdout",
     "output_type": "stream",
     "text": [
      "Requirement already satisfied: lightgbm in c:\\users\\admin\\anaconda3\\lib\\site-packages (4.6.0)Note: you may need to restart the kernel to use updated packages.\n",
      "\n",
      "Requirement already satisfied: catboost in c:\\users\\admin\\anaconda3\\lib\\site-packages (1.2.8)\n",
      "Requirement already satisfied: numpy>=1.17.0 in c:\\users\\admin\\anaconda3\\lib\\site-packages (from lightgbm) (1.26.4)\n",
      "Requirement already satisfied: scipy in c:\\users\\admin\\anaconda3\\lib\\site-packages (from lightgbm) (1.13.1)\n",
      "Requirement already satisfied: graphviz in c:\\users\\admin\\anaconda3\\lib\\site-packages (from catboost) (0.21)\n",
      "Requirement already satisfied: matplotlib in c:\\users\\admin\\anaconda3\\lib\\site-packages (from catboost) (3.9.2)\n",
      "Requirement already satisfied: pandas>=0.24 in c:\\users\\admin\\anaconda3\\lib\\site-packages (from catboost) (2.2.2)\n",
      "Requirement already satisfied: plotly in c:\\users\\admin\\anaconda3\\lib\\site-packages (from catboost) (5.24.1)\n",
      "Requirement already satisfied: six in c:\\users\\admin\\anaconda3\\lib\\site-packages (from catboost) (1.16.0)\n",
      "Requirement already satisfied: python-dateutil>=2.8.2 in c:\\users\\admin\\anaconda3\\lib\\site-packages (from pandas>=0.24->catboost) (2.9.0.post0)\n",
      "Requirement already satisfied: pytz>=2020.1 in c:\\users\\admin\\anaconda3\\lib\\site-packages (from pandas>=0.24->catboost) (2024.1)\n",
      "Requirement already satisfied: tzdata>=2022.7 in c:\\users\\admin\\anaconda3\\lib\\site-packages (from pandas>=0.24->catboost) (2023.3)\n",
      "Requirement already satisfied: contourpy>=1.0.1 in c:\\users\\admin\\anaconda3\\lib\\site-packages (from matplotlib->catboost) (1.2.0)\n",
      "Requirement already satisfied: cycler>=0.10 in c:\\users\\admin\\anaconda3\\lib\\site-packages (from matplotlib->catboost) (0.11.0)\n",
      "Requirement already satisfied: fonttools>=4.22.0 in c:\\users\\admin\\anaconda3\\lib\\site-packages (from matplotlib->catboost) (4.51.0)\n",
      "Requirement already satisfied: kiwisolver>=1.3.1 in c:\\users\\admin\\anaconda3\\lib\\site-packages (from matplotlib->catboost) (1.4.4)\n",
      "Requirement already satisfied: packaging>=20.0 in c:\\users\\admin\\anaconda3\\lib\\site-packages (from matplotlib->catboost) (24.1)\n",
      "Requirement already satisfied: pillow>=8 in c:\\users\\admin\\anaconda3\\lib\\site-packages (from matplotlib->catboost) (10.4.0)\n",
      "Requirement already satisfied: pyparsing>=2.3.1 in c:\\users\\admin\\anaconda3\\lib\\site-packages (from matplotlib->catboost) (3.1.2)\n",
      "Requirement already satisfied: tenacity>=6.2.0 in c:\\users\\admin\\anaconda3\\lib\\site-packages (from plotly->catboost) (8.2.3)\n"
     ]
    }
   ],
   "source": [
    "pip install lightgbm catboost"
   ]
  },
  {
   "cell_type": "code",
   "execution_count": 100,
   "id": "14ce9b91-940d-474e-a8f7-e48c95fd023a",
   "metadata": {},
   "outputs": [],
   "source": [
    "# use several models\n",
    "from sklearn.linear_model import LogisticRegression\n",
    "from sklearn.tree import DecisionTreeClassifier\n",
    "from sklearn.ensemble import RandomForestClassifier, GradientBoostingClassifier, HistGradientBoostingClassifier, AdaBoostClassifier\n",
    "from lightgbm import LGBMClassifier\n",
    "from catboost import CatBoostClassifier\n",
    "\n",
    "# import the metrics\n",
    "from sklearn.metrics import accuracy_score, confusion_matrix, f1_score, precision_score, recall_score, classification_report, ConfusionMatrixDisplay"
   ]
  },
  {
   "cell_type": "code",
   "execution_count": 101,
   "id": "9ad77e2c-02fe-4b4f-8248-f25a0c534488",
   "metadata": {},
   "outputs": [],
   "source": [
    "#define the models\n",
    "\n",
    "models = {\n",
    "    \"Logistic Regression\": LogisticRegression(random_state=42),\n",
    "    \"Decision Tree\": DecisionTreeClassifier(random_state=42),\n",
    "    \"Random Forest\": RandomForestClassifier(random_state=42),\n",
    "    \"Gradient Boost\": GradientBoostingClassifier(random_state=42),\n",
    "    \"Hist Gradient Boost\": HistGradientBoostingClassifier(random_state=42),\n",
    "    \"Ada Boost\": AdaBoostClassifier(random_state=42),\n",
    "    \"Light GBM\": LGBMClassifier(verbose=0, random_state=42),\n",
    "    \"Cat Boost\": CatBoostClassifier(verbose=0, random_state=42)\n",
    "}"
   ]
  },
  {
   "cell_type": "code",
   "execution_count": 102,
   "id": "1002c639-991d-4045-bdbd-67b007962657",
   "metadata": {},
   "outputs": [
    {
     "data": {
      "image/png": "[encoded data removed]",
      "text/plain": [
       "<Figure size 1800x500 with 16 Axes>"
      ]
     },
     "metadata": {},
     "output_type": "display_data"
    }
   ],
   "source": [
    "# using a for loop to fit and evaluate the six models\n",
    "results = {}\n",
    "\n",
    "fig, axes = plt.subplots(1, 8, figsize=(18, 5))\n",
    "\n",
    "for i, (name, model) in enumerate(models.items()):\n",
    "    pipeline=Pipeline(steps=[\n",
    "        ('preprocessor', preprocessor),\n",
    "        ('model', model)\n",
    "    ])\n",
    "    \n",
    "    # train models\n",
    "    pipeline.fit(X_train, y_train)\n",
    "    \n",
    "    # predict the training and test scores\n",
    "    train_pred = pipeline.predict(X_train)\n",
    "    test_pred = pipeline.predict(X_test)\n",
    "    \n",
    "    # evaluate model predictions\n",
    "    train_score = accuracy_score(y_train, train_pred)\n",
    "    test_score = accuracy_score(y_test, test_pred)\n",
    "    precision = precision_score(y_test, test_pred, average='binary', pos_label='Good')\n",
    "    recall = recall_score(y_test, test_pred, average='binary', pos_label='Good')\n",
    "                         \n",
    "    # store results\n",
    "    results[name] = {\n",
    "        \"Training Accuracy\": train_score,\n",
    "        \"Test Accuracy\": test_score,\n",
    "        \"Precision Score\": precision,\n",
    "        \"Recall Score\": recall\n",
    "    }\n",
    "     \n",
    "    # plot confusion matrix\n",
    "    cm = confusion_matrix(y_test, test_pred)\n",
    "    disp = ConfusionMatrixDisplay(cm)\n",
    "    disp.plot(ax=axes[i], cmap='Reds')\n",
    "    axes[i].set_title(name)\n",
    "\n",
    "plt.tight_layout()\n",
    "plt.show()"
   ]
  },
  {
   "cell_type": "code",
   "execution_count": 103,
   "id": "fe1e2056-8dc0-4ddc-91de-cf3277832cb9",
   "metadata": {},
   "outputs": [
    {
     "data": {
      "text/markdown": [
       "**Metrics**"
      ],
      "text/plain": [
       "<IPython.core.display.Markdown object>"
      ]
     },
     "metadata": {},
     "output_type": "display_data"
    },
    {
     "data": {
      "text/html": [
       "<div>\n",
       "<style scoped>\n",
       "    .dataframe tbody tr th:only-of-type {\n",
       "        vertical-align: middle;\n",
       "    }\n",
       "\n",
       "    .dataframe tbody tr th {\n",
       "        vertical-align: top;\n",
       "    }\n",
       "\n",
       "    .dataframe thead th {\n",
       "        text-align: right;\n",
       "    }\n",
       "</style>\n",
       "<table border=\"1\" class=\"dataframe\">\n",
       "  <thead>\n",
       "    <tr style=\"text-align: right;\">\n",
       "      <th></th>\n",
       "      <th>Training Accuracy</th>\n",
       "      <th>Test Accuracy</th>\n",
       "      <th>Precision Score</th>\n",
       "      <th>Recall Score</th>\n",
       "    </tr>\n",
       "  </thead>\n",
       "  <tbody>\n",
       "    <tr>\n",
       "      <th>Logistic Regression</th>\n",
       "      <td>0.78</td>\n",
       "      <td>0.78</td>\n",
       "      <td>0.78</td>\n",
       "      <td>1.00</td>\n",
       "    </tr>\n",
       "    <tr>\n",
       "      <th>Decision Tree</th>\n",
       "      <td>0.81</td>\n",
       "      <td>0.74</td>\n",
       "      <td>0.78</td>\n",
       "      <td>0.93</td>\n",
       "    </tr>\n",
       "    <tr>\n",
       "      <th>Random Forest</th>\n",
       "      <td>0.81</td>\n",
       "      <td>0.75</td>\n",
       "      <td>0.78</td>\n",
       "      <td>0.95</td>\n",
       "    </tr>\n",
       "    <tr>\n",
       "      <th>Gradient Boost</th>\n",
       "      <td>0.79</td>\n",
       "      <td>0.78</td>\n",
       "      <td>0.78</td>\n",
       "      <td>1.00</td>\n",
       "    </tr>\n",
       "    <tr>\n",
       "      <th>Hist Gradient Boost</th>\n",
       "      <td>0.79</td>\n",
       "      <td>0.77</td>\n",
       "      <td>0.78</td>\n",
       "      <td>0.98</td>\n",
       "    </tr>\n",
       "    <tr>\n",
       "      <th>Ada Boost</th>\n",
       "      <td>0.78</td>\n",
       "      <td>0.78</td>\n",
       "      <td>0.78</td>\n",
       "      <td>1.00</td>\n",
       "    </tr>\n",
       "    <tr>\n",
       "      <th>Light GBM</th>\n",
       "      <td>0.79</td>\n",
       "      <td>0.77</td>\n",
       "      <td>0.78</td>\n",
       "      <td>0.98</td>\n",
       "    </tr>\n",
       "    <tr>\n",
       "      <th>Cat Boost</th>\n",
       "      <td>0.79</td>\n",
       "      <td>0.78</td>\n",
       "      <td>0.78</td>\n",
       "      <td>0.99</td>\n",
       "    </tr>\n",
       "  </tbody>\n",
       "</table>\n",
       "</div>"
      ],
      "text/plain": [
       "                     Training Accuracy  Test Accuracy  Precision Score  \\\n",
       "Logistic Regression               0.78           0.78             0.78   \n",
       "Decision Tree                     0.81           0.74             0.78   \n",
       "Random Forest                     0.81           0.75             0.78   \n",
       "Gradient Boost                    0.79           0.78             0.78   \n",
       "Hist Gradient Boost               0.79           0.77             0.78   \n",
       "Ada Boost                         0.78           0.78             0.78   \n",
       "Light GBM                         0.79           0.77             0.78   \n",
       "Cat Boost                         0.79           0.78             0.78   \n",
       "\n",
       "                     Recall Score  \n",
       "Logistic Regression          1.00  \n",
       "Decision Tree                0.93  \n",
       "Random Forest                0.95  \n",
       "Gradient Boost               1.00  \n",
       "Hist Gradient Boost          0.98  \n",
       "Ada Boost                    1.00  \n",
       "Light GBM                    0.98  \n",
       "Cat Boost                    0.99  "
      ]
     },
     "execution_count": 103,
     "metadata": {},
     "output_type": "execute_result"
    }
   ],
   "source": [
    "# print metrics\n",
    "from IPython.display import display, Markdown\n",
    "\n",
    "display(Markdown('**Metrics**'))\n",
    "metrics_df = pd.DataFrame(results)\n",
    "metrics_df.T.round(2)"
   ]
  },
  {
   "cell_type": "markdown",
   "id": "e821a309-9080-47c0-892e-aeb791a3ad52",
   "metadata": {},
   "source": [
    "### Observation\n",
    "#### The top 3 models based on their test accuracy, precision, and recall are as follows:\n",
    "+ Ada Boost - balanced, does not overfit\n",
    "+ Gradient Boost - very strong, slight overfitting\n",
    "+ Cat Boost - Performs nearly identical to Gradient Boost; slightly lower recall\n",
    "\n",
    "#### Poorly trained models:\n",
    "+ Decision Tree: overfits\n",
    "+ Random Forest: Similar to Decision Tree but with slightly higher recall\n",
    "\n",
    "#### In between:\n",
    "+ Logistic Regression - excellent recall, balanced precision and accuracy but limited in complexity as it may not capture non-linear relationships as well as ensemble models\n",
    "+ Light GBM / Hist GBM: Solid but slightly behind the top 3"
   ]
  },
  {
   "cell_type": "code",
   "execution_count": 119,
   "id": "7630a2c8-f96f-4253-a5a3-216e29fd3b05",
   "metadata": {},
   "outputs": [
    {
     "data": {
      "text/html": [
       "<style>#sk-container-id-4 {\n",
       "  /* Definition of color scheme common for light and dark mode */\n",
       "  --sklearn-color-text: black;\n",
       "  --sklearn-color-line: gray;\n",
       "  /* Definition of color scheme for unfitted estimators */\n",
       "  --sklearn-color-unfitted-level-0: #fff5e6;\n",
       "  --sklearn-color-unfitted-level-1: #f6e4d2;\n",
       "  --sklearn-color-unfitted-level-2: #ffe0b3;\n",
       "  --sklearn-color-unfitted-level-3: chocolate;\n",
       "  /* Definition of color scheme for fitted estimators */\n",
       "  --sklearn-color-fitted-level-0: #f0f8ff;\n",
       "  --sklearn-color-fitted-level-1: #d4ebff;\n",
       "  --sklearn-color-fitted-level-2: #b3dbfd;\n",
       "  --sklearn-color-fitted-level-3: cornflowerblue;\n",
       "\n",
       "  /* Specific color for light theme */\n",
       "  --sklearn-color-text-on-default-background: var(--sg-text-color, var(--theme-code-foreground, var(--jp-content-font-color1, black)));\n",
       "  --sklearn-color-background: var(--sg-background-color, var(--theme-background, var(--jp-layout-color0, white)));\n",
       "  --sklearn-color-border-box: var(--sg-text-color, var(--theme-code-foreground, var(--jp-content-font-color1, black)));\n",
       "  --sklearn-color-icon: #696969;\n",
       "\n",
       "  @media (prefers-color-scheme: dark) {\n",
       "    /* Redefinition of color scheme for dark theme */\n",
       "    --sklearn-color-text-on-default-background: var(--sg-text-color, var(--theme-code-foreground, var(--jp-content-font-color1, white)));\n",
       "    --sklearn-color-background: var(--sg-background-color, var(--theme-background, var(--jp-layout-color0, #111)));\n",
       "    --sklearn-color-border-box: var(--sg-text-color, var(--theme-code-foreground, var(--jp-content-font-color1, white)));\n",
       "    --sklearn-color-icon: #878787;\n",
       "  }\n",
       "}\n",
       "\n",
       "#sk-container-id-4 {\n",
       "  color: var(--sklearn-color-text);\n",
       "}\n",
       "\n",
       "#sk-container-id-4 pre {\n",
       "  padding: 0;\n",
       "}\n",
       "\n",
       "#sk-container-id-4 input.sk-hidden--visually {\n",
       "  border: 0;\n",
       "  clip: rect(1px 1px 1px 1px);\n",
       "  clip: rect(1px, 1px, 1px, 1px);\n",
       "  height: 1px;\n",
       "  margin: -1px;\n",
       "  overflow: hidden;\n",
       "  padding: 0;\n",
       "  position: absolute;\n",
       "  width: 1px;\n",
       "}\n",
       "\n",
       "#sk-container-id-4 div.sk-dashed-wrapped {\n",
       "  border: 1px dashed var(--sklearn-color-line);\n",
       "  margin: 0 0.4em 0.5em 0.4em;\n",
       "  box-sizing: border-box;\n",
       "  padding-bottom: 0.4em;\n",
       "  background-color: var(--sklearn-color-background);\n",
       "}\n",
       "\n",
       "#sk-container-id-4 div.sk-container {\n",
       "  /* jupyter's `normalize.less` sets `[hidden] { display: none; }`\n",
       "     but bootstrap.min.css set `[hidden] { display: none !important; }`\n",
       "     so we also need the `!important` here to be able to override the\n",
       "     default hidden behavior on the sphinx rendered scikit-learn.org.\n",
       "     See: https://github.com/scikit-learn/scikit-learn/issues/21755 */\n",
       "  display: inline-block !important;\n",
       "  position: relative;\n",
       "}\n",
       "\n",
       "#sk-container-id-4 div.sk-text-repr-fallback {\n",
       "  display: none;\n",
       "}\n",
       "\n",
       "div.sk-parallel-item,\n",
       "div.sk-serial,\n",
       "div.sk-item {\n",
       "  /* draw centered vertical line to link estimators */\n",
       "  background-image: linear-gradient(var(--sklearn-color-text-on-default-background), var(--sklearn-color-text-on-default-background));\n",
       "  background-size: 2px 100%;\n",
       "  background-repeat: no-repeat;\n",
       "  background-position: center center;\n",
       "}\n",
       "\n",
       "/* Parallel-specific style estimator block */\n",
       "\n",
       "#sk-container-id-4 div.sk-parallel-item::after {\n",
       "  content: \"\";\n",
       "  width: 100%;\n",
       "  border-bottom: 2px solid var(--sklearn-color-text-on-default-background);\n",
       "  flex-grow: 1;\n",
       "}\n",
       "\n",
       "#sk-container-id-4 div.sk-parallel {\n",
       "  display: flex;\n",
       "  align-items: stretch;\n",
       "  justify-content: center;\n",
       "  background-color: var(--sklearn-color-background);\n",
       "  position: relative;\n",
       "}\n",
       "\n",
       "#sk-container-id-4 div.sk-parallel-item {\n",
       "  display: flex;\n",
       "  flex-direction: column;\n",
       "}\n",
       "\n",
       "#sk-container-id-4 div.sk-parallel-item:first-child::after {\n",
       "  align-self: flex-end;\n",
       "  width: 50%;\n",
       "}\n",
       "\n",
       "#sk-container-id-4 div.sk-parallel-item:last-child::after {\n",
       "  align-self: flex-start;\n",
       "  width: 50%;\n",
       "}\n",
       "\n",
       "#sk-container-id-4 div.sk-parallel-item:only-child::after {\n",
       "  width: 0;\n",
       "}\n",
       "\n",
       "/* Serial-specific style estimator block */\n",
       "\n",
       "#sk-container-id-4 div.sk-serial {\n",
       "  display: flex;\n",
       "  flex-direction: column;\n",
       "  align-items: center;\n",
       "  background-color: var(--sklearn-color-background);\n",
       "  padding-right: 1em;\n",
       "  padding-left: 1em;\n",
       "}\n",
       "\n",
       "\n",
       "/* Toggleable style: style used for estimator/Pipeline/ColumnTransformer box that is\n",
       "clickable and can be expanded/collapsed.\n",
       "- Pipeline and ColumnTransformer use this feature and define the default style\n",
       "- Estimators will overwrite some part of the style using the `sk-estimator` class\n",
       "*/\n",
       "\n",
       "/* Pipeline and ColumnTransformer style (default) */\n",
       "\n",
       "#sk-container-id-4 div.sk-toggleable {\n",
       "  /* Default theme specific background. It is overwritten whether we have a\n",
       "  specific estimator or a Pipeline/ColumnTransformer */\n",
       "  background-color: var(--sklearn-color-background);\n",
       "}\n",
       "\n",
       "/* Toggleable label */\n",
       "#sk-container-id-4 label.sk-toggleable__label {\n",
       "  cursor: pointer;\n",
       "  display: block;\n",
       "  width: 100%;\n",
       "  margin-bottom: 0;\n",
       "  padding: 0.5em;\n",
       "  box-sizing: border-box;\n",
       "  text-align: center;\n",
       "}\n",
       "\n",
       "#sk-container-id-4 label.sk-toggleable__label-arrow:before {\n",
       "  /* Arrow on the left of the label */\n",
       "  content: \"▸\";\n",
       "  float: left;\n",
       "  margin-right: 0.25em;\n",
       "  color: var(--sklearn-color-icon);\n",
       "}\n",
       "\n",
       "#sk-container-id-4 label.sk-toggleable__label-arrow:hover:before {\n",
       "  color: var(--sklearn-color-text);\n",
       "}\n",
       "\n",
       "/* Toggleable content - dropdown */\n",
       "\n",
       "#sk-container-id-4 div.sk-toggleable__content {\n",
       "  max-height: 0;\n",
       "  max-width: 0;\n",
       "  overflow: hidden;\n",
       "  text-align: left;\n",
       "  /* unfitted */\n",
       "  background-color: var(--sklearn-color-unfitted-level-0);\n",
       "}\n",
       "\n",
       "#sk-container-id-4 div.sk-toggleable__content.fitted {\n",
       "  /* fitted */\n",
       "  background-color: var(--sklearn-color-fitted-level-0);\n",
       "}\n",
       "\n",
       "#sk-container-id-4 div.sk-toggleable__content pre {\n",
       "  margin: 0.2em;\n",
       "  border-radius: 0.25em;\n",
       "  color: var(--sklearn-color-text);\n",
       "  /* unfitted */\n",
       "  background-color: var(--sklearn-color-unfitted-level-0);\n",
       "}\n",
       "\n",
       "#sk-container-id-4 div.sk-toggleable__content.fitted pre {\n",
       "  /* unfitted */\n",
       "  background-color: var(--sklearn-color-fitted-level-0);\n",
       "}\n",
       "\n",
       "#sk-container-id-4 input.sk-toggleable__control:checked~div.sk-toggleable__content {\n",
       "  /* Expand drop-down */\n",
       "  max-height: 200px;\n",
       "  max-width: 100%;\n",
       "  overflow: auto;\n",
       "}\n",
       "\n",
       "#sk-container-id-4 input.sk-toggleable__control:checked~label.sk-toggleable__label-arrow:before {\n",
       "  content: \"▾\";\n",
       "}\n",
       "\n",
       "/* Pipeline/ColumnTransformer-specific style */\n",
       "\n",
       "#sk-container-id-4 div.sk-label input.sk-toggleable__control:checked~label.sk-toggleable__label {\n",
       "  color: var(--sklearn-color-text);\n",
       "  background-color: var(--sklearn-color-unfitted-level-2);\n",
       "}\n",
       "\n",
       "#sk-container-id-4 div.sk-label.fitted input.sk-toggleable__control:checked~label.sk-toggleable__label {\n",
       "  background-color: var(--sklearn-color-fitted-level-2);\n",
       "}\n",
       "\n",
       "/* Estimator-specific style */\n",
       "\n",
       "/* Colorize estimator box */\n",
       "#sk-container-id-4 div.sk-estimator input.sk-toggleable__control:checked~label.sk-toggleable__label {\n",
       "  /* unfitted */\n",
       "  background-color: var(--sklearn-color-unfitted-level-2);\n",
       "}\n",
       "\n",
       "#sk-container-id-4 div.sk-estimator.fitted input.sk-toggleable__control:checked~label.sk-toggleable__label {\n",
       "  /* fitted */\n",
       "  background-color: var(--sklearn-color-fitted-level-2);\n",
       "}\n",
       "\n",
       "#sk-container-id-4 div.sk-label label.sk-toggleable__label,\n",
       "#sk-container-id-4 div.sk-label label {\n",
       "  /* The background is the default theme color */\n",
       "  color: var(--sklearn-color-text-on-default-background);\n",
       "}\n",
       "\n",
       "/* On hover, darken the color of the background */\n",
       "#sk-container-id-4 div.sk-label:hover label.sk-toggleable__label {\n",
       "  color: var(--sklearn-color-text);\n",
       "  background-color: var(--sklearn-color-unfitted-level-2);\n",
       "}\n",
       "\n",
       "/* Label box, darken color on hover, fitted */\n",
       "#sk-container-id-4 div.sk-label.fitted:hover label.sk-toggleable__label.fitted {\n",
       "  color: var(--sklearn-color-text);\n",
       "  background-color: var(--sklearn-color-fitted-level-2);\n",
       "}\n",
       "\n",
       "/* Estimator label */\n",
       "\n",
       "#sk-container-id-4 div.sk-label label {\n",
       "  font-family: monospace;\n",
       "  font-weight: bold;\n",
       "  display: inline-block;\n",
       "  line-height: 1.2em;\n",
       "}\n",
       "\n",
       "#sk-container-id-4 div.sk-label-container {\n",
       "  text-align: center;\n",
       "}\n",
       "\n",
       "/* Estimator-specific */\n",
       "#sk-container-id-4 div.sk-estimator {\n",
       "  font-family: monospace;\n",
       "  border: 1px dotted var(--sklearn-color-border-box);\n",
       "  border-radius: 0.25em;\n",
       "  box-sizing: border-box;\n",
       "  margin-bottom: 0.5em;\n",
       "  /* unfitted */\n",
       "  background-color: var(--sklearn-color-unfitted-level-0);\n",
       "}\n",
       "\n",
       "#sk-container-id-4 div.sk-estimator.fitted {\n",
       "  /* fitted */\n",
       "  background-color: var(--sklearn-color-fitted-level-0);\n",
       "}\n",
       "\n",
       "/* on hover */\n",
       "#sk-container-id-4 div.sk-estimator:hover {\n",
       "  /* unfitted */\n",
       "  background-color: var(--sklearn-color-unfitted-level-2);\n",
       "}\n",
       "\n",
       "#sk-container-id-4 div.sk-estimator.fitted:hover {\n",
       "  /* fitted */\n",
       "  background-color: var(--sklearn-color-fitted-level-2);\n",
       "}\n",
       "\n",
       "/* Specification for estimator info (e.g. \"i\" and \"?\") */\n",
       "\n",
       "/* Common style for \"i\" and \"?\" */\n",
       "\n",
       ".sk-estimator-doc-link,\n",
       "a:link.sk-estimator-doc-link,\n",
       "a:visited.sk-estimator-doc-link {\n",
       "  float: right;\n",
       "  font-size: smaller;\n",
       "  line-height: 1em;\n",
       "  font-family: monospace;\n",
       "  background-color: var(--sklearn-color-background);\n",
       "  border-radius: 1em;\n",
       "  height: 1em;\n",
       "  width: 1em;\n",
       "  text-decoration: none !important;\n",
       "  margin-left: 1ex;\n",
       "  /* unfitted */\n",
       "  border: var(--sklearn-color-unfitted-level-1) 1pt solid;\n",
       "  color: var(--sklearn-color-unfitted-level-1);\n",
       "}\n",
       "\n",
       ".sk-estimator-doc-link.fitted,\n",
       "a:link.sk-estimator-doc-link.fitted,\n",
       "a:visited.sk-estimator-doc-link.fitted {\n",
       "  /* fitted */\n",
       "  border: var(--sklearn-color-fitted-level-1) 1pt solid;\n",
       "  color: var(--sklearn-color-fitted-level-1);\n",
       "}\n",
       "\n",
       "/* On hover */\n",
       "div.sk-estimator:hover .sk-estimator-doc-link:hover,\n",
       ".sk-estimator-doc-link:hover,\n",
       "div.sk-label-container:hover .sk-estimator-doc-link:hover,\n",
       ".sk-estimator-doc-link:hover {\n",
       "  /* unfitted */\n",
       "  background-color: var(--sklearn-color-unfitted-level-3);\n",
       "  color: var(--sklearn-color-background);\n",
       "  text-decoration: none;\n",
       "}\n",
       "\n",
       "div.sk-estimator.fitted:hover .sk-estimator-doc-link.fitted:hover,\n",
       ".sk-estimator-doc-link.fitted:hover,\n",
       "div.sk-label-container:hover .sk-estimator-doc-link.fitted:hover,\n",
       ".sk-estimator-doc-link.fitted:hover {\n",
       "  /* fitted */\n",
       "  background-color: var(--sklearn-color-fitted-level-3);\n",
       "  color: var(--sklearn-color-background);\n",
       "  text-decoration: none;\n",
       "}\n",
       "\n",
       "/* Span, style for the box shown on hovering the info icon */\n",
       ".sk-estimator-doc-link span {\n",
       "  display: none;\n",
       "  z-index: 9999;\n",
       "  position: relative;\n",
       "  font-weight: normal;\n",
       "  right: .2ex;\n",
       "  padding: .5ex;\n",
       "  margin: .5ex;\n",
       "  width: min-content;\n",
       "  min-width: 20ex;\n",
       "  max-width: 50ex;\n",
       "  color: var(--sklearn-color-text);\n",
       "  box-shadow: 2pt 2pt 4pt #999;\n",
       "  /* unfitted */\n",
       "  background: var(--sklearn-color-unfitted-level-0);\n",
       "  border: .5pt solid var(--sklearn-color-unfitted-level-3);\n",
       "}\n",
       "\n",
       ".sk-estimator-doc-link.fitted span {\n",
       "  /* fitted */\n",
       "  background: var(--sklearn-color-fitted-level-0);\n",
       "  border: var(--sklearn-color-fitted-level-3);\n",
       "}\n",
       "\n",
       ".sk-estimator-doc-link:hover span {\n",
       "  display: block;\n",
       "}\n",
       "\n",
       "/* \"?\"-specific style due to the `<a>` HTML tag */\n",
       "\n",
       "#sk-container-id-4 a.estimator_doc_link {\n",
       "  float: right;\n",
       "  font-size: 1rem;\n",
       "  line-height: 1em;\n",
       "  font-family: monospace;\n",
       "  background-color: var(--sklearn-color-background);\n",
       "  border-radius: 1rem;\n",
       "  height: 1rem;\n",
       "  width: 1rem;\n",
       "  text-decoration: none;\n",
       "  /* unfitted */\n",
       "  color: var(--sklearn-color-unfitted-level-1);\n",
       "  border: var(--sklearn-color-unfitted-level-1) 1pt solid;\n",
       "}\n",
       "\n",
       "#sk-container-id-4 a.estimator_doc_link.fitted {\n",
       "  /* fitted */\n",
       "  border: var(--sklearn-color-fitted-level-1) 1pt solid;\n",
       "  color: var(--sklearn-color-fitted-level-1);\n",
       "}\n",
       "\n",
       "/* On hover */\n",
       "#sk-container-id-4 a.estimator_doc_link:hover {\n",
       "  /* unfitted */\n",
       "  background-color: var(--sklearn-color-unfitted-level-3);\n",
       "  color: var(--sklearn-color-background);\n",
       "  text-decoration: none;\n",
       "}\n",
       "\n",
       "#sk-container-id-4 a.estimator_doc_link.fitted:hover {\n",
       "  /* fitted */\n",
       "  background-color: var(--sklearn-color-fitted-level-3);\n",
       "}\n",
       "</style><div id=\"sk-container-id-4\" class=\"sk-top-container\"><div class=\"sk-text-repr-fallback\"><pre>Pipeline(steps=[(&#x27;preprocessor&#x27;,\n",
       "                 ColumnTransformer(transformers=[(&#x27;num&#x27;,\n",
       "                                                  Pipeline(steps=[(&#x27;scaler&#x27;,\n",
       "                                                                   StandardScaler())]),\n",
       "                                                  [&#x27;totaldue&#x27;, &#x27;termdays&#x27;,\n",
       "                                                   &#x27;loan_to_due_ratio&#x27;,\n",
       "                                                   &#x27;age&#x27;]),\n",
       "                                                 (&#x27;cat&#x27;,\n",
       "                                                  Pipeline(steps=[(&#x27;encoder&#x27;,\n",
       "                                                                   OneHotEncoder(handle_unknown=&#x27;ignore&#x27;,\n",
       "                                                                                 sparse_output=False))]),\n",
       "                                                  [&#x27;employment_status_clients&#x27;,\n",
       "                                                   &#x27;level_of_education_clients&#x27;])])),\n",
       "                (&#x27;model&#x27;,\n",
       "                 AdaBoostClassifier(algorithm=&#x27;SAMME&#x27;, random_state=42))])</pre><b>In a Jupyter environment, please rerun this cell to show the HTML representation or trust the notebook. <br />On GitHub, the HTML representation is unable to render, please try loading this page with nbviewer.org.</b></div><div class=\"sk-container\" hidden><div class=\"sk-item sk-dashed-wrapped\"><div class=\"sk-label-container\"><div class=\"sk-label fitted sk-toggleable\"><input class=\"sk-toggleable__control sk-hidden--visually\" id=\"sk-estimator-id-14\" type=\"checkbox\" ><label for=\"sk-estimator-id-14\" class=\"sk-toggleable__label fitted sk-toggleable__label-arrow fitted\">&nbsp;&nbsp;Pipeline<a class=\"sk-estimator-doc-link fitted\" rel=\"noreferrer\" target=\"_blank\" href=\"https://scikit-learn.org/1.5/modules/generated/sklearn.pipeline.Pipeline.html\">?<span>Documentation for Pipeline</span></a><span class=\"sk-estimator-doc-link fitted\">i<span>Fitted</span></span></label><div class=\"sk-toggleable__content fitted\"><pre>Pipeline(steps=[(&#x27;preprocessor&#x27;,\n",
       "                 ColumnTransformer(transformers=[(&#x27;num&#x27;,\n",
       "                                                  Pipeline(steps=[(&#x27;scaler&#x27;,\n",
       "                                                                   StandardScaler())]),\n",
       "                                                  [&#x27;totaldue&#x27;, &#x27;termdays&#x27;,\n",
       "                                                   &#x27;loan_to_due_ratio&#x27;,\n",
       "                                                   &#x27;age&#x27;]),\n",
       "                                                 (&#x27;cat&#x27;,\n",
       "                                                  Pipeline(steps=[(&#x27;encoder&#x27;,\n",
       "                                                                   OneHotEncoder(handle_unknown=&#x27;ignore&#x27;,\n",
       "                                                                                 sparse_output=False))]),\n",
       "                                                  [&#x27;employment_status_clients&#x27;,\n",
       "                                                   &#x27;level_of_education_clients&#x27;])])),\n",
       "                (&#x27;model&#x27;,\n",
       "                 AdaBoostClassifier(algorithm=&#x27;SAMME&#x27;, random_state=42))])</pre></div> </div></div><div class=\"sk-serial\"><div class=\"sk-item sk-dashed-wrapped\"><div class=\"sk-label-container\"><div class=\"sk-label fitted sk-toggleable\"><input class=\"sk-toggleable__control sk-hidden--visually\" id=\"sk-estimator-id-15\" type=\"checkbox\" ><label for=\"sk-estimator-id-15\" class=\"sk-toggleable__label fitted sk-toggleable__label-arrow fitted\">&nbsp;preprocessor: ColumnTransformer<a class=\"sk-estimator-doc-link fitted\" rel=\"noreferrer\" target=\"_blank\" href=\"https://scikit-learn.org/1.5/modules/generated/sklearn.compose.ColumnTransformer.html\">?<span>Documentation for preprocessor: ColumnTransformer</span></a></label><div class=\"sk-toggleable__content fitted\"><pre>ColumnTransformer(transformers=[(&#x27;num&#x27;,\n",
       "                                 Pipeline(steps=[(&#x27;scaler&#x27;, StandardScaler())]),\n",
       "                                 [&#x27;totaldue&#x27;, &#x27;termdays&#x27;, &#x27;loan_to_due_ratio&#x27;,\n",
       "                                  &#x27;age&#x27;]),\n",
       "                                (&#x27;cat&#x27;,\n",
       "                                 Pipeline(steps=[(&#x27;encoder&#x27;,\n",
       "                                                  OneHotEncoder(handle_unknown=&#x27;ignore&#x27;,\n",
       "                                                                sparse_output=False))]),\n",
       "                                 [&#x27;employment_status_clients&#x27;,\n",
       "                                  &#x27;level_of_education_clients&#x27;])])</pre></div> </div></div><div class=\"sk-parallel\"><div class=\"sk-parallel-item\"><div class=\"sk-item\"><div class=\"sk-label-container\"><div class=\"sk-label fitted sk-toggleable\"><input class=\"sk-toggleable__control sk-hidden--visually\" id=\"sk-estimator-id-16\" type=\"checkbox\" ><label for=\"sk-estimator-id-16\" class=\"sk-toggleable__label fitted sk-toggleable__label-arrow fitted\">num</label><div class=\"sk-toggleable__content fitted\"><pre>[&#x27;totaldue&#x27;, &#x27;termdays&#x27;, &#x27;loan_to_due_ratio&#x27;, &#x27;age&#x27;]</pre></div> </div></div><div class=\"sk-serial\"><div class=\"sk-item\"><div class=\"sk-serial\"><div class=\"sk-item\"><div class=\"sk-estimator fitted sk-toggleable\"><input class=\"sk-toggleable__control sk-hidden--visually\" id=\"sk-estimator-id-17\" type=\"checkbox\" ><label for=\"sk-estimator-id-17\" class=\"sk-toggleable__label fitted sk-toggleable__label-arrow fitted\">&nbsp;StandardScaler<a class=\"sk-estimator-doc-link fitted\" rel=\"noreferrer\" target=\"_blank\" href=\"https://scikit-learn.org/1.5/modules/generated/sklearn.preprocessing.StandardScaler.html\">?<span>Documentation for StandardScaler</span></a></label><div class=\"sk-toggleable__content fitted\"><pre>StandardScaler()</pre></div> </div></div></div></div></div></div></div><div class=\"sk-parallel-item\"><div class=\"sk-item\"><div class=\"sk-label-container\"><div class=\"sk-label fitted sk-toggleable\"><input class=\"sk-toggleable__control sk-hidden--visually\" id=\"sk-estimator-id-18\" type=\"checkbox\" ><label for=\"sk-estimator-id-18\" class=\"sk-toggleable__label fitted sk-toggleable__label-arrow fitted\">cat</label><div class=\"sk-toggleable__content fitted\"><pre>[&#x27;employment_status_clients&#x27;, &#x27;level_of_education_clients&#x27;]</pre></div> </div></div><div class=\"sk-serial\"><div class=\"sk-item\"><div class=\"sk-serial\"><div class=\"sk-item\"><div class=\"sk-estimator fitted sk-toggleable\"><input class=\"sk-toggleable__control sk-hidden--visually\" id=\"sk-estimator-id-19\" type=\"checkbox\" ><label for=\"sk-estimator-id-19\" class=\"sk-toggleable__label fitted sk-toggleable__label-arrow fitted\">&nbsp;OneHotEncoder<a class=\"sk-estimator-doc-link fitted\" rel=\"noreferrer\" target=\"_blank\" href=\"https://scikit-learn.org/1.5/modules/generated/sklearn.preprocessing.OneHotEncoder.html\">?<span>Documentation for OneHotEncoder</span></a></label><div class=\"sk-toggleable__content fitted\"><pre>OneHotEncoder(handle_unknown=&#x27;ignore&#x27;, sparse_output=False)</pre></div> </div></div></div></div></div></div></div></div></div><div class=\"sk-item\"><div class=\"sk-estimator fitted sk-toggleable\"><input class=\"sk-toggleable__control sk-hidden--visually\" id=\"sk-estimator-id-20\" type=\"checkbox\" ><label for=\"sk-estimator-id-20\" class=\"sk-toggleable__label fitted sk-toggleable__label-arrow fitted\">&nbsp;AdaBoostClassifier<a class=\"sk-estimator-doc-link fitted\" rel=\"noreferrer\" target=\"_blank\" href=\"https://scikit-learn.org/1.5/modules/generated/sklearn.ensemble.AdaBoostClassifier.html\">?<span>Documentation for AdaBoostClassifier</span></a></label><div class=\"sk-toggleable__content fitted\"><pre>AdaBoostClassifier(algorithm=&#x27;SAMME&#x27;, random_state=42)</pre></div> </div></div></div></div></div></div>"
      ],
      "text/plain": [
       "Pipeline(steps=[('preprocessor',\n",
       "                 ColumnTransformer(transformers=[('num',\n",
       "                                                  Pipeline(steps=[('scaler',\n",
       "                                                                   StandardScaler())]),\n",
       "                                                  ['totaldue', 'termdays',\n",
       "                                                   'loan_to_due_ratio',\n",
       "                                                   'age']),\n",
       "                                                 ('cat',\n",
       "                                                  Pipeline(steps=[('encoder',\n",
       "                                                                   OneHotEncoder(handle_unknown='ignore',\n",
       "                                                                                 sparse_output=False))]),\n",
       "                                                  ['employment_status_clients',\n",
       "                                                   'level_of_education_clients'])])),\n",
       "                ('model',\n",
       "                 AdaBoostClassifier(algorithm='SAMME', random_state=42))])"
      ]
     },
     "execution_count": 119,
     "metadata": {},
     "output_type": "execute_result"
    }
   ],
   "source": [
    "#taking Ada Boost as the best model\n",
    "\n",
    "final_model= AdaBoostClassifier(algorithm='SAMME', random_state=42)\n",
    "\n",
    "pipeline=Pipeline(steps=[\n",
    "    ('preprocessor', preprocessor),\n",
    "    ('model', final_model)\n",
    "])\n",
    "# train the final model\n",
    "pipeline.fit(X_train, y_train)"
   ]
  },
  {
   "cell_type": "code",
   "execution_count": 120,
   "id": "5918cb2c-4bb6-4a66-bb95-91bb681a4712",
   "metadata": {},
   "outputs": [
    {
     "name": "stdout",
     "output_type": "stream",
     "text": [
      " AdaBoost\n",
      " Precision = 0.7826, Recall = 1.0000\n"
     ]
    }
   ],
   "source": [
    "# predict and evaluate\n",
    "test_pred = pipeline.predict(X_test)\n",
    "    \n",
    "precision = precision_score(y_test, test_pred, pos_label='Good')\n",
    "recall = recall_score(y_test, test_pred, pos_label='Good')\n",
    "    \n",
    "print(f' AdaBoost\\n Precision = {precision:.4f}, Recall = {recall:.4f}')"
   ]
  },
  {
   "cell_type": "markdown",
   "id": "55a44aac-b2f5-4ed8-aebc-9e6fe6360fd2",
   "metadata": {},
   "source": [
    "### Feature Importance"
   ]
  },
  {
   "cell_type": "code",
   "execution_count": 121,
   "id": "80409b3f-cba9-4769-b7de-0ae781df4c18",
   "metadata": {},
   "outputs": [
    {
     "data": {
      "text/plain": [
       "list[Pipeline(steps=[('encoder',\n",
       "                 OneHotEncoder(handle_unknown='ignore', sparse_output=False))])]"
      ]
     },
     "execution_count": 121,
     "metadata": {},
     "output_type": "execute_result"
    }
   ],
   "source": [
    "list[preprocessor.named_transformers_['cat']]"
   ]
  },
  {
   "cell_type": "code",
   "execution_count": 122,
   "id": "62638ea1-7dc3-4208-9333-5770e9fed5a3",
   "metadata": {},
   "outputs": [
    {
     "data": {
      "text/plain": [
       "list[array(['employment_status_clients_Contract',\n",
       "       'employment_status_clients_Permanent',\n",
       "       'employment_status_clients_Retired',\n",
       "       'employment_status_clients_Self-Employed',\n",
       "       'employment_status_clients_Student',\n",
       "       'employment_status_clients_Unemployed',\n",
       "       'level_of_education_clients_Graduate',\n",
       "       'level_of_education_clients_Post-Graduate',\n",
       "       'level_of_education_clients_Primary',\n",
       "       'level_of_education_clients_Secondary'], dtype=object)]"
      ]
     },
     "execution_count": 122,
     "metadata": {},
     "output_type": "execute_result"
    }
   ],
   "source": [
    "list[preprocessor.named_transformers_['cat'].named_steps['encoder'].get_feature_names_out(cat_cols)]"
   ]
  },
  {
   "cell_type": "code",
   "execution_count": 123,
   "id": "bdc9361f-00d2-4b3f-a1b8-9c50a4894351",
   "metadata": {},
   "outputs": [
    {
     "data": {
      "text/html": [
       "<style>#sk-container-id-5 {\n",
       "  /* Definition of color scheme common for light and dark mode */\n",
       "  --sklearn-color-text: black;\n",
       "  --sklearn-color-line: gray;\n",
       "  /* Definition of color scheme for unfitted estimators */\n",
       "  --sklearn-color-unfitted-level-0: #fff5e6;\n",
       "  --sklearn-color-unfitted-level-1: #f6e4d2;\n",
       "  --sklearn-color-unfitted-level-2: #ffe0b3;\n",
       "  --sklearn-color-unfitted-level-3: chocolate;\n",
       "  /* Definition of color scheme for fitted estimators */\n",
       "  --sklearn-color-fitted-level-0: #f0f8ff;\n",
       "  --sklearn-color-fitted-level-1: #d4ebff;\n",
       "  --sklearn-color-fitted-level-2: #b3dbfd;\n",
       "  --sklearn-color-fitted-level-3: cornflowerblue;\n",
       "\n",
       "  /* Specific color for light theme */\n",
       "  --sklearn-color-text-on-default-background: var(--sg-text-color, var(--theme-code-foreground, var(--jp-content-font-color1, black)));\n",
       "  --sklearn-color-background: var(--sg-background-color, var(--theme-background, var(--jp-layout-color0, white)));\n",
       "  --sklearn-color-border-box: var(--sg-text-color, var(--theme-code-foreground, var(--jp-content-font-color1, black)));\n",
       "  --sklearn-color-icon: #696969;\n",
       "\n",
       "  @media (prefers-color-scheme: dark) {\n",
       "    /* Redefinition of color scheme for dark theme */\n",
       "    --sklearn-color-text-on-default-background: var(--sg-text-color, var(--theme-code-foreground, var(--jp-content-font-color1, white)));\n",
       "    --sklearn-color-background: var(--sg-background-color, var(--theme-background, var(--jp-layout-color0, #111)));\n",
       "    --sklearn-color-border-box: var(--sg-text-color, var(--theme-code-foreground, var(--jp-content-font-color1, white)));\n",
       "    --sklearn-color-icon: #878787;\n",
       "  }\n",
       "}\n",
       "\n",
       "#sk-container-id-5 {\n",
       "  color: var(--sklearn-color-text);\n",
       "}\n",
       "\n",
       "#sk-container-id-5 pre {\n",
       "  padding: 0;\n",
       "}\n",
       "\n",
       "#sk-container-id-5 input.sk-hidden--visually {\n",
       "  border: 0;\n",
       "  clip: rect(1px 1px 1px 1px);\n",
       "  clip: rect(1px, 1px, 1px, 1px);\n",
       "  height: 1px;\n",
       "  margin: -1px;\n",
       "  overflow: hidden;\n",
       "  padding: 0;\n",
       "  position: absolute;\n",
       "  width: 1px;\n",
       "}\n",
       "\n",
       "#sk-container-id-5 div.sk-dashed-wrapped {\n",
       "  border: 1px dashed var(--sklearn-color-line);\n",
       "  margin: 0 0.4em 0.5em 0.4em;\n",
       "  box-sizing: border-box;\n",
       "  padding-bottom: 0.4em;\n",
       "  background-color: var(--sklearn-color-background);\n",
       "}\n",
       "\n",
       "#sk-container-id-5 div.sk-container {\n",
       "  /* jupyter's `normalize.less` sets `[hidden] { display: none; }`\n",
       "     but bootstrap.min.css set `[hidden] { display: none !important; }`\n",
       "     so we also need the `!important` here to be able to override the\n",
       "     default hidden behavior on the sphinx rendered scikit-learn.org.\n",
       "     See: https://github.com/scikit-learn/scikit-learn/issues/21755 */\n",
       "  display: inline-block !important;\n",
       "  position: relative;\n",
       "}\n",
       "\n",
       "#sk-container-id-5 div.sk-text-repr-fallback {\n",
       "  display: none;\n",
       "}\n",
       "\n",
       "div.sk-parallel-item,\n",
       "div.sk-serial,\n",
       "div.sk-item {\n",
       "  /* draw centered vertical line to link estimators */\n",
       "  background-image: linear-gradient(var(--sklearn-color-text-on-default-background), var(--sklearn-color-text-on-default-background));\n",
       "  background-size: 2px 100%;\n",
       "  background-repeat: no-repeat;\n",
       "  background-position: center center;\n",
       "}\n",
       "\n",
       "/* Parallel-specific style estimator block */\n",
       "\n",
       "#sk-container-id-5 div.sk-parallel-item::after {\n",
       "  content: \"\";\n",
       "  width: 100%;\n",
       "  border-bottom: 2px solid var(--sklearn-color-text-on-default-background);\n",
       "  flex-grow: 1;\n",
       "}\n",
       "\n",
       "#sk-container-id-5 div.sk-parallel {\n",
       "  display: flex;\n",
       "  align-items: stretch;\n",
       "  justify-content: center;\n",
       "  background-color: var(--sklearn-color-background);\n",
       "  position: relative;\n",
       "}\n",
       "\n",
       "#sk-container-id-5 div.sk-parallel-item {\n",
       "  display: flex;\n",
       "  flex-direction: column;\n",
       "}\n",
       "\n",
       "#sk-container-id-5 div.sk-parallel-item:first-child::after {\n",
       "  align-self: flex-end;\n",
       "  width: 50%;\n",
       "}\n",
       "\n",
       "#sk-container-id-5 div.sk-parallel-item:last-child::after {\n",
       "  align-self: flex-start;\n",
       "  width: 50%;\n",
       "}\n",
       "\n",
       "#sk-container-id-5 div.sk-parallel-item:only-child::after {\n",
       "  width: 0;\n",
       "}\n",
       "\n",
       "/* Serial-specific style estimator block */\n",
       "\n",
       "#sk-container-id-5 div.sk-serial {\n",
       "  display: flex;\n",
       "  flex-direction: column;\n",
       "  align-items: center;\n",
       "  background-color: var(--sklearn-color-background);\n",
       "  padding-right: 1em;\n",
       "  padding-left: 1em;\n",
       "}\n",
       "\n",
       "\n",
       "/* Toggleable style: style used for estimator/Pipeline/ColumnTransformer box that is\n",
       "clickable and can be expanded/collapsed.\n",
       "- Pipeline and ColumnTransformer use this feature and define the default style\n",
       "- Estimators will overwrite some part of the style using the `sk-estimator` class\n",
       "*/\n",
       "\n",
       "/* Pipeline and ColumnTransformer style (default) */\n",
       "\n",
       "#sk-container-id-5 div.sk-toggleable {\n",
       "  /* Default theme specific background. It is overwritten whether we have a\n",
       "  specific estimator or a Pipeline/ColumnTransformer */\n",
       "  background-color: var(--sklearn-color-background);\n",
       "}\n",
       "\n",
       "/* Toggleable label */\n",
       "#sk-container-id-5 label.sk-toggleable__label {\n",
       "  cursor: pointer;\n",
       "  display: block;\n",
       "  width: 100%;\n",
       "  margin-bottom: 0;\n",
       "  padding: 0.5em;\n",
       "  box-sizing: border-box;\n",
       "  text-align: center;\n",
       "}\n",
       "\n",
       "#sk-container-id-5 label.sk-toggleable__label-arrow:before {\n",
       "  /* Arrow on the left of the label */\n",
       "  content: \"▸\";\n",
       "  float: left;\n",
       "  margin-right: 0.25em;\n",
       "  color: var(--sklearn-color-icon);\n",
       "}\n",
       "\n",
       "#sk-container-id-5 label.sk-toggleable__label-arrow:hover:before {\n",
       "  color: var(--sklearn-color-text);\n",
       "}\n",
       "\n",
       "/* Toggleable content - dropdown */\n",
       "\n",
       "#sk-container-id-5 div.sk-toggleable__content {\n",
       "  max-height: 0;\n",
       "  max-width: 0;\n",
       "  overflow: hidden;\n",
       "  text-align: left;\n",
       "  /* unfitted */\n",
       "  background-color: var(--sklearn-color-unfitted-level-0);\n",
       "}\n",
       "\n",
       "#sk-container-id-5 div.sk-toggleable__content.fitted {\n",
       "  /* fitted */\n",
       "  background-color: var(--sklearn-color-fitted-level-0);\n",
       "}\n",
       "\n",
       "#sk-container-id-5 div.sk-toggleable__content pre {\n",
       "  margin: 0.2em;\n",
       "  border-radius: 0.25em;\n",
       "  color: var(--sklearn-color-text);\n",
       "  /* unfitted */\n",
       "  background-color: var(--sklearn-color-unfitted-level-0);\n",
       "}\n",
       "\n",
       "#sk-container-id-5 div.sk-toggleable__content.fitted pre {\n",
       "  /* unfitted */\n",
       "  background-color: var(--sklearn-color-fitted-level-0);\n",
       "}\n",
       "\n",
       "#sk-container-id-5 input.sk-toggleable__control:checked~div.sk-toggleable__content {\n",
       "  /* Expand drop-down */\n",
       "  max-height: 200px;\n",
       "  max-width: 100%;\n",
       "  overflow: auto;\n",
       "}\n",
       "\n",
       "#sk-container-id-5 input.sk-toggleable__control:checked~label.sk-toggleable__label-arrow:before {\n",
       "  content: \"▾\";\n",
       "}\n",
       "\n",
       "/* Pipeline/ColumnTransformer-specific style */\n",
       "\n",
       "#sk-container-id-5 div.sk-label input.sk-toggleable__control:checked~label.sk-toggleable__label {\n",
       "  color: var(--sklearn-color-text);\n",
       "  background-color: var(--sklearn-color-unfitted-level-2);\n",
       "}\n",
       "\n",
       "#sk-container-id-5 div.sk-label.fitted input.sk-toggleable__control:checked~label.sk-toggleable__label {\n",
       "  background-color: var(--sklearn-color-fitted-level-2);\n",
       "}\n",
       "\n",
       "/* Estimator-specific style */\n",
       "\n",
       "/* Colorize estimator box */\n",
       "#sk-container-id-5 div.sk-estimator input.sk-toggleable__control:checked~label.sk-toggleable__label {\n",
       "  /* unfitted */\n",
       "  background-color: var(--sklearn-color-unfitted-level-2);\n",
       "}\n",
       "\n",
       "#sk-container-id-5 div.sk-estimator.fitted input.sk-toggleable__control:checked~label.sk-toggleable__label {\n",
       "  /* fitted */\n",
       "  background-color: var(--sklearn-color-fitted-level-2);\n",
       "}\n",
       "\n",
       "#sk-container-id-5 div.sk-label label.sk-toggleable__label,\n",
       "#sk-container-id-5 div.sk-label label {\n",
       "  /* The background is the default theme color */\n",
       "  color: var(--sklearn-color-text-on-default-background);\n",
       "}\n",
       "\n",
       "/* On hover, darken the color of the background */\n",
       "#sk-container-id-5 div.sk-label:hover label.sk-toggleable__label {\n",
       "  color: var(--sklearn-color-text);\n",
       "  background-color: var(--sklearn-color-unfitted-level-2);\n",
       "}\n",
       "\n",
       "/* Label box, darken color on hover, fitted */\n",
       "#sk-container-id-5 div.sk-label.fitted:hover label.sk-toggleable__label.fitted {\n",
       "  color: var(--sklearn-color-text);\n",
       "  background-color: var(--sklearn-color-fitted-level-2);\n",
       "}\n",
       "\n",
       "/* Estimator label */\n",
       "\n",
       "#sk-container-id-5 div.sk-label label {\n",
       "  font-family: monospace;\n",
       "  font-weight: bold;\n",
       "  display: inline-block;\n",
       "  line-height: 1.2em;\n",
       "}\n",
       "\n",
       "#sk-container-id-5 div.sk-label-container {\n",
       "  text-align: center;\n",
       "}\n",
       "\n",
       "/* Estimator-specific */\n",
       "#sk-container-id-5 div.sk-estimator {\n",
       "  font-family: monospace;\n",
       "  border: 1px dotted var(--sklearn-color-border-box);\n",
       "  border-radius: 0.25em;\n",
       "  box-sizing: border-box;\n",
       "  margin-bottom: 0.5em;\n",
       "  /* unfitted */\n",
       "  background-color: var(--sklearn-color-unfitted-level-0);\n",
       "}\n",
       "\n",
       "#sk-container-id-5 div.sk-estimator.fitted {\n",
       "  /* fitted */\n",
       "  background-color: var(--sklearn-color-fitted-level-0);\n",
       "}\n",
       "\n",
       "/* on hover */\n",
       "#sk-container-id-5 div.sk-estimator:hover {\n",
       "  /* unfitted */\n",
       "  background-color: var(--sklearn-color-unfitted-level-2);\n",
       "}\n",
       "\n",
       "#sk-container-id-5 div.sk-estimator.fitted:hover {\n",
       "  /* fitted */\n",
       "  background-color: var(--sklearn-color-fitted-level-2);\n",
       "}\n",
       "\n",
       "/* Specification for estimator info (e.g. \"i\" and \"?\") */\n",
       "\n",
       "/* Common style for \"i\" and \"?\" */\n",
       "\n",
       ".sk-estimator-doc-link,\n",
       "a:link.sk-estimator-doc-link,\n",
       "a:visited.sk-estimator-doc-link {\n",
       "  float: right;\n",
       "  font-size: smaller;\n",
       "  line-height: 1em;\n",
       "  font-family: monospace;\n",
       "  background-color: var(--sklearn-color-background);\n",
       "  border-radius: 1em;\n",
       "  height: 1em;\n",
       "  width: 1em;\n",
       "  text-decoration: none !important;\n",
       "  margin-left: 1ex;\n",
       "  /* unfitted */\n",
       "  border: var(--sklearn-color-unfitted-level-1) 1pt solid;\n",
       "  color: var(--sklearn-color-unfitted-level-1);\n",
       "}\n",
       "\n",
       ".sk-estimator-doc-link.fitted,\n",
       "a:link.sk-estimator-doc-link.fitted,\n",
       "a:visited.sk-estimator-doc-link.fitted {\n",
       "  /* fitted */\n",
       "  border: var(--sklearn-color-fitted-level-1) 1pt solid;\n",
       "  color: var(--sklearn-color-fitted-level-1);\n",
       "}\n",
       "\n",
       "/* On hover */\n",
       "div.sk-estimator:hover .sk-estimator-doc-link:hover,\n",
       ".sk-estimator-doc-link:hover,\n",
       "div.sk-label-container:hover .sk-estimator-doc-link:hover,\n",
       ".sk-estimator-doc-link:hover {\n",
       "  /* unfitted */\n",
       "  background-color: var(--sklearn-color-unfitted-level-3);\n",
       "  color: var(--sklearn-color-background);\n",
       "  text-decoration: none;\n",
       "}\n",
       "\n",
       "div.sk-estimator.fitted:hover .sk-estimator-doc-link.fitted:hover,\n",
       ".sk-estimator-doc-link.fitted:hover,\n",
       "div.sk-label-container:hover .sk-estimator-doc-link.fitted:hover,\n",
       ".sk-estimator-doc-link.fitted:hover {\n",
       "  /* fitted */\n",
       "  background-color: var(--sklearn-color-fitted-level-3);\n",
       "  color: var(--sklearn-color-background);\n",
       "  text-decoration: none;\n",
       "}\n",
       "\n",
       "/* Span, style for the box shown on hovering the info icon */\n",
       ".sk-estimator-doc-link span {\n",
       "  display: none;\n",
       "  z-index: 9999;\n",
       "  position: relative;\n",
       "  font-weight: normal;\n",
       "  right: .2ex;\n",
       "  padding: .5ex;\n",
       "  margin: .5ex;\n",
       "  width: min-content;\n",
       "  min-width: 20ex;\n",
       "  max-width: 50ex;\n",
       "  color: var(--sklearn-color-text);\n",
       "  box-shadow: 2pt 2pt 4pt #999;\n",
       "  /* unfitted */\n",
       "  background: var(--sklearn-color-unfitted-level-0);\n",
       "  border: .5pt solid var(--sklearn-color-unfitted-level-3);\n",
       "}\n",
       "\n",
       ".sk-estimator-doc-link.fitted span {\n",
       "  /* fitted */\n",
       "  background: var(--sklearn-color-fitted-level-0);\n",
       "  border: var(--sklearn-color-fitted-level-3);\n",
       "}\n",
       "\n",
       ".sk-estimator-doc-link:hover span {\n",
       "  display: block;\n",
       "}\n",
       "\n",
       "/* \"?\"-specific style due to the `<a>` HTML tag */\n",
       "\n",
       "#sk-container-id-5 a.estimator_doc_link {\n",
       "  float: right;\n",
       "  font-size: 1rem;\n",
       "  line-height: 1em;\n",
       "  font-family: monospace;\n",
       "  background-color: var(--sklearn-color-background);\n",
       "  border-radius: 1rem;\n",
       "  height: 1rem;\n",
       "  width: 1rem;\n",
       "  text-decoration: none;\n",
       "  /* unfitted */\n",
       "  color: var(--sklearn-color-unfitted-level-1);\n",
       "  border: var(--sklearn-color-unfitted-level-1) 1pt solid;\n",
       "}\n",
       "\n",
       "#sk-container-id-5 a.estimator_doc_link.fitted {\n",
       "  /* fitted */\n",
       "  border: var(--sklearn-color-fitted-level-1) 1pt solid;\n",
       "  color: var(--sklearn-color-fitted-level-1);\n",
       "}\n",
       "\n",
       "/* On hover */\n",
       "#sk-container-id-5 a.estimator_doc_link:hover {\n",
       "  /* unfitted */\n",
       "  background-color: var(--sklearn-color-unfitted-level-3);\n",
       "  color: var(--sklearn-color-background);\n",
       "  text-decoration: none;\n",
       "}\n",
       "\n",
       "#sk-container-id-5 a.estimator_doc_link.fitted:hover {\n",
       "  /* fitted */\n",
       "  background-color: var(--sklearn-color-fitted-level-3);\n",
       "}\n",
       "</style><div id=\"sk-container-id-5\" class=\"sk-top-container\"><div class=\"sk-text-repr-fallback\"><pre>AdaBoostClassifier(algorithm=&#x27;SAMME&#x27;, random_state=42)</pre><b>In a Jupyter environment, please rerun this cell to show the HTML representation or trust the notebook. <br />On GitHub, the HTML representation is unable to render, please try loading this page with nbviewer.org.</b></div><div class=\"sk-container\" hidden><div class=\"sk-item\"><div class=\"sk-estimator fitted sk-toggleable\"><input class=\"sk-toggleable__control sk-hidden--visually\" id=\"sk-estimator-id-21\" type=\"checkbox\" checked><label for=\"sk-estimator-id-21\" class=\"sk-toggleable__label fitted sk-toggleable__label-arrow fitted\">&nbsp;&nbsp;AdaBoostClassifier<a class=\"sk-estimator-doc-link fitted\" rel=\"noreferrer\" target=\"_blank\" href=\"https://scikit-learn.org/1.5/modules/generated/sklearn.ensemble.AdaBoostClassifier.html\">?<span>Documentation for AdaBoostClassifier</span></a><span class=\"sk-estimator-doc-link fitted\">i<span>Fitted</span></span></label><div class=\"sk-toggleable__content fitted\"><pre>AdaBoostClassifier(algorithm=&#x27;SAMME&#x27;, random_state=42)</pre></div> </div></div></div></div>"
      ],
      "text/plain": [
       "AdaBoostClassifier(algorithm='SAMME', random_state=42)"
      ]
     },
     "execution_count": 123,
     "metadata": {},
     "output_type": "execute_result"
    }
   ],
   "source": [
    "final_model.fit(preprocessor.transform(X_train), y_train)"
   ]
  },
  {
   "cell_type": "code",
   "execution_count": 124,
   "id": "68aea6e0-733c-4b26-b064-6dcf5b13c39d",
   "metadata": {},
   "outputs": [
    {
     "data": {
      "text/plain": [
       "['totaldue', 'termdays', 'loan_to_due_ratio', 'age']"
      ]
     },
     "execution_count": 124,
     "metadata": {},
     "output_type": "execute_result"
    }
   ],
   "source": [
    "num_cols"
   ]
  },
  {
   "cell_type": "code",
   "execution_count": 125,
   "id": "d47223d1-60da-42f5-9b2d-9fc33363f7db",
   "metadata": {},
   "outputs": [
    {
     "data": {
      "text/plain": [
       "['employment_status_clients', 'level_of_education_clients']"
      ]
     },
     "execution_count": 125,
     "metadata": {},
     "output_type": "execute_result"
    }
   ],
   "source": [
    "cat_cols"
   ]
  },
  {
   "cell_type": "code",
   "execution_count": 126,
   "id": "6fc8aba8-6855-43ab-8869-dc637867d6e7",
   "metadata": {},
   "outputs": [
    {
     "data": {
      "text/plain": [
       "['totaldue',\n",
       " 'termdays',\n",
       " 'loan_to_due_ratio',\n",
       " 'age',\n",
       " 'employment_status_clients_Contract',\n",
       " 'employment_status_clients_Permanent',\n",
       " 'employment_status_clients_Retired',\n",
       " 'employment_status_clients_Self-Employed',\n",
       " 'employment_status_clients_Student',\n",
       " 'employment_status_clients_Unemployed',\n",
       " 'level_of_education_clients_Graduate',\n",
       " 'level_of_education_clients_Post-Graduate',\n",
       " 'level_of_education_clients_Primary',\n",
       " 'level_of_education_clients_Secondary']"
      ]
     },
     "execution_count": 126,
     "metadata": {},
     "output_type": "execute_result"
    }
   ],
   "source": [
    "feature_names = (num_cols + list(preprocessor.named_transformers_['cat'].named_steps['encoder'].get_feature_names_out(cat_cols)))\n",
    "feature_names"
   ]
  },
  {
   "cell_type": "code",
   "execution_count": 127,
   "id": "69718195-fb5c-412f-85ee-b18d4510ef21",
   "metadata": {},
   "outputs": [
    {
     "data": {
      "text/plain": [
       "array([0.75825351, 0.02224158, 0.18050063, 0.03900427, 0.        ,\n",
       "       0.        , 0.        , 0.        , 0.        , 0.        ,\n",
       "       0.        , 0.        , 0.        , 0.        ])"
      ]
     },
     "execution_count": 127,
     "metadata": {},
     "output_type": "execute_result"
    }
   ],
   "source": [
    "importance = final_model.feature_importances_\n",
    "importance"
   ]
  },
  {
   "cell_type": "code",
   "execution_count": 128,
   "id": "1aa9c24e-412d-4169-9bff-a2381d97e735",
   "metadata": {},
   "outputs": [],
   "source": [
    "sort = np.argsort(importance)[::-1]"
   ]
  },
  {
   "cell_type": "code",
   "execution_count": 129,
   "id": "a4d71414-7537-4fa4-8a0f-0f23aeb14b63",
   "metadata": {},
   "outputs": [
    {
     "data": {
      "image/png": "[encoded data removed]",
      "text/plain": [
       "<Figure size 2000x400 with 1 Axes>"
      ]
     },
     "metadata": {},
     "output_type": "display_data"
    }
   ],
   "source": [
    "plt.figure(figsize=(20, 4))\n",
    "\n",
    "plt.bar(range(len(importance)), importance[sort])\n",
    "plt.xticks(range(len(importance)), np.array(feature_names) [sort])\n",
    "plt.show()"
   ]
  },
  {
   "cell_type": "code",
   "execution_count": null,
   "id": "a49d51ad-a077-4503-9638-4afe54b17abf",
   "metadata": {},
   "outputs": [],
   "source": []
  },
  {
   "cell_type": "code",
   "execution_count": 115,
   "id": "743d0ebf-2ee3-43df-b35b-42abd5145906",
   "metadata": {},
   "outputs": [],
   "source": [
    "#export final dataset as an excel file\n",
    "df6.to_excel(\"loan_default.xlsx\", index=False)"
   ]
  },
  {
   "cell_type": "code",
   "execution_count": 131,
   "id": "6d9115c1-8609-4888-8bd9-b2cfd363354b",
   "metadata": {},
   "outputs": [
    {
     "data": {
      "text/html": [
       "<div>\n",
       "<style scoped>\n",
       "    .dataframe tbody tr th:only-of-type {\n",
       "        vertical-align: middle;\n",
       "    }\n",
       "\n",
       "    .dataframe tbody tr th {\n",
       "        vertical-align: top;\n",
       "    }\n",
       "\n",
       "    .dataframe thead th {\n",
       "        text-align: right;\n",
       "    }\n",
       "</style>\n",
       "<table border=\"1\" class=\"dataframe\">\n",
       "  <thead>\n",
       "    <tr style=\"text-align: right;\">\n",
       "      <th></th>\n",
       "      <th>customerid</th>\n",
       "      <th>systemloanid</th>\n",
       "      <th>loannumber</th>\n",
       "      <th>approveddate</th>\n",
       "      <th>creationdate</th>\n",
       "      <th>loanamount</th>\n",
       "      <th>totaldue</th>\n",
       "      <th>termdays</th>\n",
       "      <th>good_bad_flag</th>\n",
       "      <th>loan_to_due_ratio</th>\n",
       "      <th>bank_account_type</th>\n",
       "      <th>longitude_gps</th>\n",
       "      <th>latitude_gps</th>\n",
       "      <th>bank_name_clients</th>\n",
       "      <th>employment_status_clients</th>\n",
       "      <th>level_of_education_clients</th>\n",
       "      <th>age</th>\n",
       "    </tr>\n",
       "  </thead>\n",
       "  <tbody>\n",
       "    <tr>\n",
       "      <th>3364</th>\n",
       "      <td>8a858e6d58b0cc520158c326f17f257d</td>\n",
       "      <td>301991503</td>\n",
       "      <td>11</td>\n",
       "      <td>2017-07-23 07:00:42.000000</td>\n",
       "      <td>2017-07-23 06:00:36.000000</td>\n",
       "      <td>40000.0</td>\n",
       "      <td>44000.0</td>\n",
       "      <td>30</td>\n",
       "      <td>Good</td>\n",
       "      <td>1.1</td>\n",
       "      <td>Savings</td>\n",
       "      <td>3.348408</td>\n",
       "      <td>6.532118</td>\n",
       "      <td>First Bank</td>\n",
       "      <td>Permanent</td>\n",
       "      <td>Graduate</td>\n",
       "      <td>49.0</td>\n",
       "    </tr>\n",
       "  </tbody>\n",
       "</table>\n",
       "</div>"
      ],
      "text/plain": [
       "                            customerid  systemloanid  loannumber  \\\n",
       "3364  8a858e6d58b0cc520158c326f17f257d     301991503          11   \n",
       "\n",
       "                    approveddate                creationdate  loanamount  \\\n",
       "3364  2017-07-23 07:00:42.000000  2017-07-23 06:00:36.000000     40000.0   \n",
       "\n",
       "      totaldue  termdays good_bad_flag  loan_to_due_ratio bank_account_type  \\\n",
       "3364   44000.0        30          Good                1.1           Savings   \n",
       "\n",
       "      longitude_gps  latitude_gps bank_name_clients employment_status_clients  \\\n",
       "3364       3.348408      6.532118        First Bank                 Permanent   \n",
       "\n",
       "     level_of_education_clients   age  \n",
       "3364                   Graduate  49.0  "
      ]
     },
     "execution_count": 131,
     "metadata": {},
     "output_type": "execute_result"
    }
   ],
   "source": [
    "df6.sample()"
   ]
  },
  {
   "cell_type": "code",
   "execution_count": 137,
   "id": "f4fcba44-3ed3-4da4-a584-bc5daeab6536",
   "metadata": {},
   "outputs": [
    {
     "name": "stdout",
     "output_type": "stream",
     "text": [
      "1.3\n",
      "1.0\n"
     ]
    }
   ],
   "source": [
    "print(df6['loan_to_due_ratio'].max())\n",
    "print(df6['loan_to_due_ratio'].min())"
   ]
  },
  {
   "cell_type": "code",
   "execution_count": 117,
   "id": "bb22bdf9-6c69-4d6c-9925-f34d3105f2b3",
   "metadata": {},
   "outputs": [
    {
     "data": {
      "text/html": [
       "<div>\n",
       "<style scoped>\n",
       "    .dataframe tbody tr th:only-of-type {\n",
       "        vertical-align: middle;\n",
       "    }\n",
       "\n",
       "    .dataframe tbody tr th {\n",
       "        vertical-align: top;\n",
       "    }\n",
       "\n",
       "    .dataframe thead th {\n",
       "        text-align: right;\n",
       "    }\n",
       "</style>\n",
       "<table border=\"1\" class=\"dataframe\">\n",
       "  <thead>\n",
       "    <tr style=\"text-align: right;\">\n",
       "      <th></th>\n",
       "      <th>totaldue</th>\n",
       "      <th>termdays</th>\n",
       "      <th>loan_to_due_ratio</th>\n",
       "      <th>employment_status_clients</th>\n",
       "      <th>level_of_education_clients</th>\n",
       "      <th>age</th>\n",
       "    </tr>\n",
       "  </thead>\n",
       "  <tbody>\n",
       "    <tr>\n",
       "      <th>0</th>\n",
       "      <td>34500.0</td>\n",
       "      <td>30</td>\n",
       "      <td>1.1500</td>\n",
       "      <td>Permanent</td>\n",
       "      <td>Post-Graduate</td>\n",
       "      <td>53.0</td>\n",
       "    </tr>\n",
       "    <tr>\n",
       "      <th>1</th>\n",
       "      <td>17250.0</td>\n",
       "      <td>30</td>\n",
       "      <td>1.1500</td>\n",
       "      <td>Permanent</td>\n",
       "      <td>Graduate</td>\n",
       "      <td>40.0</td>\n",
       "    </tr>\n",
       "    <tr>\n",
       "      <th>2</th>\n",
       "      <td>22250.0</td>\n",
       "      <td>15</td>\n",
       "      <td>1.1125</td>\n",
       "      <td>Permanent</td>\n",
       "      <td>Graduate</td>\n",
       "      <td>40.0</td>\n",
       "    </tr>\n",
       "    <tr>\n",
       "      <th>3</th>\n",
       "      <td>11500.0</td>\n",
       "      <td>15</td>\n",
       "      <td>1.1500</td>\n",
       "      <td>Permanent</td>\n",
       "      <td>Graduate</td>\n",
       "      <td>47.0</td>\n",
       "    </tr>\n",
       "    <tr>\n",
       "      <th>4</th>\n",
       "      <td>44000.0</td>\n",
       "      <td>30</td>\n",
       "      <td>1.1000</td>\n",
       "      <td>Permanent</td>\n",
       "      <td>Primary</td>\n",
       "      <td>39.0</td>\n",
       "    </tr>\n",
       "    <tr>\n",
       "      <th>...</th>\n",
       "      <td>...</td>\n",
       "      <td>...</td>\n",
       "      <td>...</td>\n",
       "      <td>...</td>\n",
       "      <td>...</td>\n",
       "      <td>...</td>\n",
       "    </tr>\n",
       "    <tr>\n",
       "      <th>4363</th>\n",
       "      <td>13000.0</td>\n",
       "      <td>30</td>\n",
       "      <td>1.3000</td>\n",
       "      <td>Permanent</td>\n",
       "      <td>Graduate</td>\n",
       "      <td>40.0</td>\n",
       "    </tr>\n",
       "    <tr>\n",
       "      <th>4364</th>\n",
       "      <td>13000.0</td>\n",
       "      <td>30</td>\n",
       "      <td>1.3000</td>\n",
       "      <td>Permanent</td>\n",
       "      <td>Graduate</td>\n",
       "      <td>35.0</td>\n",
       "    </tr>\n",
       "    <tr>\n",
       "      <th>4365</th>\n",
       "      <td>11500.0</td>\n",
       "      <td>15</td>\n",
       "      <td>1.1500</td>\n",
       "      <td>Permanent</td>\n",
       "      <td>Graduate</td>\n",
       "      <td>35.0</td>\n",
       "    </tr>\n",
       "    <tr>\n",
       "      <th>4366</th>\n",
       "      <td>13000.0</td>\n",
       "      <td>30</td>\n",
       "      <td>1.3000</td>\n",
       "      <td>Permanent</td>\n",
       "      <td>Graduate</td>\n",
       "      <td>35.0</td>\n",
       "    </tr>\n",
       "    <tr>\n",
       "      <th>4367</th>\n",
       "      <td>34500.0</td>\n",
       "      <td>30</td>\n",
       "      <td>1.1500</td>\n",
       "      <td>Permanent</td>\n",
       "      <td>Graduate</td>\n",
       "      <td>37.0</td>\n",
       "    </tr>\n",
       "  </tbody>\n",
       "</table>\n",
       "<p>4368 rows × 6 columns</p>\n",
       "</div>"
      ],
      "text/plain": [
       "      totaldue  termdays  loan_to_due_ratio employment_status_clients  \\\n",
       "0      34500.0        30             1.1500                 Permanent   \n",
       "1      17250.0        30             1.1500                 Permanent   \n",
       "2      22250.0        15             1.1125                 Permanent   \n",
       "3      11500.0        15             1.1500                 Permanent   \n",
       "4      44000.0        30             1.1000                 Permanent   \n",
       "...        ...       ...                ...                       ...   \n",
       "4363   13000.0        30             1.3000                 Permanent   \n",
       "4364   13000.0        30             1.3000                 Permanent   \n",
       "4365   11500.0        15             1.1500                 Permanent   \n",
       "4366   13000.0        30             1.3000                 Permanent   \n",
       "4367   34500.0        30             1.1500                 Permanent   \n",
       "\n",
       "     level_of_education_clients   age  \n",
       "0                 Post-Graduate  53.0  \n",
       "1                      Graduate  40.0  \n",
       "2                      Graduate  40.0  \n",
       "3                      Graduate  47.0  \n",
       "4                       Primary  39.0  \n",
       "...                         ...   ...  \n",
       "4363                   Graduate  40.0  \n",
       "4364                   Graduate  35.0  \n",
       "4365                   Graduate  35.0  \n",
       "4366                   Graduate  35.0  \n",
       "4367                   Graduate  37.0  \n",
       "\n",
       "[4368 rows x 6 columns]"
      ]
     },
     "execution_count": 117,
     "metadata": {},
     "output_type": "execute_result"
    }
   ],
   "source": [
    "X"
   ]
  },
  {
   "cell_type": "code",
   "execution_count": 118,
   "id": "12022ceb-b8fa-46b9-a427-4d2b466e6b4e",
   "metadata": {},
   "outputs": [
    {
     "data": {
      "text/plain": [
       "totaldue                      float64\n",
       "termdays                        int64\n",
       "loan_to_due_ratio             float64\n",
       "employment_status_clients      object\n",
       "level_of_education_clients     object\n",
       "age                           float64\n",
       "dtype: object"
      ]
     },
     "execution_count": 118,
     "metadata": {},
     "output_type": "execute_result"
    }
   ],
   "source": [
    "X.dtypes"
   ]
  },
  {
   "cell_type": "code",
   "execution_count": 130,
   "id": "49f6e091-453f-4f17-8722-1402fae298ed",
   "metadata": {},
   "outputs": [
    {
     "data": {
      "text/plain": [
       "0       Good\n",
       "1       Good\n",
       "2       Good\n",
       "3       Good\n",
       "4       Good\n",
       "        ... \n",
       "4363     Bad\n",
       "4364     Bad\n",
       "4365     Bad\n",
       "4366     Bad\n",
       "4367     Bad\n",
       "Name: good_bad_flag, Length: 4368, dtype: object"
      ]
     },
     "execution_count": 130,
     "metadata": {},
     "output_type": "execute_result"
    }
   ],
   "source": [
    "y"
   ]
  },
  {
   "cell_type": "code",
   "execution_count": 138,
   "id": "252736bc-4d94-461d-bcea-87d920785cea",
   "metadata": {},
   "outputs": [
    {
     "data": {
      "text/plain": [
       "63.0"
      ]
     },
     "execution_count": 138,
     "metadata": {},
     "output_type": "execute_result"
    }
   ],
   "source": [
    "df6['age'].max()"
   ]
  },
  {
   "cell_type": "code",
   "execution_count": 139,
   "id": "39fbffcf-803d-47d9-baf0-c0461980218d",
   "metadata": {},
   "outputs": [
    {
     "data": {
      "text/plain": [
       "29.0"
      ]
     },
     "execution_count": 139,
     "metadata": {},
     "output_type": "execute_result"
    }
   ],
   "source": [
    "df6['age'].min()"
   ]
  },
  {
   "cell_type": "code",
   "execution_count": 140,
   "id": "29b82cc6-9624-4bdc-a386-e7bf7cf87486",
   "metadata": {},
   "outputs": [
    {
     "data": {
      "text/plain": [
       "level_of_education_clients\n",
       "Graduate         4246\n",
       "Secondary          65\n",
       "Post-Graduate      50\n",
       "Primary             7\n",
       "Name: count, dtype: int64"
      ]
     },
     "execution_count": 140,
     "metadata": {},
     "output_type": "execute_result"
    }
   ],
   "source": [
    "df6['level_of_education_clients'].value_counts()"
   ]
  },
  {
   "cell_type": "code",
   "execution_count": 141,
   "id": "b6fdc8e0-b1d0-4c69-a40f-66efe4494e65",
   "metadata": {},
   "outputs": [
    {
     "data": {
      "text/plain": [
       "employment_status_clients\n",
       "Permanent        3932\n",
       "Self-Employed     277\n",
       "Student           111\n",
       "Unemployed         43\n",
       "Retired             4\n",
       "Contract            1\n",
       "Name: count, dtype: int64"
      ]
     },
     "execution_count": 141,
     "metadata": {},
     "output_type": "execute_result"
    }
   ],
   "source": [
    "df6['employment_status_clients'].value_counts()"
   ]
  },
  {
   "cell_type": "code",
   "execution_count": 142,
   "id": "60cd7177-cf7b-48e0-906c-b2c04864cbed",
   "metadata": {},
   "outputs": [
    {
     "data": {
      "text/plain": [
       "10000.0"
      ]
     },
     "execution_count": 142,
     "metadata": {},
     "output_type": "execute_result"
    }
   ],
   "source": [
    "df6['totaldue'].min() "
   ]
  },
  {
   "cell_type": "code",
   "execution_count": 143,
   "id": "41529fdd-fecf-4516-b77c-6a61cdb922c3",
   "metadata": {},
   "outputs": [
    {
     "data": {
      "text/plain": [
       "68100.0"
      ]
     },
     "execution_count": 143,
     "metadata": {},
     "output_type": "execute_result"
    }
   ],
   "source": [
    "df6['totaldue'].max() "
   ]
  },
  {
   "cell_type": "code",
   "execution_count": null,
   "id": "8c339ad6-210c-45e0-be4e-b06be5623947",
   "metadata": {},
   "outputs": [],
   "source": []
  }
 ],
 "metadata": {
  "kernelspec": {
   "display_name": "Python [conda env:base] *",
   "language": "python",
   "name": "conda-base-py"
  },
  "language_info": {
   "codemirror_mode": {
    "name": "ipython",
    "version": 3
   },
   "file_extension": ".py",
   "mimetype": "text/x-python",
   "name": "python",
   "nbconvert_exporter": "python",
   "pygments_lexer": "ipython3",
   "version": "3.12.7"
  }
 },
 "nbformat": 4,
 "nbformat_minor": 5
}
