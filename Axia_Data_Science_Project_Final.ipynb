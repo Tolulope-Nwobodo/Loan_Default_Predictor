{
  "cells": [
    {
      "cell_type": "markdown",
      "id": "139d63e3-4e4a-41f2-9e91-af32e79dbeb8",
      "metadata": {
        "id": "139d63e3-4e4a-41f2-9e91-af32e79dbeb8"
      },
      "source": [
        "# Predicting Loan Default Risk"
      ]
    },
    {
      "cell_type": "markdown",
      "id": "294dd4ea-91b1-45b8-af9e-0d444f93565b",
      "metadata": {
        "id": "294dd4ea-91b1-45b8-af9e-0d444f93565b"
      },
      "source": [
        "## Problem Statement: This project entails developing a robust machine learning pipeline to predict loan default risk, enabling better credit decisions and minimizing financial losses"
      ]
    },
    {
      "cell_type": "markdown",
      "id": "6cd2b884-bdd3-4cf1-b4bf-ccbf459f52b2",
      "metadata": {
        "id": "6cd2b884-bdd3-4cf1-b4bf-ccbf459f52b2"
      },
      "source": [
        "### It is a classification problem and would require the use of logistic regression to fix\n",
        "+ Our target column is the good_bad_flag"
      ]
    },
    {
      "cell_type": "code",
      "execution_count": null,
      "id": "de2ba8cf-6bde-488c-89aa-99591263cc75",
      "metadata": {
        "id": "de2ba8cf-6bde-488c-89aa-99591263cc75"
      },
      "outputs": [],
      "source": [
        "#import necessary libraries\n",
        "import pandas as pd\n",
        "import numpy as np\n",
        "import matplotlib.pyplot as plt\n",
        "import seaborn as sns\n",
        "import warnings\n",
        "\n",
        "warnings.filterwarnings('ignore')"
      ]
    },
    {
      "cell_type": "code",
      "execution_count": null,
      "id": "ebb46b24-9d3d-4c72-a4b8-855f2f4bca2d",
      "metadata": {
        "id": "ebb46b24-9d3d-4c72-a4b8-855f2f4bca2d"
      },
      "outputs": [],
      "source": [
        "#load the three datasets\n",
        "url1 = 'https://raw.githubusercontent.com/Oyeniran20/axia_cohort_8/refs/heads/main/trainperf.csv'\n",
        "url2 = 'https://raw.githubusercontent.com/Oyeniran20/axia_cohort_8/refs/heads/main/traindemographics.csv'\n",
        "url3 = 'https://raw.githubusercontent.com/Oyeniran20/axia_cohort_8/refs/heads/main/trainprevloans.csv'"
      ]
    },
    {
      "cell_type": "code",
      "execution_count": null,
      "id": "56af3e4c-bd32-4ba8-b873-e4a882036220",
      "metadata": {
        "id": "56af3e4c-bd32-4ba8-b873-e4a882036220"
      },
      "outputs": [],
      "source": [
        "#read them into dataframes\n",
        "df1 = pd.read_csv(url1)\n",
        "df2 = pd.read_csv(url2)\n",
        "df3 = pd.read_csv(url3)"
      ]
    },
    {
      "cell_type": "markdown",
      "id": "360f9ffe-ac83-4a88-892d-03e0b7568864",
      "metadata": {
        "id": "360f9ffe-ac83-4a88-892d-03e0b7568864"
      },
      "source": [
        "### Data Understanding"
      ]
    },
    {
      "cell_type": "code",
      "execution_count": null,
      "id": "2f9bfe98-f938-4e97-8995-10d26902646b",
      "metadata": {
        "id": "2f9bfe98-f938-4e97-8995-10d26902646b",
        "outputId": "1bd1730f-8b2a-4fa4-d70c-d1f21825528e"
      },
      "outputs": [
        {
          "data": {
            "text/html": [
              "<div>\n",
              "<style scoped>\n",
              "    .dataframe tbody tr th:only-of-type {\n",
              "        vertical-align: middle;\n",
              "    }\n",
              "\n",
              "    .dataframe tbody tr th {\n",
              "        vertical-align: top;\n",
              "    }\n",
              "\n",
              "    .dataframe thead th {\n",
              "        text-align: right;\n",
              "    }\n",
              "</style>\n",
              "<table border=\"1\" class=\"dataframe\">\n",
              "  <thead>\n",
              "    <tr style=\"text-align: right;\">\n",
              "      <th></th>\n",
              "      <th>customerid</th>\n",
              "      <th>systemloanid</th>\n",
              "      <th>loannumber</th>\n",
              "      <th>approveddate</th>\n",
              "      <th>creationdate</th>\n",
              "      <th>loanamount</th>\n",
              "      <th>totaldue</th>\n",
              "      <th>termdays</th>\n",
              "      <th>referredby</th>\n",
              "      <th>good_bad_flag</th>\n",
              "    </tr>\n",
              "  </thead>\n",
              "  <tbody>\n",
              "    <tr>\n",
              "      <th>3731</th>\n",
              "      <td>8a858e9e5b1f064e015b1f1aae1f11d1</td>\n",
              "      <td>301973029</td>\n",
              "      <td>2</td>\n",
              "      <td>2017-07-11 13:27:05.000000</td>\n",
              "      <td>2017-07-11 12:25:56.000000</td>\n",
              "      <td>10000.0</td>\n",
              "      <td>13000.0</td>\n",
              "      <td>30</td>\n",
              "      <td>NaN</td>\n",
              "      <td>Good</td>\n",
              "    </tr>\n",
              "    <tr>\n",
              "      <th>3018</th>\n",
              "      <td>8a858ec65cc6352b015cc9e42b441adf</td>\n",
              "      <td>301975910</td>\n",
              "      <td>2</td>\n",
              "      <td>2017-07-13 11:45:34.000000</td>\n",
              "      <td>2017-07-13 10:45:27.000000</td>\n",
              "      <td>10000.0</td>\n",
              "      <td>13000.0</td>\n",
              "      <td>30</td>\n",
              "      <td>NaN</td>\n",
              "      <td>Good</td>\n",
              "    </tr>\n",
              "  </tbody>\n",
              "</table>\n",
              "</div>"
            ],
            "text/plain": [
              "                            customerid  systemloanid  loannumber  \\\n",
              "3731  8a858e9e5b1f064e015b1f1aae1f11d1     301973029           2   \n",
              "3018  8a858ec65cc6352b015cc9e42b441adf     301975910           2   \n",
              "\n",
              "                    approveddate                creationdate  loanamount  \\\n",
              "3731  2017-07-11 13:27:05.000000  2017-07-11 12:25:56.000000     10000.0   \n",
              "3018  2017-07-13 11:45:34.000000  2017-07-13 10:45:27.000000     10000.0   \n",
              "\n",
              "      totaldue  termdays referredby good_bad_flag  \n",
              "3731   13000.0        30        NaN          Good  \n",
              "3018   13000.0        30        NaN          Good  "
            ]
          },
          "execution_count": 4,
          "metadata": {},
          "output_type": "execute_result"
        }
      ],
      "source": [
        "df1.sample(2)"
      ]
    },
    {
      "cell_type": "code",
      "execution_count": null,
      "id": "e00f2bf2-0292-475c-9cb1-33e6bf5d2e42",
      "metadata": {
        "id": "e00f2bf2-0292-475c-9cb1-33e6bf5d2e42",
        "outputId": "a9e5af42-0fbf-49b9-ee17-3b7a6b617671"
      },
      "outputs": [
        {
          "data": {
            "text/html": [
              "<div>\n",
              "<style scoped>\n",
              "    .dataframe tbody tr th:only-of-type {\n",
              "        vertical-align: middle;\n",
              "    }\n",
              "\n",
              "    .dataframe tbody tr th {\n",
              "        vertical-align: top;\n",
              "    }\n",
              "\n",
              "    .dataframe thead th {\n",
              "        text-align: right;\n",
              "    }\n",
              "</style>\n",
              "<table border=\"1\" class=\"dataframe\">\n",
              "  <thead>\n",
              "    <tr style=\"text-align: right;\">\n",
              "      <th></th>\n",
              "      <th>customerid</th>\n",
              "      <th>birthdate</th>\n",
              "      <th>bank_account_type</th>\n",
              "      <th>longitude_gps</th>\n",
              "      <th>latitude_gps</th>\n",
              "      <th>bank_name_clients</th>\n",
              "      <th>bank_branch_clients</th>\n",
              "      <th>employment_status_clients</th>\n",
              "      <th>level_of_education_clients</th>\n",
              "    </tr>\n",
              "  </thead>\n",
              "  <tbody>\n",
              "    <tr>\n",
              "      <th>2591</th>\n",
              "      <td>8a858fb15d41fc6b015d420039ec015f</td>\n",
              "      <td>1986-08-20 00:00:00.000000</td>\n",
              "      <td>Savings</td>\n",
              "      <td>3.357342</td>\n",
              "      <td>6.545718</td>\n",
              "      <td>GT Bank</td>\n",
              "      <td>NaN</td>\n",
              "      <td>Permanent</td>\n",
              "      <td>NaN</td>\n",
              "    </tr>\n",
              "    <tr>\n",
              "      <th>2668</th>\n",
              "      <td>8a858f3455a0d8070155baddc1256a8b</td>\n",
              "      <td>1995-10-23 00:00:00.000000</td>\n",
              "      <td>Other</td>\n",
              "      <td>3.196012</td>\n",
              "      <td>6.479474</td>\n",
              "      <td>GT Bank</td>\n",
              "      <td>NaN</td>\n",
              "      <td>Self-Employed</td>\n",
              "      <td>Graduate</td>\n",
              "    </tr>\n",
              "  </tbody>\n",
              "</table>\n",
              "</div>"
            ],
            "text/plain": [
              "                            customerid                   birthdate  \\\n",
              "2591  8a858fb15d41fc6b015d420039ec015f  1986-08-20 00:00:00.000000   \n",
              "2668  8a858f3455a0d8070155baddc1256a8b  1995-10-23 00:00:00.000000   \n",
              "\n",
              "     bank_account_type  longitude_gps  latitude_gps bank_name_clients  \\\n",
              "2591           Savings       3.357342      6.545718           GT Bank   \n",
              "2668             Other       3.196012      6.479474           GT Bank   \n",
              "\n",
              "     bank_branch_clients employment_status_clients level_of_education_clients  \n",
              "2591                 NaN                 Permanent                        NaN  \n",
              "2668                 NaN             Self-Employed                   Graduate  "
            ]
          },
          "execution_count": 5,
          "metadata": {},
          "output_type": "execute_result"
        }
      ],
      "source": [
        "df2.sample(2)"
      ]
    },
    {
      "cell_type": "code",
      "execution_count": null,
      "id": "2575a11d-a5d1-4b98-b3cc-ba3947bbad64",
      "metadata": {
        "id": "2575a11d-a5d1-4b98-b3cc-ba3947bbad64",
        "outputId": "91a81e6f-7f83-46dd-b384-7561093f0ee6"
      },
      "outputs": [
        {
          "data": {
            "text/html": [
              "<div>\n",
              "<style scoped>\n",
              "    .dataframe tbody tr th:only-of-type {\n",
              "        vertical-align: middle;\n",
              "    }\n",
              "\n",
              "    .dataframe tbody tr th {\n",
              "        vertical-align: top;\n",
              "    }\n",
              "\n",
              "    .dataframe thead th {\n",
              "        text-align: right;\n",
              "    }\n",
              "</style>\n",
              "<table border=\"1\" class=\"dataframe\">\n",
              "  <thead>\n",
              "    <tr style=\"text-align: right;\">\n",
              "      <th></th>\n",
              "      <th>customerid</th>\n",
              "      <th>systemloanid</th>\n",
              "      <th>loannumber</th>\n",
              "      <th>approveddate</th>\n",
              "      <th>creationdate</th>\n",
              "      <th>loanamount</th>\n",
              "      <th>totaldue</th>\n",
              "      <th>termdays</th>\n",
              "      <th>closeddate</th>\n",
              "      <th>referredby</th>\n",
              "      <th>firstduedate</th>\n",
              "      <th>firstrepaiddate</th>\n",
              "    </tr>\n",
              "  </thead>\n",
              "  <tbody>\n",
              "    <tr>\n",
              "      <th>4416</th>\n",
              "      <td>8a858fd85507735701551173e8c225b2</td>\n",
              "      <td>301627406</td>\n",
              "      <td>1</td>\n",
              "      <td>2016-06-02 19:19:45.000000</td>\n",
              "      <td>2016-06-02 18:19:39.000000</td>\n",
              "      <td>10000.0</td>\n",
              "      <td>11500.0</td>\n",
              "      <td>15</td>\n",
              "      <td>2016-06-17 00:05:19.000000</td>\n",
              "      <td>NaN</td>\n",
              "      <td>2016-06-17 00:00:00.000000</td>\n",
              "      <td>2016-06-16 15:34:15.000000</td>\n",
              "    </tr>\n",
              "    <tr>\n",
              "      <th>4695</th>\n",
              "      <td>8a858f0455d9feaf0155e4344e847fc6</td>\n",
              "      <td>301878634</td>\n",
              "      <td>2</td>\n",
              "      <td>2017-04-24 13:27:47.000000</td>\n",
              "      <td>2017-04-24 12:27:39.000000</td>\n",
              "      <td>10000.0</td>\n",
              "      <td>11500.0</td>\n",
              "      <td>15</td>\n",
              "      <td>2017-05-05 13:35:33.000000</td>\n",
              "      <td>NaN</td>\n",
              "      <td>2017-05-09 00:00:00.000000</td>\n",
              "      <td>2017-05-05 13:20:23.000000</td>\n",
              "    </tr>\n",
              "  </tbody>\n",
              "</table>\n",
              "</div>"
            ],
            "text/plain": [
              "                            customerid  systemloanid  loannumber  \\\n",
              "4416  8a858fd85507735701551173e8c225b2     301627406           1   \n",
              "4695  8a858f0455d9feaf0155e4344e847fc6     301878634           2   \n",
              "\n",
              "                    approveddate                creationdate  loanamount  \\\n",
              "4416  2016-06-02 19:19:45.000000  2016-06-02 18:19:39.000000     10000.0   \n",
              "4695  2017-04-24 13:27:47.000000  2017-04-24 12:27:39.000000     10000.0   \n",
              "\n",
              "      totaldue  termdays                  closeddate referredby  \\\n",
              "4416   11500.0        15  2016-06-17 00:05:19.000000        NaN   \n",
              "4695   11500.0        15  2017-05-05 13:35:33.000000        NaN   \n",
              "\n",
              "                    firstduedate             firstrepaiddate  \n",
              "4416  2016-06-17 00:00:00.000000  2016-06-16 15:34:15.000000  \n",
              "4695  2017-05-09 00:00:00.000000  2017-05-05 13:20:23.000000  "
            ]
          },
          "execution_count": 6,
          "metadata": {},
          "output_type": "execute_result"
        }
      ],
      "source": [
        "df3.sample(2)"
      ]
    },
    {
      "cell_type": "code",
      "execution_count": null,
      "id": "4a5f1938-4a69-457b-aa3e-32d44cde0deb",
      "metadata": {
        "id": "4a5f1938-4a69-457b-aa3e-32d44cde0deb",
        "outputId": "8f61e348-1074-42ae-af95-4cc40af23f8e"
      },
      "outputs": [
        {
          "name": "stdout",
          "output_type": "stream",
          "text": [
            "(4368, 10)\n",
            "<class 'pandas.core.frame.DataFrame'>\n",
            "RangeIndex: 4368 entries, 0 to 4367\n",
            "Data columns (total 10 columns):\n",
            " #   Column         Non-Null Count  Dtype  \n",
            "---  ------         --------------  -----  \n",
            " 0   customerid     4368 non-null   object \n",
            " 1   systemloanid   4368 non-null   int64  \n",
            " 2   loannumber     4368 non-null   int64  \n",
            " 3   approveddate   4368 non-null   object \n",
            " 4   creationdate   4368 non-null   object \n",
            " 5   loanamount     4368 non-null   float64\n",
            " 6   totaldue       4368 non-null   float64\n",
            " 7   termdays       4368 non-null   int64  \n",
            " 8   referredby     587 non-null    object \n",
            " 9   good_bad_flag  4368 non-null   object \n",
            "dtypes: float64(2), int64(3), object(5)\n",
            "memory usage: 341.4+ KB\n"
          ]
        }
      ],
      "source": [
        "#inspect the data\n",
        "print(df1.shape)\n",
        "df1.info()"
      ]
    },
    {
      "cell_type": "code",
      "execution_count": null,
      "id": "d00b576d-2f23-411b-a423-9530024bbc2e",
      "metadata": {
        "id": "d00b576d-2f23-411b-a423-9530024bbc2e",
        "outputId": "ff960a56-517b-4158-e9c7-b19f08751289"
      },
      "outputs": [
        {
          "name": "stdout",
          "output_type": "stream",
          "text": [
            "(4346, 9)\n",
            "<class 'pandas.core.frame.DataFrame'>\n",
            "RangeIndex: 4346 entries, 0 to 4345\n",
            "Data columns (total 9 columns):\n",
            " #   Column                      Non-Null Count  Dtype  \n",
            "---  ------                      --------------  -----  \n",
            " 0   customerid                  4346 non-null   object \n",
            " 1   birthdate                   4346 non-null   object \n",
            " 2   bank_account_type           4346 non-null   object \n",
            " 3   longitude_gps               4346 non-null   float64\n",
            " 4   latitude_gps                4346 non-null   float64\n",
            " 5   bank_name_clients           4346 non-null   object \n",
            " 6   bank_branch_clients         51 non-null     object \n",
            " 7   employment_status_clients   3698 non-null   object \n",
            " 8   level_of_education_clients  587 non-null    object \n",
            "dtypes: float64(2), object(7)\n",
            "memory usage: 305.7+ KB\n"
          ]
        }
      ],
      "source": [
        "print(df2.shape)\n",
        "df2.info()"
      ]
    },
    {
      "cell_type": "code",
      "execution_count": null,
      "id": "5d1ff9e8-06f7-4b6c-8dc0-f3f8e5db249c",
      "metadata": {
        "id": "5d1ff9e8-06f7-4b6c-8dc0-f3f8e5db249c",
        "outputId": "3448bee2-e056-453b-ea20-89cee38b0c7f"
      },
      "outputs": [
        {
          "name": "stdout",
          "output_type": "stream",
          "text": [
            "(18183, 12)\n",
            "<class 'pandas.core.frame.DataFrame'>\n",
            "RangeIndex: 18183 entries, 0 to 18182\n",
            "Data columns (total 12 columns):\n",
            " #   Column           Non-Null Count  Dtype  \n",
            "---  ------           --------------  -----  \n",
            " 0   customerid       18183 non-null  object \n",
            " 1   systemloanid     18183 non-null  int64  \n",
            " 2   loannumber       18183 non-null  int64  \n",
            " 3   approveddate     18183 non-null  object \n",
            " 4   creationdate     18183 non-null  object \n",
            " 5   loanamount       18183 non-null  float64\n",
            " 6   totaldue         18183 non-null  float64\n",
            " 7   termdays         18183 non-null  int64  \n",
            " 8   closeddate       18183 non-null  object \n",
            " 9   referredby       1026 non-null   object \n",
            " 10  firstduedate     18183 non-null  object \n",
            " 11  firstrepaiddate  18183 non-null  object \n",
            "dtypes: float64(2), int64(3), object(7)\n",
            "memory usage: 1.7+ MB\n"
          ]
        }
      ],
      "source": [
        "print(df3.shape)\n",
        "df3.info()"
      ]
    },
    {
      "cell_type": "markdown",
      "id": "20edd131-3b50-4024-8275-bdf5435623ce",
      "metadata": {
        "id": "20edd131-3b50-4024-8275-bdf5435623ce"
      },
      "source": [
        "### a) Demographic data (traindemographics.csv)\n",
        "+ customerid (Primary key used to merge to other data)\n",
        "+ birthdate (date of birth of the customer)\n",
        "+ bank_account_type (type of primary bank account)\n",
        "+ longitude_gps\n",
        "+ latitude_gps\n",
        "+ bank_name_clients (name of the bank)\n",
        "+ bank_branch_clients (location of the branch - not compulsory - so missing in a lot of the cases)\n",
        "+ employment_status_clients (type of employment that customer has)\n",
        "+ level_of_education_clients (highest level of education)\n",
        "\n",
        "### b) Performance data (trainperf.csv) : This is the repeat loan that the customer has taken for which we need to predict the performance of. Basically, we need to predict whether this loan would default given all previous loans and demographics of a customer.\n",
        "+ customerid (Primary key used to merge to other data)\n",
        "+ systemloanid (The id associated with the particular loan. The same customerId can have multiple systemloanid’s for each loan he/she has taken out)\n",
        "+ loannumber (The number of the loan that you have to predict)\n",
        "+ approveddate (Date that loan was approved)\n",
        "+ creationdate (Date that loan application was created)\n",
        "+ loanamount (Loan value taken)\n",
        "+ totaldue (Total repayment required to settle the loan - this is the capital loan value disbursed +interest and fees)\n",
        "+ termdays (Term of loan)\n",
        "+ referredby (customerId of the customer that referred this person - is missing, then not referred)\n",
        "+ good_bad_flag (good = settled loan on time; bad = did not settled loan on time) - this is the target variable that we need to predict\n",
        "\n",
        "### c) Previous loans data (trainprevloans.csv) : This dataset contains all previous loans that the customer had prior to the loan above that we want to predict the performance of. Each loan will have a different systemloanid, but the same customerid for each customer.\n",
        "+ customerid (Primary key used to merge to other data)\n",
        "+ systemloanid (The id associated with the particular loan. The same customerId can have multiple systemloanid’s for each loan he/she has taken out)\n",
        "+ loannumber (The number of the loan that you have to predict)\n",
        "+ approveddate (Date that loan was approved)\n",
        "+ creationdate (Date that loan application was created)\n",
        "+ loanamount (Date that loan application was created)\n",
        "+ totaldue (Total repayment required to settle the loan - this is the capital loan value disbursed +interest and fees) termdays (Term of loan)\n",
        "+ closeddate (Date that the loan was settled)\n",
        "+ referredby (customerId of the customer that referred this person - is missing, then not refrerred)\n",
        "+ firstduedate (Date of first payment due in cases where the term is longer than 30 days. So in the case where the term is 60+ days - then there are + multiple monthly payments due - and this dates reflects the date of the first payment)\n",
        "+ firstrepaiddate (Actual date that he/she paid the first payment as defined above)\n"
      ]
    },
    {
      "cell_type": "code",
      "execution_count": null,
      "id": "f408f4ab-3657-4a75-abd9-ffb9adfeaa2d",
      "metadata": {
        "id": "f408f4ab-3657-4a75-abd9-ffb9adfeaa2d",
        "outputId": "26fcd1c2-9664-4cf0-f847-a62e3ff58f63"
      },
      "outputs": [
        {
          "name": "stdout",
          "output_type": "stream",
          "text": [
            "customerid          0\n",
            "systemloanid        0\n",
            "loannumber          0\n",
            "approveddate        0\n",
            "creationdate        0\n",
            "loanamount          0\n",
            "totaldue            0\n",
            "termdays            0\n",
            "referredby       3781\n",
            "good_bad_flag       0\n",
            "dtype: int64\n",
            "customerid                       0\n",
            "birthdate                        0\n",
            "bank_account_type                0\n",
            "longitude_gps                    0\n",
            "latitude_gps                     0\n",
            "bank_name_clients                0\n",
            "bank_branch_clients           4295\n",
            "employment_status_clients      648\n",
            "level_of_education_clients    3759\n",
            "dtype: int64\n",
            "customerid             0\n",
            "systemloanid           0\n",
            "loannumber             0\n",
            "approveddate           0\n",
            "creationdate           0\n",
            "loanamount             0\n",
            "totaldue               0\n",
            "termdays               0\n",
            "closeddate             0\n",
            "referredby         17157\n",
            "firstduedate           0\n",
            "firstrepaiddate        0\n",
            "dtype: int64\n"
          ]
        }
      ],
      "source": [
        "#check for missing values\n",
        "print(df1.isna().sum())\n",
        "print(df2.isna().sum())\n",
        "print(df3.isna().sum())"
      ]
    },
    {
      "cell_type": "code",
      "execution_count": null,
      "id": "4723ec73-9e37-4e26-b9d9-6539e5a44d23",
      "metadata": {
        "id": "4723ec73-9e37-4e26-b9d9-6539e5a44d23",
        "outputId": "9a60dcc9-0df7-4880-b1b4-67b16ff5d832"
      },
      "outputs": [
        {
          "name": "stdout",
          "output_type": "stream",
          "text": [
            "0\n",
            "12\n",
            "0\n"
          ]
        }
      ],
      "source": [
        "#check for duplicates\n",
        "print(df1.duplicated().sum())\n",
        "print(df2.duplicated().sum())\n",
        "print(df3.duplicated().sum())"
      ]
    },
    {
      "cell_type": "code",
      "execution_count": null,
      "id": "81e7db16-8fe3-4b5c-97a5-4b2961440f37",
      "metadata": {
        "id": "81e7db16-8fe3-4b5c-97a5-4b2961440f37",
        "outputId": "5691dd4e-9662-4e07-d941-2e4b1e5aa42e"
      },
      "outputs": [
        {
          "name": "stdout",
          "output_type": "stream",
          "text": [
            "0\n",
            "12\n",
            "13824\n"
          ]
        }
      ],
      "source": [
        "print(df1['customerid'].duplicated().sum())\n",
        "print(df2['customerid'].duplicated().sum())\n",
        "print(df3['customerid'].duplicated().sum())"
      ]
    },
    {
      "cell_type": "code",
      "execution_count": null,
      "id": "f95fbd19-306c-41e7-b29f-63e77523e617",
      "metadata": {
        "id": "f95fbd19-306c-41e7-b29f-63e77523e617",
        "outputId": "e89e0cca-2d2c-4a0d-883c-5d9c3e2d1791"
      },
      "outputs": [
        {
          "data": {
            "text/plain": [
              "4359"
            ]
          },
          "execution_count": 13,
          "metadata": {},
          "output_type": "execute_result"
        }
      ],
      "source": [
        "len(df3['customerid'].unique())"
      ]
    },
    {
      "cell_type": "code",
      "execution_count": null,
      "id": "d5b08038-f755-4908-9dbb-ec6727ef8b74",
      "metadata": {
        "id": "d5b08038-f755-4908-9dbb-ec6727ef8b74",
        "outputId": "935444df-a65e-48d8-cad2-2b8fa4ca1491"
      },
      "outputs": [
        {
          "data": {
            "text/html": [
              "<div>\n",
              "<style scoped>\n",
              "    .dataframe tbody tr th:only-of-type {\n",
              "        vertical-align: middle;\n",
              "    }\n",
              "\n",
              "    .dataframe tbody tr th {\n",
              "        vertical-align: top;\n",
              "    }\n",
              "\n",
              "    .dataframe thead th {\n",
              "        text-align: right;\n",
              "    }\n",
              "</style>\n",
              "<table border=\"1\" class=\"dataframe\">\n",
              "  <thead>\n",
              "    <tr style=\"text-align: right;\">\n",
              "      <th></th>\n",
              "      <th>count</th>\n",
              "      <th>mean</th>\n",
              "      <th>std</th>\n",
              "      <th>min</th>\n",
              "      <th>25%</th>\n",
              "      <th>50%</th>\n",
              "      <th>75%</th>\n",
              "      <th>max</th>\n",
              "    </tr>\n",
              "  </thead>\n",
              "  <tbody>\n",
              "    <tr>\n",
              "      <th>systemloanid</th>\n",
              "      <td>4368.0</td>\n",
              "      <td>301980957.0</td>\n",
              "      <td>13431.0</td>\n",
              "      <td>301958485.0</td>\n",
              "      <td>301969128.0</td>\n",
              "      <td>301980100.0</td>\n",
              "      <td>301993504.0</td>\n",
              "      <td>302004050.0</td>\n",
              "    </tr>\n",
              "    <tr>\n",
              "      <th>loannumber</th>\n",
              "      <td>4368.0</td>\n",
              "      <td>5.0</td>\n",
              "      <td>4.0</td>\n",
              "      <td>2.0</td>\n",
              "      <td>2.0</td>\n",
              "      <td>4.0</td>\n",
              "      <td>7.0</td>\n",
              "      <td>27.0</td>\n",
              "    </tr>\n",
              "    <tr>\n",
              "      <th>loanamount</th>\n",
              "      <td>4368.0</td>\n",
              "      <td>17809.0</td>\n",
              "      <td>10750.0</td>\n",
              "      <td>10000.0</td>\n",
              "      <td>10000.0</td>\n",
              "      <td>10000.0</td>\n",
              "      <td>20000.0</td>\n",
              "      <td>60000.0</td>\n",
              "    </tr>\n",
              "    <tr>\n",
              "      <th>totaldue</th>\n",
              "      <td>4368.0</td>\n",
              "      <td>21257.0</td>\n",
              "      <td>11944.0</td>\n",
              "      <td>10000.0</td>\n",
              "      <td>13000.0</td>\n",
              "      <td>13000.0</td>\n",
              "      <td>24500.0</td>\n",
              "      <td>68100.0</td>\n",
              "    </tr>\n",
              "    <tr>\n",
              "      <th>termdays</th>\n",
              "      <td>4368.0</td>\n",
              "      <td>29.0</td>\n",
              "      <td>12.0</td>\n",
              "      <td>15.0</td>\n",
              "      <td>30.0</td>\n",
              "      <td>30.0</td>\n",
              "      <td>30.0</td>\n",
              "      <td>90.0</td>\n",
              "    </tr>\n",
              "  </tbody>\n",
              "</table>\n",
              "</div>"
            ],
            "text/plain": [
              "               count         mean      std          min          25%  \\\n",
              "systemloanid  4368.0  301980957.0  13431.0  301958485.0  301969128.0   \n",
              "loannumber    4368.0          5.0      4.0          2.0          2.0   \n",
              "loanamount    4368.0      17809.0  10750.0      10000.0      10000.0   \n",
              "totaldue      4368.0      21257.0  11944.0      10000.0      13000.0   \n",
              "termdays      4368.0         29.0     12.0         15.0         30.0   \n",
              "\n",
              "                      50%          75%          max  \n",
              "systemloanid  301980100.0  301993504.0  302004050.0  \n",
              "loannumber            4.0          7.0         27.0  \n",
              "loanamount        10000.0      20000.0      60000.0  \n",
              "totaldue          13000.0      24500.0      68100.0  \n",
              "termdays             30.0         30.0         90.0  "
            ]
          },
          "execution_count": 14,
          "metadata": {},
          "output_type": "execute_result"
        }
      ],
      "source": [
        "# check summary statistics\n",
        "df1.describe().T.round()"
      ]
    },
    {
      "cell_type": "code",
      "execution_count": null,
      "id": "9b9d0822-49eb-49b2-ac64-2cabb0e41322",
      "metadata": {
        "id": "9b9d0822-49eb-49b2-ac64-2cabb0e41322",
        "outputId": "13ce9039-a690-4244-b824-8517bea0efa0"
      },
      "outputs": [
        {
          "data": {
            "text/html": [
              "<div>\n",
              "<style scoped>\n",
              "    .dataframe tbody tr th:only-of-type {\n",
              "        vertical-align: middle;\n",
              "    }\n",
              "\n",
              "    .dataframe tbody tr th {\n",
              "        vertical-align: top;\n",
              "    }\n",
              "\n",
              "    .dataframe thead th {\n",
              "        text-align: right;\n",
              "    }\n",
              "</style>\n",
              "<table border=\"1\" class=\"dataframe\">\n",
              "  <thead>\n",
              "    <tr style=\"text-align: right;\">\n",
              "      <th></th>\n",
              "      <th>count</th>\n",
              "      <th>mean</th>\n",
              "      <th>std</th>\n",
              "      <th>min</th>\n",
              "      <th>25%</th>\n",
              "      <th>50%</th>\n",
              "      <th>75%</th>\n",
              "      <th>max</th>\n",
              "    </tr>\n",
              "  </thead>\n",
              "  <tbody>\n",
              "    <tr>\n",
              "      <th>systemloanid</th>\n",
              "      <td>18183.0</td>\n",
              "      <td>301839474.0</td>\n",
              "      <td>93678.0</td>\n",
              "      <td>301600134.0</td>\n",
              "      <td>301776577.0</td>\n",
              "      <td>301854965.0</td>\n",
              "      <td>301919682.0</td>\n",
              "      <td>302000275.0</td>\n",
              "    </tr>\n",
              "    <tr>\n",
              "      <th>loannumber</th>\n",
              "      <td>18183.0</td>\n",
              "      <td>4.0</td>\n",
              "      <td>3.0</td>\n",
              "      <td>1.0</td>\n",
              "      <td>2.0</td>\n",
              "      <td>3.0</td>\n",
              "      <td>6.0</td>\n",
              "      <td>26.0</td>\n",
              "    </tr>\n",
              "    <tr>\n",
              "      <th>loanamount</th>\n",
              "      <td>18183.0</td>\n",
              "      <td>16501.0</td>\n",
              "      <td>9321.0</td>\n",
              "      <td>3000.0</td>\n",
              "      <td>10000.0</td>\n",
              "      <td>10000.0</td>\n",
              "      <td>20000.0</td>\n",
              "      <td>60000.0</td>\n",
              "    </tr>\n",
              "    <tr>\n",
              "      <th>totaldue</th>\n",
              "      <td>18183.0</td>\n",
              "      <td>19573.0</td>\n",
              "      <td>10454.0</td>\n",
              "      <td>3450.0</td>\n",
              "      <td>11500.0</td>\n",
              "      <td>13000.0</td>\n",
              "      <td>24500.0</td>\n",
              "      <td>68100.0</td>\n",
              "    </tr>\n",
              "    <tr>\n",
              "      <th>termdays</th>\n",
              "      <td>18183.0</td>\n",
              "      <td>27.0</td>\n",
              "      <td>11.0</td>\n",
              "      <td>15.0</td>\n",
              "      <td>15.0</td>\n",
              "      <td>30.0</td>\n",
              "      <td>30.0</td>\n",
              "      <td>90.0</td>\n",
              "    </tr>\n",
              "  </tbody>\n",
              "</table>\n",
              "</div>"
            ],
            "text/plain": [
              "                count         mean      std          min          25%  \\\n",
              "systemloanid  18183.0  301839474.0  93678.0  301600134.0  301776577.0   \n",
              "loannumber    18183.0          4.0      3.0          1.0          2.0   \n",
              "loanamount    18183.0      16501.0   9321.0       3000.0      10000.0   \n",
              "totaldue      18183.0      19573.0  10454.0       3450.0      11500.0   \n",
              "termdays      18183.0         27.0     11.0         15.0         15.0   \n",
              "\n",
              "                      50%          75%          max  \n",
              "systemloanid  301854965.0  301919682.0  302000275.0  \n",
              "loannumber            3.0          6.0         26.0  \n",
              "loanamount        10000.0      20000.0      60000.0  \n",
              "totaldue          13000.0      24500.0      68100.0  \n",
              "termdays             30.0         30.0         90.0  "
            ]
          },
          "execution_count": 15,
          "metadata": {},
          "output_type": "execute_result"
        }
      ],
      "source": [
        "df3.describe().T.round()"
      ]
    },
    {
      "cell_type": "markdown",
      "id": "a05cc10e-b5e9-4c6b-a76c-b7ce295780f3",
      "metadata": {
        "id": "a05cc10e-b5e9-4c6b-a76c-b7ce295780f3"
      },
      "source": [
        "### Observation\n",
        "+ It appears there are outliers in the loanamount and totaldue"
      ]
    },
    {
      "cell_type": "markdown",
      "id": "56d4ec9f-4150-4465-a910-fe7b58a94895",
      "metadata": {
        "id": "56d4ec9f-4150-4465-a910-fe7b58a94895"
      },
      "source": [
        "### Feature Engineering on the PrevLoan Dataset"
      ]
    },
    {
      "cell_type": "code",
      "execution_count": null,
      "id": "6d372d40-fdc8-43db-897f-0af250c7c337",
      "metadata": {
        "id": "6d372d40-fdc8-43db-897f-0af250c7c337",
        "outputId": "054d6c1b-5eb7-4151-a5ea-db25218545e0"
      },
      "outputs": [
        {
          "data": {
            "text/plain": [
              "Index(['customerid', 'systemloanid', 'loannumber', 'approveddate',\n",
              "       'creationdate', 'loanamount', 'totaldue', 'termdays', 'closeddate',\n",
              "       'referredby', 'firstduedate', 'firstrepaiddate'],\n",
              "      dtype='object')"
            ]
          },
          "execution_count": 16,
          "metadata": {},
          "output_type": "execute_result"
        }
      ],
      "source": [
        "df3.columns"
      ]
    },
    {
      "cell_type": "code",
      "execution_count": null,
      "id": "fbe6c365-b2bb-4283-99a9-689857f9e450",
      "metadata": {
        "id": "fbe6c365-b2bb-4283-99a9-689857f9e450"
      },
      "outputs": [],
      "source": [
        "#creating a loan_to_due ratio = if totaldue > loanamount, the customer likely missed the firstduedate and has incured interest on their loan\n",
        "df3['loan_to_due_ratio'] = df3['totaldue'] / df3['loanamount']"
      ]
    },
    {
      "cell_type": "code",
      "execution_count": null,
      "id": "694be88c-7ab3-469d-8770-799206fe0f90",
      "metadata": {
        "id": "694be88c-7ab3-469d-8770-799206fe0f90",
        "outputId": "2d6937dc-eb9d-4c72-8fb1-296ed6648e12"
      },
      "outputs": [
        {
          "data": {
            "text/html": [
              "<div>\n",
              "<style scoped>\n",
              "    .dataframe tbody tr th:only-of-type {\n",
              "        vertical-align: middle;\n",
              "    }\n",
              "\n",
              "    .dataframe tbody tr th {\n",
              "        vertical-align: top;\n",
              "    }\n",
              "\n",
              "    .dataframe thead th {\n",
              "        text-align: right;\n",
              "    }\n",
              "</style>\n",
              "<table border=\"1\" class=\"dataframe\">\n",
              "  <thead>\n",
              "    <tr style=\"text-align: right;\">\n",
              "      <th></th>\n",
              "      <th>customerid</th>\n",
              "      <th>systemloanid</th>\n",
              "      <th>loannumber</th>\n",
              "      <th>approveddate</th>\n",
              "      <th>creationdate</th>\n",
              "      <th>loanamount</th>\n",
              "      <th>totaldue</th>\n",
              "      <th>termdays</th>\n",
              "      <th>closeddate</th>\n",
              "      <th>referredby</th>\n",
              "      <th>firstduedate</th>\n",
              "      <th>firstrepaiddate</th>\n",
              "      <th>loan_to_due_ratio</th>\n",
              "    </tr>\n",
              "  </thead>\n",
              "  <tbody>\n",
              "    <tr>\n",
              "      <th>2138</th>\n",
              "      <td>8a858fb15b34a708015b37eeb86e0008</td>\n",
              "      <td>301921313</td>\n",
              "      <td>3</td>\n",
              "      <td>2017-05-29 18:11:20.000000</td>\n",
              "      <td>2017-05-29 17:11:13.000000</td>\n",
              "      <td>10000.0</td>\n",
              "      <td>13000.0</td>\n",
              "      <td>30</td>\n",
              "      <td>2017-07-03 15:38:44.000000</td>\n",
              "      <td>NaN</td>\n",
              "      <td>2017-06-28 00:00:00.000000</td>\n",
              "      <td>2017-07-03 15:28:35.000000</td>\n",
              "      <td>1.3</td>\n",
              "    </tr>\n",
              "    <tr>\n",
              "      <th>894</th>\n",
              "      <td>8a858e0d59bbb9050159c1f9f1d667ec</td>\n",
              "      <td>301872033</td>\n",
              "      <td>2</td>\n",
              "      <td>2017-04-18 11:59:34.000000</td>\n",
              "      <td>2017-04-18 10:59:27.000000</td>\n",
              "      <td>10000.0</td>\n",
              "      <td>13000.0</td>\n",
              "      <td>30</td>\n",
              "      <td>2017-05-19 15:20:31.000000</td>\n",
              "      <td>NaN</td>\n",
              "      <td>2017-05-18 00:00:00.000000</td>\n",
              "      <td>2017-05-19 15:05:22.000000</td>\n",
              "      <td>1.3</td>\n",
              "    </tr>\n",
              "  </tbody>\n",
              "</table>\n",
              "</div>"
            ],
            "text/plain": [
              "                            customerid  systemloanid  loannumber  \\\n",
              "2138  8a858fb15b34a708015b37eeb86e0008     301921313           3   \n",
              "894   8a858e0d59bbb9050159c1f9f1d667ec     301872033           2   \n",
              "\n",
              "                    approveddate                creationdate  loanamount  \\\n",
              "2138  2017-05-29 18:11:20.000000  2017-05-29 17:11:13.000000     10000.0   \n",
              "894   2017-04-18 11:59:34.000000  2017-04-18 10:59:27.000000     10000.0   \n",
              "\n",
              "      totaldue  termdays                  closeddate referredby  \\\n",
              "2138   13000.0        30  2017-07-03 15:38:44.000000        NaN   \n",
              "894    13000.0        30  2017-05-19 15:20:31.000000        NaN   \n",
              "\n",
              "                    firstduedate             firstrepaiddate  \\\n",
              "2138  2017-06-28 00:00:00.000000  2017-07-03 15:28:35.000000   \n",
              "894   2017-05-18 00:00:00.000000  2017-05-19 15:05:22.000000   \n",
              "\n",
              "      loan_to_due_ratio  \n",
              "2138                1.3  \n",
              "894                 1.3  "
            ]
          },
          "execution_count": 18,
          "metadata": {},
          "output_type": "execute_result"
        }
      ],
      "source": [
        "df3.sample(2)"
      ]
    },
    {
      "cell_type": "code",
      "execution_count": null,
      "id": "b869eb60-469c-446a-93be-b901bc7580e7",
      "metadata": {
        "id": "b869eb60-469c-446a-93be-b901bc7580e7",
        "outputId": "7d3589c8-6c24-4ded-981a-b318ae36f25d"
      },
      "outputs": [
        {
          "data": {
            "text/plain": [
              "array([1.3       , 1.19      , 1.15      , 1.225     , 1.14666667,\n",
              "       1.095     , 1.1125    , 1.1       , 1.075     , 1.12      ,\n",
              "       1.16      , 1.22666667, 1.145     , 1.2       , 1.05      ,\n",
              "       1.22333333, 1.10666667, 1.29      , 1.18      , 1.175     ,\n",
              "       1.21333333, 1.14      , 1.11166667, 1.025     , 1.17      ,\n",
              "       1.085     , 1.25      , 1.135     , 1.28      , 1.07      ,\n",
              "       1.0875    , 1.13      , 1.09      , 1.20666667, 1.19714286,\n",
              "       1.13333   , 1.12714286, 1.10166667, 1.0225    , 1.13666667,\n",
              "       1.165     , 1.1875    , 1.0625    , 1.1775    , 1.20333333,\n",
              "       1.045     , 1.        ])"
            ]
          },
          "execution_count": 19,
          "metadata": {},
          "output_type": "execute_result"
        }
      ],
      "source": [
        "df3['loan_to_due_ratio'].unique()"
      ]
    },
    {
      "cell_type": "code",
      "execution_count": null,
      "id": "597719bb-ded7-42f6-a0b6-af22c357c5a6",
      "metadata": {
        "id": "597719bb-ded7-42f6-a0b6-af22c357c5a6",
        "outputId": "5aea5dd6-4448-420a-90bd-97bdce79729c"
      },
      "outputs": [
        {
          "data": {
            "text/html": [
              "<div>\n",
              "<style scoped>\n",
              "    .dataframe tbody tr th:only-of-type {\n",
              "        vertical-align: middle;\n",
              "    }\n",
              "\n",
              "    .dataframe tbody tr th {\n",
              "        vertical-align: top;\n",
              "    }\n",
              "\n",
              "    .dataframe thead th {\n",
              "        text-align: right;\n",
              "    }\n",
              "</style>\n",
              "<table border=\"1\" class=\"dataframe\">\n",
              "  <thead>\n",
              "    <tr style=\"text-align: right;\">\n",
              "      <th></th>\n",
              "      <th>customerid</th>\n",
              "      <th>systemloanid</th>\n",
              "      <th>loannumber</th>\n",
              "      <th>approveddate</th>\n",
              "      <th>creationdate</th>\n",
              "      <th>loanamount</th>\n",
              "      <th>totaldue</th>\n",
              "      <th>termdays</th>\n",
              "      <th>closeddate</th>\n",
              "      <th>referredby</th>\n",
              "      <th>firstduedate</th>\n",
              "      <th>firstrepaiddate</th>\n",
              "      <th>loan_to_due_ratio</th>\n",
              "    </tr>\n",
              "  </thead>\n",
              "  <tbody>\n",
              "    <tr>\n",
              "      <th>17139</th>\n",
              "      <td>8a858e645755e62201575e72c8b77fd5</td>\n",
              "      <td>301889386</td>\n",
              "      <td>12</td>\n",
              "      <td>2017-05-04 12:11:34.000000</td>\n",
              "      <td>2017-05-04 11:11:27.000000</td>\n",
              "      <td>10000.0</td>\n",
              "      <td>10000.0</td>\n",
              "      <td>15</td>\n",
              "      <td>2017-05-04 12:36:49.000000</td>\n",
              "      <td>NaN</td>\n",
              "      <td>2017-05-19 00:00:00.000000</td>\n",
              "      <td>2017-05-04 12:21:40.000000</td>\n",
              "      <td>1.0</td>\n",
              "    </tr>\n",
              "  </tbody>\n",
              "</table>\n",
              "</div>"
            ],
            "text/plain": [
              "                             customerid  systemloanid  loannumber  \\\n",
              "17139  8a858e645755e62201575e72c8b77fd5     301889386          12   \n",
              "\n",
              "                     approveddate                creationdate  loanamount  \\\n",
              "17139  2017-05-04 12:11:34.000000  2017-05-04 11:11:27.000000     10000.0   \n",
              "\n",
              "       totaldue  termdays                  closeddate referredby  \\\n",
              "17139   10000.0        15  2017-05-04 12:36:49.000000        NaN   \n",
              "\n",
              "                     firstduedate             firstrepaiddate  \\\n",
              "17139  2017-05-19 00:00:00.000000  2017-05-04 12:21:40.000000   \n",
              "\n",
              "       loan_to_due_ratio  \n",
              "17139                1.0  "
            ]
          },
          "execution_count": 20,
          "metadata": {},
          "output_type": "execute_result"
        }
      ],
      "source": [
        "df3[df3['loan_to_due_ratio'] == 1]"
      ]
    },
    {
      "cell_type": "markdown",
      "id": "8228fc6e-db98-4cc4-8c26-d7f45a3c9a51",
      "metadata": {
        "id": "8228fc6e-db98-4cc4-8c26-d7f45a3c9a51"
      },
      "source": [
        "### Observation\n",
        "+ Only one customer in this dataset fully repaid their loan on time!"
      ]
    },
    {
      "cell_type": "code",
      "execution_count": null,
      "id": "6d5bf9e7-01db-49e4-9ff0-352950e6eeed",
      "metadata": {
        "id": "6d5bf9e7-01db-49e4-9ff0-352950e6eeed"
      },
      "outputs": [],
      "source": [
        "#aggregating df3 to take care of the numerous duplicates on customerid\n",
        "df4 = df3.groupby('customerid')['loan_to_due_ratio'].agg('mean').reset_index()"
      ]
    },
    {
      "cell_type": "code",
      "execution_count": null,
      "id": "7be7f958-14d2-444c-9651-2299576a99e5",
      "metadata": {
        "id": "7be7f958-14d2-444c-9651-2299576a99e5",
        "outputId": "5517cdf4-3376-4a1b-8b50-3a5f14fcbea9"
      },
      "outputs": [
        {
          "data": {
            "text/plain": [
              "(18183, 13)"
            ]
          },
          "execution_count": 22,
          "metadata": {},
          "output_type": "execute_result"
        }
      ],
      "source": [
        "df3.shape"
      ]
    },
    {
      "cell_type": "code",
      "execution_count": null,
      "id": "eb125705-4e8a-4557-a747-5f1c4ce57965",
      "metadata": {
        "id": "eb125705-4e8a-4557-a747-5f1c4ce57965",
        "outputId": "ad74dcb7-7400-4818-8810-b6ce6ad23dd1"
      },
      "outputs": [
        {
          "data": {
            "text/html": [
              "<div>\n",
              "<style scoped>\n",
              "    .dataframe tbody tr th:only-of-type {\n",
              "        vertical-align: middle;\n",
              "    }\n",
              "\n",
              "    .dataframe tbody tr th {\n",
              "        vertical-align: top;\n",
              "    }\n",
              "\n",
              "    .dataframe thead th {\n",
              "        text-align: right;\n",
              "    }\n",
              "</style>\n",
              "<table border=\"1\" class=\"dataframe\">\n",
              "  <thead>\n",
              "    <tr style=\"text-align: right;\">\n",
              "      <th></th>\n",
              "      <th>customerid</th>\n",
              "      <th>loan_to_due_ratio</th>\n",
              "    </tr>\n",
              "  </thead>\n",
              "  <tbody>\n",
              "    <tr>\n",
              "      <th>0</th>\n",
              "      <td>8a1088a0484472eb01484669e3ce4e0b</td>\n",
              "      <td>1.150000</td>\n",
              "    </tr>\n",
              "    <tr>\n",
              "      <th>1</th>\n",
              "      <td>8a1a1e7e4f707f8b014f797718316cad</td>\n",
              "      <td>1.281250</td>\n",
              "    </tr>\n",
              "    <tr>\n",
              "      <th>2</th>\n",
              "      <td>8a1a32fc49b632520149c3b8fdf85139</td>\n",
              "      <td>1.171429</td>\n",
              "    </tr>\n",
              "    <tr>\n",
              "      <th>3</th>\n",
              "      <td>8a1eb5ba49a682300149c3c068b806c7</td>\n",
              "      <td>1.258750</td>\n",
              "    </tr>\n",
              "    <tr>\n",
              "      <th>4</th>\n",
              "      <td>8a1edbf14734127f0147356fdb1b1eb2</td>\n",
              "      <td>1.225000</td>\n",
              "    </tr>\n",
              "  </tbody>\n",
              "</table>\n",
              "</div>"
            ],
            "text/plain": [
              "                         customerid  loan_to_due_ratio\n",
              "0  8a1088a0484472eb01484669e3ce4e0b           1.150000\n",
              "1  8a1a1e7e4f707f8b014f797718316cad           1.281250\n",
              "2  8a1a32fc49b632520149c3b8fdf85139           1.171429\n",
              "3  8a1eb5ba49a682300149c3c068b806c7           1.258750\n",
              "4  8a1edbf14734127f0147356fdb1b1eb2           1.225000"
            ]
          },
          "execution_count": 23,
          "metadata": {},
          "output_type": "execute_result"
        }
      ],
      "source": [
        "df4.head()"
      ]
    },
    {
      "cell_type": "code",
      "execution_count": null,
      "id": "967d632a-ad3a-4a75-997f-881e1815a169",
      "metadata": {
        "id": "967d632a-ad3a-4a75-997f-881e1815a169",
        "outputId": "700e1e57-e060-4330-a8e6-9283aa88f23b"
      },
      "outputs": [
        {
          "name": "stdout",
          "output_type": "stream",
          "text": [
            "<class 'pandas.core.frame.DataFrame'>\n",
            "RangeIndex: 4359 entries, 0 to 4358\n",
            "Data columns (total 2 columns):\n",
            " #   Column             Non-Null Count  Dtype  \n",
            "---  ------             --------------  -----  \n",
            " 0   customerid         4359 non-null   object \n",
            " 1   loan_to_due_ratio  4359 non-null   float64\n",
            "dtypes: float64(1), object(1)\n",
            "memory usage: 68.2+ KB\n"
          ]
        }
      ],
      "source": [
        "df4.info()"
      ]
    },
    {
      "cell_type": "code",
      "execution_count": null,
      "id": "0d64ca35-25e9-4556-a97b-2e4062eda2f6",
      "metadata": {
        "id": "0d64ca35-25e9-4556-a97b-2e4062eda2f6",
        "outputId": "2d41894a-bf71-495b-f132-678670dc3436"
      },
      "outputs": [
        {
          "data": {
            "text/plain": [
              "0"
            ]
          },
          "execution_count": 25,
          "metadata": {},
          "output_type": "execute_result"
        }
      ],
      "source": [
        "df4.duplicated().sum()"
      ]
    },
    {
      "cell_type": "markdown",
      "id": "ff454dde-8bbe-4cc4-bd33-c08163a635dd",
      "metadata": {
        "id": "ff454dde-8bbe-4cc4-bd33-c08163a635dd"
      },
      "source": [
        "### Observation\n",
        "+ I'll merge df1, df2, and df4 - I'm dropping df3 because the columns there are very similar to those in df1.\n",
        "+ Since I have engineered the loan to due ratio from the loan amount and total due - I have an idea of the customers past loan repayment behaviour\n",
        "+ The loan to due ratio is an important feature that is okay for me"
      ]
    },
    {
      "cell_type": "code",
      "execution_count": null,
      "id": "afcf9028-be90-44e9-84d9-0ee5d7fec66f",
      "metadata": {
        "id": "afcf9028-be90-44e9-84d9-0ee5d7fec66f",
        "outputId": "276cb994-639a-4f08-f96b-aa6efc6bec4e"
      },
      "outputs": [
        {
          "data": {
            "text/plain": [
              "Index(['customerid', 'systemloanid', 'loannumber', 'approveddate',\n",
              "       'creationdate', 'loanamount', 'totaldue', 'termdays', 'referredby',\n",
              "       'good_bad_flag'],\n",
              "      dtype='object')"
            ]
          },
          "execution_count": 26,
          "metadata": {},
          "output_type": "execute_result"
        }
      ],
      "source": [
        "df1.columns"
      ]
    },
    {
      "cell_type": "code",
      "execution_count": null,
      "id": "6e6807c5-4fab-43bd-a50f-984e200c61ee",
      "metadata": {
        "id": "6e6807c5-4fab-43bd-a50f-984e200c61ee",
        "outputId": "15aa21b7-e0a6-4427-e535-b35bb8731438"
      },
      "outputs": [
        {
          "data": {
            "text/plain": [
              "Index(['customerid', 'birthdate', 'bank_account_type', 'longitude_gps',\n",
              "       'latitude_gps', 'bank_name_clients', 'bank_branch_clients',\n",
              "       'employment_status_clients', 'level_of_education_clients'],\n",
              "      dtype='object')"
            ]
          },
          "execution_count": 27,
          "metadata": {},
          "output_type": "execute_result"
        }
      ],
      "source": [
        "df2.columns"
      ]
    },
    {
      "cell_type": "code",
      "execution_count": null,
      "id": "5cfe758c-71c3-4875-89d1-9c36e27af4b0",
      "metadata": {
        "id": "5cfe758c-71c3-4875-89d1-9c36e27af4b0"
      },
      "outputs": [],
      "source": [
        "#before merging, I want to drop some columns with over 80% missing values from df1 and df2\n",
        "df1 = df1.drop('referredby', axis=1)\n",
        "df2 = df2.drop('bank_branch_clients', axis=1)\n",
        "df3 = df3.drop('referredby', axis=1)"
      ]
    },
    {
      "cell_type": "code",
      "execution_count": null,
      "id": "44de2298-fc43-4b72-a787-76fb053053f2",
      "metadata": {
        "id": "44de2298-fc43-4b72-a787-76fb053053f2",
        "outputId": "1c6a2602-4fdd-4a96-b90b-76decb381be8"
      },
      "outputs": [
        {
          "data": {
            "text/plain": [
              "((4368, 9), (4346, 8), (18183, 12), (4359, 2))"
            ]
          },
          "execution_count": 29,
          "metadata": {},
          "output_type": "execute_result"
        }
      ],
      "source": [
        "df1.shape, df2.shape, df3.shape, df4.shape"
      ]
    },
    {
      "cell_type": "code",
      "execution_count": null,
      "id": "33ba00ea-5382-4052-9dd5-0431677f1bc1",
      "metadata": {
        "id": "33ba00ea-5382-4052-9dd5-0431677f1bc1",
        "outputId": "8c93f5db-d87a-4da9-fa5b-0173507dd318"
      },
      "outputs": [
        {
          "data": {
            "text/html": [
              "<div>\n",
              "<style scoped>\n",
              "    .dataframe tbody tr th:only-of-type {\n",
              "        vertical-align: middle;\n",
              "    }\n",
              "\n",
              "    .dataframe tbody tr th {\n",
              "        vertical-align: top;\n",
              "    }\n",
              "\n",
              "    .dataframe thead th {\n",
              "        text-align: right;\n",
              "    }\n",
              "</style>\n",
              "<table border=\"1\" class=\"dataframe\">\n",
              "  <thead>\n",
              "    <tr style=\"text-align: right;\">\n",
              "      <th></th>\n",
              "      <th>customerid</th>\n",
              "      <th>systemloanid</th>\n",
              "      <th>loannumber</th>\n",
              "      <th>approveddate</th>\n",
              "      <th>creationdate</th>\n",
              "      <th>loanamount</th>\n",
              "      <th>totaldue</th>\n",
              "      <th>termdays</th>\n",
              "      <th>closeddate</th>\n",
              "      <th>firstduedate</th>\n",
              "      <th>firstrepaiddate</th>\n",
              "      <th>loan_to_due_ratio</th>\n",
              "    </tr>\n",
              "  </thead>\n",
              "  <tbody>\n",
              "    <tr>\n",
              "      <th>15097</th>\n",
              "      <td>8a858fa257d8223c0157e6678b8a1e8b</td>\n",
              "      <td>301788093</td>\n",
              "      <td>6</td>\n",
              "      <td>2017-01-06 07:15:30.000000</td>\n",
              "      <td>2017-01-06 06:15:19.000000</td>\n",
              "      <td>20000.0</td>\n",
              "      <td>23800.0</td>\n",
              "      <td>30</td>\n",
              "      <td>2017-02-04 20:45:41.000000</td>\n",
              "      <td>2017-02-06 00:00:00.000000</td>\n",
              "      <td>2017-02-02 00:00:00.000000</td>\n",
              "      <td>1.19</td>\n",
              "    </tr>\n",
              "    <tr>\n",
              "      <th>2159</th>\n",
              "      <td>8a858e0156b782a10156c2f83bd248f2</td>\n",
              "      <td>301707411</td>\n",
              "      <td>1</td>\n",
              "      <td>2016-09-06 15:06:57.000000</td>\n",
              "      <td>2016-09-06 14:06:45.000000</td>\n",
              "      <td>10000.0</td>\n",
              "      <td>13000.0</td>\n",
              "      <td>30</td>\n",
              "      <td>2016-10-08 10:59:44.000000</td>\n",
              "      <td>2016-10-06 00:00:00.000000</td>\n",
              "      <td>2016-10-08 10:44:35.000000</td>\n",
              "      <td>1.30</td>\n",
              "    </tr>\n",
              "  </tbody>\n",
              "</table>\n",
              "</div>"
            ],
            "text/plain": [
              "                             customerid  systemloanid  loannumber  \\\n",
              "15097  8a858fa257d8223c0157e6678b8a1e8b     301788093           6   \n",
              "2159   8a858e0156b782a10156c2f83bd248f2     301707411           1   \n",
              "\n",
              "                     approveddate                creationdate  loanamount  \\\n",
              "15097  2017-01-06 07:15:30.000000  2017-01-06 06:15:19.000000     20000.0   \n",
              "2159   2016-09-06 15:06:57.000000  2016-09-06 14:06:45.000000     10000.0   \n",
              "\n",
              "       totaldue  termdays                  closeddate  \\\n",
              "15097   23800.0        30  2017-02-04 20:45:41.000000   \n",
              "2159    13000.0        30  2016-10-08 10:59:44.000000   \n",
              "\n",
              "                     firstduedate             firstrepaiddate  \\\n",
              "15097  2017-02-06 00:00:00.000000  2017-02-02 00:00:00.000000   \n",
              "2159   2016-10-06 00:00:00.000000  2016-10-08 10:44:35.000000   \n",
              "\n",
              "       loan_to_due_ratio  \n",
              "15097               1.19  \n",
              "2159                1.30  "
            ]
          },
          "execution_count": 30,
          "metadata": {},
          "output_type": "execute_result"
        }
      ],
      "source": [
        "df3.sample(2)"
      ]
    },
    {
      "cell_type": "code",
      "execution_count": null,
      "id": "98f0086f-a9c2-4a9c-9607-dc3ee248af4d",
      "metadata": {
        "id": "98f0086f-a9c2-4a9c-9607-dc3ee248af4d",
        "outputId": "cf042bc5-b1d5-4b4b-b310-dd8895f18097"
      },
      "outputs": [
        {
          "data": {
            "text/plain": [
              "customerid                       0\n",
              "birthdate                        0\n",
              "bank_account_type                0\n",
              "longitude_gps                    0\n",
              "latitude_gps                     0\n",
              "bank_name_clients                0\n",
              "employment_status_clients      648\n",
              "level_of_education_clients    3759\n",
              "dtype: int64"
            ]
          },
          "execution_count": 31,
          "metadata": {},
          "output_type": "execute_result"
        }
      ],
      "source": [
        "df2.isna().sum()"
      ]
    },
    {
      "cell_type": "code",
      "execution_count": null,
      "id": "4dde7044-ca33-45a1-96c1-cb3f3fd48917",
      "metadata": {
        "id": "4dde7044-ca33-45a1-96c1-cb3f3fd48917",
        "outputId": "d797db1b-a8e7-4e85-9e3f-8562c084df45"
      },
      "outputs": [
        {
          "data": {
            "text/plain": [
              "array([nan, 'Permanent', 'Student', 'Self-Employed', 'Unemployed',\n",
              "       'Retired', 'Contract'], dtype=object)"
            ]
          },
          "execution_count": 32,
          "metadata": {},
          "output_type": "execute_result"
        }
      ],
      "source": [
        "df2['employment_status_clients'].unique()"
      ]
    },
    {
      "cell_type": "code",
      "execution_count": null,
      "id": "0c77a38b-d72e-4f8e-8913-c2f417a6c428",
      "metadata": {
        "id": "0c77a38b-d72e-4f8e-8913-c2f417a6c428",
        "outputId": "b89529a5-c5a6-4d2b-ffd0-5141300f499c"
      },
      "outputs": [
        {
          "data": {
            "text/plain": [
              "employment_status_clients\n",
              "Permanent        3146\n",
              "Self-Employed     348\n",
              "Student           142\n",
              "Unemployed         57\n",
              "Retired             4\n",
              "Contract            1\n",
              "Name: count, dtype: int64"
            ]
          },
          "execution_count": 33,
          "metadata": {},
          "output_type": "execute_result"
        }
      ],
      "source": [
        "df2['employment_status_clients'].value_counts()"
      ]
    },
    {
      "cell_type": "code",
      "execution_count": null,
      "id": "93dcfe32-6dfc-4637-9de8-6693f11456fb",
      "metadata": {
        "id": "93dcfe32-6dfc-4637-9de8-6693f11456fb"
      },
      "outputs": [],
      "source": [
        "#to handle the 648 missing values in employment_status_clients, I'm going to fill with the modal class/mode\n",
        "df2['employment_status_clients'].fillna(df2['employment_status_clients'].mode()[0], inplace=True)"
      ]
    },
    {
      "cell_type": "code",
      "execution_count": null,
      "id": "8d3006d9-cf90-4cb1-8ec0-fa8bc52c3994",
      "metadata": {
        "id": "8d3006d9-cf90-4cb1-8ec0-fa8bc52c3994",
        "outputId": "f648f849-e2f8-4a57-bb1d-5f906f88ed58"
      },
      "outputs": [
        {
          "data": {
            "text/plain": [
              "customerid                       0\n",
              "birthdate                        0\n",
              "bank_account_type                0\n",
              "longitude_gps                    0\n",
              "latitude_gps                     0\n",
              "bank_name_clients                0\n",
              "employment_status_clients        0\n",
              "level_of_education_clients    3759\n",
              "dtype: int64"
            ]
          },
          "execution_count": 35,
          "metadata": {},
          "output_type": "execute_result"
        }
      ],
      "source": [
        "df2.isna().sum()"
      ]
    },
    {
      "cell_type": "markdown",
      "id": "848fa952-bb7f-4278-ad90-1252fdb49c19",
      "metadata": {
        "id": "848fa952-bb7f-4278-ad90-1252fdb49c19"
      },
      "source": [
        "### Observation\n",
        "+ There are numerous missing values in level_of_education_clients\n",
        "+ However, this feature could be useful as their educational level could influence their loan repayment behaviour\n",
        "+ So I'll also attempt to fill with the mode"
      ]
    },
    {
      "cell_type": "code",
      "execution_count": null,
      "id": "68d600dc-dee0-4f33-957f-365cadb73c9a",
      "metadata": {
        "id": "68d600dc-dee0-4f33-957f-365cadb73c9a",
        "outputId": "b34a83a7-03b9-4a4e-ef8b-a8ad5e392667"
      },
      "outputs": [
        {
          "data": {
            "text/plain": [
              "array([nan, 'Secondary', 'Graduate', 'Post-Graduate', 'Primary'],\n",
              "      dtype=object)"
            ]
          },
          "execution_count": 36,
          "metadata": {},
          "output_type": "execute_result"
        }
      ],
      "source": [
        "df2['level_of_education_clients'].unique()"
      ]
    },
    {
      "cell_type": "code",
      "execution_count": null,
      "id": "785acace-bba5-46f6-8018-7e19999b463d",
      "metadata": {
        "id": "785acace-bba5-46f6-8018-7e19999b463d",
        "outputId": "efb52723-9585-4a1f-9948-673fae3438e2"
      },
      "outputs": [
        {
          "data": {
            "text/plain": [
              "level_of_education_clients\n",
              "Graduate         420\n",
              "Secondary         89\n",
              "Post-Graduate     68\n",
              "Primary           10\n",
              "Name: count, dtype: int64"
            ]
          },
          "execution_count": 37,
          "metadata": {},
          "output_type": "execute_result"
        }
      ],
      "source": [
        "df2['level_of_education_clients'].value_counts()"
      ]
    },
    {
      "cell_type": "code",
      "execution_count": null,
      "id": "b4a7ba11-09bc-4547-8504-5b76c55c8e6c",
      "metadata": {
        "id": "b4a7ba11-09bc-4547-8504-5b76c55c8e6c"
      },
      "outputs": [],
      "source": [
        "df2['level_of_education_clients'].fillna(df2['level_of_education_clients'].mode()[0], inplace=True)"
      ]
    },
    {
      "cell_type": "code",
      "execution_count": null,
      "id": "c4b40732-eb98-458a-a43a-aa49481c3fd8",
      "metadata": {
        "id": "c4b40732-eb98-458a-a43a-aa49481c3fd8",
        "outputId": "f151bff3-ac80-433c-befb-4dc79ddc7532"
      },
      "outputs": [
        {
          "data": {
            "text/plain": [
              "customerid                    0\n",
              "birthdate                     0\n",
              "bank_account_type             0\n",
              "longitude_gps                 0\n",
              "latitude_gps                  0\n",
              "bank_name_clients             0\n",
              "employment_status_clients     0\n",
              "level_of_education_clients    0\n",
              "dtype: int64"
            ]
          },
          "execution_count": 39,
          "metadata": {},
          "output_type": "execute_result"
        }
      ],
      "source": [
        "df2.isna().sum()"
      ]
    },
    {
      "cell_type": "code",
      "execution_count": null,
      "id": "3d98db6b-c8f2-4ad8-8bb6-52bba97dc454",
      "metadata": {
        "id": "3d98db6b-c8f2-4ad8-8bb6-52bba97dc454",
        "outputId": "bb5ec2b5-429f-4132-f2a4-d458f238984d"
      },
      "outputs": [
        {
          "data": {
            "text/plain": [
              "12"
            ]
          },
          "execution_count": 40,
          "metadata": {},
          "output_type": "execute_result"
        }
      ],
      "source": [
        "df2.duplicated().sum()"
      ]
    },
    {
      "cell_type": "code",
      "execution_count": null,
      "id": "92b3b80a-090a-4aaf-ac01-202090e5cec2",
      "metadata": {
        "id": "92b3b80a-090a-4aaf-ac01-202090e5cec2",
        "outputId": "315947eb-27e0-4e72-bb28-b25cd46522e2"
      },
      "outputs": [
        {
          "data": {
            "text/plain": [
              "12"
            ]
          },
          "execution_count": 41,
          "metadata": {},
          "output_type": "execute_result"
        }
      ],
      "source": [
        "df2['customerid'].duplicated().sum()"
      ]
    },
    {
      "cell_type": "code",
      "execution_count": null,
      "id": "37e23e0b-ac00-403d-b4e3-1dffccc897c5",
      "metadata": {
        "id": "37e23e0b-ac00-403d-b4e3-1dffccc897c5",
        "outputId": "665e9227-7599-4837-d908-a14cd162d61b"
      },
      "outputs": [
        {
          "data": {
            "text/plain": [
              "4334"
            ]
          },
          "execution_count": 42,
          "metadata": {},
          "output_type": "execute_result"
        }
      ],
      "source": [
        "len(df2['customerid'].unique())"
      ]
    },
    {
      "cell_type": "code",
      "execution_count": null,
      "id": "98ad57a6-4ee0-40f4-a9e6-9c41f97fa688",
      "metadata": {
        "id": "98ad57a6-4ee0-40f4-a9e6-9c41f97fa688",
        "outputId": "554137d8-5539-42d0-f0c9-539717d07a03"
      },
      "outputs": [
        {
          "data": {
            "text/html": [
              "<div>\n",
              "<style scoped>\n",
              "    .dataframe tbody tr th:only-of-type {\n",
              "        vertical-align: middle;\n",
              "    }\n",
              "\n",
              "    .dataframe tbody tr th {\n",
              "        vertical-align: top;\n",
              "    }\n",
              "\n",
              "    .dataframe thead th {\n",
              "        text-align: right;\n",
              "    }\n",
              "</style>\n",
              "<table border=\"1\" class=\"dataframe\">\n",
              "  <thead>\n",
              "    <tr style=\"text-align: right;\">\n",
              "      <th></th>\n",
              "      <th>customerid</th>\n",
              "      <th>birthdate</th>\n",
              "      <th>bank_account_type</th>\n",
              "      <th>longitude_gps</th>\n",
              "      <th>latitude_gps</th>\n",
              "      <th>bank_name_clients</th>\n",
              "      <th>employment_status_clients</th>\n",
              "      <th>level_of_education_clients</th>\n",
              "    </tr>\n",
              "  </thead>\n",
              "  <tbody>\n",
              "    <tr>\n",
              "      <th>138</th>\n",
              "      <td>8a858fca5c35df2c015c39ad8695343e</td>\n",
              "      <td>1980-11-26 00:00:00.000000</td>\n",
              "      <td>Savings</td>\n",
              "      <td>3.352588</td>\n",
              "      <td>7.211089</td>\n",
              "      <td>GT Bank</td>\n",
              "      <td>Permanent</td>\n",
              "      <td>Graduate</td>\n",
              "    </tr>\n",
              "    <tr>\n",
              "      <th>159</th>\n",
              "      <td>8a858fca5c35df2c015c39ad8695343e</td>\n",
              "      <td>1980-11-26 00:00:00.000000</td>\n",
              "      <td>Savings</td>\n",
              "      <td>3.352588</td>\n",
              "      <td>7.211089</td>\n",
              "      <td>GT Bank</td>\n",
              "      <td>Permanent</td>\n",
              "      <td>Graduate</td>\n",
              "    </tr>\n",
              "    <tr>\n",
              "      <th>272</th>\n",
              "      <td>8a858edd57f790040157ffe9b6ed3fbb</td>\n",
              "      <td>1988-01-18 00:00:00.000000</td>\n",
              "      <td>Other</td>\n",
              "      <td>3.782563</td>\n",
              "      <td>7.171356</td>\n",
              "      <td>First Bank</td>\n",
              "      <td>Permanent</td>\n",
              "      <td>Secondary</td>\n",
              "    </tr>\n",
              "    <tr>\n",
              "      <th>445</th>\n",
              "      <td>8a858e6c5c88d145015c8b9627cd5a48</td>\n",
              "      <td>1979-09-30 00:00:00.000000</td>\n",
              "      <td>Savings</td>\n",
              "      <td>3.367008</td>\n",
              "      <td>6.497313</td>\n",
              "      <td>Sterling Bank</td>\n",
              "      <td>Permanent</td>\n",
              "      <td>Graduate</td>\n",
              "    </tr>\n",
              "    <tr>\n",
              "      <th>517</th>\n",
              "      <td>8a858edd57f790040157ffe9b6ed3fbb</td>\n",
              "      <td>1988-01-18 00:00:00.000000</td>\n",
              "      <td>Other</td>\n",
              "      <td>3.782563</td>\n",
              "      <td>7.171356</td>\n",
              "      <td>First Bank</td>\n",
              "      <td>Permanent</td>\n",
              "      <td>Secondary</td>\n",
              "    </tr>\n",
              "    <tr>\n",
              "      <th>750</th>\n",
              "      <td>8a858f965bb63a25015bbf63fd062e2e</td>\n",
              "      <td>1974-02-25 00:00:00.000000</td>\n",
              "      <td>Savings</td>\n",
              "      <td>3.936366</td>\n",
              "      <td>6.817958</td>\n",
              "      <td>Stanbic IBTC</td>\n",
              "      <td>Permanent</td>\n",
              "      <td>Graduate</td>\n",
              "    </tr>\n",
              "    <tr>\n",
              "      <th>776</th>\n",
              "      <td>8a858f965bb63a25015bbf63fd062e2e</td>\n",
              "      <td>1974-02-25 00:00:00.000000</td>\n",
              "      <td>Savings</td>\n",
              "      <td>3.936366</td>\n",
              "      <td>6.817958</td>\n",
              "      <td>Stanbic IBTC</td>\n",
              "      <td>Permanent</td>\n",
              "      <td>Graduate</td>\n",
              "    </tr>\n",
              "    <tr>\n",
              "      <th>798</th>\n",
              "      <td>8a858fc75cd62882015cdaf2f4311b3f</td>\n",
              "      <td>1975-10-27 00:00:00.000000</td>\n",
              "      <td>Savings</td>\n",
              "      <td>7.437607</td>\n",
              "      <td>9.088935</td>\n",
              "      <td>GT Bank</td>\n",
              "      <td>Permanent</td>\n",
              "      <td>Graduate</td>\n",
              "    </tr>\n",
              "    <tr>\n",
              "      <th>1010</th>\n",
              "      <td>8a858fe65675195a015679452588279c</td>\n",
              "      <td>1982-08-01 00:00:00.000000</td>\n",
              "      <td>Savings</td>\n",
              "      <td>7.533646</td>\n",
              "      <td>9.046885</td>\n",
              "      <td>UBA</td>\n",
              "      <td>Permanent</td>\n",
              "      <td>Graduate</td>\n",
              "    </tr>\n",
              "    <tr>\n",
              "      <th>1015</th>\n",
              "      <td>8a858fe65675195a015679452588279c</td>\n",
              "      <td>1982-08-01 00:00:00.000000</td>\n",
              "      <td>Savings</td>\n",
              "      <td>7.533646</td>\n",
              "      <td>9.046885</td>\n",
              "      <td>UBA</td>\n",
              "      <td>Permanent</td>\n",
              "      <td>Graduate</td>\n",
              "    </tr>\n",
              "    <tr>\n",
              "      <th>1090</th>\n",
              "      <td>8a858e6c5c88d145015c8b9627cd5a48</td>\n",
              "      <td>1979-09-30 00:00:00.000000</td>\n",
              "      <td>Savings</td>\n",
              "      <td>3.367008</td>\n",
              "      <td>6.497313</td>\n",
              "      <td>Sterling Bank</td>\n",
              "      <td>Permanent</td>\n",
              "      <td>Graduate</td>\n",
              "    </tr>\n",
              "    <tr>\n",
              "      <th>1188</th>\n",
              "      <td>8a858fc75cd62882015cdaf2f4311b3f</td>\n",
              "      <td>1975-10-27 00:00:00.000000</td>\n",
              "      <td>Savings</td>\n",
              "      <td>7.437607</td>\n",
              "      <td>9.088935</td>\n",
              "      <td>GT Bank</td>\n",
              "      <td>Permanent</td>\n",
              "      <td>Graduate</td>\n",
              "    </tr>\n",
              "    <tr>\n",
              "      <th>1338</th>\n",
              "      <td>8a858fe05d421ff4015d4c87d2a21ceb</td>\n",
              "      <td>1983-01-20 00:00:00.000000</td>\n",
              "      <td>Savings</td>\n",
              "      <td>8.526960</td>\n",
              "      <td>12.023015</td>\n",
              "      <td>Skye Bank</td>\n",
              "      <td>Permanent</td>\n",
              "      <td>Graduate</td>\n",
              "    </tr>\n",
              "    <tr>\n",
              "      <th>1414</th>\n",
              "      <td>8a858e625c8d993a015c938f829f77ee</td>\n",
              "      <td>1988-12-20 00:00:00.000000</td>\n",
              "      <td>Savings</td>\n",
              "      <td>5.768333</td>\n",
              "      <td>5.561992</td>\n",
              "      <td>First Bank</td>\n",
              "      <td>Permanent</td>\n",
              "      <td>Graduate</td>\n",
              "    </tr>\n",
              "    <tr>\n",
              "      <th>1480</th>\n",
              "      <td>8a858fe05d421ff4015d4c87d2a21ceb</td>\n",
              "      <td>1983-01-20 00:00:00.000000</td>\n",
              "      <td>Savings</td>\n",
              "      <td>8.526960</td>\n",
              "      <td>12.023015</td>\n",
              "      <td>Skye Bank</td>\n",
              "      <td>Permanent</td>\n",
              "      <td>Graduate</td>\n",
              "    </tr>\n",
              "    <tr>\n",
              "      <th>1520</th>\n",
              "      <td>8a858ec65cc6352b015cc64525ea0763</td>\n",
              "      <td>1985-01-30 00:00:00.000000</td>\n",
              "      <td>Savings</td>\n",
              "      <td>3.845728</td>\n",
              "      <td>7.411737</td>\n",
              "      <td>GT Bank</td>\n",
              "      <td>Permanent</td>\n",
              "      <td>Graduate</td>\n",
              "    </tr>\n",
              "    <tr>\n",
              "      <th>1928</th>\n",
              "      <td>8a858e625c8d993a015c938f829f77ee</td>\n",
              "      <td>1988-12-20 00:00:00.000000</td>\n",
              "      <td>Savings</td>\n",
              "      <td>5.768333</td>\n",
              "      <td>5.561992</td>\n",
              "      <td>First Bank</td>\n",
              "      <td>Permanent</td>\n",
              "      <td>Graduate</td>\n",
              "    </tr>\n",
              "    <tr>\n",
              "      <th>1996</th>\n",
              "      <td>8a858ec65cc6352b015cc64525ea0763</td>\n",
              "      <td>1985-01-30 00:00:00.000000</td>\n",
              "      <td>Savings</td>\n",
              "      <td>3.845728</td>\n",
              "      <td>7.411737</td>\n",
              "      <td>GT Bank</td>\n",
              "      <td>Permanent</td>\n",
              "      <td>Graduate</td>\n",
              "    </tr>\n",
              "    <tr>\n",
              "      <th>3021</th>\n",
              "      <td>8a858f1e5baffcc9015bb02b505f180d</td>\n",
              "      <td>1983-04-06 00:00:00.000000</td>\n",
              "      <td>Savings</td>\n",
              "      <td>6.969350</td>\n",
              "      <td>4.818535</td>\n",
              "      <td>GT Bank</td>\n",
              "      <td>Permanent</td>\n",
              "      <td>Graduate</td>\n",
              "    </tr>\n",
              "    <tr>\n",
              "      <th>3546</th>\n",
              "      <td>8a858f9f5679951a01567a5b90644817</td>\n",
              "      <td>1984-12-17 00:00:00.000000</td>\n",
              "      <td>Savings</td>\n",
              "      <td>4.196662</td>\n",
              "      <td>12.429509</td>\n",
              "      <td>Access Bank</td>\n",
              "      <td>Permanent</td>\n",
              "      <td>Graduate</td>\n",
              "    </tr>\n",
              "    <tr>\n",
              "      <th>4115</th>\n",
              "      <td>8a858f1e5cc4bc81015cc548e1eb5206</td>\n",
              "      <td>1979-09-15 00:00:00.000000</td>\n",
              "      <td>Savings</td>\n",
              "      <td>6.285242</td>\n",
              "      <td>4.922719</td>\n",
              "      <td>UBA</td>\n",
              "      <td>Permanent</td>\n",
              "      <td>Graduate</td>\n",
              "    </tr>\n",
              "    <tr>\n",
              "      <th>4126</th>\n",
              "      <td>8a858f1e5baffcc9015bb02b505f180d</td>\n",
              "      <td>1983-04-06 00:00:00.000000</td>\n",
              "      <td>Savings</td>\n",
              "      <td>6.969350</td>\n",
              "      <td>4.818535</td>\n",
              "      <td>GT Bank</td>\n",
              "      <td>Permanent</td>\n",
              "      <td>Graduate</td>\n",
              "    </tr>\n",
              "    <tr>\n",
              "      <th>4266</th>\n",
              "      <td>8a858f1e5cc4bc81015cc548e1eb5206</td>\n",
              "      <td>1979-09-15 00:00:00.000000</td>\n",
              "      <td>Savings</td>\n",
              "      <td>6.285242</td>\n",
              "      <td>4.922719</td>\n",
              "      <td>UBA</td>\n",
              "      <td>Permanent</td>\n",
              "      <td>Graduate</td>\n",
              "    </tr>\n",
              "    <tr>\n",
              "      <th>4286</th>\n",
              "      <td>8a858f9f5679951a01567a5b90644817</td>\n",
              "      <td>1984-12-17 00:00:00.000000</td>\n",
              "      <td>Savings</td>\n",
              "      <td>4.196662</td>\n",
              "      <td>12.429509</td>\n",
              "      <td>Access Bank</td>\n",
              "      <td>Permanent</td>\n",
              "      <td>Graduate</td>\n",
              "    </tr>\n",
              "  </tbody>\n",
              "</table>\n",
              "</div>"
            ],
            "text/plain": [
              "                            customerid                   birthdate  \\\n",
              "138   8a858fca5c35df2c015c39ad8695343e  1980-11-26 00:00:00.000000   \n",
              "159   8a858fca5c35df2c015c39ad8695343e  1980-11-26 00:00:00.000000   \n",
              "272   8a858edd57f790040157ffe9b6ed3fbb  1988-01-18 00:00:00.000000   \n",
              "445   8a858e6c5c88d145015c8b9627cd5a48  1979-09-30 00:00:00.000000   \n",
              "517   8a858edd57f790040157ffe9b6ed3fbb  1988-01-18 00:00:00.000000   \n",
              "750   8a858f965bb63a25015bbf63fd062e2e  1974-02-25 00:00:00.000000   \n",
              "776   8a858f965bb63a25015bbf63fd062e2e  1974-02-25 00:00:00.000000   \n",
              "798   8a858fc75cd62882015cdaf2f4311b3f  1975-10-27 00:00:00.000000   \n",
              "1010  8a858fe65675195a015679452588279c  1982-08-01 00:00:00.000000   \n",
              "1015  8a858fe65675195a015679452588279c  1982-08-01 00:00:00.000000   \n",
              "1090  8a858e6c5c88d145015c8b9627cd5a48  1979-09-30 00:00:00.000000   \n",
              "1188  8a858fc75cd62882015cdaf2f4311b3f  1975-10-27 00:00:00.000000   \n",
              "1338  8a858fe05d421ff4015d4c87d2a21ceb  1983-01-20 00:00:00.000000   \n",
              "1414  8a858e625c8d993a015c938f829f77ee  1988-12-20 00:00:00.000000   \n",
              "1480  8a858fe05d421ff4015d4c87d2a21ceb  1983-01-20 00:00:00.000000   \n",
              "1520  8a858ec65cc6352b015cc64525ea0763  1985-01-30 00:00:00.000000   \n",
              "1928  8a858e625c8d993a015c938f829f77ee  1988-12-20 00:00:00.000000   \n",
              "1996  8a858ec65cc6352b015cc64525ea0763  1985-01-30 00:00:00.000000   \n",
              "3021  8a858f1e5baffcc9015bb02b505f180d  1983-04-06 00:00:00.000000   \n",
              "3546  8a858f9f5679951a01567a5b90644817  1984-12-17 00:00:00.000000   \n",
              "4115  8a858f1e5cc4bc81015cc548e1eb5206  1979-09-15 00:00:00.000000   \n",
              "4126  8a858f1e5baffcc9015bb02b505f180d  1983-04-06 00:00:00.000000   \n",
              "4266  8a858f1e5cc4bc81015cc548e1eb5206  1979-09-15 00:00:00.000000   \n",
              "4286  8a858f9f5679951a01567a5b90644817  1984-12-17 00:00:00.000000   \n",
              "\n",
              "     bank_account_type  longitude_gps  latitude_gps bank_name_clients  \\\n",
              "138            Savings       3.352588      7.211089           GT Bank   \n",
              "159            Savings       3.352588      7.211089           GT Bank   \n",
              "272              Other       3.782563      7.171356        First Bank   \n",
              "445            Savings       3.367008      6.497313     Sterling Bank   \n",
              "517              Other       3.782563      7.171356        First Bank   \n",
              "750            Savings       3.936366      6.817958      Stanbic IBTC   \n",
              "776            Savings       3.936366      6.817958      Stanbic IBTC   \n",
              "798            Savings       7.437607      9.088935           GT Bank   \n",
              "1010           Savings       7.533646      9.046885               UBA   \n",
              "1015           Savings       7.533646      9.046885               UBA   \n",
              "1090           Savings       3.367008      6.497313     Sterling Bank   \n",
              "1188           Savings       7.437607      9.088935           GT Bank   \n",
              "1338           Savings       8.526960     12.023015         Skye Bank   \n",
              "1414           Savings       5.768333      5.561992        First Bank   \n",
              "1480           Savings       8.526960     12.023015         Skye Bank   \n",
              "1520           Savings       3.845728      7.411737           GT Bank   \n",
              "1928           Savings       5.768333      5.561992        First Bank   \n",
              "1996           Savings       3.845728      7.411737           GT Bank   \n",
              "3021           Savings       6.969350      4.818535           GT Bank   \n",
              "3546           Savings       4.196662     12.429509       Access Bank   \n",
              "4115           Savings       6.285242      4.922719               UBA   \n",
              "4126           Savings       6.969350      4.818535           GT Bank   \n",
              "4266           Savings       6.285242      4.922719               UBA   \n",
              "4286           Savings       4.196662     12.429509       Access Bank   \n",
              "\n",
              "     employment_status_clients level_of_education_clients  \n",
              "138                  Permanent                   Graduate  \n",
              "159                  Permanent                   Graduate  \n",
              "272                  Permanent                  Secondary  \n",
              "445                  Permanent                   Graduate  \n",
              "517                  Permanent                  Secondary  \n",
              "750                  Permanent                   Graduate  \n",
              "776                  Permanent                   Graduate  \n",
              "798                  Permanent                   Graduate  \n",
              "1010                 Permanent                   Graduate  \n",
              "1015                 Permanent                   Graduate  \n",
              "1090                 Permanent                   Graduate  \n",
              "1188                 Permanent                   Graduate  \n",
              "1338                 Permanent                   Graduate  \n",
              "1414                 Permanent                   Graduate  \n",
              "1480                 Permanent                   Graduate  \n",
              "1520                 Permanent                   Graduate  \n",
              "1928                 Permanent                   Graduate  \n",
              "1996                 Permanent                   Graduate  \n",
              "3021                 Permanent                   Graduate  \n",
              "3546                 Permanent                   Graduate  \n",
              "4115                 Permanent                   Graduate  \n",
              "4126                 Permanent                   Graduate  \n",
              "4266                 Permanent                   Graduate  \n",
              "4286                 Permanent                   Graduate  "
            ]
          },
          "execution_count": 43,
          "metadata": {},
          "output_type": "execute_result"
        }
      ],
      "source": [
        "#find duplicates\n",
        "df2[df2.duplicated(subset='customerid', keep=False)]"
      ]
    },
    {
      "cell_type": "code",
      "execution_count": null,
      "id": "fb4d30c8-a137-4e16-a6fb-16f82560823d",
      "metadata": {
        "id": "fb4d30c8-a137-4e16-a6fb-16f82560823d"
      },
      "outputs": [],
      "source": [
        "#since the duplicates are completely identical, I can safely drop them\n",
        "df2 = df2.drop_duplicates(subset='customerid', keep='first')"
      ]
    },
    {
      "cell_type": "code",
      "execution_count": null,
      "id": "d7220e2e-bce1-43e9-975f-27fb10375972",
      "metadata": {
        "id": "d7220e2e-bce1-43e9-975f-27fb10375972",
        "outputId": "b515a0bc-01b3-4e8b-b660-be0549a16093"
      },
      "outputs": [
        {
          "data": {
            "text/plain": [
              "0"
            ]
          },
          "execution_count": 45,
          "metadata": {},
          "output_type": "execute_result"
        }
      ],
      "source": [
        "df2.duplicated().sum()"
      ]
    },
    {
      "cell_type": "code",
      "execution_count": null,
      "id": "830d043d-3ed0-4251-be60-ca3d6fe6aadb",
      "metadata": {
        "id": "830d043d-3ed0-4251-be60-ca3d6fe6aadb",
        "outputId": "e0857aef-fd05-405f-e2f9-8c0f7360fe87"
      },
      "outputs": [
        {
          "data": {
            "text/plain": [
              "0"
            ]
          },
          "execution_count": 46,
          "metadata": {},
          "output_type": "execute_result"
        }
      ],
      "source": [
        "df2['customerid'].duplicated().sum()"
      ]
    },
    {
      "cell_type": "code",
      "execution_count": null,
      "id": "1e12f045-168f-4a4b-80bc-28755ff70daf",
      "metadata": {
        "id": "1e12f045-168f-4a4b-80bc-28755ff70daf",
        "outputId": "48513552-5ad3-4646-b4eb-bd5821e46738"
      },
      "outputs": [
        {
          "name": "stdout",
          "output_type": "stream",
          "text": [
            "<class 'pandas.core.frame.DataFrame'>\n",
            "Index: 4334 entries, 0 to 4345\n",
            "Data columns (total 8 columns):\n",
            " #   Column                      Non-Null Count  Dtype  \n",
            "---  ------                      --------------  -----  \n",
            " 0   customerid                  4334 non-null   object \n",
            " 1   birthdate                   4334 non-null   object \n",
            " 2   bank_account_type           4334 non-null   object \n",
            " 3   longitude_gps               4334 non-null   float64\n",
            " 4   latitude_gps                4334 non-null   float64\n",
            " 5   bank_name_clients           4334 non-null   object \n",
            " 6   employment_status_clients   4334 non-null   object \n",
            " 7   level_of_education_clients  4334 non-null   object \n",
            "dtypes: float64(2), object(6)\n",
            "memory usage: 304.7+ KB\n"
          ]
        }
      ],
      "source": [
        "df2.info()"
      ]
    },
    {
      "cell_type": "code",
      "execution_count": null,
      "id": "86e22d47-d49c-46e2-a2a3-c2a8ab0455b1",
      "metadata": {
        "id": "86e22d47-d49c-46e2-a2a3-c2a8ab0455b1",
        "outputId": "8a739a14-214c-4fd4-ec75-d78e1266fc5a"
      },
      "outputs": [
        {
          "name": "stdout",
          "output_type": "stream",
          "text": [
            "<class 'pandas.core.frame.DataFrame'>\n",
            "RangeIndex: 4368 entries, 0 to 4367\n",
            "Data columns (total 9 columns):\n",
            " #   Column         Non-Null Count  Dtype  \n",
            "---  ------         --------------  -----  \n",
            " 0   customerid     4368 non-null   object \n",
            " 1   systemloanid   4368 non-null   int64  \n",
            " 2   loannumber     4368 non-null   int64  \n",
            " 3   approveddate   4368 non-null   object \n",
            " 4   creationdate   4368 non-null   object \n",
            " 5   loanamount     4368 non-null   float64\n",
            " 6   totaldue       4368 non-null   float64\n",
            " 7   termdays       4368 non-null   int64  \n",
            " 8   good_bad_flag  4368 non-null   object \n",
            "dtypes: float64(2), int64(3), object(4)\n",
            "memory usage: 307.3+ KB\n"
          ]
        }
      ],
      "source": [
        "df1.info()"
      ]
    },
    {
      "cell_type": "code",
      "execution_count": null,
      "id": "5e096d47-589c-4828-9f3f-a0a842a95019",
      "metadata": {
        "id": "5e096d47-589c-4828-9f3f-a0a842a95019",
        "outputId": "d14e97cf-ee31-4180-fca1-ef39c27b5bb3"
      },
      "outputs": [
        {
          "data": {
            "text/plain": [
              "0"
            ]
          },
          "execution_count": 49,
          "metadata": {},
          "output_type": "execute_result"
        }
      ],
      "source": [
        "df1.duplicated().sum()"
      ]
    },
    {
      "cell_type": "code",
      "execution_count": null,
      "id": "97a2258b-cff9-4721-bc85-85e34dc4056d",
      "metadata": {
        "id": "97a2258b-cff9-4721-bc85-85e34dc4056d",
        "outputId": "c75d9f15-efe0-479a-c12c-6e33c0d68bcf"
      },
      "outputs": [
        {
          "data": {
            "text/plain": [
              "((4368, 9), (4334, 8), (4359, 2))"
            ]
          },
          "execution_count": 50,
          "metadata": {},
          "output_type": "execute_result"
        }
      ],
      "source": [
        "df1.shape, df2.shape, df4.shape"
      ]
    },
    {
      "cell_type": "code",
      "execution_count": null,
      "id": "b0471f8f-fc0a-4453-8fe6-8712fae8ea1c",
      "metadata": {
        "id": "b0471f8f-fc0a-4453-8fe6-8712fae8ea1c"
      },
      "outputs": [],
      "source": [
        "#merge df2 and df4\n",
        "df5 = df1.merge(df4, on='customerid', how='left')"
      ]
    },
    {
      "cell_type": "code",
      "execution_count": null,
      "id": "04b528c2-843c-4d17-bb43-50b5155841ee",
      "metadata": {
        "id": "04b528c2-843c-4d17-bb43-50b5155841ee",
        "outputId": "4ebe04f6-9b49-464a-e492-ce39652f9640"
      },
      "outputs": [
        {
          "data": {
            "text/plain": [
              "(4368, 10)"
            ]
          },
          "execution_count": 52,
          "metadata": {},
          "output_type": "execute_result"
        }
      ],
      "source": [
        "df5.shape"
      ]
    },
    {
      "cell_type": "code",
      "execution_count": null,
      "id": "dbaa1f65-fe67-4033-87a4-c0ac72cedb71",
      "metadata": {
        "id": "dbaa1f65-fe67-4033-87a4-c0ac72cedb71",
        "outputId": "52a88424-31a3-452c-d261-0d9e35652b0b"
      },
      "outputs": [
        {
          "data": {
            "text/html": [
              "<div>\n",
              "<style scoped>\n",
              "    .dataframe tbody tr th:only-of-type {\n",
              "        vertical-align: middle;\n",
              "    }\n",
              "\n",
              "    .dataframe tbody tr th {\n",
              "        vertical-align: top;\n",
              "    }\n",
              "\n",
              "    .dataframe thead th {\n",
              "        text-align: right;\n",
              "    }\n",
              "</style>\n",
              "<table border=\"1\" class=\"dataframe\">\n",
              "  <thead>\n",
              "    <tr style=\"text-align: right;\">\n",
              "      <th></th>\n",
              "      <th>customerid</th>\n",
              "      <th>systemloanid</th>\n",
              "      <th>loannumber</th>\n",
              "      <th>approveddate</th>\n",
              "      <th>creationdate</th>\n",
              "      <th>loanamount</th>\n",
              "      <th>totaldue</th>\n",
              "      <th>termdays</th>\n",
              "      <th>good_bad_flag</th>\n",
              "      <th>loan_to_due_ratio</th>\n",
              "    </tr>\n",
              "  </thead>\n",
              "  <tbody>\n",
              "    <tr>\n",
              "      <th>4068</th>\n",
              "      <td>8a858fa7590af885015911cda397303a</td>\n",
              "      <td>301981466</td>\n",
              "      <td>4</td>\n",
              "      <td>2017-07-17 09:58:02.000000</td>\n",
              "      <td>2017-07-17 08:57:56.000000</td>\n",
              "      <td>20000.0</td>\n",
              "      <td>24500.0</td>\n",
              "      <td>30</td>\n",
              "      <td>Good</td>\n",
              "      <td>1.3000</td>\n",
              "    </tr>\n",
              "    <tr>\n",
              "      <th>190</th>\n",
              "      <td>8a858e0156b782a10156b8e131824d39</td>\n",
              "      <td>302000874</td>\n",
              "      <td>6</td>\n",
              "      <td>2017-07-28 16:07:35.000000</td>\n",
              "      <td>2017-07-28 15:07:27.000000</td>\n",
              "      <td>10000.0</td>\n",
              "      <td>11500.0</td>\n",
              "      <td>30</td>\n",
              "      <td>Good</td>\n",
              "      <td>1.1765</td>\n",
              "    </tr>\n",
              "  </tbody>\n",
              "</table>\n",
              "</div>"
            ],
            "text/plain": [
              "                            customerid  systemloanid  loannumber  \\\n",
              "4068  8a858fa7590af885015911cda397303a     301981466           4   \n",
              "190   8a858e0156b782a10156b8e131824d39     302000874           6   \n",
              "\n",
              "                    approveddate                creationdate  loanamount  \\\n",
              "4068  2017-07-17 09:58:02.000000  2017-07-17 08:57:56.000000     20000.0   \n",
              "190   2017-07-28 16:07:35.000000  2017-07-28 15:07:27.000000     10000.0   \n",
              "\n",
              "      totaldue  termdays good_bad_flag  loan_to_due_ratio  \n",
              "4068   24500.0        30          Good             1.3000  \n",
              "190    11500.0        30          Good             1.1765  "
            ]
          },
          "execution_count": 53,
          "metadata": {},
          "output_type": "execute_result"
        }
      ],
      "source": [
        "df5.sample(2)"
      ]
    },
    {
      "cell_type": "code",
      "execution_count": null,
      "id": "079f0b9d-5b6f-4dce-920c-675f42742801",
      "metadata": {
        "id": "079f0b9d-5b6f-4dce-920c-675f42742801",
        "outputId": "95941f29-f580-4db2-fb8e-9e3927c736ab"
      },
      "outputs": [
        {
          "name": "stdout",
          "output_type": "stream",
          "text": [
            "<class 'pandas.core.frame.DataFrame'>\n",
            "RangeIndex: 4368 entries, 0 to 4367\n",
            "Data columns (total 10 columns):\n",
            " #   Column             Non-Null Count  Dtype  \n",
            "---  ------             --------------  -----  \n",
            " 0   customerid         4368 non-null   object \n",
            " 1   systemloanid       4368 non-null   int64  \n",
            " 2   loannumber         4368 non-null   int64  \n",
            " 3   approveddate       4368 non-null   object \n",
            " 4   creationdate       4368 non-null   object \n",
            " 5   loanamount         4368 non-null   float64\n",
            " 6   totaldue           4368 non-null   float64\n",
            " 7   termdays           4368 non-null   int64  \n",
            " 8   good_bad_flag      4368 non-null   object \n",
            " 9   loan_to_due_ratio  4359 non-null   float64\n",
            "dtypes: float64(3), int64(3), object(4)\n",
            "memory usage: 341.4+ KB\n"
          ]
        }
      ],
      "source": [
        "df5.info()"
      ]
    },
    {
      "cell_type": "code",
      "execution_count": null,
      "id": "a0e45e85-4936-4770-99ff-c6054a958106",
      "metadata": {
        "id": "a0e45e85-4936-4770-99ff-c6054a958106"
      },
      "outputs": [],
      "source": [
        "#merge df5 with df2\n",
        "df6 = df5.merge(df2, on='customerid', how='left')"
      ]
    },
    {
      "cell_type": "code",
      "execution_count": null,
      "id": "e77a7283-8b9a-4539-8bee-ecf79884a805",
      "metadata": {
        "id": "e77a7283-8b9a-4539-8bee-ecf79884a805",
        "outputId": "834eb047-5220-4755-99d4-2d61acbb9abf"
      },
      "outputs": [
        {
          "data": {
            "text/plain": [
              "(4368, 17)"
            ]
          },
          "execution_count": 56,
          "metadata": {},
          "output_type": "execute_result"
        }
      ],
      "source": [
        "df6.shape"
      ]
    },
    {
      "cell_type": "code",
      "execution_count": null,
      "id": "eef25ecf-478b-45ec-a73b-6f22cba56231",
      "metadata": {
        "id": "eef25ecf-478b-45ec-a73b-6f22cba56231",
        "outputId": "8082718e-6198-4ebc-dd01-aa8aab63cffe"
      },
      "outputs": [
        {
          "name": "stdout",
          "output_type": "stream",
          "text": [
            "<class 'pandas.core.frame.DataFrame'>\n",
            "RangeIndex: 4368 entries, 0 to 4367\n",
            "Data columns (total 17 columns):\n",
            " #   Column                      Non-Null Count  Dtype  \n",
            "---  ------                      --------------  -----  \n",
            " 0   customerid                  4368 non-null   object \n",
            " 1   systemloanid                4368 non-null   int64  \n",
            " 2   loannumber                  4368 non-null   int64  \n",
            " 3   approveddate                4368 non-null   object \n",
            " 4   creationdate                4368 non-null   object \n",
            " 5   loanamount                  4368 non-null   float64\n",
            " 6   totaldue                    4368 non-null   float64\n",
            " 7   termdays                    4368 non-null   int64  \n",
            " 8   good_bad_flag               4368 non-null   object \n",
            " 9   loan_to_due_ratio           4359 non-null   float64\n",
            " 10  birthdate                   3269 non-null   object \n",
            " 11  bank_account_type           3269 non-null   object \n",
            " 12  longitude_gps               3269 non-null   float64\n",
            " 13  latitude_gps                3269 non-null   float64\n",
            " 14  bank_name_clients           3269 non-null   object \n",
            " 15  employment_status_clients   3269 non-null   object \n",
            " 16  level_of_education_clients  3269 non-null   object \n",
            "dtypes: float64(5), int64(3), object(9)\n",
            "memory usage: 580.3+ KB\n"
          ]
        }
      ],
      "source": [
        "df6.info()"
      ]
    },
    {
      "cell_type": "code",
      "execution_count": null,
      "id": "b980749e-2257-48bf-8bc5-e0c1ee16a9e6",
      "metadata": {
        "id": "b980749e-2257-48bf-8bc5-e0c1ee16a9e6",
        "outputId": "7ba3e318-bd43-41a5-de82-2e72d93baf55"
      },
      "outputs": [
        {
          "data": {
            "text/html": [
              "<div>\n",
              "<style scoped>\n",
              "    .dataframe tbody tr th:only-of-type {\n",
              "        vertical-align: middle;\n",
              "    }\n",
              "\n",
              "    .dataframe tbody tr th {\n",
              "        vertical-align: top;\n",
              "    }\n",
              "\n",
              "    .dataframe thead th {\n",
              "        text-align: right;\n",
              "    }\n",
              "</style>\n",
              "<table border=\"1\" class=\"dataframe\">\n",
              "  <thead>\n",
              "    <tr style=\"text-align: right;\">\n",
              "      <th></th>\n",
              "      <th>customerid</th>\n",
              "      <th>systemloanid</th>\n",
              "      <th>loannumber</th>\n",
              "      <th>approveddate</th>\n",
              "      <th>creationdate</th>\n",
              "      <th>loanamount</th>\n",
              "      <th>totaldue</th>\n",
              "      <th>termdays</th>\n",
              "      <th>good_bad_flag</th>\n",
              "      <th>loan_to_due_ratio</th>\n",
              "      <th>birthdate</th>\n",
              "      <th>bank_account_type</th>\n",
              "      <th>longitude_gps</th>\n",
              "      <th>latitude_gps</th>\n",
              "      <th>bank_name_clients</th>\n",
              "      <th>employment_status_clients</th>\n",
              "      <th>level_of_education_clients</th>\n",
              "    </tr>\n",
              "  </thead>\n",
              "  <tbody>\n",
              "    <tr>\n",
              "      <th>2260</th>\n",
              "      <td>8a858edf5c69a538015c77f4b872748b</td>\n",
              "      <td>301985010</td>\n",
              "      <td>2</td>\n",
              "      <td>2017-07-19 07:01:39.000000</td>\n",
              "      <td>2017-07-19 06:01:28.000000</td>\n",
              "      <td>10000.0</td>\n",
              "      <td>13000.0</td>\n",
              "      <td>30</td>\n",
              "      <td>Bad</td>\n",
              "      <td>1.15</td>\n",
              "      <td>1991-04-10 00:00:00.000000</td>\n",
              "      <td>Savings</td>\n",
              "      <td>3.355131</td>\n",
              "      <td>6.686571</td>\n",
              "      <td>GT Bank</td>\n",
              "      <td>Permanent</td>\n",
              "      <td>Graduate</td>\n",
              "    </tr>\n",
              "    <tr>\n",
              "      <th>1742</th>\n",
              "      <td>8a858e675c3fe0a1015c4df608682d94</td>\n",
              "      <td>301978644</td>\n",
              "      <td>3</td>\n",
              "      <td>2017-07-15 05:58:08.000000</td>\n",
              "      <td>2017-07-15 04:58:00.000000</td>\n",
              "      <td>10000.0</td>\n",
              "      <td>11500.0</td>\n",
              "      <td>15</td>\n",
              "      <td>Good</td>\n",
              "      <td>1.30</td>\n",
              "      <td>1975-05-26 00:00:00.000000</td>\n",
              "      <td>Savings</td>\n",
              "      <td>3.508943</td>\n",
              "      <td>6.436920</td>\n",
              "      <td>Zenith Bank</td>\n",
              "      <td>Permanent</td>\n",
              "      <td>Graduate</td>\n",
              "    </tr>\n",
              "  </tbody>\n",
              "</table>\n",
              "</div>"
            ],
            "text/plain": [
              "                            customerid  systemloanid  loannumber  \\\n",
              "2260  8a858edf5c69a538015c77f4b872748b     301985010           2   \n",
              "1742  8a858e675c3fe0a1015c4df608682d94     301978644           3   \n",
              "\n",
              "                    approveddate                creationdate  loanamount  \\\n",
              "2260  2017-07-19 07:01:39.000000  2017-07-19 06:01:28.000000     10000.0   \n",
              "1742  2017-07-15 05:58:08.000000  2017-07-15 04:58:00.000000     10000.0   \n",
              "\n",
              "      totaldue  termdays good_bad_flag  loan_to_due_ratio  \\\n",
              "2260   13000.0        30           Bad               1.15   \n",
              "1742   11500.0        15          Good               1.30   \n",
              "\n",
              "                       birthdate bank_account_type  longitude_gps  \\\n",
              "2260  1991-04-10 00:00:00.000000           Savings       3.355131   \n",
              "1742  1975-05-26 00:00:00.000000           Savings       3.508943   \n",
              "\n",
              "      latitude_gps bank_name_clients employment_status_clients  \\\n",
              "2260      6.686571           GT Bank                 Permanent   \n",
              "1742      6.436920       Zenith Bank                 Permanent   \n",
              "\n",
              "     level_of_education_clients  \n",
              "2260                   Graduate  \n",
              "1742                   Graduate  "
            ]
          },
          "execution_count": 58,
          "metadata": {},
          "output_type": "execute_result"
        }
      ],
      "source": [
        "df6.sample(2)"
      ]
    },
    {
      "cell_type": "code",
      "execution_count": null,
      "id": "af235fb3-2450-437e-918c-4b8704cf6c67",
      "metadata": {
        "id": "af235fb3-2450-437e-918c-4b8704cf6c67",
        "outputId": "de6945db-292d-43fd-8f85-c9c6dfacc505"
      },
      "outputs": [
        {
          "data": {
            "text/plain": [
              "customerid                       0\n",
              "systemloanid                     0\n",
              "loannumber                       0\n",
              "approveddate                     0\n",
              "creationdate                     0\n",
              "loanamount                       0\n",
              "totaldue                         0\n",
              "termdays                         0\n",
              "good_bad_flag                    0\n",
              "loan_to_due_ratio                9\n",
              "birthdate                     1099\n",
              "bank_account_type             1099\n",
              "longitude_gps                 1099\n",
              "latitude_gps                  1099\n",
              "bank_name_clients             1099\n",
              "employment_status_clients     1099\n",
              "level_of_education_clients    1099\n",
              "dtype: int64"
            ]
          },
          "execution_count": 59,
          "metadata": {},
          "output_type": "execute_result"
        }
      ],
      "source": [
        "df6.isna().sum()"
      ]
    },
    {
      "cell_type": "code",
      "execution_count": null,
      "id": "5b23f9fd-5239-4328-829e-7d6cd5e741bc",
      "metadata": {
        "id": "5b23f9fd-5239-4328-829e-7d6cd5e741bc"
      },
      "outputs": [],
      "source": [
        "#treating missing values in the final merged dataset - df6\n",
        "# starting with the loan_to_due_ratio, i'll recalculate it and fill out the missing rows\n",
        "df6['loan_to_due_ratio'] = df6['totaldue'] / df6['loanamount']"
      ]
    },
    {
      "cell_type": "code",
      "execution_count": null,
      "id": "00636a94-8553-43f0-a671-64914dac356c",
      "metadata": {
        "id": "00636a94-8553-43f0-a671-64914dac356c",
        "outputId": "5fc40a91-70fc-4c8e-e88f-0cf316e02edf"
      },
      "outputs": [
        {
          "name": "stdout",
          "output_type": "stream",
          "text": [
            "<class 'pandas.core.frame.DataFrame'>\n",
            "RangeIndex: 4368 entries, 0 to 4367\n",
            "Data columns (total 17 columns):\n",
            " #   Column                      Non-Null Count  Dtype  \n",
            "---  ------                      --------------  -----  \n",
            " 0   customerid                  4368 non-null   object \n",
            " 1   systemloanid                4368 non-null   int64  \n",
            " 2   loannumber                  4368 non-null   int64  \n",
            " 3   approveddate                4368 non-null   object \n",
            " 4   creationdate                4368 non-null   object \n",
            " 5   loanamount                  4368 non-null   float64\n",
            " 6   totaldue                    4368 non-null   float64\n",
            " 7   termdays                    4368 non-null   int64  \n",
            " 8   good_bad_flag               4368 non-null   object \n",
            " 9   loan_to_due_ratio           4368 non-null   float64\n",
            " 10  birthdate                   3269 non-null   object \n",
            " 11  bank_account_type           3269 non-null   object \n",
            " 12  longitude_gps               3269 non-null   float64\n",
            " 13  latitude_gps                3269 non-null   float64\n",
            " 14  bank_name_clients           3269 non-null   object \n",
            " 15  employment_status_clients   3269 non-null   object \n",
            " 16  level_of_education_clients  3269 non-null   object \n",
            "dtypes: float64(5), int64(3), object(9)\n",
            "memory usage: 580.3+ KB\n"
          ]
        }
      ],
      "source": [
        "df6.info()"
      ]
    },
    {
      "cell_type": "code",
      "execution_count": null,
      "id": "7623dc4c-e5ff-4250-8fa8-163c86f36dc8",
      "metadata": {
        "id": "7623dc4c-e5ff-4250-8fa8-163c86f36dc8"
      },
      "outputs": [],
      "source": [
        "#for categorical data such as bank_account_type, bank_name_clients, employment_status_clients, and level_of_education_clients,\n",
        "#I'll fill the missing values with the mode\n",
        "\n",
        "df6['bank_account_type'].fillna(df6['bank_account_type'].mode()[0], inplace=True)\n",
        "df6['bank_name_clients'].fillna(df6['bank_name_clients'].mode()[0], inplace=True)\n",
        "df6['employment_status_clients'].fillna(df6['employment_status_clients'].mode()[0], inplace=True)\n",
        "df6['level_of_education_clients'].fillna(df6['level_of_education_clients'].mode()[0], inplace=True)"
      ]
    },
    {
      "cell_type": "code",
      "execution_count": null,
      "id": "abdc5a36-c9b0-4669-b9fc-d52a0d6f15d6",
      "metadata": {
        "id": "abdc5a36-c9b0-4669-b9fc-d52a0d6f15d6",
        "outputId": "52f4c09c-70ea-4f22-dc8d-076bcc3c519d"
      },
      "outputs": [
        {
          "name": "stdout",
          "output_type": "stream",
          "text": [
            "<class 'pandas.core.frame.DataFrame'>\n",
            "RangeIndex: 4368 entries, 0 to 4367\n",
            "Data columns (total 17 columns):\n",
            " #   Column                      Non-Null Count  Dtype  \n",
            "---  ------                      --------------  -----  \n",
            " 0   customerid                  4368 non-null   object \n",
            " 1   systemloanid                4368 non-null   int64  \n",
            " 2   loannumber                  4368 non-null   int64  \n",
            " 3   approveddate                4368 non-null   object \n",
            " 4   creationdate                4368 non-null   object \n",
            " 5   loanamount                  4368 non-null   float64\n",
            " 6   totaldue                    4368 non-null   float64\n",
            " 7   termdays                    4368 non-null   int64  \n",
            " 8   good_bad_flag               4368 non-null   object \n",
            " 9   loan_to_due_ratio           4368 non-null   float64\n",
            " 10  birthdate                   3269 non-null   object \n",
            " 11  bank_account_type           4368 non-null   object \n",
            " 12  longitude_gps               3269 non-null   float64\n",
            " 13  latitude_gps                3269 non-null   float64\n",
            " 14  bank_name_clients           4368 non-null   object \n",
            " 15  employment_status_clients   4368 non-null   object \n",
            " 16  level_of_education_clients  4368 non-null   object \n",
            "dtypes: float64(5), int64(3), object(9)\n",
            "memory usage: 580.3+ KB\n"
          ]
        }
      ],
      "source": [
        "df6.info()"
      ]
    },
    {
      "cell_type": "code",
      "execution_count": null,
      "id": "23610a73-6017-498c-b9ee-db355c85b050",
      "metadata": {
        "id": "23610a73-6017-498c-b9ee-db355c85b050"
      },
      "outputs": [],
      "source": [
        "#the remaining columns with missing values are 'birthdate', 'longitude_gps', 'latitude_gps'\n",
        "#to treat the missing values in birthdate, I'll do a little feature engineering to convert to age and fill the missing values with the median age\n",
        "\n",
        "from datetime import datetime\n",
        "\n",
        "df6['birthdate'] = pd.to_datetime(df6['birthdate'], errors='coerce')\n",
        "\n",
        "today = pd.Timestamp.today()\n",
        "df6['age'] = (today - df6['birthdate']).dt.days // 365"
      ]
    },
    {
      "cell_type": "code",
      "execution_count": null,
      "id": "b78f8807-6436-4ac3-93d4-27e4ac8f2079",
      "metadata": {
        "id": "b78f8807-6436-4ac3-93d4-27e4ac8f2079",
        "outputId": "21af087d-2a40-4287-8702-f32e42208e1e"
      },
      "outputs": [
        {
          "data": {
            "text/html": [
              "<div>\n",
              "<style scoped>\n",
              "    .dataframe tbody tr th:only-of-type {\n",
              "        vertical-align: middle;\n",
              "    }\n",
              "\n",
              "    .dataframe tbody tr th {\n",
              "        vertical-align: top;\n",
              "    }\n",
              "\n",
              "    .dataframe thead th {\n",
              "        text-align: right;\n",
              "    }\n",
              "</style>\n",
              "<table border=\"1\" class=\"dataframe\">\n",
              "  <thead>\n",
              "    <tr style=\"text-align: right;\">\n",
              "      <th></th>\n",
              "      <th>customerid</th>\n",
              "      <th>systemloanid</th>\n",
              "      <th>loannumber</th>\n",
              "      <th>approveddate</th>\n",
              "      <th>creationdate</th>\n",
              "      <th>loanamount</th>\n",
              "      <th>totaldue</th>\n",
              "      <th>termdays</th>\n",
              "      <th>good_bad_flag</th>\n",
              "      <th>loan_to_due_ratio</th>\n",
              "      <th>birthdate</th>\n",
              "      <th>bank_account_type</th>\n",
              "      <th>longitude_gps</th>\n",
              "      <th>latitude_gps</th>\n",
              "      <th>bank_name_clients</th>\n",
              "      <th>employment_status_clients</th>\n",
              "      <th>level_of_education_clients</th>\n",
              "      <th>age</th>\n",
              "    </tr>\n",
              "  </thead>\n",
              "  <tbody>\n",
              "    <tr>\n",
              "      <th>4203</th>\n",
              "      <td>8a858f3455a0d8070155baddc1256a8b</td>\n",
              "      <td>301982663</td>\n",
              "      <td>2</td>\n",
              "      <td>2017-07-17 20:32:35.000000</td>\n",
              "      <td>2017-07-17 19:32:28.000000</td>\n",
              "      <td>10000.0</td>\n",
              "      <td>13000.0</td>\n",
              "      <td>30</td>\n",
              "      <td>Good</td>\n",
              "      <td>1.3</td>\n",
              "      <td>1995-10-23</td>\n",
              "      <td>Other</td>\n",
              "      <td>3.196012</td>\n",
              "      <td>6.479474</td>\n",
              "      <td>GT Bank</td>\n",
              "      <td>Self-Employed</td>\n",
              "      <td>Graduate</td>\n",
              "      <td>29.0</td>\n",
              "    </tr>\n",
              "    <tr>\n",
              "      <th>1109</th>\n",
              "      <td>8a858e9b560bbd6301561e50ee830cbd</td>\n",
              "      <td>301988020</td>\n",
              "      <td>12</td>\n",
              "      <td>2017-07-20 17:37:41.000000</td>\n",
              "      <td>2017-07-20 16:37:31.000000</td>\n",
              "      <td>40000.0</td>\n",
              "      <td>44000.0</td>\n",
              "      <td>30</td>\n",
              "      <td>Good</td>\n",
              "      <td>1.1</td>\n",
              "      <td>NaT</td>\n",
              "      <td>Savings</td>\n",
              "      <td>NaN</td>\n",
              "      <td>NaN</td>\n",
              "      <td>GT Bank</td>\n",
              "      <td>Permanent</td>\n",
              "      <td>Graduate</td>\n",
              "      <td>NaN</td>\n",
              "    </tr>\n",
              "  </tbody>\n",
              "</table>\n",
              "</div>"
            ],
            "text/plain": [
              "                            customerid  systemloanid  loannumber  \\\n",
              "4203  8a858f3455a0d8070155baddc1256a8b     301982663           2   \n",
              "1109  8a858e9b560bbd6301561e50ee830cbd     301988020          12   \n",
              "\n",
              "                    approveddate                creationdate  loanamount  \\\n",
              "4203  2017-07-17 20:32:35.000000  2017-07-17 19:32:28.000000     10000.0   \n",
              "1109  2017-07-20 17:37:41.000000  2017-07-20 16:37:31.000000     40000.0   \n",
              "\n",
              "      totaldue  termdays good_bad_flag  loan_to_due_ratio  birthdate  \\\n",
              "4203   13000.0        30          Good                1.3 1995-10-23   \n",
              "1109   44000.0        30          Good                1.1        NaT   \n",
              "\n",
              "     bank_account_type  longitude_gps  latitude_gps bank_name_clients  \\\n",
              "4203             Other       3.196012      6.479474           GT Bank   \n",
              "1109           Savings            NaN           NaN           GT Bank   \n",
              "\n",
              "     employment_status_clients level_of_education_clients   age  \n",
              "4203             Self-Employed                   Graduate  29.0  \n",
              "1109                 Permanent                   Graduate   NaN  "
            ]
          },
          "execution_count": 65,
          "metadata": {},
          "output_type": "execute_result"
        }
      ],
      "source": [
        "df6.sample(2)"
      ]
    },
    {
      "cell_type": "code",
      "execution_count": null,
      "id": "f14fe613-bc81-44e6-83a2-0e792d3cea5c",
      "metadata": {
        "id": "f14fe613-bc81-44e6-83a2-0e792d3cea5c",
        "outputId": "3b87543e-f126-4f84-b6a8-ae1dc0db40b5"
      },
      "outputs": [
        {
          "name": "stdout",
          "output_type": "stream",
          "text": [
            "<class 'pandas.core.frame.DataFrame'>\n",
            "RangeIndex: 4368 entries, 0 to 4367\n",
            "Data columns (total 18 columns):\n",
            " #   Column                      Non-Null Count  Dtype         \n",
            "---  ------                      --------------  -----         \n",
            " 0   customerid                  4368 non-null   object        \n",
            " 1   systemloanid                4368 non-null   int64         \n",
            " 2   loannumber                  4368 non-null   int64         \n",
            " 3   approveddate                4368 non-null   object        \n",
            " 4   creationdate                4368 non-null   object        \n",
            " 5   loanamount                  4368 non-null   float64       \n",
            " 6   totaldue                    4368 non-null   float64       \n",
            " 7   termdays                    4368 non-null   int64         \n",
            " 8   good_bad_flag               4368 non-null   object        \n",
            " 9   loan_to_due_ratio           4368 non-null   float64       \n",
            " 10  birthdate                   3269 non-null   datetime64[ns]\n",
            " 11  bank_account_type           4368 non-null   object        \n",
            " 12  longitude_gps               3269 non-null   float64       \n",
            " 13  latitude_gps                3269 non-null   float64       \n",
            " 14  bank_name_clients           4368 non-null   object        \n",
            " 15  employment_status_clients   4368 non-null   object        \n",
            " 16  level_of_education_clients  4368 non-null   object        \n",
            " 17  age                         3269 non-null   float64       \n",
            "dtypes: datetime64[ns](1), float64(6), int64(3), object(8)\n",
            "memory usage: 614.4+ KB\n"
          ]
        }
      ],
      "source": [
        "df6.info()"
      ]
    },
    {
      "cell_type": "code",
      "execution_count": null,
      "id": "f85d9335-4717-4e40-8af0-3dc72cdcb61f",
      "metadata": {
        "id": "f85d9335-4717-4e40-8af0-3dc72cdcb61f",
        "outputId": "d777bb02-da5f-4042-b2f7-66447f978e9c"
      },
      "outputs": [
        {
          "data": {
            "text/plain": [
              "40.0"
            ]
          },
          "execution_count": 67,
          "metadata": {},
          "output_type": "execute_result"
        }
      ],
      "source": [
        "#calculate median age\n",
        "median_age = df6['age'].median()\n",
        "median_age"
      ]
    },
    {
      "cell_type": "code",
      "execution_count": null,
      "id": "f2f4c6ad-79d9-4272-81f8-58134ef73c0c",
      "metadata": {
        "id": "f2f4c6ad-79d9-4272-81f8-58134ef73c0c"
      },
      "outputs": [],
      "source": [
        "#fill missing ages with the median age\n",
        "df6['age'] = df6['age'].fillna(median_age)"
      ]
    },
    {
      "cell_type": "code",
      "execution_count": null,
      "id": "ded23c12-1cd3-4ff3-94f9-76ba2ebf4262",
      "metadata": {
        "id": "ded23c12-1cd3-4ff3-94f9-76ba2ebf4262",
        "outputId": "0f4f01f8-6df2-42c4-aa6e-3f0c09122202"
      },
      "outputs": [
        {
          "name": "stdout",
          "output_type": "stream",
          "text": [
            "<class 'pandas.core.frame.DataFrame'>\n",
            "RangeIndex: 4368 entries, 0 to 4367\n",
            "Data columns (total 18 columns):\n",
            " #   Column                      Non-Null Count  Dtype         \n",
            "---  ------                      --------------  -----         \n",
            " 0   customerid                  4368 non-null   object        \n",
            " 1   systemloanid                4368 non-null   int64         \n",
            " 2   loannumber                  4368 non-null   int64         \n",
            " 3   approveddate                4368 non-null   object        \n",
            " 4   creationdate                4368 non-null   object        \n",
            " 5   loanamount                  4368 non-null   float64       \n",
            " 6   totaldue                    4368 non-null   float64       \n",
            " 7   termdays                    4368 non-null   int64         \n",
            " 8   good_bad_flag               4368 non-null   object        \n",
            " 9   loan_to_due_ratio           4368 non-null   float64       \n",
            " 10  birthdate                   3269 non-null   datetime64[ns]\n",
            " 11  bank_account_type           4368 non-null   object        \n",
            " 12  longitude_gps               3269 non-null   float64       \n",
            " 13  latitude_gps                3269 non-null   float64       \n",
            " 14  bank_name_clients           4368 non-null   object        \n",
            " 15  employment_status_clients   4368 non-null   object        \n",
            " 16  level_of_education_clients  4368 non-null   object        \n",
            " 17  age                         4368 non-null   float64       \n",
            "dtypes: datetime64[ns](1), float64(6), int64(3), object(8)\n",
            "memory usage: 614.4+ KB\n"
          ]
        }
      ],
      "source": [
        "df6.info()"
      ]
    },
    {
      "cell_type": "code",
      "execution_count": null,
      "id": "38b3c5e2-7e4d-4bdc-96f7-3795a5a691d8",
      "metadata": {
        "id": "38b3c5e2-7e4d-4bdc-96f7-3795a5a691d8"
      },
      "outputs": [],
      "source": [
        "#to treat the missing values in my longitude and latitude, I'll first do a group-wise imputation based on bank_name_clients and employment_status_clients\n",
        "#this is because customers using the same bank might live in the same area (especially in rural settings)\n",
        "#employment type may sometimes vary with location\n",
        "\n",
        "group_cols = ['bank_name_clients', 'employment_status_clients']\n",
        "\n",
        "df6['longitude_gps'] = df6.groupby(group_cols)['longitude_gps'].transform(lambda x: x.fillna(x.median()))\n",
        "df6['latitude_gps'] = df6.groupby(group_cols)['latitude_gps'].transform(lambda x: x.fillna(x.median()))"
      ]
    },
    {
      "cell_type": "code",
      "execution_count": null,
      "id": "8b40dff5-6963-4e34-bf2f-c954f2c5298d",
      "metadata": {
        "id": "8b40dff5-6963-4e34-bf2f-c954f2c5298d",
        "outputId": "727c01b5-1b81-4b45-dfa3-03b63c8d6004"
      },
      "outputs": [
        {
          "name": "stdout",
          "output_type": "stream",
          "text": [
            "<class 'pandas.core.frame.DataFrame'>\n",
            "RangeIndex: 4368 entries, 0 to 4367\n",
            "Data columns (total 18 columns):\n",
            " #   Column                      Non-Null Count  Dtype         \n",
            "---  ------                      --------------  -----         \n",
            " 0   customerid                  4368 non-null   object        \n",
            " 1   systemloanid                4368 non-null   int64         \n",
            " 2   loannumber                  4368 non-null   int64         \n",
            " 3   approveddate                4368 non-null   object        \n",
            " 4   creationdate                4368 non-null   object        \n",
            " 5   loanamount                  4368 non-null   float64       \n",
            " 6   totaldue                    4368 non-null   float64       \n",
            " 7   termdays                    4368 non-null   int64         \n",
            " 8   good_bad_flag               4368 non-null   object        \n",
            " 9   loan_to_due_ratio           4368 non-null   float64       \n",
            " 10  birthdate                   3269 non-null   datetime64[ns]\n",
            " 11  bank_account_type           4368 non-null   object        \n",
            " 12  longitude_gps               4368 non-null   float64       \n",
            " 13  latitude_gps                4368 non-null   float64       \n",
            " 14  bank_name_clients           4368 non-null   object        \n",
            " 15  employment_status_clients   4368 non-null   object        \n",
            " 16  level_of_education_clients  4368 non-null   object        \n",
            " 17  age                         4368 non-null   float64       \n",
            "dtypes: datetime64[ns](1), float64(6), int64(3), object(8)\n",
            "memory usage: 614.4+ KB\n"
          ]
        }
      ],
      "source": [
        "df6.info()"
      ]
    },
    {
      "cell_type": "code",
      "execution_count": null,
      "id": "6f5599cc-1b4d-4121-b45d-bffaf72045da",
      "metadata": {
        "id": "6f5599cc-1b4d-4121-b45d-bffaf72045da"
      },
      "outputs": [],
      "source": [
        "#I'll now drop the birthdate could since I have the age now\n",
        "df6.drop('birthdate', axis=1, inplace=True)"
      ]
    },
    {
      "cell_type": "code",
      "execution_count": null,
      "id": "39a28fac-0ba4-4ce8-af48-755a14ddcc52",
      "metadata": {
        "id": "39a28fac-0ba4-4ce8-af48-755a14ddcc52",
        "outputId": "07321c06-f04e-42e7-b3a2-fe3c6844cdb4"
      },
      "outputs": [
        {
          "name": "stdout",
          "output_type": "stream",
          "text": [
            "<class 'pandas.core.frame.DataFrame'>\n",
            "RangeIndex: 4368 entries, 0 to 4367\n",
            "Data columns (total 17 columns):\n",
            " #   Column                      Non-Null Count  Dtype  \n",
            "---  ------                      --------------  -----  \n",
            " 0   customerid                  4368 non-null   object \n",
            " 1   systemloanid                4368 non-null   int64  \n",
            " 2   loannumber                  4368 non-null   int64  \n",
            " 3   approveddate                4368 non-null   object \n",
            " 4   creationdate                4368 non-null   object \n",
            " 5   loanamount                  4368 non-null   float64\n",
            " 6   totaldue                    4368 non-null   float64\n",
            " 7   termdays                    4368 non-null   int64  \n",
            " 8   good_bad_flag               4368 non-null   object \n",
            " 9   loan_to_due_ratio           4368 non-null   float64\n",
            " 10  bank_account_type           4368 non-null   object \n",
            " 11  longitude_gps               4368 non-null   float64\n",
            " 12  latitude_gps                4368 non-null   float64\n",
            " 13  bank_name_clients           4368 non-null   object \n",
            " 14  employment_status_clients   4368 non-null   object \n",
            " 15  level_of_education_clients  4368 non-null   object \n",
            " 16  age                         4368 non-null   float64\n",
            "dtypes: float64(6), int64(3), object(8)\n",
            "memory usage: 580.3+ KB\n"
          ]
        }
      ],
      "source": [
        "df6.info()"
      ]
    },
    {
      "cell_type": "code",
      "execution_count": null,
      "id": "ce019463-d3af-4e2c-843a-09ba39ce99cc",
      "metadata": {
        "id": "ce019463-d3af-4e2c-843a-09ba39ce99cc",
        "outputId": "3fb45482-e047-447d-e3c8-b401ab5d4faf"
      },
      "outputs": [
        {
          "data": {
            "text/html": [
              "<div>\n",
              "<style scoped>\n",
              "    .dataframe tbody tr th:only-of-type {\n",
              "        vertical-align: middle;\n",
              "    }\n",
              "\n",
              "    .dataframe tbody tr th {\n",
              "        vertical-align: top;\n",
              "    }\n",
              "\n",
              "    .dataframe thead th {\n",
              "        text-align: right;\n",
              "    }\n",
              "</style>\n",
              "<table border=\"1\" class=\"dataframe\">\n",
              "  <thead>\n",
              "    <tr style=\"text-align: right;\">\n",
              "      <th></th>\n",
              "      <th>customerid</th>\n",
              "      <th>systemloanid</th>\n",
              "      <th>loannumber</th>\n",
              "      <th>approveddate</th>\n",
              "      <th>creationdate</th>\n",
              "      <th>loanamount</th>\n",
              "      <th>totaldue</th>\n",
              "      <th>termdays</th>\n",
              "      <th>good_bad_flag</th>\n",
              "      <th>loan_to_due_ratio</th>\n",
              "      <th>bank_account_type</th>\n",
              "      <th>longitude_gps</th>\n",
              "      <th>latitude_gps</th>\n",
              "      <th>bank_name_clients</th>\n",
              "      <th>employment_status_clients</th>\n",
              "      <th>level_of_education_clients</th>\n",
              "      <th>age</th>\n",
              "    </tr>\n",
              "  </thead>\n",
              "  <tbody>\n",
              "    <tr>\n",
              "      <th>4033</th>\n",
              "      <td>8a858fc45c21da6f015c2ab17a494dbe</td>\n",
              "      <td>301992762</td>\n",
              "      <td>3</td>\n",
              "      <td>2017-07-24 07:14:30.000000</td>\n",
              "      <td>2017-07-24 06:14:22.000000</td>\n",
              "      <td>10000.0</td>\n",
              "      <td>13000.0</td>\n",
              "      <td>30</td>\n",
              "      <td>Good</td>\n",
              "      <td>1.300</td>\n",
              "      <td>Savings</td>\n",
              "      <td>3.541265</td>\n",
              "      <td>6.548406</td>\n",
              "      <td>Access Bank</td>\n",
              "      <td>Permanent</td>\n",
              "      <td>Graduate</td>\n",
              "      <td>35.0</td>\n",
              "    </tr>\n",
              "    <tr>\n",
              "      <th>3729</th>\n",
              "      <td>8a858e935b496584015b496a6fde01f6</td>\n",
              "      <td>301963111</td>\n",
              "      <td>4</td>\n",
              "      <td>2017-07-04 12:46:46.000000</td>\n",
              "      <td>2017-07-04 11:46:41.000000</td>\n",
              "      <td>20000.0</td>\n",
              "      <td>24500.0</td>\n",
              "      <td>30</td>\n",
              "      <td>Good</td>\n",
              "      <td>1.225</td>\n",
              "      <td>Savings</td>\n",
              "      <td>3.525462</td>\n",
              "      <td>6.594147</td>\n",
              "      <td>Zenith Bank</td>\n",
              "      <td>Permanent</td>\n",
              "      <td>Graduate</td>\n",
              "      <td>38.0</td>\n",
              "    </tr>\n",
              "  </tbody>\n",
              "</table>\n",
              "</div>"
            ],
            "text/plain": [
              "                            customerid  systemloanid  loannumber  \\\n",
              "4033  8a858fc45c21da6f015c2ab17a494dbe     301992762           3   \n",
              "3729  8a858e935b496584015b496a6fde01f6     301963111           4   \n",
              "\n",
              "                    approveddate                creationdate  loanamount  \\\n",
              "4033  2017-07-24 07:14:30.000000  2017-07-24 06:14:22.000000     10000.0   \n",
              "3729  2017-07-04 12:46:46.000000  2017-07-04 11:46:41.000000     20000.0   \n",
              "\n",
              "      totaldue  termdays good_bad_flag  loan_to_due_ratio bank_account_type  \\\n",
              "4033   13000.0        30          Good              1.300           Savings   \n",
              "3729   24500.0        30          Good              1.225           Savings   \n",
              "\n",
              "      longitude_gps  latitude_gps bank_name_clients employment_status_clients  \\\n",
              "4033       3.541265      6.548406       Access Bank                 Permanent   \n",
              "3729       3.525462      6.594147       Zenith Bank                 Permanent   \n",
              "\n",
              "     level_of_education_clients   age  \n",
              "4033                   Graduate  35.0  \n",
              "3729                   Graduate  38.0  "
            ]
          },
          "execution_count": 74,
          "metadata": {},
          "output_type": "execute_result"
        }
      ],
      "source": [
        "df6.sample(2)"
      ]
    },
    {
      "cell_type": "markdown",
      "id": "ec825b05-a220-4d08-99a1-a25da3f2db27",
      "metadata": {
        "id": "ec825b05-a220-4d08-99a1-a25da3f2db27"
      },
      "source": [
        "### Data Visualization"
      ]
    },
    {
      "cell_type": "code",
      "execution_count": null,
      "id": "b4b6d9d9-9bd7-47c5-a8a7-9a6d1768281c",
      "metadata": {
        "id": "b4b6d9d9-9bd7-47c5-a8a7-9a6d1768281c",
        "outputId": "6122b487-6caa-4d76-dc71-49fde756ad3f"
      },
      "outputs": [
        {
          "name": "stdout",
          "output_type": "stream",
          "text": [
            "<class 'pandas.core.frame.DataFrame'>\n",
            "RangeIndex: 4368 entries, 0 to 4367\n",
            "Data columns (total 17 columns):\n",
            " #   Column                      Non-Null Count  Dtype  \n",
            "---  ------                      --------------  -----  \n",
            " 0   customerid                  4368 non-null   object \n",
            " 1   systemloanid                4368 non-null   int64  \n",
            " 2   loannumber                  4368 non-null   int64  \n",
            " 3   approveddate                4368 non-null   object \n",
            " 4   creationdate                4368 non-null   object \n",
            " 5   loanamount                  4368 non-null   float64\n",
            " 6   totaldue                    4368 non-null   float64\n",
            " 7   termdays                    4368 non-null   int64  \n",
            " 8   good_bad_flag               4368 non-null   object \n",
            " 9   loan_to_due_ratio           4368 non-null   float64\n",
            " 10  bank_account_type           4368 non-null   object \n",
            " 11  longitude_gps               4368 non-null   float64\n",
            " 12  latitude_gps                4368 non-null   float64\n",
            " 13  bank_name_clients           4368 non-null   object \n",
            " 14  employment_status_clients   4368 non-null   object \n",
            " 15  level_of_education_clients  4368 non-null   object \n",
            " 16  age                         4368 non-null   float64\n",
            "dtypes: float64(6), int64(3), object(8)\n",
            "memory usage: 580.3+ KB\n"
          ]
        }
      ],
      "source": [
        "df6.info()"
      ]
    },
    {
      "cell_type": "code",
      "execution_count": null,
      "id": "5aecf194-8e5d-4d31-809b-dc9b21264264",
      "metadata": {
        "id": "5aecf194-8e5d-4d31-809b-dc9b21264264"
      },
      "outputs": [],
      "source": [
        "# separate into numerical and categorical columns\n",
        "\n",
        "num_cols = df6.select_dtypes(include=['int64', 'float64']).columns.tolist()\n",
        "cat_cols = df6.select_dtypes(include=['object']).columns.tolist()"
      ]
    },
    {
      "cell_type": "code",
      "execution_count": null,
      "id": "b90544be-0b7f-48df-9964-ea0358fcdd4a",
      "metadata": {
        "id": "b90544be-0b7f-48df-9964-ea0358fcdd4a",
        "outputId": "b93fd546-590e-48d4-c835-0572d8c27911"
      },
      "outputs": [
        {
          "data": {
            "text/plain": [
              "['systemloanid',\n",
              " 'loannumber',\n",
              " 'loanamount',\n",
              " 'totaldue',\n",
              " 'termdays',\n",
              " 'loan_to_due_ratio',\n",
              " 'longitude_gps',\n",
              " 'latitude_gps',\n",
              " 'age']"
            ]
          },
          "execution_count": 77,
          "metadata": {},
          "output_type": "execute_result"
        }
      ],
      "source": [
        "num_cols"
      ]
    },
    {
      "cell_type": "code",
      "execution_count": null,
      "id": "5157213d-8db4-4db8-b222-3cf67c222164",
      "metadata": {
        "id": "5157213d-8db4-4db8-b222-3cf67c222164",
        "outputId": "3d977827-7892-4318-f0d1-594adb736aa8"
      },
      "outputs": [
        {
          "data": {
            "text/plain": [
              "['customerid',\n",
              " 'approveddate',\n",
              " 'creationdate',\n",
              " 'good_bad_flag',\n",
              " 'bank_account_type',\n",
              " 'bank_name_clients',\n",
              " 'employment_status_clients',\n",
              " 'level_of_education_clients']"
            ]
          },
          "execution_count": 78,
          "metadata": {},
          "output_type": "execute_result"
        }
      ],
      "source": [
        "cat_cols"
      ]
    },
    {
      "cell_type": "code",
      "execution_count": null,
      "id": "f550f114-a3d4-4571-87fb-cb8486469074",
      "metadata": {
        "id": "f550f114-a3d4-4571-87fb-cb8486469074"
      },
      "outputs": [],
      "source": [
        "#viewing the distribution of select columns\n",
        "num_cols = ['loanamount', 'totaldue', 'loan_to_due_ratio', 'age']"
      ]
    },
    {
      "cell_type": "code",
      "execution_count": null,
      "id": "99e7268e-29bc-47ce-8e99-15fe4f0e2c46",
      "metadata": {
        "id": "99e7268e-29bc-47ce-8e99-15fe4f0e2c46"
      },
      "outputs": [],
      "source": [
        "cat_cols = ['good_bad_flag', 'bank_account_type', 'bank_name_clients','employment_status_clients', 'level_of_education_clients']"
      ]
    },
    {
      "cell_type": "code",
      "execution_count": null,
      "id": "e0f4fad4-3349-43bd-a455-5dfac271207d",
      "metadata": {
        "id": "e0f4fad4-3349-43bd-a455-5dfac271207d",
        "outputId": "03f1414c-a47b-43cd-bda5-f89fa1653a7a"
      },
      "outputs": [
        {
          "data": {
            "image/png": "[encoded data removed]",
            "text/plain": [
              "<Figure size 700x300 with 2 Axes>"
            ]
          },
          "metadata": {},
          "output_type": "display_data"
        },
        {
          "data": {
            "image/png": "[encoded data removed]",
            "text/plain": [
              "<Figure size 700x300 with 2 Axes>"
            ]
          },
          "metadata": {},
          "output_type": "display_data"
        },
        {
          "data": {
            "image/png": "[encoded data removed]",
            "text/plain": [
              "<Figure size 700x300 with 2 Axes>"
            ]
          },
          "metadata": {},
          "output_type": "display_data"
        },
        {
          "data": {
            "image/png": "[encoded data removed]",
            "text/plain": [
              "<Figure size 700x300 with 2 Axes>"
            ]
          },
          "metadata": {},
          "output_type": "display_data"
        }
      ],
      "source": [
        "for col in num_cols:\n",
        "    plt.figure(figsize=(7, 3))\n",
        "    # plot histogram\n",
        "    plt.subplot(1, 2, 1)\n",
        "    sns.histplot(df6[col], kde=True, bins=20)\n",
        "    plt.title(f'{col} distribution')\n",
        "    plt.xlabel(col)\n",
        "    plt.ylabel('Count')\n",
        "\n",
        "    # plot boxplot\n",
        "    plt.subplot(1, 2, 2)\n",
        "    sns.boxplot(x = df6[col], color='darkblue')\n",
        "    plt.title(f'{col} distribution')\n",
        "    plt.xlabel(col)\n",
        "    plt.ylabel('Count')\n",
        "\n",
        "plt.tight_layout()\n",
        "plt.show()"
      ]
    },
    {
      "cell_type": "markdown",
      "id": "eb1d9935-5548-4442-b704-64ee72714afb",
      "metadata": {
        "id": "eb1d9935-5548-4442-b704-64ee72714afb"
      },
      "source": [
        "### Observation\n",
        "+ Only the age seems to be well distributed, probably because I filled the missing values with the median age"
      ]
    },
    {
      "cell_type": "code",
      "execution_count": null,
      "id": "4a894a07-aed4-4901-9cc8-e8dbbb426d10",
      "metadata": {
        "id": "4a894a07-aed4-4901-9cc8-e8dbbb426d10",
        "outputId": "b9d5203e-1741-47fe-b727-7f04cf1d75be"
      },
      "outputs": [
        {
          "data": {
            "image/png": "[encoded data removed]",
            "text/plain": [
              "<Figure size 2500x400 with 1 Axes>"
            ]
          },
          "metadata": {},
          "output_type": "display_data"
        },
        {
          "data": {
            "image/png": "[encoded data removed]",
            "text/plain": [
              "<Figure size 2500x400 with 1 Axes>"
            ]
          },
          "metadata": {},
          "output_type": "display_data"
        },
        {
          "data": {
            "image/png": "[encoded data removed]",
            "text/plain": [
              "<Figure size 2500x400 with 1 Axes>"
            ]
          },
          "metadata": {},
          "output_type": "display_data"
        },
        {
          "data": {
            "image/png": "[encoded data removed]",
            "text/plain": [
              "<Figure size 2500x400 with 1 Axes>"
            ]
          },
          "metadata": {},
          "output_type": "display_data"
        },
        {
          "data": {
            "image/png": "[encoded data removed]",
            "text/plain": [
              "<Figure size 2500x400 with 1 Axes>"
            ]
          },
          "metadata": {},
          "output_type": "display_data"
        }
      ],
      "source": [
        "# visualize the categorical columns\n",
        "for col in cat_cols:\n",
        "    plt.figure(figsize=(25, 4))\n",
        "    sns.histplot(df6[col], kde=True, bins=30, color='red')\n",
        "    plt.title(f'{col} distribution')\n",
        "    plt.xlabel(col)\n",
        "    plt.ylabel('Count')\n",
        "\n",
        "plt.tight_layout()\n",
        "plt.show()"
      ]
    },
    {
      "cell_type": "markdown",
      "id": "196bc66d-819d-482a-bde7-48d196542ec6",
      "metadata": {
        "id": "196bc66d-819d-482a-bde7-48d196542ec6"
      },
      "source": [
        "### Observation\n",
        "+ GTBank gives out the most loans to a lot of permanent staff - this could be because permanent staff are more likely to pay back"
      ]
    },
    {
      "cell_type": "code",
      "execution_count": null,
      "id": "1d645ae5-d74e-4742-8b1b-f047e362659d",
      "metadata": {
        "id": "1d645ae5-d74e-4742-8b1b-f047e362659d"
      },
      "outputs": [],
      "source": [
        "#the data is skewed, I'll use the interquartile range (IQR) to determine the outliers\n",
        "def find_outliers_IQR(num_cols):\n",
        "   q1 = num_cols.quantile(0.25)\n",
        "   q3 = num_cols.quantile(0.75)\n",
        "\n",
        "   IQR = q3-q1\n",
        "\n",
        "   outliers = num_cols[((num_cols<(q1-1.5*IQR)) | (num_cols>(q3+1.5*IQR)))]\n",
        "\n",
        "   return outliers"
      ]
    },
    {
      "cell_type": "code",
      "execution_count": null,
      "id": "a294d194-79aa-4c2a-9d62-582ec97fd611",
      "metadata": {
        "id": "a294d194-79aa-4c2a-9d62-582ec97fd611",
        "outputId": "23f0f333-6208-4a57-b425-33ef4764eaed"
      },
      "outputs": [
        {
          "name": "stdout",
          "output_type": "stream",
          "text": [
            "number of outliers in loanamount: 419\n",
            "max outlier value in loanamount: 60000.0\n",
            "min outlier value in loanamount: 40000.0\n",
            "number of outliers in totaldue: 422\n",
            "max outlier value in totaldue: 68100.0\n",
            "min outlier value in totaldue: 42000.0\n",
            "number of outliers in loan_to_due_ratio: 0\n",
            "max outlier value in loan_to_due_ratio: nan\n",
            "min outlier value in loan_to_due_ratio: nan\n",
            "number of outliers in age: 290\n",
            "max outlier value in age: 63.0\n",
            "min outlier value in age: 29.0\n"
          ]
        }
      ],
      "source": [
        "for col in num_cols:\n",
        "    outliers = find_outliers_IQR(df6[col])\n",
        "    print(f'number of outliers in {col}: '+ str(len(outliers)))\n",
        "    print(f'max outlier value in {col}: '+ str(outliers.max()))\n",
        "    print(f'min outlier value in {col}: '+ str(outliers.min()))\n",
        "\n",
        "    outliers"
      ]
    },
    {
      "cell_type": "code",
      "execution_count": null,
      "id": "ebe64cdf-2824-4eb2-bc33-a133dbcc5e4f",
      "metadata": {
        "id": "ebe64cdf-2824-4eb2-bc33-a133dbcc5e4f",
        "outputId": "6cb9546d-82d2-462e-fdb8-5c97ad335def"
      },
      "outputs": [
        {
          "data": {
            "text/plain": [
              "good_bad_flag\n",
              "Good    3416\n",
              "Bad      952\n",
              "Name: count, dtype: int64"
            ]
          },
          "execution_count": 85,
          "metadata": {},
          "output_type": "execute_result"
        }
      ],
      "source": [
        "#target column = good_bad_flag\n",
        "df6.good_bad_flag.value_counts()"
      ]
    },
    {
      "cell_type": "code",
      "execution_count": null,
      "id": "0480f9a3-38ab-4bea-831d-e7a258eb3157",
      "metadata": {
        "id": "0480f9a3-38ab-4bea-831d-e7a258eb3157",
        "outputId": "063c7f68-6c66-4c2f-d842-0bc762c48467"
      },
      "outputs": [
        {
          "data": {
            "text/plain": [
              "<Axes: xlabel='good_bad_flag'>"
            ]
          },
          "execution_count": 86,
          "metadata": {},
          "output_type": "execute_result"
        },
        {
          "data": {
            "image/png": "[encoded data removed]",
            "text/plain": [
              "<Figure size 640x480 with 1 Axes>"
            ]
          },
          "metadata": {},
          "output_type": "display_data"
        }
      ],
      "source": [
        "df6.good_bad_flag.value_counts().plot(kind='bar')"
      ]
    },
    {
      "cell_type": "markdown",
      "id": "d2ce4d8a-c55f-4b50-b095-137d0e1d93b1",
      "metadata": {
        "id": "d2ce4d8a-c55f-4b50-b095-137d0e1d93b1"
      },
      "source": [
        "### Observation\n",
        "+ The target column is quite imbalanced"
      ]
    },
    {
      "cell_type": "markdown",
      "id": "16ce3a3f-5395-4937-8bcb-3986c34a7b7b",
      "metadata": {
        "id": "16ce3a3f-5395-4937-8bcb-3986c34a7b7b"
      },
      "source": [
        "### Correlation Matrix"
      ]
    },
    {
      "cell_type": "code",
      "execution_count": null,
      "id": "db5da7cc-90f1-4fdc-9ea2-9c0a16bfbadd",
      "metadata": {
        "id": "db5da7cc-90f1-4fdc-9ea2-9c0a16bfbadd",
        "outputId": "b439954f-4dd4-4d61-beda-93f48b5f69cd"
      },
      "outputs": [
        {
          "data": {
            "text/html": [
              "<div>\n",
              "<style scoped>\n",
              "    .dataframe tbody tr th:only-of-type {\n",
              "        vertical-align: middle;\n",
              "    }\n",
              "\n",
              "    .dataframe tbody tr th {\n",
              "        vertical-align: top;\n",
              "    }\n",
              "\n",
              "    .dataframe thead th {\n",
              "        text-align: right;\n",
              "    }\n",
              "</style>\n",
              "<table border=\"1\" class=\"dataframe\">\n",
              "  <thead>\n",
              "    <tr style=\"text-align: right;\">\n",
              "      <th></th>\n",
              "      <th>loanamount</th>\n",
              "      <th>totaldue</th>\n",
              "      <th>loan_to_due_ratio</th>\n",
              "      <th>age</th>\n",
              "    </tr>\n",
              "  </thead>\n",
              "  <tbody>\n",
              "    <tr>\n",
              "      <th>loanamount</th>\n",
              "      <td>1.000000</td>\n",
              "      <td>0.994392</td>\n",
              "      <td>-0.518592</td>\n",
              "      <td>0.012344</td>\n",
              "    </tr>\n",
              "    <tr>\n",
              "      <th>totaldue</th>\n",
              "      <td>0.994392</td>\n",
              "      <td>1.000000</td>\n",
              "      <td>-0.443280</td>\n",
              "      <td>0.014983</td>\n",
              "    </tr>\n",
              "    <tr>\n",
              "      <th>loan_to_due_ratio</th>\n",
              "      <td>-0.518592</td>\n",
              "      <td>-0.443280</td>\n",
              "      <td>1.000000</td>\n",
              "      <td>0.024816</td>\n",
              "    </tr>\n",
              "    <tr>\n",
              "      <th>age</th>\n",
              "      <td>0.012344</td>\n",
              "      <td>0.014983</td>\n",
              "      <td>0.024816</td>\n",
              "      <td>1.000000</td>\n",
              "    </tr>\n",
              "  </tbody>\n",
              "</table>\n",
              "</div>"
            ],
            "text/plain": [
              "                   loanamount  totaldue  loan_to_due_ratio       age\n",
              "loanamount           1.000000  0.994392          -0.518592  0.012344\n",
              "totaldue             0.994392  1.000000          -0.443280  0.014983\n",
              "loan_to_due_ratio   -0.518592 -0.443280           1.000000  0.024816\n",
              "age                  0.012344  0.014983           0.024816  1.000000"
            ]
          },
          "execution_count": 87,
          "metadata": {},
          "output_type": "execute_result"
        }
      ],
      "source": [
        "corr_matrix = df6[num_cols].corr()\n",
        "corr_matrix"
      ]
    },
    {
      "cell_type": "code",
      "execution_count": null,
      "id": "4b8feac9-8e6d-4d56-a4ef-17f270e0e64c",
      "metadata": {
        "id": "4b8feac9-8e6d-4d56-a4ef-17f270e0e64c",
        "outputId": "9cf18df1-f0cf-46ad-a0ed-c0a360458cfb"
      },
      "outputs": [
        {
          "data": {
            "image/png": "[encoded data removed]",
            "text/plain": [
              "<Figure size 800x300 with 2 Axes>"
            ]
          },
          "metadata": {},
          "output_type": "display_data"
        }
      ],
      "source": [
        "corr_matrix = df6[num_cols].corr()\n",
        "plt.figure(figsize=(8, 3))\n",
        "sns.heatmap(corr_matrix, annot=True, fmt='.2f', cmap='Reds')\n",
        "plt.show()"
      ]
    },
    {
      "cell_type": "markdown",
      "id": "20714b5a-ebf7-480d-9ef8-8d7ba3e20bdd",
      "metadata": {
        "id": "20714b5a-ebf7-480d-9ef8-8d7ba3e20bdd"
      },
      "source": [
        "### Data Preparation"
      ]
    },
    {
      "cell_type": "code",
      "execution_count": null,
      "id": "fc3a7063-4657-4853-ae89-4e746428e470",
      "metadata": {
        "id": "fc3a7063-4657-4853-ae89-4e746428e470",
        "outputId": "c3c2ed6f-9d14-4d53-be39-f7b27c03e702"
      },
      "outputs": [
        {
          "data": {
            "text/plain": [
              "Index(['customerid', 'systemloanid', 'loannumber', 'approveddate',\n",
              "       'creationdate', 'loanamount', 'totaldue', 'termdays', 'good_bad_flag',\n",
              "       'loan_to_due_ratio', 'bank_account_type', 'longitude_gps',\n",
              "       'latitude_gps', 'bank_name_clients', 'employment_status_clients',\n",
              "       'level_of_education_clients', 'age'],\n",
              "      dtype='object')"
            ]
          },
          "execution_count": 89,
          "metadata": {},
          "output_type": "execute_result"
        }
      ],
      "source": [
        "df6.columns"
      ]
    },
    {
      "cell_type": "code",
      "execution_count": null,
      "id": "3b1e4b19-6479-40a7-99b1-bec1f3795a2e",
      "metadata": {
        "id": "3b1e4b19-6479-40a7-99b1-bec1f3795a2e"
      },
      "outputs": [],
      "source": [
        "X = df6.drop(columns=['customerid', 'systemloanid', 'loannumber', 'approveddate',\n",
        "       'creationdate', 'loanamount', 'bank_account_type', 'bank_name_clients', 'longitude_gps', 'latitude_gps', 'good_bad_flag'])\n",
        "y = df6['good_bad_flag']"
      ]
    },
    {
      "cell_type": "code",
      "execution_count": null,
      "id": "d065cabb-4358-41a9-9446-93cfadbece9a",
      "metadata": {
        "id": "d065cabb-4358-41a9-9446-93cfadbece9a"
      },
      "outputs": [],
      "source": [
        "from sklearn.model_selection import train_test_split"
      ]
    },
    {
      "cell_type": "code",
      "execution_count": null,
      "id": "9fb38850-0f2b-4c9e-b219-47a430df077d",
      "metadata": {
        "id": "9fb38850-0f2b-4c9e-b219-47a430df077d"
      },
      "outputs": [],
      "source": [
        "# split into train and test\n",
        "X_train, X_test, y_train, y_test = train_test_split(X, y, test_size=0.2, random_state=42, stratify=y)"
      ]
    },
    {
      "cell_type": "markdown",
      "id": "82b3f14f-b7c1-4255-ad77-4c78eeeb8fa9",
      "metadata": {
        "id": "82b3f14f-b7c1-4255-ad77-4c78eeeb8fa9"
      },
      "source": [
        "### Data Preprocessing - Pipeline Creation"
      ]
    },
    {
      "cell_type": "code",
      "execution_count": null,
      "id": "5870d600-8f76-41f2-af0c-62a11c60b156",
      "metadata": {
        "id": "5870d600-8f76-41f2-af0c-62a11c60b156"
      },
      "outputs": [],
      "source": [
        "# split into num and cat columns\n",
        "num_cols = X.select_dtypes(include=np.number).columns.tolist()\n",
        "cat_cols = X.select_dtypes(include='object').columns.tolist()"
      ]
    },
    {
      "cell_type": "code",
      "execution_count": null,
      "id": "17316bf2-96c9-4586-ae6d-dc16198e3120",
      "metadata": {
        "id": "17316bf2-96c9-4586-ae6d-dc16198e3120",
        "outputId": "77a4d9c9-a74d-44eb-dcad-1b6c2d1c4ab3"
      },
      "outputs": [
        {
          "data": {
            "text/plain": [
              "['totaldue', 'termdays', 'loan_to_due_ratio', 'age']"
            ]
          },
          "execution_count": 94,
          "metadata": {},
          "output_type": "execute_result"
        }
      ],
      "source": [
        "num_cols"
      ]
    },
    {
      "cell_type": "code",
      "execution_count": null,
      "id": "a944aae9-4a89-490b-813b-d51c07097068",
      "metadata": {
        "id": "a944aae9-4a89-490b-813b-d51c07097068",
        "outputId": "33d1b0c7-c5e8-419b-e0a9-3feaadd3f09e"
      },
      "outputs": [
        {
          "data": {
            "text/plain": [
              "['employment_status_clients', 'level_of_education_clients']"
            ]
          },
          "execution_count": 95,
          "metadata": {},
          "output_type": "execute_result"
        }
      ],
      "source": [
        "cat_cols"
      ]
    },
    {
      "cell_type": "code",
      "execution_count": null,
      "id": "da035e4f-f92b-457b-96da-4780af3e3307",
      "metadata": {
        "id": "da035e4f-f92b-457b-96da-4780af3e3307"
      },
      "outputs": [],
      "source": [
        "from sklearn.preprocessing import StandardScaler, OneHotEncoder\n",
        "from sklearn.compose import ColumnTransformer\n",
        "from sklearn.pipeline import Pipeline\n",
        "\n",
        "# create a pipeline for the preprocessing\n",
        "num_pipeline = Pipeline(steps=[\n",
        "    ('scaler', StandardScaler())\n",
        "])\n",
        "\n",
        "cat_pipeline = Pipeline(steps=[\n",
        "    ('encoder', OneHotEncoder(sparse_output=False, handle_unknown='ignore'))\n",
        "])"
      ]
    },
    {
      "cell_type": "code",
      "execution_count": null,
      "id": "356900af-9195-42c3-8b03-8b0d70df1cdb",
      "metadata": {
        "id": "356900af-9195-42c3-8b03-8b0d70df1cdb"
      },
      "outputs": [],
      "source": [
        "# apply preprocessing\n",
        "preprocessor = ColumnTransformer(transformers=[\n",
        "    ('num', num_pipeline, num_cols),\n",
        "    ('cat', cat_pipeline, cat_cols)\n",
        "])"
      ]
    },
    {
      "cell_type": "code",
      "execution_count": null,
      "id": "2379b99a-b9eb-42c3-9506-0902d5ab1ab4",
      "metadata": {
        "id": "2379b99a-b9eb-42c3-9506-0902d5ab1ab4",
        "outputId": "aefd761c-1996-42de-ab56-db2ca01384ff"
      },
      "outputs": [
        {
          "data": {
            "text/html": [
              "<style>#sk-container-id-1 {\n",
              "  /* Definition of color scheme common for light and dark mode */\n",
              "  --sklearn-color-text: black;\n",
              "  --sklearn-color-line: gray;\n",
              "  /* Definition of color scheme for unfitted estimators */\n",
              "  --sklearn-color-unfitted-level-0: #fff5e6;\n",
              "  --sklearn-color-unfitted-level-1: #f6e4d2;\n",
              "  --sklearn-color-unfitted-level-2: #ffe0b3;\n",
              "  --sklearn-color-unfitted-level-3: chocolate;\n",
              "  /* Definition of color scheme for fitted estimators */\n",
              "  --sklearn-color-fitted-level-0: #f0f8ff;\n",
              "  --sklearn-color-fitted-level-1: #d4ebff;\n",
              "  --sklearn-color-fitted-level-2: #b3dbfd;\n",
              "  --sklearn-color-fitted-level-3: cornflowerblue;\n",
              "\n",
              "  /* Specific color for light theme */\n",
              "  --sklearn-color-text-on-default-background: var(--sg-text-color, var(--theme-code-foreground, var(--jp-content-font-color1, black)));\n",
              "  --sklearn-color-background: var(--sg-background-color, var(--theme-background, var(--jp-layout-color0, white)));\n",
              "  --sklearn-color-border-box: var(--sg-text-color, var(--theme-code-foreground, var(--jp-content-font-color1, black)));\n",
              "  --sklearn-color-icon: #696969;\n",
              "\n",
              "  @media (prefers-color-scheme: dark) {\n",
              "    /* Redefinition of color scheme for dark theme */\n",
              "    --sklearn-color-text-on-default-background: var(--sg-text-color, var(--theme-code-foreground, var(--jp-content-font-color1, white)));\n",
              "    --sklearn-color-background: var(--sg-background-color, var(--theme-background, var(--jp-layout-color0, #111)));\n",
              "    --sklearn-color-border-box: var(--sg-text-color, var(--theme-code-foreground, var(--jp-content-font-color1, white)));\n",
              "    --sklearn-color-icon: #878787;\n",
              "  }\n",
              "}\n",
              "\n",
              "#sk-container-id-1 {\n",
              "  color: var(--sklearn-color-text);\n",
              "}\n",
              "\n",
              "#sk-container-id-1 pre {\n",
              "  padding: 0;\n",
              "}\n",
              "\n",
              "#sk-container-id-1 input.sk-hidden--visually {\n",
              "  border: 0;\n",
              "  clip: rect(1px 1px 1px 1px);\n",
              "  clip: rect(1px, 1px, 1px, 1px);\n",
              "  height: 1px;\n",
              "  margin: -1px;\n",
              "  overflow: hidden;\n",
              "  padding: 0;\n",
              "  position: absolute;\n",
              "  width: 1px;\n",
              "}\n",
              "\n",
              "#sk-container-id-1 div.sk-dashed-wrapped {\n",
              "  border: 1px dashed var(--sklearn-color-line);\n",
              "  margin: 0 0.4em 0.5em 0.4em;\n",
              "  box-sizing: border-box;\n",
              "  padding-bottom: 0.4em;\n",
              "  background-color: var(--sklearn-color-background);\n",
              "}\n",
              "\n",
              "#sk-container-id-1 div.sk-container {\n",
              "  /* jupyter's `normalize.less` sets `[hidden] { display: none; }`\n",
              "     but bootstrap.min.css set `[hidden] { display: none !important; }`\n",
              "     so we also need the `!important` here to be able to override the\n",
              "     default hidden behavior on the sphinx rendered scikit-learn.org.\n",
              "     See: https://github.com/scikit-learn/scikit-learn/issues/21755 */\n",
              "  display: inline-block !important;\n",
              "  position: relative;\n",
              "}\n",
              "\n",
              "#sk-container-id-1 div.sk-text-repr-fallback {\n",
              "  display: none;\n",
              "}\n",
              "\n",
              "div.sk-parallel-item,\n",
              "div.sk-serial,\n",
              "div.sk-item {\n",
              "  /* draw centered vertical line to link estimators */\n",
              "  background-image: linear-gradient(var(--sklearn-color-text-on-default-background), var(--sklearn-color-text-on-default-background));\n",
              "  background-size: 2px 100%;\n",
              "  background-repeat: no-repeat;\n",
              "  background-position: center center;\n",
              "}\n",
              "\n",
              "/* Parallel-specific style estimator block */\n",
              "\n",
              "#sk-container-id-1 div.sk-parallel-item::after {\n",
              "  content: \"\";\n",
              "  width: 100%;\n",
              "  border-bottom: 2px solid var(--sklearn-color-text-on-default-background);\n",
              "  flex-grow: 1;\n",
              "}\n",
              "\n",
              "#sk-container-id-1 div.sk-parallel {\n",
              "  display: flex;\n",
              "  align-items: stretch;\n",
              "  justify-content: center;\n",
              "  background-color: var(--sklearn-color-background);\n",
              "  position: relative;\n",
              "}\n",
              "\n",
              "#sk-container-id-1 div.sk-parallel-item {\n",
              "  display: flex;\n",
              "  flex-direction: column;\n",
              "}\n",
              "\n",
              "#sk-container-id-1 div.sk-parallel-item:first-child::after {\n",
              "  align-self: flex-end;\n",
              "  width: 50%;\n",
              "}\n",
              "\n",
              "#sk-container-id-1 div.sk-parallel-item:last-child::after {\n",
              "  align-self: flex-start;\n",
              "  width: 50%;\n",
              "}\n",
              "\n",
              "#sk-container-id-1 div.sk-parallel-item:only-child::after {\n",
              "  width: 0;\n",
              "}\n",
              "\n",
              "/* Serial-specific style estimator block */\n",
              "\n",
              "#sk-container-id-1 div.sk-serial {\n",
              "  display: flex;\n",
              "  flex-direction: column;\n",
              "  align-items: center;\n",
              "  background-color: var(--sklearn-color-background);\n",
              "  padding-right: 1em;\n",
              "  padding-left: 1em;\n",
              "}\n",
              "\n",
              "\n",
              "/* Toggleable style: style used for estimator/Pipeline/ColumnTransformer box that is\n",
              "clickable and can be expanded/collapsed.\n",
              "- Pipeline and ColumnTransformer use this feature and define the default style\n",
              "- Estimators will overwrite some part of the style using the `sk-estimator` class\n",
              "*/\n",
              "\n",
              "/* Pipeline and ColumnTransformer style (default) */\n",
              "\n",
              "#sk-container-id-1 div.sk-toggleable {\n",
              "  /* Default theme specific background. It is overwritten whether we have a\n",
              "  specific estimator or a Pipeline/ColumnTransformer */\n",
              "  background-color: var(--sklearn-color-background);\n",
              "}\n",
              "\n",
              "/* Toggleable label */\n",
              "#sk-container-id-1 label.sk-toggleable__label {\n",
              "  cursor: pointer;\n",
              "  display: block;\n",
              "  width: 100%;\n",
              "  margin-bottom: 0;\n",
              "  padding: 0.5em;\n",
              "  box-sizing: border-box;\n",
              "  text-align: center;\n",
              "}\n",
              "\n",
              "#sk-container-id-1 label.sk-toggleable__label-arrow:before {\n",
              "  /* Arrow on the left of the label */\n",
              "  content: \"▸\";\n",
              "  float: left;\n",
              "  margin-right: 0.25em;\n",
              "  color: var(--sklearn-color-icon);\n",
              "}\n",
              "\n",
              "#sk-container-id-1 label.sk-toggleable__label-arrow:hover:before {\n",
              "  color: var(--sklearn-color-text);\n",
              "}\n",
              "\n",
              "/* Toggleable content - dropdown */\n",
              "\n",
              "#sk-container-id-1 div.sk-toggleable__content {\n",
              "  max-height: 0;\n",
              "  max-width: 0;\n",
              "  overflow: hidden;\n",
              "  text-align: left;\n",
              "  /* unfitted */\n",
              "  background-color: var(--sklearn-color-unfitted-level-0);\n",
              "}\n",
              "\n",
              "#sk-container-id-1 div.sk-toggleable__content.fitted {\n",
              "  /* fitted */\n",
              "  background-color: var(--sklearn-color-fitted-level-0);\n",
              "}\n",
              "\n",
              "#sk-container-id-1 div.sk-toggleable__content pre {\n",
              "  margin: 0.2em;\n",
              "  border-radius: 0.25em;\n",
              "  color: var(--sklearn-color-text);\n",
              "  /* unfitted */\n",
              "  background-color: var(--sklearn-color-unfitted-level-0);\n",
              "}\n",
              "\n",
              "#sk-container-id-1 div.sk-toggleable__content.fitted pre {\n",
              "  /* unfitted */\n",
              "  background-color: var(--sklearn-color-fitted-level-0);\n",
              "}\n",
              "\n",
              "#sk-container-id-1 input.sk-toggleable__control:checked~div.sk-toggleable__content {\n",
              "  /* Expand drop-down */\n",
              "  max-height: 200px;\n",
              "  max-width: 100%;\n",
              "  overflow: auto;\n",
              "}\n",
              "\n",
              "#sk-container-id-1 input.sk-toggleable__control:checked~label.sk-toggleable__label-arrow:before {\n",
              "  content: \"▾\";\n",
              "}\n",
              "\n",
              "/* Pipeline/ColumnTransformer-specific style */\n",
              "\n",
              "#sk-container-id-1 div.sk-label input.sk-toggleable__control:checked~label.sk-toggleable__label {\n",
              "  color: var(--sklearn-color-text);\n",
              "  background-color: var(--sklearn-color-unfitted-level-2);\n",
              "}\n",
              "\n",
              "#sk-container-id-1 div.sk-label.fitted input.sk-toggleable__control:checked~label.sk-toggleable__label {\n",
              "  background-color: var(--sklearn-color-fitted-level-2);\n",
              "}\n",
              "\n",
              "/* Estimator-specific style */\n",
              "\n",
              "/* Colorize estimator box */\n",
              "#sk-container-id-1 div.sk-estimator input.sk-toggleable__control:checked~label.sk-toggleable__label {\n",
              "  /* unfitted */\n",
              "  background-color: var(--sklearn-color-unfitted-level-2);\n",
              "}\n",
              "\n",
              "#sk-container-id-1 div.sk-estimator.fitted input.sk-toggleable__control:checked~label.sk-toggleable__label {\n",
              "  /* fitted */\n",
              "  background-color: var(--sklearn-color-fitted-level-2);\n",
              "}\n",
              "\n",
              "#sk-container-id-1 div.sk-label label.sk-toggleable__label,\n",
              "#sk-container-id-1 div.sk-label label {\n",
              "  /* The background is the default theme color */\n",
              "  color: var(--sklearn-color-text-on-default-background);\n",
              "}\n",
              "\n",
              "/* On hover, darken the color of the background */\n",
              "#sk-container-id-1 div.sk-label:hover label.sk-toggleable__label {\n",
              "  color: var(--sklearn-color-text);\n",
              "  background-color: var(--sklearn-color-unfitted-level-2);\n",
              "}\n",
              "\n",
              "/* Label box, darken color on hover, fitted */\n",
              "#sk-container-id-1 div.sk-label.fitted:hover label.sk-toggleable__label.fitted {\n",
              "  color: var(--sklearn-color-text);\n",
              "  background-color: var(--sklearn-color-fitted-level-2);\n",
              "}\n",
              "\n",
              "/* Estimator label */\n",
              "\n",
              "#sk-container-id-1 div.sk-label label {\n",
              "  font-family: monospace;\n",
              "  font-weight: bold;\n",
              "  display: inline-block;\n",
              "  line-height: 1.2em;\n",
              "}\n",
              "\n",
              "#sk-container-id-1 div.sk-label-container {\n",
              "  text-align: center;\n",
              "}\n",
              "\n",
              "/* Estimator-specific */\n",
              "#sk-container-id-1 div.sk-estimator {\n",
              "  font-family: monospace;\n",
              "  border: 1px dotted var(--sklearn-color-border-box);\n",
              "  border-radius: 0.25em;\n",
              "  box-sizing: border-box;\n",
              "  margin-bottom: 0.5em;\n",
              "  /* unfitted */\n",
              "  background-color: var(--sklearn-color-unfitted-level-0);\n",
              "}\n",
              "\n",
              "#sk-container-id-1 div.sk-estimator.fitted {\n",
              "  /* fitted */\n",
              "  background-color: var(--sklearn-color-fitted-level-0);\n",
              "}\n",
              "\n",
              "/* on hover */\n",
              "#sk-container-id-1 div.sk-estimator:hover {\n",
              "  /* unfitted */\n",
              "  background-color: var(--sklearn-color-unfitted-level-2);\n",
              "}\n",
              "\n",
              "#sk-container-id-1 div.sk-estimator.fitted:hover {\n",
              "  /* fitted */\n",
              "  background-color: var(--sklearn-color-fitted-level-2);\n",
              "}\n",
              "\n",
              "/* Specification for estimator info (e.g. \"i\" and \"?\") */\n",
              "\n",
              "/* Common style for \"i\" and \"?\" */\n",
              "\n",
              ".sk-estimator-doc-link,\n",
              "a:link.sk-estimator-doc-link,\n",
              "a:visited.sk-estimator-doc-link {\n",
              "  float: right;\n",
              "  font-size: smaller;\n",
              "  line-height: 1em;\n",
              "  font-family: monospace;\n",
              "  background-color: var(--sklearn-color-background);\n",
              "  border-radius: 1em;\n",
              "  height: 1em;\n",
              "  width: 1em;\n",
              "  text-decoration: none !important;\n",
              "  margin-left: 1ex;\n",
              "  /* unfitted */\n",
              "  border: var(--sklearn-color-unfitted-level-1) 1pt solid;\n",
              "  color: var(--sklearn-color-unfitted-level-1);\n",
              "}\n",
              "\n",
              ".sk-estimator-doc-link.fitted,\n",
              "a:link.sk-estimator-doc-link.fitted,\n",
              "a:visited.sk-estimator-doc-link.fitted {\n",
              "  /* fitted */\n",
              "  border: var(--sklearn-color-fitted-level-1) 1pt solid;\n",
              "  color: var(--sklearn-color-fitted-level-1);\n",
              "}\n",
              "\n",
              "/* On hover */\n",
              "div.sk-estimator:hover .sk-estimator-doc-link:hover,\n",
              ".sk-estimator-doc-link:hover,\n",
              "div.sk-label-container:hover .sk-estimator-doc-link:hover,\n",
              ".sk-estimator-doc-link:hover {\n",
              "  /* unfitted */\n",
              "  background-color: var(--sklearn-color-unfitted-level-3);\n",
              "  color: var(--sklearn-color-background);\n",
              "  text-decoration: none;\n",
              "}\n",
              "\n",
              "div.sk-estimator.fitted:hover .sk-estimator-doc-link.fitted:hover,\n",
              ".sk-estimator-doc-link.fitted:hover,\n",
              "div.sk-label-container:hover .sk-estimator-doc-link.fitted:hover,\n",
              ".sk-estimator-doc-link.fitted:hover {\n",
              "  /* fitted */\n",
              "  background-color: var(--sklearn-color-fitted-level-3);\n",
              "  color: var(--sklearn-color-background);\n",
              "  text-decoration: none;\n",
              "}\n",
              "\n",
              "/* Span, style for the box shown on hovering the info icon */\n",
              ".sk-estimator-doc-link span {\n",
              "  display: none;\n",
              "  z-index: 9999;\n",
              "  position: relative;\n",
              "  font-weight: normal;\n",
              "  right: .2ex;\n",
              "  padding: .5ex;\n",
              "  margin: .5ex;\n",
              "  width: min-content;\n",
              "  min-width: 20ex;\n",
              "  max-width: 50ex;\n",
              "  color: var(--sklearn-color-text);\n",
              "  box-shadow: 2pt 2pt 4pt #999;\n",
              "  /* unfitted */\n",
              "  background: var(--sklearn-color-unfitted-level-0);\n",
              "  border: .5pt solid var(--sklearn-color-unfitted-level-3);\n",
              "}\n",
              "\n",
              ".sk-estimator-doc-link.fitted span {\n",
              "  /* fitted */\n",
              "  background: var(--sklearn-color-fitted-level-0);\n",
              "  border: var(--sklearn-color-fitted-level-3);\n",
              "}\n",
              "\n",
              ".sk-estimator-doc-link:hover span {\n",
              "  display: block;\n",
              "}\n",
              "\n",
              "/* \"?\"-specific style due to the `<a>` HTML tag */\n",
              "\n",
              "#sk-container-id-1 a.estimator_doc_link {\n",
              "  float: right;\n",
              "  font-size: 1rem;\n",
              "  line-height: 1em;\n",
              "  font-family: monospace;\n",
              "  background-color: var(--sklearn-color-background);\n",
              "  border-radius: 1rem;\n",
              "  height: 1rem;\n",
              "  width: 1rem;\n",
              "  text-decoration: none;\n",
              "  /* unfitted */\n",
              "  color: var(--sklearn-color-unfitted-level-1);\n",
              "  border: var(--sklearn-color-unfitted-level-1) 1pt solid;\n",
              "}\n",
              "\n",
              "#sk-container-id-1 a.estimator_doc_link.fitted {\n",
              "  /* fitted */\n",
              "  border: var(--sklearn-color-fitted-level-1) 1pt solid;\n",
              "  color: var(--sklearn-color-fitted-level-1);\n",
              "}\n",
              "\n",
              "/* On hover */\n",
              "#sk-container-id-1 a.estimator_doc_link:hover {\n",
              "  /* unfitted */\n",
              "  background-color: var(--sklearn-color-unfitted-level-3);\n",
              "  color: var(--sklearn-color-background);\n",
              "  text-decoration: none;\n",
              "}\n",
              "\n",
              "#sk-container-id-1 a.estimator_doc_link.fitted:hover {\n",
              "  /* fitted */\n",
              "  background-color: var(--sklearn-color-fitted-level-3);\n",
              "}\n",
              "</style><div id=\"sk-container-id-1\" class=\"sk-top-container\"><div class=\"sk-text-repr-fallback\"><pre>ColumnTransformer(transformers=[(&#x27;num&#x27;,\n",
              "                                 Pipeline(steps=[(&#x27;scaler&#x27;, StandardScaler())]),\n",
              "                                 [&#x27;totaldue&#x27;, &#x27;termdays&#x27;, &#x27;loan_to_due_ratio&#x27;,\n",
              "                                  &#x27;age&#x27;]),\n",
              "                                (&#x27;cat&#x27;,\n",
              "                                 Pipeline(steps=[(&#x27;encoder&#x27;,\n",
              "                                                  OneHotEncoder(handle_unknown=&#x27;ignore&#x27;,\n",
              "                                                                sparse_output=False))]),\n",
              "                                 [&#x27;employment_status_clients&#x27;,\n",
              "                                  &#x27;level_of_education_clients&#x27;])])</pre><b>In a Jupyter environment, please rerun this cell to show the HTML representation or trust the notebook. <br />On GitHub, the HTML representation is unable to render, please try loading this page with nbviewer.org.</b></div><div class=\"sk-container\" hidden><div class=\"sk-item sk-dashed-wrapped\"><div class=\"sk-label-container\"><div class=\"sk-label  sk-toggleable\"><input class=\"sk-toggleable__control sk-hidden--visually\" id=\"sk-estimator-id-1\" type=\"checkbox\" ><label for=\"sk-estimator-id-1\" class=\"sk-toggleable__label  sk-toggleable__label-arrow \">&nbsp;&nbsp;ColumnTransformer<a class=\"sk-estimator-doc-link \" rel=\"noreferrer\" target=\"_blank\" href=\"https://scikit-learn.org/1.5/modules/generated/sklearn.compose.ColumnTransformer.html\">?<span>Documentation for ColumnTransformer</span></a><span class=\"sk-estimator-doc-link \">i<span>Not fitted</span></span></label><div class=\"sk-toggleable__content \"><pre>ColumnTransformer(transformers=[(&#x27;num&#x27;,\n",
              "                                 Pipeline(steps=[(&#x27;scaler&#x27;, StandardScaler())]),\n",
              "                                 [&#x27;totaldue&#x27;, &#x27;termdays&#x27;, &#x27;loan_to_due_ratio&#x27;,\n",
              "                                  &#x27;age&#x27;]),\n",
              "                                (&#x27;cat&#x27;,\n",
              "                                 Pipeline(steps=[(&#x27;encoder&#x27;,\n",
              "                                                  OneHotEncoder(handle_unknown=&#x27;ignore&#x27;,\n",
              "                                                                sparse_output=False))]),\n",
              "                                 [&#x27;employment_status_clients&#x27;,\n",
              "                                  &#x27;level_of_education_clients&#x27;])])</pre></div> </div></div><div class=\"sk-parallel\"><div class=\"sk-parallel-item\"><div class=\"sk-item\"><div class=\"sk-label-container\"><div class=\"sk-label  sk-toggleable\"><input class=\"sk-toggleable__control sk-hidden--visually\" id=\"sk-estimator-id-2\" type=\"checkbox\" ><label for=\"sk-estimator-id-2\" class=\"sk-toggleable__label  sk-toggleable__label-arrow \">num</label><div class=\"sk-toggleable__content \"><pre>[&#x27;totaldue&#x27;, &#x27;termdays&#x27;, &#x27;loan_to_due_ratio&#x27;, &#x27;age&#x27;]</pre></div> </div></div><div class=\"sk-serial\"><div class=\"sk-item\"><div class=\"sk-serial\"><div class=\"sk-item\"><div class=\"sk-estimator  sk-toggleable\"><input class=\"sk-toggleable__control sk-hidden--visually\" id=\"sk-estimator-id-3\" type=\"checkbox\" ><label for=\"sk-estimator-id-3\" class=\"sk-toggleable__label  sk-toggleable__label-arrow \">&nbsp;StandardScaler<a class=\"sk-estimator-doc-link \" rel=\"noreferrer\" target=\"_blank\" href=\"https://scikit-learn.org/1.5/modules/generated/sklearn.preprocessing.StandardScaler.html\">?<span>Documentation for StandardScaler</span></a></label><div class=\"sk-toggleable__content \"><pre>StandardScaler()</pre></div> </div></div></div></div></div></div></div><div class=\"sk-parallel-item\"><div class=\"sk-item\"><div class=\"sk-label-container\"><div class=\"sk-label  sk-toggleable\"><input class=\"sk-toggleable__control sk-hidden--visually\" id=\"sk-estimator-id-4\" type=\"checkbox\" ><label for=\"sk-estimator-id-4\" class=\"sk-toggleable__label  sk-toggleable__label-arrow \">cat</label><div class=\"sk-toggleable__content \"><pre>[&#x27;employment_status_clients&#x27;, &#x27;level_of_education_clients&#x27;]</pre></div> </div></div><div class=\"sk-serial\"><div class=\"sk-item\"><div class=\"sk-serial\"><div class=\"sk-item\"><div class=\"sk-estimator  sk-toggleable\"><input class=\"sk-toggleable__control sk-hidden--visually\" id=\"sk-estimator-id-5\" type=\"checkbox\" ><label for=\"sk-estimator-id-5\" class=\"sk-toggleable__label  sk-toggleable__label-arrow \">&nbsp;OneHotEncoder<a class=\"sk-estimator-doc-link \" rel=\"noreferrer\" target=\"_blank\" href=\"https://scikit-learn.org/1.5/modules/generated/sklearn.preprocessing.OneHotEncoder.html\">?<span>Documentation for OneHotEncoder</span></a></label><div class=\"sk-toggleable__content \"><pre>OneHotEncoder(handle_unknown=&#x27;ignore&#x27;, sparse_output=False)</pre></div> </div></div></div></div></div></div></div></div></div></div></div>"
            ],
            "text/plain": [
              "ColumnTransformer(transformers=[('num',\n",
              "                                 Pipeline(steps=[('scaler', StandardScaler())]),\n",
              "                                 ['totaldue', 'termdays', 'loan_to_due_ratio',\n",
              "                                  'age']),\n",
              "                                ('cat',\n",
              "                                 Pipeline(steps=[('encoder',\n",
              "                                                  OneHotEncoder(handle_unknown='ignore',\n",
              "                                                                sparse_output=False))]),\n",
              "                                 ['employment_status_clients',\n",
              "                                  'level_of_education_clients'])])"
            ]
          },
          "execution_count": 98,
          "metadata": {},
          "output_type": "execute_result"
        }
      ],
      "source": [
        "preprocessor"
      ]
    },
    {
      "cell_type": "code",
      "execution_count": null,
      "id": "d1910134-32c0-4888-9904-a1322973829b",
      "metadata": {
        "id": "d1910134-32c0-4888-9904-a1322973829b",
        "outputId": "895a5701-27fa-434d-bf24-84976a5277bf"
      },
      "outputs": [
        {
          "name": "stdout",
          "output_type": "stream",
          "text": [
            "Requirement already satisfied: lightgbm in c:\\users\\admin\\anaconda3\\lib\\site-packages (4.6.0)\n",
            "Requirement already satisfied: catboost in c:\\users\\admin\\anaconda3\\lib\\site-packages (1.2.8)\n",
            "Requirement already satisfied: numpy>=1.17.0 in c:\\users\\admin\\anaconda3\\lib\\site-packages (from lightgbm) (1.26.4)\n",
            "Requirement already satisfied: scipy in c:\\users\\admin\\anaconda3\\lib\\site-packages (from lightgbm) (1.13.1)\n",
            "Requirement already satisfied: graphviz in c:\\users\\admin\\anaconda3\\lib\\site-packages (from catboost) (0.21)\n",
            "Requirement already satisfied: matplotlib in c:\\users\\admin\\anaconda3\\lib\\site-packages (from catboost) (3.9.2)\n",
            "Requirement already satisfied: pandas>=0.24 in c:\\users\\admin\\anaconda3\\lib\\site-packages (from catboost) (2.2.2)\n",
            "Requirement already satisfied: plotly in c:\\users\\admin\\anaconda3\\lib\\site-packages (from catboost) (5.24.1)\n",
            "Requirement already satisfied: six in c:\\users\\admin\\anaconda3\\lib\\site-packages (from catboost) (1.16.0)\n",
            "Requirement already satisfied: python-dateutil>=2.8.2 in c:\\users\\admin\\anaconda3\\lib\\site-packages (from pandas>=0.24->catboost) (2.9.0.post0)\n",
            "Requirement already satisfied: pytz>=2020.1 in c:\\users\\admin\\anaconda3\\lib\\site-packages (from pandas>=0.24->catboost) (2024.1)\n",
            "Requirement already satisfied: tzdata>=2022.7 in c:\\users\\admin\\anaconda3\\lib\\site-packages (from pandas>=0.24->catboost) (2023.3)\n",
            "Requirement already satisfied: contourpy>=1.0.1 in c:\\users\\admin\\anaconda3\\lib\\site-packages (from matplotlib->catboost) (1.2.0)\n",
            "Requirement already satisfied: cycler>=0.10 in c:\\users\\admin\\anaconda3\\lib\\site-packages (from matplotlib->catboost) (0.11.0)\n",
            "Requirement already satisfied: fonttools>=4.22.0 in c:\\users\\admin\\anaconda3\\lib\\site-packages (from matplotlib->catboost) (4.51.0)\n",
            "Requirement already satisfied: kiwisolver>=1.3.1 in c:\\users\\admin\\anaconda3\\lib\\site-packages (from matplotlib->catboost) (1.4.4)\n",
            "Requirement already satisfied: packaging>=20.0 in c:\\users\\admin\\anaconda3\\lib\\site-packages (from matplotlib->catboost) (24.1)\n",
            "Requirement already satisfied: pillow>=8 in c:\\users\\admin\\anaconda3\\lib\\site-packages (from matplotlib->catboost) (10.4.0)\n",
            "Requirement already satisfied: pyparsing>=2.3.1 in c:\\users\\admin\\anaconda3\\lib\\site-packages (from matplotlib->catboost) (3.1.2)\n",
            "Requirement already satisfied: tenacity>=6.2.0 in c:\\users\\admin\\anaconda3\\lib\\site-packages (from plotly->catboost) (8.2.3)\n",
            "Note: you may need to restart the kernel to use updated packages.\n"
          ]
        }
      ],
      "source": [
        "pip install lightgbm catboost"
      ]
    },
    {
      "cell_type": "code",
      "execution_count": null,
      "id": "14ce9b91-940d-474e-a8f7-e48c95fd023a",
      "metadata": {
        "id": "14ce9b91-940d-474e-a8f7-e48c95fd023a"
      },
      "outputs": [],
      "source": [
        "# use several models\n",
        "from sklearn.linear_model import LogisticRegression\n",
        "from sklearn.tree import DecisionTreeClassifier\n",
        "from sklearn.ensemble import RandomForestClassifier, GradientBoostingClassifier, HistGradientBoostingClassifier, AdaBoostClassifier\n",
        "from lightgbm import LGBMClassifier\n",
        "from catboost import CatBoostClassifier\n",
        "\n",
        "# import the metrics\n",
        "from sklearn.metrics import accuracy_score, confusion_matrix, f1_score, precision_score, recall_score, classification_report, ConfusionMatrixDisplay"
      ]
    },
    {
      "cell_type": "code",
      "execution_count": null,
      "id": "9ad77e2c-02fe-4b4f-8248-f25a0c534488",
      "metadata": {
        "id": "9ad77e2c-02fe-4b4f-8248-f25a0c534488"
      },
      "outputs": [],
      "source": [
        "#define the models\n",
        "\n",
        "models = {\n",
        "    \"Logistic Regression\": LogisticRegression(random_state=42),\n",
        "    \"Decision Tree\": DecisionTreeClassifier(random_state=42),\n",
        "    \"Random Forest\": RandomForestClassifier(random_state=42),\n",
        "    \"Gradient Boost\": GradientBoostingClassifier(random_state=42),\n",
        "    \"Hist Gradient Boost\": HistGradientBoostingClassifier(random_state=42),\n",
        "    \"Ada Boost\": AdaBoostClassifier(random_state=42),\n",
        "    \"Light GBM\": LGBMClassifier(verbose=0, random_state=42),\n",
        "    \"Cat Boost\": CatBoostClassifier(verbose=0, random_state=42)\n",
        "}"
      ]
    },
    {
      "cell_type": "code",
      "execution_count": null,
      "id": "1002c639-991d-4045-bdbd-67b007962657",
      "metadata": {
        "id": "1002c639-991d-4045-bdbd-67b007962657",
        "outputId": "1cfffa54-67e5-434e-c809-4dbc9518ff5c"
      },
      "outputs": [
        {
          "data": {
            "image/png": "[encoded data removed]",
            "text/plain": [
              "<Figure size 1800x500 with 16 Axes>"
            ]
          },
          "metadata": {},
          "output_type": "display_data"
        }
      ],
      "source": [
        "# using a for loop to fit and evaluate the six models\n",
        "results = {}\n",
        "\n",
        "fig, axes = plt.subplots(1, 8, figsize=(18, 5))\n",
        "\n",
        "for i, (name, model) in enumerate(models.items()):\n",
        "    pipeline=Pipeline(steps=[\n",
        "        ('preprocessor', preprocessor),\n",
        "        ('model', model)\n",
        "    ])\n",
        "\n",
        "    # train models\n",
        "    pipeline.fit(X_train, y_train)\n",
        "\n",
        "    # predict the training and test scores\n",
        "    train_pred = pipeline.predict(X_train)\n",
        "    test_pred = pipeline.predict(X_test)\n",
        "\n",
        "    # evaluate model predictions\n",
        "    train_score = accuracy_score(y_train, train_pred)\n",
        "    test_score = accuracy_score(y_test, test_pred)\n",
        "    precision = precision_score(y_test, test_pred, average='binary', pos_label='Good')\n",
        "    recall = recall_score(y_test, test_pred, average='binary', pos_label='Good')\n",
        "\n",
        "    # store results\n",
        "    results[name] = {\n",
        "        \"Training Accuracy\": train_score,\n",
        "        \"Test Accuracy\": test_score,\n",
        "        \"Precision Score\": precision,\n",
        "        \"Recall Score\": recall\n",
        "    }\n",
        "\n",
        "    # plot confusion matrix\n",
        "    cm = confusion_matrix(y_test, test_pred)\n",
        "    disp = ConfusionMatrixDisplay(cm)\n",
        "    disp.plot(ax=axes[i], cmap='Reds')\n",
        "    axes[i].set_title(name)\n",
        "\n",
        "plt.tight_layout()\n",
        "plt.show()"
      ]
    },
    {
      "cell_type": "code",
      "execution_count": null,
      "id": "fe1e2056-8dc0-4ddc-91de-cf3277832cb9",
      "metadata": {
        "id": "fe1e2056-8dc0-4ddc-91de-cf3277832cb9",
        "outputId": "aefbf946-0961-436e-f170-fe244c91d702"
      },
      "outputs": [
        {
          "data": {
            "text/markdown": [
              "**Metrics**"
            ],
            "text/plain": [
              "<IPython.core.display.Markdown object>"
            ]
          },
          "metadata": {},
          "output_type": "display_data"
        },
        {
          "data": {
            "text/html": [
              "<div>\n",
              "<style scoped>\n",
              "    .dataframe tbody tr th:only-of-type {\n",
              "        vertical-align: middle;\n",
              "    }\n",
              "\n",
              "    .dataframe tbody tr th {\n",
              "        vertical-align: top;\n",
              "    }\n",
              "\n",
              "    .dataframe thead th {\n",
              "        text-align: right;\n",
              "    }\n",
              "</style>\n",
              "<table border=\"1\" class=\"dataframe\">\n",
              "  <thead>\n",
              "    <tr style=\"text-align: right;\">\n",
              "      <th></th>\n",
              "      <th>Training Accuracy</th>\n",
              "      <th>Test Accuracy</th>\n",
              "      <th>Precision Score</th>\n",
              "      <th>Recall Score</th>\n",
              "    </tr>\n",
              "  </thead>\n",
              "  <tbody>\n",
              "    <tr>\n",
              "      <th>Logistic Regression</th>\n",
              "      <td>0.78</td>\n",
              "      <td>0.78</td>\n",
              "      <td>0.78</td>\n",
              "      <td>1.00</td>\n",
              "    </tr>\n",
              "    <tr>\n",
              "      <th>Decision Tree</th>\n",
              "      <td>0.81</td>\n",
              "      <td>0.75</td>\n",
              "      <td>0.78</td>\n",
              "      <td>0.94</td>\n",
              "    </tr>\n",
              "    <tr>\n",
              "      <th>Random Forest</th>\n",
              "      <td>0.81</td>\n",
              "      <td>0.76</td>\n",
              "      <td>0.78</td>\n",
              "      <td>0.95</td>\n",
              "    </tr>\n",
              "    <tr>\n",
              "      <th>Gradient Boost</th>\n",
              "      <td>0.79</td>\n",
              "      <td>0.78</td>\n",
              "      <td>0.78</td>\n",
              "      <td>0.99</td>\n",
              "    </tr>\n",
              "    <tr>\n",
              "      <th>Hist Gradient Boost</th>\n",
              "      <td>0.79</td>\n",
              "      <td>0.77</td>\n",
              "      <td>0.78</td>\n",
              "      <td>0.98</td>\n",
              "    </tr>\n",
              "    <tr>\n",
              "      <th>Ada Boost</th>\n",
              "      <td>0.78</td>\n",
              "      <td>0.78</td>\n",
              "      <td>0.78</td>\n",
              "      <td>1.00</td>\n",
              "    </tr>\n",
              "    <tr>\n",
              "      <th>Light GBM</th>\n",
              "      <td>0.79</td>\n",
              "      <td>0.77</td>\n",
              "      <td>0.78</td>\n",
              "      <td>0.98</td>\n",
              "    </tr>\n",
              "    <tr>\n",
              "      <th>Cat Boost</th>\n",
              "      <td>0.79</td>\n",
              "      <td>0.78</td>\n",
              "      <td>0.79</td>\n",
              "      <td>0.98</td>\n",
              "    </tr>\n",
              "  </tbody>\n",
              "</table>\n",
              "</div>"
            ],
            "text/plain": [
              "                     Training Accuracy  Test Accuracy  Precision Score  \\\n",
              "Logistic Regression               0.78           0.78             0.78   \n",
              "Decision Tree                     0.81           0.75             0.78   \n",
              "Random Forest                     0.81           0.76             0.78   \n",
              "Gradient Boost                    0.79           0.78             0.78   \n",
              "Hist Gradient Boost               0.79           0.77             0.78   \n",
              "Ada Boost                         0.78           0.78             0.78   \n",
              "Light GBM                         0.79           0.77             0.78   \n",
              "Cat Boost                         0.79           0.78             0.79   \n",
              "\n",
              "                     Recall Score  \n",
              "Logistic Regression          1.00  \n",
              "Decision Tree                0.94  \n",
              "Random Forest                0.95  \n",
              "Gradient Boost               0.99  \n",
              "Hist Gradient Boost          0.98  \n",
              "Ada Boost                    1.00  \n",
              "Light GBM                    0.98  \n",
              "Cat Boost                    0.98  "
            ]
          },
          "execution_count": 103,
          "metadata": {},
          "output_type": "execute_result"
        }
      ],
      "source": [
        "# print metrics\n",
        "from IPython.display import display, Markdown\n",
        "\n",
        "display(Markdown('**Metrics**'))\n",
        "metrics_df = pd.DataFrame(results)\n",
        "metrics_df.T.round(2)"
      ]
    },
    {
      "cell_type": "markdown",
      "id": "e821a309-9080-47c0-892e-aeb791a3ad52",
      "metadata": {
        "id": "e821a309-9080-47c0-892e-aeb791a3ad52"
      },
      "source": [
        "### Observation\n",
        "#### The top 3 models based on their test accuracy, precision, and recall are as follows:\n",
        "+ Ada Boost - balanced, does not overfit\n",
        "+ Gradient Boost - very strong, slight overfitting\n",
        "+ Cat Boost - Performs nearly identical to Gradient Boost; slightly lower recall\n",
        "\n",
        "#### Poorly trained models:\n",
        "+ Decision Tree: overfits\n",
        "+ Random Forest: Similar to Decision Tree but with slightly higher recall\n",
        "\n",
        "#### In between:\n",
        "+ Logistic Regression - excellent recall, balanced precision and accuracy but limited in complexity as it may not capture non-linear relationships as well as ensemble models\n",
        "+ Light GBM / Hist GBM: Solid but slightly behind the top 3"
      ]
    },
    {
      "cell_type": "code",
      "execution_count": null,
      "id": "7630a2c8-f96f-4253-a5a3-216e29fd3b05",
      "metadata": {
        "id": "7630a2c8-f96f-4253-a5a3-216e29fd3b05",
        "outputId": "782531af-a677-4c6a-ee59-f31c6528f694"
      },
      "outputs": [
        {
          "data": {
            "text/html": [
              "<style>#sk-container-id-2 {\n",
              "  /* Definition of color scheme common for light and dark mode */\n",
              "  --sklearn-color-text: black;\n",
              "  --sklearn-color-line: gray;\n",
              "  /* Definition of color scheme for unfitted estimators */\n",
              "  --sklearn-color-unfitted-level-0: #fff5e6;\n",
              "  --sklearn-color-unfitted-level-1: #f6e4d2;\n",
              "  --sklearn-color-unfitted-level-2: #ffe0b3;\n",
              "  --sklearn-color-unfitted-level-3: chocolate;\n",
              "  /* Definition of color scheme for fitted estimators */\n",
              "  --sklearn-color-fitted-level-0: #f0f8ff;\n",
              "  --sklearn-color-fitted-level-1: #d4ebff;\n",
              "  --sklearn-color-fitted-level-2: #b3dbfd;\n",
              "  --sklearn-color-fitted-level-3: cornflowerblue;\n",
              "\n",
              "  /* Specific color for light theme */\n",
              "  --sklearn-color-text-on-default-background: var(--sg-text-color, var(--theme-code-foreground, var(--jp-content-font-color1, black)));\n",
              "  --sklearn-color-background: var(--sg-background-color, var(--theme-background, var(--jp-layout-color0, white)));\n",
              "  --sklearn-color-border-box: var(--sg-text-color, var(--theme-code-foreground, var(--jp-content-font-color1, black)));\n",
              "  --sklearn-color-icon: #696969;\n",
              "\n",
              "  @media (prefers-color-scheme: dark) {\n",
              "    /* Redefinition of color scheme for dark theme */\n",
              "    --sklearn-color-text-on-default-background: var(--sg-text-color, var(--theme-code-foreground, var(--jp-content-font-color1, white)));\n",
              "    --sklearn-color-background: var(--sg-background-color, var(--theme-background, var(--jp-layout-color0, #111)));\n",
              "    --sklearn-color-border-box: var(--sg-text-color, var(--theme-code-foreground, var(--jp-content-font-color1, white)));\n",
              "    --sklearn-color-icon: #878787;\n",
              "  }\n",
              "}\n",
              "\n",
              "#sk-container-id-2 {\n",
              "  color: var(--sklearn-color-text);\n",
              "}\n",
              "\n",
              "#sk-container-id-2 pre {\n",
              "  padding: 0;\n",
              "}\n",
              "\n",
              "#sk-container-id-2 input.sk-hidden--visually {\n",
              "  border: 0;\n",
              "  clip: rect(1px 1px 1px 1px);\n",
              "  clip: rect(1px, 1px, 1px, 1px);\n",
              "  height: 1px;\n",
              "  margin: -1px;\n",
              "  overflow: hidden;\n",
              "  padding: 0;\n",
              "  position: absolute;\n",
              "  width: 1px;\n",
              "}\n",
              "\n",
              "#sk-container-id-2 div.sk-dashed-wrapped {\n",
              "  border: 1px dashed var(--sklearn-color-line);\n",
              "  margin: 0 0.4em 0.5em 0.4em;\n",
              "  box-sizing: border-box;\n",
              "  padding-bottom: 0.4em;\n",
              "  background-color: var(--sklearn-color-background);\n",
              "}\n",
              "\n",
              "#sk-container-id-2 div.sk-container {\n",
              "  /* jupyter's `normalize.less` sets `[hidden] { display: none; }`\n",
              "     but bootstrap.min.css set `[hidden] { display: none !important; }`\n",
              "     so we also need the `!important` here to be able to override the\n",
              "     default hidden behavior on the sphinx rendered scikit-learn.org.\n",
              "     See: https://github.com/scikit-learn/scikit-learn/issues/21755 */\n",
              "  display: inline-block !important;\n",
              "  position: relative;\n",
              "}\n",
              "\n",
              "#sk-container-id-2 div.sk-text-repr-fallback {\n",
              "  display: none;\n",
              "}\n",
              "\n",
              "div.sk-parallel-item,\n",
              "div.sk-serial,\n",
              "div.sk-item {\n",
              "  /* draw centered vertical line to link estimators */\n",
              "  background-image: linear-gradient(var(--sklearn-color-text-on-default-background), var(--sklearn-color-text-on-default-background));\n",
              "  background-size: 2px 100%;\n",
              "  background-repeat: no-repeat;\n",
              "  background-position: center center;\n",
              "}\n",
              "\n",
              "/* Parallel-specific style estimator block */\n",
              "\n",
              "#sk-container-id-2 div.sk-parallel-item::after {\n",
              "  content: \"\";\n",
              "  width: 100%;\n",
              "  border-bottom: 2px solid var(--sklearn-color-text-on-default-background);\n",
              "  flex-grow: 1;\n",
              "}\n",
              "\n",
              "#sk-container-id-2 div.sk-parallel {\n",
              "  display: flex;\n",
              "  align-items: stretch;\n",
              "  justify-content: center;\n",
              "  background-color: var(--sklearn-color-background);\n",
              "  position: relative;\n",
              "}\n",
              "\n",
              "#sk-container-id-2 div.sk-parallel-item {\n",
              "  display: flex;\n",
              "  flex-direction: column;\n",
              "}\n",
              "\n",
              "#sk-container-id-2 div.sk-parallel-item:first-child::after {\n",
              "  align-self: flex-end;\n",
              "  width: 50%;\n",
              "}\n",
              "\n",
              "#sk-container-id-2 div.sk-parallel-item:last-child::after {\n",
              "  align-self: flex-start;\n",
              "  width: 50%;\n",
              "}\n",
              "\n",
              "#sk-container-id-2 div.sk-parallel-item:only-child::after {\n",
              "  width: 0;\n",
              "}\n",
              "\n",
              "/* Serial-specific style estimator block */\n",
              "\n",
              "#sk-container-id-2 div.sk-serial {\n",
              "  display: flex;\n",
              "  flex-direction: column;\n",
              "  align-items: center;\n",
              "  background-color: var(--sklearn-color-background);\n",
              "  padding-right: 1em;\n",
              "  padding-left: 1em;\n",
              "}\n",
              "\n",
              "\n",
              "/* Toggleable style: style used for estimator/Pipeline/ColumnTransformer box that is\n",
              "clickable and can be expanded/collapsed.\n",
              "- Pipeline and ColumnTransformer use this feature and define the default style\n",
              "- Estimators will overwrite some part of the style using the `sk-estimator` class\n",
              "*/\n",
              "\n",
              "/* Pipeline and ColumnTransformer style (default) */\n",
              "\n",
              "#sk-container-id-2 div.sk-toggleable {\n",
              "  /* Default theme specific background. It is overwritten whether we have a\n",
              "  specific estimator or a Pipeline/ColumnTransformer */\n",
              "  background-color: var(--sklearn-color-background);\n",
              "}\n",
              "\n",
              "/* Toggleable label */\n",
              "#sk-container-id-2 label.sk-toggleable__label {\n",
              "  cursor: pointer;\n",
              "  display: block;\n",
              "  width: 100%;\n",
              "  margin-bottom: 0;\n",
              "  padding: 0.5em;\n",
              "  box-sizing: border-box;\n",
              "  text-align: center;\n",
              "}\n",
              "\n",
              "#sk-container-id-2 label.sk-toggleable__label-arrow:before {\n",
              "  /* Arrow on the left of the label */\n",
              "  content: \"▸\";\n",
              "  float: left;\n",
              "  margin-right: 0.25em;\n",
              "  color: var(--sklearn-color-icon);\n",
              "}\n",
              "\n",
              "#sk-container-id-2 label.sk-toggleable__label-arrow:hover:before {\n",
              "  color: var(--sklearn-color-text);\n",
              "}\n",
              "\n",
              "/* Toggleable content - dropdown */\n",
              "\n",
              "#sk-container-id-2 div.sk-toggleable__content {\n",
              "  max-height: 0;\n",
              "  max-width: 0;\n",
              "  overflow: hidden;\n",
              "  text-align: left;\n",
              "  /* unfitted */\n",
              "  background-color: var(--sklearn-color-unfitted-level-0);\n",
              "}\n",
              "\n",
              "#sk-container-id-2 div.sk-toggleable__content.fitted {\n",
              "  /* fitted */\n",
              "  background-color: var(--sklearn-color-fitted-level-0);\n",
              "}\n",
              "\n",
              "#sk-container-id-2 div.sk-toggleable__content pre {\n",
              "  margin: 0.2em;\n",
              "  border-radius: 0.25em;\n",
              "  color: var(--sklearn-color-text);\n",
              "  /* unfitted */\n",
              "  background-color: var(--sklearn-color-unfitted-level-0);\n",
              "}\n",
              "\n",
              "#sk-container-id-2 div.sk-toggleable__content.fitted pre {\n",
              "  /* unfitted */\n",
              "  background-color: var(--sklearn-color-fitted-level-0);\n",
              "}\n",
              "\n",
              "#sk-container-id-2 input.sk-toggleable__control:checked~div.sk-toggleable__content {\n",
              "  /* Expand drop-down */\n",
              "  max-height: 200px;\n",
              "  max-width: 100%;\n",
              "  overflow: auto;\n",
              "}\n",
              "\n",
              "#sk-container-id-2 input.sk-toggleable__control:checked~label.sk-toggleable__label-arrow:before {\n",
              "  content: \"▾\";\n",
              "}\n",
              "\n",
              "/* Pipeline/ColumnTransformer-specific style */\n",
              "\n",
              "#sk-container-id-2 div.sk-label input.sk-toggleable__control:checked~label.sk-toggleable__label {\n",
              "  color: var(--sklearn-color-text);\n",
              "  background-color: var(--sklearn-color-unfitted-level-2);\n",
              "}\n",
              "\n",
              "#sk-container-id-2 div.sk-label.fitted input.sk-toggleable__control:checked~label.sk-toggleable__label {\n",
              "  background-color: var(--sklearn-color-fitted-level-2);\n",
              "}\n",
              "\n",
              "/* Estimator-specific style */\n",
              "\n",
              "/* Colorize estimator box */\n",
              "#sk-container-id-2 div.sk-estimator input.sk-toggleable__control:checked~label.sk-toggleable__label {\n",
              "  /* unfitted */\n",
              "  background-color: var(--sklearn-color-unfitted-level-2);\n",
              "}\n",
              "\n",
              "#sk-container-id-2 div.sk-estimator.fitted input.sk-toggleable__control:checked~label.sk-toggleable__label {\n",
              "  /* fitted */\n",
              "  background-color: var(--sklearn-color-fitted-level-2);\n",
              "}\n",
              "\n",
              "#sk-container-id-2 div.sk-label label.sk-toggleable__label,\n",
              "#sk-container-id-2 div.sk-label label {\n",
              "  /* The background is the default theme color */\n",
              "  color: var(--sklearn-color-text-on-default-background);\n",
              "}\n",
              "\n",
              "/* On hover, darken the color of the background */\n",
              "#sk-container-id-2 div.sk-label:hover label.sk-toggleable__label {\n",
              "  color: var(--sklearn-color-text);\n",
              "  background-color: var(--sklearn-color-unfitted-level-2);\n",
              "}\n",
              "\n",
              "/* Label box, darken color on hover, fitted */\n",
              "#sk-container-id-2 div.sk-label.fitted:hover label.sk-toggleable__label.fitted {\n",
              "  color: var(--sklearn-color-text);\n",
              "  background-color: var(--sklearn-color-fitted-level-2);\n",
              "}\n",
              "\n",
              "/* Estimator label */\n",
              "\n",
              "#sk-container-id-2 div.sk-label label {\n",
              "  font-family: monospace;\n",
              "  font-weight: bold;\n",
              "  display: inline-block;\n",
              "  line-height: 1.2em;\n",
              "}\n",
              "\n",
              "#sk-container-id-2 div.sk-label-container {\n",
              "  text-align: center;\n",
              "}\n",
              "\n",
              "/* Estimator-specific */\n",
              "#sk-container-id-2 div.sk-estimator {\n",
              "  font-family: monospace;\n",
              "  border: 1px dotted var(--sklearn-color-border-box);\n",
              "  border-radius: 0.25em;\n",
              "  box-sizing: border-box;\n",
              "  margin-bottom: 0.5em;\n",
              "  /* unfitted */\n",
              "  background-color: var(--sklearn-color-unfitted-level-0);\n",
              "}\n",
              "\n",
              "#sk-container-id-2 div.sk-estimator.fitted {\n",
              "  /* fitted */\n",
              "  background-color: var(--sklearn-color-fitted-level-0);\n",
              "}\n",
              "\n",
              "/* on hover */\n",
              "#sk-container-id-2 div.sk-estimator:hover {\n",
              "  /* unfitted */\n",
              "  background-color: var(--sklearn-color-unfitted-level-2);\n",
              "}\n",
              "\n",
              "#sk-container-id-2 div.sk-estimator.fitted:hover {\n",
              "  /* fitted */\n",
              "  background-color: var(--sklearn-color-fitted-level-2);\n",
              "}\n",
              "\n",
              "/* Specification for estimator info (e.g. \"i\" and \"?\") */\n",
              "\n",
              "/* Common style for \"i\" and \"?\" */\n",
              "\n",
              ".sk-estimator-doc-link,\n",
              "a:link.sk-estimator-doc-link,\n",
              "a:visited.sk-estimator-doc-link {\n",
              "  float: right;\n",
              "  font-size: smaller;\n",
              "  line-height: 1em;\n",
              "  font-family: monospace;\n",
              "  background-color: var(--sklearn-color-background);\n",
              "  border-radius: 1em;\n",
              "  height: 1em;\n",
              "  width: 1em;\n",
              "  text-decoration: none !important;\n",
              "  margin-left: 1ex;\n",
              "  /* unfitted */\n",
              "  border: var(--sklearn-color-unfitted-level-1) 1pt solid;\n",
              "  color: var(--sklearn-color-unfitted-level-1);\n",
              "}\n",
              "\n",
              ".sk-estimator-doc-link.fitted,\n",
              "a:link.sk-estimator-doc-link.fitted,\n",
              "a:visited.sk-estimator-doc-link.fitted {\n",
              "  /* fitted */\n",
              "  border: var(--sklearn-color-fitted-level-1) 1pt solid;\n",
              "  color: var(--sklearn-color-fitted-level-1);\n",
              "}\n",
              "\n",
              "/* On hover */\n",
              "div.sk-estimator:hover .sk-estimator-doc-link:hover,\n",
              ".sk-estimator-doc-link:hover,\n",
              "div.sk-label-container:hover .sk-estimator-doc-link:hover,\n",
              ".sk-estimator-doc-link:hover {\n",
              "  /* unfitted */\n",
              "  background-color: var(--sklearn-color-unfitted-level-3);\n",
              "  color: var(--sklearn-color-background);\n",
              "  text-decoration: none;\n",
              "}\n",
              "\n",
              "div.sk-estimator.fitted:hover .sk-estimator-doc-link.fitted:hover,\n",
              ".sk-estimator-doc-link.fitted:hover,\n",
              "div.sk-label-container:hover .sk-estimator-doc-link.fitted:hover,\n",
              ".sk-estimator-doc-link.fitted:hover {\n",
              "  /* fitted */\n",
              "  background-color: var(--sklearn-color-fitted-level-3);\n",
              "  color: var(--sklearn-color-background);\n",
              "  text-decoration: none;\n",
              "}\n",
              "\n",
              "/* Span, style for the box shown on hovering the info icon */\n",
              ".sk-estimator-doc-link span {\n",
              "  display: none;\n",
              "  z-index: 9999;\n",
              "  position: relative;\n",
              "  font-weight: normal;\n",
              "  right: .2ex;\n",
              "  padding: .5ex;\n",
              "  margin: .5ex;\n",
              "  width: min-content;\n",
              "  min-width: 20ex;\n",
              "  max-width: 50ex;\n",
              "  color: var(--sklearn-color-text);\n",
              "  box-shadow: 2pt 2pt 4pt #999;\n",
              "  /* unfitted */\n",
              "  background: var(--sklearn-color-unfitted-level-0);\n",
              "  border: .5pt solid var(--sklearn-color-unfitted-level-3);\n",
              "}\n",
              "\n",
              ".sk-estimator-doc-link.fitted span {\n",
              "  /* fitted */\n",
              "  background: var(--sklearn-color-fitted-level-0);\n",
              "  border: var(--sklearn-color-fitted-level-3);\n",
              "}\n",
              "\n",
              ".sk-estimator-doc-link:hover span {\n",
              "  display: block;\n",
              "}\n",
              "\n",
              "/* \"?\"-specific style due to the `<a>` HTML tag */\n",
              "\n",
              "#sk-container-id-2 a.estimator_doc_link {\n",
              "  float: right;\n",
              "  font-size: 1rem;\n",
              "  line-height: 1em;\n",
              "  font-family: monospace;\n",
              "  background-color: var(--sklearn-color-background);\n",
              "  border-radius: 1rem;\n",
              "  height: 1rem;\n",
              "  width: 1rem;\n",
              "  text-decoration: none;\n",
              "  /* unfitted */\n",
              "  color: var(--sklearn-color-unfitted-level-1);\n",
              "  border: var(--sklearn-color-unfitted-level-1) 1pt solid;\n",
              "}\n",
              "\n",
              "#sk-container-id-2 a.estimator_doc_link.fitted {\n",
              "  /* fitted */\n",
              "  border: var(--sklearn-color-fitted-level-1) 1pt solid;\n",
              "  color: var(--sklearn-color-fitted-level-1);\n",
              "}\n",
              "\n",
              "/* On hover */\n",
              "#sk-container-id-2 a.estimator_doc_link:hover {\n",
              "  /* unfitted */\n",
              "  background-color: var(--sklearn-color-unfitted-level-3);\n",
              "  color: var(--sklearn-color-background);\n",
              "  text-decoration: none;\n",
              "}\n",
              "\n",
              "#sk-container-id-2 a.estimator_doc_link.fitted:hover {\n",
              "  /* fitted */\n",
              "  background-color: var(--sklearn-color-fitted-level-3);\n",
              "}\n",
              "</style><div id=\"sk-container-id-2\" class=\"sk-top-container\"><div class=\"sk-text-repr-fallback\"><pre>Pipeline(steps=[(&#x27;preprocessor&#x27;,\n",
              "                 ColumnTransformer(transformers=[(&#x27;num&#x27;,\n",
              "                                                  Pipeline(steps=[(&#x27;scaler&#x27;,\n",
              "                                                                   StandardScaler())]),\n",
              "                                                  [&#x27;totaldue&#x27;, &#x27;termdays&#x27;,\n",
              "                                                   &#x27;loan_to_due_ratio&#x27;,\n",
              "                                                   &#x27;age&#x27;]),\n",
              "                                                 (&#x27;cat&#x27;,\n",
              "                                                  Pipeline(steps=[(&#x27;encoder&#x27;,\n",
              "                                                                   OneHotEncoder(handle_unknown=&#x27;ignore&#x27;,\n",
              "                                                                                 sparse_output=False))]),\n",
              "                                                  [&#x27;employment_status_clients&#x27;,\n",
              "                                                   &#x27;level_of_education_clients&#x27;])])),\n",
              "                (&#x27;model&#x27;,\n",
              "                 AdaBoostClassifier(algorithm=&#x27;SAMME&#x27;, random_state=42))])</pre><b>In a Jupyter environment, please rerun this cell to show the HTML representation or trust the notebook. <br />On GitHub, the HTML representation is unable to render, please try loading this page with nbviewer.org.</b></div><div class=\"sk-container\" hidden><div class=\"sk-item sk-dashed-wrapped\"><div class=\"sk-label-container\"><div class=\"sk-label fitted sk-toggleable\"><input class=\"sk-toggleable__control sk-hidden--visually\" id=\"sk-estimator-id-6\" type=\"checkbox\" ><label for=\"sk-estimator-id-6\" class=\"sk-toggleable__label fitted sk-toggleable__label-arrow fitted\">&nbsp;&nbsp;Pipeline<a class=\"sk-estimator-doc-link fitted\" rel=\"noreferrer\" target=\"_blank\" href=\"https://scikit-learn.org/1.5/modules/generated/sklearn.pipeline.Pipeline.html\">?<span>Documentation for Pipeline</span></a><span class=\"sk-estimator-doc-link fitted\">i<span>Fitted</span></span></label><div class=\"sk-toggleable__content fitted\"><pre>Pipeline(steps=[(&#x27;preprocessor&#x27;,\n",
              "                 ColumnTransformer(transformers=[(&#x27;num&#x27;,\n",
              "                                                  Pipeline(steps=[(&#x27;scaler&#x27;,\n",
              "                                                                   StandardScaler())]),\n",
              "                                                  [&#x27;totaldue&#x27;, &#x27;termdays&#x27;,\n",
              "                                                   &#x27;loan_to_due_ratio&#x27;,\n",
              "                                                   &#x27;age&#x27;]),\n",
              "                                                 (&#x27;cat&#x27;,\n",
              "                                                  Pipeline(steps=[(&#x27;encoder&#x27;,\n",
              "                                                                   OneHotEncoder(handle_unknown=&#x27;ignore&#x27;,\n",
              "                                                                                 sparse_output=False))]),\n",
              "                                                  [&#x27;employment_status_clients&#x27;,\n",
              "                                                   &#x27;level_of_education_clients&#x27;])])),\n",
              "                (&#x27;model&#x27;,\n",
              "                 AdaBoostClassifier(algorithm=&#x27;SAMME&#x27;, random_state=42))])</pre></div> </div></div><div class=\"sk-serial\"><div class=\"sk-item sk-dashed-wrapped\"><div class=\"sk-label-container\"><div class=\"sk-label fitted sk-toggleable\"><input class=\"sk-toggleable__control sk-hidden--visually\" id=\"sk-estimator-id-7\" type=\"checkbox\" ><label for=\"sk-estimator-id-7\" class=\"sk-toggleable__label fitted sk-toggleable__label-arrow fitted\">&nbsp;preprocessor: ColumnTransformer<a class=\"sk-estimator-doc-link fitted\" rel=\"noreferrer\" target=\"_blank\" href=\"https://scikit-learn.org/1.5/modules/generated/sklearn.compose.ColumnTransformer.html\">?<span>Documentation for preprocessor: ColumnTransformer</span></a></label><div class=\"sk-toggleable__content fitted\"><pre>ColumnTransformer(transformers=[(&#x27;num&#x27;,\n",
              "                                 Pipeline(steps=[(&#x27;scaler&#x27;, StandardScaler())]),\n",
              "                                 [&#x27;totaldue&#x27;, &#x27;termdays&#x27;, &#x27;loan_to_due_ratio&#x27;,\n",
              "                                  &#x27;age&#x27;]),\n",
              "                                (&#x27;cat&#x27;,\n",
              "                                 Pipeline(steps=[(&#x27;encoder&#x27;,\n",
              "                                                  OneHotEncoder(handle_unknown=&#x27;ignore&#x27;,\n",
              "                                                                sparse_output=False))]),\n",
              "                                 [&#x27;employment_status_clients&#x27;,\n",
              "                                  &#x27;level_of_education_clients&#x27;])])</pre></div> </div></div><div class=\"sk-parallel\"><div class=\"sk-parallel-item\"><div class=\"sk-item\"><div class=\"sk-label-container\"><div class=\"sk-label fitted sk-toggleable\"><input class=\"sk-toggleable__control sk-hidden--visually\" id=\"sk-estimator-id-8\" type=\"checkbox\" ><label for=\"sk-estimator-id-8\" class=\"sk-toggleable__label fitted sk-toggleable__label-arrow fitted\">num</label><div class=\"sk-toggleable__content fitted\"><pre>[&#x27;totaldue&#x27;, &#x27;termdays&#x27;, &#x27;loan_to_due_ratio&#x27;, &#x27;age&#x27;]</pre></div> </div></div><div class=\"sk-serial\"><div class=\"sk-item\"><div class=\"sk-serial\"><div class=\"sk-item\"><div class=\"sk-estimator fitted sk-toggleable\"><input class=\"sk-toggleable__control sk-hidden--visually\" id=\"sk-estimator-id-9\" type=\"checkbox\" ><label for=\"sk-estimator-id-9\" class=\"sk-toggleable__label fitted sk-toggleable__label-arrow fitted\">&nbsp;StandardScaler<a class=\"sk-estimator-doc-link fitted\" rel=\"noreferrer\" target=\"_blank\" href=\"https://scikit-learn.org/1.5/modules/generated/sklearn.preprocessing.StandardScaler.html\">?<span>Documentation for StandardScaler</span></a></label><div class=\"sk-toggleable__content fitted\"><pre>StandardScaler()</pre></div> </div></div></div></div></div></div></div><div class=\"sk-parallel-item\"><div class=\"sk-item\"><div class=\"sk-label-container\"><div class=\"sk-label fitted sk-toggleable\"><input class=\"sk-toggleable__control sk-hidden--visually\" id=\"sk-estimator-id-10\" type=\"checkbox\" ><label for=\"sk-estimator-id-10\" class=\"sk-toggleable__label fitted sk-toggleable__label-arrow fitted\">cat</label><div class=\"sk-toggleable__content fitted\"><pre>[&#x27;employment_status_clients&#x27;, &#x27;level_of_education_clients&#x27;]</pre></div> </div></div><div class=\"sk-serial\"><div class=\"sk-item\"><div class=\"sk-serial\"><div class=\"sk-item\"><div class=\"sk-estimator fitted sk-toggleable\"><input class=\"sk-toggleable__control sk-hidden--visually\" id=\"sk-estimator-id-11\" type=\"checkbox\" ><label for=\"sk-estimator-id-11\" class=\"sk-toggleable__label fitted sk-toggleable__label-arrow fitted\">&nbsp;OneHotEncoder<a class=\"sk-estimator-doc-link fitted\" rel=\"noreferrer\" target=\"_blank\" href=\"https://scikit-learn.org/1.5/modules/generated/sklearn.preprocessing.OneHotEncoder.html\">?<span>Documentation for OneHotEncoder</span></a></label><div class=\"sk-toggleable__content fitted\"><pre>OneHotEncoder(handle_unknown=&#x27;ignore&#x27;, sparse_output=False)</pre></div> </div></div></div></div></div></div></div></div></div><div class=\"sk-item\"><div class=\"sk-estimator fitted sk-toggleable\"><input class=\"sk-toggleable__control sk-hidden--visually\" id=\"sk-estimator-id-12\" type=\"checkbox\" ><label for=\"sk-estimator-id-12\" class=\"sk-toggleable__label fitted sk-toggleable__label-arrow fitted\">&nbsp;AdaBoostClassifier<a class=\"sk-estimator-doc-link fitted\" rel=\"noreferrer\" target=\"_blank\" href=\"https://scikit-learn.org/1.5/modules/generated/sklearn.ensemble.AdaBoostClassifier.html\">?<span>Documentation for AdaBoostClassifier</span></a></label><div class=\"sk-toggleable__content fitted\"><pre>AdaBoostClassifier(algorithm=&#x27;SAMME&#x27;, random_state=42)</pre></div> </div></div></div></div></div></div>"
            ],
            "text/plain": [
              "Pipeline(steps=[('preprocessor',\n",
              "                 ColumnTransformer(transformers=[('num',\n",
              "                                                  Pipeline(steps=[('scaler',\n",
              "                                                                   StandardScaler())]),\n",
              "                                                  ['totaldue', 'termdays',\n",
              "                                                   'loan_to_due_ratio',\n",
              "                                                   'age']),\n",
              "                                                 ('cat',\n",
              "                                                  Pipeline(steps=[('encoder',\n",
              "                                                                   OneHotEncoder(handle_unknown='ignore',\n",
              "                                                                                 sparse_output=False))]),\n",
              "                                                  ['employment_status_clients',\n",
              "                                                   'level_of_education_clients'])])),\n",
              "                ('model',\n",
              "                 AdaBoostClassifier(algorithm='SAMME', random_state=42))])"
            ]
          },
          "execution_count": 104,
          "metadata": {},
          "output_type": "execute_result"
        }
      ],
      "source": [
        "#taking Ada Boost as the best model\n",
        "\n",
        "final_model= AdaBoostClassifier(algorithm='SAMME', random_state=42)\n",
        "\n",
        "pipeline=Pipeline(steps=[\n",
        "    ('preprocessor', preprocessor),\n",
        "    ('model', final_model)\n",
        "])\n",
        "# train the final model\n",
        "pipeline.fit(X_train, y_train)"
      ]
    },
    {
      "cell_type": "code",
      "execution_count": null,
      "id": "5918cb2c-4bb6-4a66-bb95-91bb681a4712",
      "metadata": {
        "id": "5918cb2c-4bb6-4a66-bb95-91bb681a4712",
        "outputId": "7c9abdb4-9c8d-4848-e9a2-032a9104bc53"
      },
      "outputs": [
        {
          "name": "stdout",
          "output_type": "stream",
          "text": [
            " AdaBoost\n",
            " Precision = 0.7826, Recall = 1.0000\n"
          ]
        }
      ],
      "source": [
        "# predict and evaluate\n",
        "test_pred = pipeline.predict(X_test)\n",
        "\n",
        "precision = precision_score(y_test, test_pred, pos_label='Good')\n",
        "recall = recall_score(y_test, test_pred, pos_label='Good')\n",
        "\n",
        "print(f' AdaBoost\\n Precision = {precision:.4f}, Recall = {recall:.4f}')"
      ]
    },
    {
      "cell_type": "markdown",
      "id": "55a44aac-b2f5-4ed8-aebc-9e6fe6360fd2",
      "metadata": {
        "id": "55a44aac-b2f5-4ed8-aebc-9e6fe6360fd2"
      },
      "source": [
        "### Feature Importance"
      ]
    },
    {
      "cell_type": "code",
      "execution_count": null,
      "id": "80409b3f-cba9-4769-b7de-0ae781df4c18",
      "metadata": {
        "id": "80409b3f-cba9-4769-b7de-0ae781df4c18",
        "outputId": "c3c30251-9f3d-44c0-94ec-62ad0286ae52"
      },
      "outputs": [
        {
          "data": {
            "text/plain": [
              "list[Pipeline(steps=[('encoder',\n",
              "                 OneHotEncoder(handle_unknown='ignore', sparse_output=False))])]"
            ]
          },
          "execution_count": 106,
          "metadata": {},
          "output_type": "execute_result"
        }
      ],
      "source": [
        "list[preprocessor.named_transformers_['cat']]"
      ]
    },
    {
      "cell_type": "code",
      "execution_count": null,
      "id": "62638ea1-7dc3-4208-9333-5770e9fed5a3",
      "metadata": {
        "id": "62638ea1-7dc3-4208-9333-5770e9fed5a3",
        "outputId": "a5053437-82c6-4b56-d229-8a2a21f0afa7"
      },
      "outputs": [
        {
          "data": {
            "text/plain": [
              "list[array(['employment_status_clients_Contract',\n",
              "       'employment_status_clients_Permanent',\n",
              "       'employment_status_clients_Retired',\n",
              "       'employment_status_clients_Self-Employed',\n",
              "       'employment_status_clients_Student',\n",
              "       'employment_status_clients_Unemployed',\n",
              "       'level_of_education_clients_Graduate',\n",
              "       'level_of_education_clients_Post-Graduate',\n",
              "       'level_of_education_clients_Primary',\n",
              "       'level_of_education_clients_Secondary'], dtype=object)]"
            ]
          },
          "execution_count": 107,
          "metadata": {},
          "output_type": "execute_result"
        }
      ],
      "source": [
        "list[preprocessor.named_transformers_['cat'].named_steps['encoder'].get_feature_names_out(cat_cols)]"
      ]
    },
    {
      "cell_type": "code",
      "execution_count": null,
      "id": "bdc9361f-00d2-4b3f-a1b8-9c50a4894351",
      "metadata": {
        "id": "bdc9361f-00d2-4b3f-a1b8-9c50a4894351",
        "outputId": "e950f252-9932-4572-b864-df434adcfde9"
      },
      "outputs": [
        {
          "data": {
            "text/html": [
              "<style>#sk-container-id-3 {\n",
              "  /* Definition of color scheme common for light and dark mode */\n",
              "  --sklearn-color-text: black;\n",
              "  --sklearn-color-line: gray;\n",
              "  /* Definition of color scheme for unfitted estimators */\n",
              "  --sklearn-color-unfitted-level-0: #fff5e6;\n",
              "  --sklearn-color-unfitted-level-1: #f6e4d2;\n",
              "  --sklearn-color-unfitted-level-2: #ffe0b3;\n",
              "  --sklearn-color-unfitted-level-3: chocolate;\n",
              "  /* Definition of color scheme for fitted estimators */\n",
              "  --sklearn-color-fitted-level-0: #f0f8ff;\n",
              "  --sklearn-color-fitted-level-1: #d4ebff;\n",
              "  --sklearn-color-fitted-level-2: #b3dbfd;\n",
              "  --sklearn-color-fitted-level-3: cornflowerblue;\n",
              "\n",
              "  /* Specific color for light theme */\n",
              "  --sklearn-color-text-on-default-background: var(--sg-text-color, var(--theme-code-foreground, var(--jp-content-font-color1, black)));\n",
              "  --sklearn-color-background: var(--sg-background-color, var(--theme-background, var(--jp-layout-color0, white)));\n",
              "  --sklearn-color-border-box: var(--sg-text-color, var(--theme-code-foreground, var(--jp-content-font-color1, black)));\n",
              "  --sklearn-color-icon: #696969;\n",
              "\n",
              "  @media (prefers-color-scheme: dark) {\n",
              "    /* Redefinition of color scheme for dark theme */\n",
              "    --sklearn-color-text-on-default-background: var(--sg-text-color, var(--theme-code-foreground, var(--jp-content-font-color1, white)));\n",
              "    --sklearn-color-background: var(--sg-background-color, var(--theme-background, var(--jp-layout-color0, #111)));\n",
              "    --sklearn-color-border-box: var(--sg-text-color, var(--theme-code-foreground, var(--jp-content-font-color1, white)));\n",
              "    --sklearn-color-icon: #878787;\n",
              "  }\n",
              "}\n",
              "\n",
              "#sk-container-id-3 {\n",
              "  color: var(--sklearn-color-text);\n",
              "}\n",
              "\n",
              "#sk-container-id-3 pre {\n",
              "  padding: 0;\n",
              "}\n",
              "\n",
              "#sk-container-id-3 input.sk-hidden--visually {\n",
              "  border: 0;\n",
              "  clip: rect(1px 1px 1px 1px);\n",
              "  clip: rect(1px, 1px, 1px, 1px);\n",
              "  height: 1px;\n",
              "  margin: -1px;\n",
              "  overflow: hidden;\n",
              "  padding: 0;\n",
              "  position: absolute;\n",
              "  width: 1px;\n",
              "}\n",
              "\n",
              "#sk-container-id-3 div.sk-dashed-wrapped {\n",
              "  border: 1px dashed var(--sklearn-color-line);\n",
              "  margin: 0 0.4em 0.5em 0.4em;\n",
              "  box-sizing: border-box;\n",
              "  padding-bottom: 0.4em;\n",
              "  background-color: var(--sklearn-color-background);\n",
              "}\n",
              "\n",
              "#sk-container-id-3 div.sk-container {\n",
              "  /* jupyter's `normalize.less` sets `[hidden] { display: none; }`\n",
              "     but bootstrap.min.css set `[hidden] { display: none !important; }`\n",
              "     so we also need the `!important` here to be able to override the\n",
              "     default hidden behavior on the sphinx rendered scikit-learn.org.\n",
              "     See: https://github.com/scikit-learn/scikit-learn/issues/21755 */\n",
              "  display: inline-block !important;\n",
              "  position: relative;\n",
              "}\n",
              "\n",
              "#sk-container-id-3 div.sk-text-repr-fallback {\n",
              "  display: none;\n",
              "}\n",
              "\n",
              "div.sk-parallel-item,\n",
              "div.sk-serial,\n",
              "div.sk-item {\n",
              "  /* draw centered vertical line to link estimators */\n",
              "  background-image: linear-gradient(var(--sklearn-color-text-on-default-background), var(--sklearn-color-text-on-default-background));\n",
              "  background-size: 2px 100%;\n",
              "  background-repeat: no-repeat;\n",
              "  background-position: center center;\n",
              "}\n",
              "\n",
              "/* Parallel-specific style estimator block */\n",
              "\n",
              "#sk-container-id-3 div.sk-parallel-item::after {\n",
              "  content: \"\";\n",
              "  width: 100%;\n",
              "  border-bottom: 2px solid var(--sklearn-color-text-on-default-background);\n",
              "  flex-grow: 1;\n",
              "}\n",
              "\n",
              "#sk-container-id-3 div.sk-parallel {\n",
              "  display: flex;\n",
              "  align-items: stretch;\n",
              "  justify-content: center;\n",
              "  background-color: var(--sklearn-color-background);\n",
              "  position: relative;\n",
              "}\n",
              "\n",
              "#sk-container-id-3 div.sk-parallel-item {\n",
              "  display: flex;\n",
              "  flex-direction: column;\n",
              "}\n",
              "\n",
              "#sk-container-id-3 div.sk-parallel-item:first-child::after {\n",
              "  align-self: flex-end;\n",
              "  width: 50%;\n",
              "}\n",
              "\n",
              "#sk-container-id-3 div.sk-parallel-item:last-child::after {\n",
              "  align-self: flex-start;\n",
              "  width: 50%;\n",
              "}\n",
              "\n",
              "#sk-container-id-3 div.sk-parallel-item:only-child::after {\n",
              "  width: 0;\n",
              "}\n",
              "\n",
              "/* Serial-specific style estimator block */\n",
              "\n",
              "#sk-container-id-3 div.sk-serial {\n",
              "  display: flex;\n",
              "  flex-direction: column;\n",
              "  align-items: center;\n",
              "  background-color: var(--sklearn-color-background);\n",
              "  padding-right: 1em;\n",
              "  padding-left: 1em;\n",
              "}\n",
              "\n",
              "\n",
              "/* Toggleable style: style used for estimator/Pipeline/ColumnTransformer box that is\n",
              "clickable and can be expanded/collapsed.\n",
              "- Pipeline and ColumnTransformer use this feature and define the default style\n",
              "- Estimators will overwrite some part of the style using the `sk-estimator` class\n",
              "*/\n",
              "\n",
              "/* Pipeline and ColumnTransformer style (default) */\n",
              "\n",
              "#sk-container-id-3 div.sk-toggleable {\n",
              "  /* Default theme specific background. It is overwritten whether we have a\n",
              "  specific estimator or a Pipeline/ColumnTransformer */\n",
              "  background-color: var(--sklearn-color-background);\n",
              "}\n",
              "\n",
              "/* Toggleable label */\n",
              "#sk-container-id-3 label.sk-toggleable__label {\n",
              "  cursor: pointer;\n",
              "  display: block;\n",
              "  width: 100%;\n",
              "  margin-bottom: 0;\n",
              "  padding: 0.5em;\n",
              "  box-sizing: border-box;\n",
              "  text-align: center;\n",
              "}\n",
              "\n",
              "#sk-container-id-3 label.sk-toggleable__label-arrow:before {\n",
              "  /* Arrow on the left of the label */\n",
              "  content: \"▸\";\n",
              "  float: left;\n",
              "  margin-right: 0.25em;\n",
              "  color: var(--sklearn-color-icon);\n",
              "}\n",
              "\n",
              "#sk-container-id-3 label.sk-toggleable__label-arrow:hover:before {\n",
              "  color: var(--sklearn-color-text);\n",
              "}\n",
              "\n",
              "/* Toggleable content - dropdown */\n",
              "\n",
              "#sk-container-id-3 div.sk-toggleable__content {\n",
              "  max-height: 0;\n",
              "  max-width: 0;\n",
              "  overflow: hidden;\n",
              "  text-align: left;\n",
              "  /* unfitted */\n",
              "  background-color: var(--sklearn-color-unfitted-level-0);\n",
              "}\n",
              "\n",
              "#sk-container-id-3 div.sk-toggleable__content.fitted {\n",
              "  /* fitted */\n",
              "  background-color: var(--sklearn-color-fitted-level-0);\n",
              "}\n",
              "\n",
              "#sk-container-id-3 div.sk-toggleable__content pre {\n",
              "  margin: 0.2em;\n",
              "  border-radius: 0.25em;\n",
              "  color: var(--sklearn-color-text);\n",
              "  /* unfitted */\n",
              "  background-color: var(--sklearn-color-unfitted-level-0);\n",
              "}\n",
              "\n",
              "#sk-container-id-3 div.sk-toggleable__content.fitted pre {\n",
              "  /* unfitted */\n",
              "  background-color: var(--sklearn-color-fitted-level-0);\n",
              "}\n",
              "\n",
              "#sk-container-id-3 input.sk-toggleable__control:checked~div.sk-toggleable__content {\n",
              "  /* Expand drop-down */\n",
              "  max-height: 200px;\n",
              "  max-width: 100%;\n",
              "  overflow: auto;\n",
              "}\n",
              "\n",
              "#sk-container-id-3 input.sk-toggleable__control:checked~label.sk-toggleable__label-arrow:before {\n",
              "  content: \"▾\";\n",
              "}\n",
              "\n",
              "/* Pipeline/ColumnTransformer-specific style */\n",
              "\n",
              "#sk-container-id-3 div.sk-label input.sk-toggleable__control:checked~label.sk-toggleable__label {\n",
              "  color: var(--sklearn-color-text);\n",
              "  background-color: var(--sklearn-color-unfitted-level-2);\n",
              "}\n",
              "\n",
              "#sk-container-id-3 div.sk-label.fitted input.sk-toggleable__control:checked~label.sk-toggleable__label {\n",
              "  background-color: var(--sklearn-color-fitted-level-2);\n",
              "}\n",
              "\n",
              "/* Estimator-specific style */\n",
              "\n",
              "/* Colorize estimator box */\n",
              "#sk-container-id-3 div.sk-estimator input.sk-toggleable__control:checked~label.sk-toggleable__label {\n",
              "  /* unfitted */\n",
              "  background-color: var(--sklearn-color-unfitted-level-2);\n",
              "}\n",
              "\n",
              "#sk-container-id-3 div.sk-estimator.fitted input.sk-toggleable__control:checked~label.sk-toggleable__label {\n",
              "  /* fitted */\n",
              "  background-color: var(--sklearn-color-fitted-level-2);\n",
              "}\n",
              "\n",
              "#sk-container-id-3 div.sk-label label.sk-toggleable__label,\n",
              "#sk-container-id-3 div.sk-label label {\n",
              "  /* The background is the default theme color */\n",
              "  color: var(--sklearn-color-text-on-default-background);\n",
              "}\n",
              "\n",
              "/* On hover, darken the color of the background */\n",
              "#sk-container-id-3 div.sk-label:hover label.sk-toggleable__label {\n",
              "  color: var(--sklearn-color-text);\n",
              "  background-color: var(--sklearn-color-unfitted-level-2);\n",
              "}\n",
              "\n",
              "/* Label box, darken color on hover, fitted */\n",
              "#sk-container-id-3 div.sk-label.fitted:hover label.sk-toggleable__label.fitted {\n",
              "  color: var(--sklearn-color-text);\n",
              "  background-color: var(--sklearn-color-fitted-level-2);\n",
              "}\n",
              "\n",
              "/* Estimator label */\n",
              "\n",
              "#sk-container-id-3 div.sk-label label {\n",
              "  font-family: monospace;\n",
              "  font-weight: bold;\n",
              "  display: inline-block;\n",
              "  line-height: 1.2em;\n",
              "}\n",
              "\n",
              "#sk-container-id-3 div.sk-label-container {\n",
              "  text-align: center;\n",
              "}\n",
              "\n",
              "/* Estimator-specific */\n",
              "#sk-container-id-3 div.sk-estimator {\n",
              "  font-family: monospace;\n",
              "  border: 1px dotted var(--sklearn-color-border-box);\n",
              "  border-radius: 0.25em;\n",
              "  box-sizing: border-box;\n",
              "  margin-bottom: 0.5em;\n",
              "  /* unfitted */\n",
              "  background-color: var(--sklearn-color-unfitted-level-0);\n",
              "}\n",
              "\n",
              "#sk-container-id-3 div.sk-estimator.fitted {\n",
              "  /* fitted */\n",
              "  background-color: var(--sklearn-color-fitted-level-0);\n",
              "}\n",
              "\n",
              "/* on hover */\n",
              "#sk-container-id-3 div.sk-estimator:hover {\n",
              "  /* unfitted */\n",
              "  background-color: var(--sklearn-color-unfitted-level-2);\n",
              "}\n",
              "\n",
              "#sk-container-id-3 div.sk-estimator.fitted:hover {\n",
              "  /* fitted */\n",
              "  background-color: var(--sklearn-color-fitted-level-2);\n",
              "}\n",
              "\n",
              "/* Specification for estimator info (e.g. \"i\" and \"?\") */\n",
              "\n",
              "/* Common style for \"i\" and \"?\" */\n",
              "\n",
              ".sk-estimator-doc-link,\n",
              "a:link.sk-estimator-doc-link,\n",
              "a:visited.sk-estimator-doc-link {\n",
              "  float: right;\n",
              "  font-size: smaller;\n",
              "  line-height: 1em;\n",
              "  font-family: monospace;\n",
              "  background-color: var(--sklearn-color-background);\n",
              "  border-radius: 1em;\n",
              "  height: 1em;\n",
              "  width: 1em;\n",
              "  text-decoration: none !important;\n",
              "  margin-left: 1ex;\n",
              "  /* unfitted */\n",
              "  border: var(--sklearn-color-unfitted-level-1) 1pt solid;\n",
              "  color: var(--sklearn-color-unfitted-level-1);\n",
              "}\n",
              "\n",
              ".sk-estimator-doc-link.fitted,\n",
              "a:link.sk-estimator-doc-link.fitted,\n",
              "a:visited.sk-estimator-doc-link.fitted {\n",
              "  /* fitted */\n",
              "  border: var(--sklearn-color-fitted-level-1) 1pt solid;\n",
              "  color: var(--sklearn-color-fitted-level-1);\n",
              "}\n",
              "\n",
              "/* On hover */\n",
              "div.sk-estimator:hover .sk-estimator-doc-link:hover,\n",
              ".sk-estimator-doc-link:hover,\n",
              "div.sk-label-container:hover .sk-estimator-doc-link:hover,\n",
              ".sk-estimator-doc-link:hover {\n",
              "  /* unfitted */\n",
              "  background-color: var(--sklearn-color-unfitted-level-3);\n",
              "  color: var(--sklearn-color-background);\n",
              "  text-decoration: none;\n",
              "}\n",
              "\n",
              "div.sk-estimator.fitted:hover .sk-estimator-doc-link.fitted:hover,\n",
              ".sk-estimator-doc-link.fitted:hover,\n",
              "div.sk-label-container:hover .sk-estimator-doc-link.fitted:hover,\n",
              ".sk-estimator-doc-link.fitted:hover {\n",
              "  /* fitted */\n",
              "  background-color: var(--sklearn-color-fitted-level-3);\n",
              "  color: var(--sklearn-color-background);\n",
              "  text-decoration: none;\n",
              "}\n",
              "\n",
              "/* Span, style for the box shown on hovering the info icon */\n",
              ".sk-estimator-doc-link span {\n",
              "  display: none;\n",
              "  z-index: 9999;\n",
              "  position: relative;\n",
              "  font-weight: normal;\n",
              "  right: .2ex;\n",
              "  padding: .5ex;\n",
              "  margin: .5ex;\n",
              "  width: min-content;\n",
              "  min-width: 20ex;\n",
              "  max-width: 50ex;\n",
              "  color: var(--sklearn-color-text);\n",
              "  box-shadow: 2pt 2pt 4pt #999;\n",
              "  /* unfitted */\n",
              "  background: var(--sklearn-color-unfitted-level-0);\n",
              "  border: .5pt solid var(--sklearn-color-unfitted-level-3);\n",
              "}\n",
              "\n",
              ".sk-estimator-doc-link.fitted span {\n",
              "  /* fitted */\n",
              "  background: var(--sklearn-color-fitted-level-0);\n",
              "  border: var(--sklearn-color-fitted-level-3);\n",
              "}\n",
              "\n",
              ".sk-estimator-doc-link:hover span {\n",
              "  display: block;\n",
              "}\n",
              "\n",
              "/* \"?\"-specific style due to the `<a>` HTML tag */\n",
              "\n",
              "#sk-container-id-3 a.estimator_doc_link {\n",
              "  float: right;\n",
              "  font-size: 1rem;\n",
              "  line-height: 1em;\n",
              "  font-family: monospace;\n",
              "  background-color: var(--sklearn-color-background);\n",
              "  border-radius: 1rem;\n",
              "  height: 1rem;\n",
              "  width: 1rem;\n",
              "  text-decoration: none;\n",
              "  /* unfitted */\n",
              "  color: var(--sklearn-color-unfitted-level-1);\n",
              "  border: var(--sklearn-color-unfitted-level-1) 1pt solid;\n",
              "}\n",
              "\n",
              "#sk-container-id-3 a.estimator_doc_link.fitted {\n",
              "  /* fitted */\n",
              "  border: var(--sklearn-color-fitted-level-1) 1pt solid;\n",
              "  color: var(--sklearn-color-fitted-level-1);\n",
              "}\n",
              "\n",
              "/* On hover */\n",
              "#sk-container-id-3 a.estimator_doc_link:hover {\n",
              "  /* unfitted */\n",
              "  background-color: var(--sklearn-color-unfitted-level-3);\n",
              "  color: var(--sklearn-color-background);\n",
              "  text-decoration: none;\n",
              "}\n",
              "\n",
              "#sk-container-id-3 a.estimator_doc_link.fitted:hover {\n",
              "  /* fitted */\n",
              "  background-color: var(--sklearn-color-fitted-level-3);\n",
              "}\n",
              "</style><div id=\"sk-container-id-3\" class=\"sk-top-container\"><div class=\"sk-text-repr-fallback\"><pre>AdaBoostClassifier(algorithm=&#x27;SAMME&#x27;, random_state=42)</pre><b>In a Jupyter environment, please rerun this cell to show the HTML representation or trust the notebook. <br />On GitHub, the HTML representation is unable to render, please try loading this page with nbviewer.org.</b></div><div class=\"sk-container\" hidden><div class=\"sk-item\"><div class=\"sk-estimator fitted sk-toggleable\"><input class=\"sk-toggleable__control sk-hidden--visually\" id=\"sk-estimator-id-13\" type=\"checkbox\" checked><label for=\"sk-estimator-id-13\" class=\"sk-toggleable__label fitted sk-toggleable__label-arrow fitted\">&nbsp;&nbsp;AdaBoostClassifier<a class=\"sk-estimator-doc-link fitted\" rel=\"noreferrer\" target=\"_blank\" href=\"https://scikit-learn.org/1.5/modules/generated/sklearn.ensemble.AdaBoostClassifier.html\">?<span>Documentation for AdaBoostClassifier</span></a><span class=\"sk-estimator-doc-link fitted\">i<span>Fitted</span></span></label><div class=\"sk-toggleable__content fitted\"><pre>AdaBoostClassifier(algorithm=&#x27;SAMME&#x27;, random_state=42)</pre></div> </div></div></div></div>"
            ],
            "text/plain": [
              "AdaBoostClassifier(algorithm='SAMME', random_state=42)"
            ]
          },
          "execution_count": 108,
          "metadata": {},
          "output_type": "execute_result"
        }
      ],
      "source": [
        "final_model.fit(preprocessor.transform(X_train), y_train)"
      ]
    },
    {
      "cell_type": "code",
      "execution_count": null,
      "id": "68aea6e0-733c-4b26-b064-6dcf5b13c39d",
      "metadata": {
        "id": "68aea6e0-733c-4b26-b064-6dcf5b13c39d",
        "outputId": "b42a54c7-8648-4ae0-ffb0-61eec04a49d6"
      },
      "outputs": [
        {
          "data": {
            "text/plain": [
              "['totaldue', 'termdays', 'loan_to_due_ratio', 'age']"
            ]
          },
          "execution_count": 109,
          "metadata": {},
          "output_type": "execute_result"
        }
      ],
      "source": [
        "num_cols"
      ]
    },
    {
      "cell_type": "code",
      "execution_count": null,
      "id": "d47223d1-60da-42f5-9b2d-9fc33363f7db",
      "metadata": {
        "id": "d47223d1-60da-42f5-9b2d-9fc33363f7db",
        "outputId": "b874658f-d207-42bb-f831-1920cc4bb746"
      },
      "outputs": [
        {
          "data": {
            "text/plain": [
              "['employment_status_clients', 'level_of_education_clients']"
            ]
          },
          "execution_count": 110,
          "metadata": {},
          "output_type": "execute_result"
        }
      ],
      "source": [
        "cat_cols"
      ]
    },
    {
      "cell_type": "code",
      "execution_count": null,
      "id": "6fc8aba8-6855-43ab-8869-dc637867d6e7",
      "metadata": {
        "id": "6fc8aba8-6855-43ab-8869-dc637867d6e7",
        "outputId": "72e90566-0c84-400d-ec94-a559fb851c7d"
      },
      "outputs": [
        {
          "data": {
            "text/plain": [
              "['totaldue',\n",
              " 'termdays',\n",
              " 'loan_to_due_ratio',\n",
              " 'age',\n",
              " 'employment_status_clients_Contract',\n",
              " 'employment_status_clients_Permanent',\n",
              " 'employment_status_clients_Retired',\n",
              " 'employment_status_clients_Self-Employed',\n",
              " 'employment_status_clients_Student',\n",
              " 'employment_status_clients_Unemployed',\n",
              " 'level_of_education_clients_Graduate',\n",
              " 'level_of_education_clients_Post-Graduate',\n",
              " 'level_of_education_clients_Primary',\n",
              " 'level_of_education_clients_Secondary']"
            ]
          },
          "execution_count": 111,
          "metadata": {},
          "output_type": "execute_result"
        }
      ],
      "source": [
        "feature_names = (num_cols + list(preprocessor.named_transformers_['cat'].named_steps['encoder'].get_feature_names_out(cat_cols)))\n",
        "feature_names"
      ]
    },
    {
      "cell_type": "code",
      "execution_count": null,
      "id": "69718195-fb5c-412f-85ee-b18d4510ef21",
      "metadata": {
        "id": "69718195-fb5c-412f-85ee-b18d4510ef21",
        "outputId": "735e31b3-99c0-42a4-c146-66178ca5e6be"
      },
      "outputs": [
        {
          "data": {
            "text/plain": [
              "array([0.79787543, 0.02224561, 0.1419702 , 0.03790875, 0.        ,\n",
              "       0.        , 0.        , 0.        , 0.        , 0.        ,\n",
              "       0.        , 0.        , 0.        , 0.        ])"
            ]
          },
          "execution_count": 112,
          "metadata": {},
          "output_type": "execute_result"
        }
      ],
      "source": [
        "importance = final_model.feature_importances_\n",
        "importance"
      ]
    },
    {
      "cell_type": "code",
      "execution_count": null,
      "id": "1aa9c24e-412d-4169-9bff-a2381d97e735",
      "metadata": {
        "id": "1aa9c24e-412d-4169-9bff-a2381d97e735"
      },
      "outputs": [],
      "source": [
        "sort = np.argsort(importance)[::-1]"
      ]
    },
    {
      "cell_type": "code",
      "execution_count": null,
      "id": "a4d71414-7537-4fa4-8a0f-0f23aeb14b63",
      "metadata": {
        "id": "a4d71414-7537-4fa4-8a0f-0f23aeb14b63",
        "outputId": "10005859-4dfa-4a52-9744-fd6a1b5f72df"
      },
      "outputs": [
        {
          "data": {
            "image/png": "[encoded data removed]",
            "text/plain": [
              "<Figure size 2000x400 with 1 Axes>"
            ]
          },
          "metadata": {},
          "output_type": "display_data"
        }
      ],
      "source": [
        "plt.figure(figsize=(20, 4))\n",
        "\n",
        "plt.bar(range(len(importance)), importance[sort])\n",
        "plt.xticks(range(len(importance)), np.array(feature_names) [sort])\n",
        "plt.show()"
      ]
    },
    {
      "cell_type": "code",
      "execution_count": null,
      "id": "a49d51ad-a077-4503-9638-4afe54b17abf",
      "metadata": {
        "id": "a49d51ad-a077-4503-9638-4afe54b17abf"
      },
      "outputs": [],
      "source": []
    },
    {
      "cell_type": "code",
      "execution_count": null,
      "id": "743d0ebf-2ee3-43df-b35b-42abd5145906",
      "metadata": {
        "id": "743d0ebf-2ee3-43df-b35b-42abd5145906"
      },
      "outputs": [],
      "source": [
        "#export final dataset as an excel file\n",
        "df6.to_excel(\"loan_default.xlsx\", index=False)"
      ]
    },
    {
      "cell_type": "code",
      "execution_count": null,
      "id": "6d9115c1-8609-4888-8bd9-b2cfd363354b",
      "metadata": {
        "id": "6d9115c1-8609-4888-8bd9-b2cfd363354b",
        "outputId": "5651c3c6-5a22-4c3a-8eaf-a8edefd02a9e"
      },
      "outputs": [
        {
          "data": {
            "text/html": [
              "<div>\n",
              "<style scoped>\n",
              "    .dataframe tbody tr th:only-of-type {\n",
              "        vertical-align: middle;\n",
              "    }\n",
              "\n",
              "    .dataframe tbody tr th {\n",
              "        vertical-align: top;\n",
              "    }\n",
              "\n",
              "    .dataframe thead th {\n",
              "        text-align: right;\n",
              "    }\n",
              "</style>\n",
              "<table border=\"1\" class=\"dataframe\">\n",
              "  <thead>\n",
              "    <tr style=\"text-align: right;\">\n",
              "      <th></th>\n",
              "      <th>customerid</th>\n",
              "      <th>systemloanid</th>\n",
              "      <th>loannumber</th>\n",
              "      <th>approveddate</th>\n",
              "      <th>creationdate</th>\n",
              "      <th>loanamount</th>\n",
              "      <th>totaldue</th>\n",
              "      <th>termdays</th>\n",
              "      <th>good_bad_flag</th>\n",
              "      <th>loan_to_due_ratio</th>\n",
              "      <th>bank_account_type</th>\n",
              "      <th>longitude_gps</th>\n",
              "      <th>latitude_gps</th>\n",
              "      <th>bank_name_clients</th>\n",
              "      <th>employment_status_clients</th>\n",
              "      <th>level_of_education_clients</th>\n",
              "      <th>age</th>\n",
              "    </tr>\n",
              "  </thead>\n",
              "  <tbody>\n",
              "    <tr>\n",
              "      <th>4358</th>\n",
              "      <td>8a858fe957a094e00157af1391dc68d9</td>\n",
              "      <td>301996078</td>\n",
              "      <td>12</td>\n",
              "      <td>2017-07-25 22:46:48.000000</td>\n",
              "      <td>2017-07-25 21:46:41.000000</td>\n",
              "      <td>30000.0</td>\n",
              "      <td>34500.0</td>\n",
              "      <td>30</td>\n",
              "      <td>Good</td>\n",
              "      <td>1.15</td>\n",
              "      <td>Other</td>\n",
              "      <td>4.553353</td>\n",
              "      <td>8.481867</td>\n",
              "      <td>Keystone Bank</td>\n",
              "      <td>Permanent</td>\n",
              "      <td>Graduate</td>\n",
              "      <td>41.0</td>\n",
              "    </tr>\n",
              "  </tbody>\n",
              "</table>\n",
              "</div>"
            ],
            "text/plain": [
              "                            customerid  systemloanid  loannumber  \\\n",
              "4358  8a858fe957a094e00157af1391dc68d9     301996078          12   \n",
              "\n",
              "                    approveddate                creationdate  loanamount  \\\n",
              "4358  2017-07-25 22:46:48.000000  2017-07-25 21:46:41.000000     30000.0   \n",
              "\n",
              "      totaldue  termdays good_bad_flag  loan_to_due_ratio bank_account_type  \\\n",
              "4358   34500.0        30          Good               1.15             Other   \n",
              "\n",
              "      longitude_gps  latitude_gps bank_name_clients employment_status_clients  \\\n",
              "4358       4.553353      8.481867     Keystone Bank                 Permanent   \n",
              "\n",
              "     level_of_education_clients   age  \n",
              "4358                   Graduate  41.0  "
            ]
          },
          "execution_count": 116,
          "metadata": {},
          "output_type": "execute_result"
        }
      ],
      "source": [
        "df6.sample()"
      ]
    },
    {
      "cell_type": "code",
      "execution_count": null,
      "id": "f4fcba44-3ed3-4da4-a584-bc5daeab6536",
      "metadata": {
        "id": "f4fcba44-3ed3-4da4-a584-bc5daeab6536",
        "outputId": "3f487f6b-9374-4b0a-bbb9-76beb8e4a236"
      },
      "outputs": [
        {
          "name": "stdout",
          "output_type": "stream",
          "text": [
            "1.3\n",
            "1.0\n"
          ]
        }
      ],
      "source": [
        "print(df6['loan_to_due_ratio'].max())\n",
        "print(df6['loan_to_due_ratio'].min())"
      ]
    },
    {
      "cell_type": "code",
      "execution_count": null,
      "id": "bb22bdf9-6c69-4d6c-9925-f34d3105f2b3",
      "metadata": {
        "id": "bb22bdf9-6c69-4d6c-9925-f34d3105f2b3",
        "outputId": "af7040ab-ddef-4f85-88a6-72f5b9b1c198"
      },
      "outputs": [
        {
          "data": {
            "text/html": [
              "<div>\n",
              "<style scoped>\n",
              "    .dataframe tbody tr th:only-of-type {\n",
              "        vertical-align: middle;\n",
              "    }\n",
              "\n",
              "    .dataframe tbody tr th {\n",
              "        vertical-align: top;\n",
              "    }\n",
              "\n",
              "    .dataframe thead th {\n",
              "        text-align: right;\n",
              "    }\n",
              "</style>\n",
              "<table border=\"1\" class=\"dataframe\">\n",
              "  <thead>\n",
              "    <tr style=\"text-align: right;\">\n",
              "      <th></th>\n",
              "      <th>totaldue</th>\n",
              "      <th>termdays</th>\n",
              "      <th>loan_to_due_ratio</th>\n",
              "      <th>employment_status_clients</th>\n",
              "      <th>level_of_education_clients</th>\n",
              "      <th>age</th>\n",
              "    </tr>\n",
              "  </thead>\n",
              "  <tbody>\n",
              "    <tr>\n",
              "      <th>0</th>\n",
              "      <td>34500.0</td>\n",
              "      <td>30</td>\n",
              "      <td>1.1500</td>\n",
              "      <td>Permanent</td>\n",
              "      <td>Post-Graduate</td>\n",
              "      <td>53.0</td>\n",
              "    </tr>\n",
              "    <tr>\n",
              "      <th>1</th>\n",
              "      <td>17250.0</td>\n",
              "      <td>30</td>\n",
              "      <td>1.1500</td>\n",
              "      <td>Permanent</td>\n",
              "      <td>Graduate</td>\n",
              "      <td>40.0</td>\n",
              "    </tr>\n",
              "    <tr>\n",
              "      <th>2</th>\n",
              "      <td>22250.0</td>\n",
              "      <td>15</td>\n",
              "      <td>1.1125</td>\n",
              "      <td>Permanent</td>\n",
              "      <td>Graduate</td>\n",
              "      <td>40.0</td>\n",
              "    </tr>\n",
              "    <tr>\n",
              "      <th>3</th>\n",
              "      <td>11500.0</td>\n",
              "      <td>15</td>\n",
              "      <td>1.1500</td>\n",
              "      <td>Permanent</td>\n",
              "      <td>Graduate</td>\n",
              "      <td>47.0</td>\n",
              "    </tr>\n",
              "    <tr>\n",
              "      <th>4</th>\n",
              "      <td>44000.0</td>\n",
              "      <td>30</td>\n",
              "      <td>1.1000</td>\n",
              "      <td>Permanent</td>\n",
              "      <td>Primary</td>\n",
              "      <td>39.0</td>\n",
              "    </tr>\n",
              "    <tr>\n",
              "      <th>...</th>\n",
              "      <td>...</td>\n",
              "      <td>...</td>\n",
              "      <td>...</td>\n",
              "      <td>...</td>\n",
              "      <td>...</td>\n",
              "      <td>...</td>\n",
              "    </tr>\n",
              "    <tr>\n",
              "      <th>4363</th>\n",
              "      <td>13000.0</td>\n",
              "      <td>30</td>\n",
              "      <td>1.3000</td>\n",
              "      <td>Permanent</td>\n",
              "      <td>Graduate</td>\n",
              "      <td>40.0</td>\n",
              "    </tr>\n",
              "    <tr>\n",
              "      <th>4364</th>\n",
              "      <td>13000.0</td>\n",
              "      <td>30</td>\n",
              "      <td>1.3000</td>\n",
              "      <td>Permanent</td>\n",
              "      <td>Graduate</td>\n",
              "      <td>35.0</td>\n",
              "    </tr>\n",
              "    <tr>\n",
              "      <th>4365</th>\n",
              "      <td>11500.0</td>\n",
              "      <td>15</td>\n",
              "      <td>1.1500</td>\n",
              "      <td>Permanent</td>\n",
              "      <td>Graduate</td>\n",
              "      <td>35.0</td>\n",
              "    </tr>\n",
              "    <tr>\n",
              "      <th>4366</th>\n",
              "      <td>13000.0</td>\n",
              "      <td>30</td>\n",
              "      <td>1.3000</td>\n",
              "      <td>Permanent</td>\n",
              "      <td>Graduate</td>\n",
              "      <td>35.0</td>\n",
              "    </tr>\n",
              "    <tr>\n",
              "      <th>4367</th>\n",
              "      <td>34500.0</td>\n",
              "      <td>30</td>\n",
              "      <td>1.1500</td>\n",
              "      <td>Permanent</td>\n",
              "      <td>Graduate</td>\n",
              "      <td>37.0</td>\n",
              "    </tr>\n",
              "  </tbody>\n",
              "</table>\n",
              "<p>4368 rows × 6 columns</p>\n",
              "</div>"
            ],
            "text/plain": [
              "      totaldue  termdays  loan_to_due_ratio employment_status_clients  \\\n",
              "0      34500.0        30             1.1500                 Permanent   \n",
              "1      17250.0        30             1.1500                 Permanent   \n",
              "2      22250.0        15             1.1125                 Permanent   \n",
              "3      11500.0        15             1.1500                 Permanent   \n",
              "4      44000.0        30             1.1000                 Permanent   \n",
              "...        ...       ...                ...                       ...   \n",
              "4363   13000.0        30             1.3000                 Permanent   \n",
              "4364   13000.0        30             1.3000                 Permanent   \n",
              "4365   11500.0        15             1.1500                 Permanent   \n",
              "4366   13000.0        30             1.3000                 Permanent   \n",
              "4367   34500.0        30             1.1500                 Permanent   \n",
              "\n",
              "     level_of_education_clients   age  \n",
              "0                 Post-Graduate  53.0  \n",
              "1                      Graduate  40.0  \n",
              "2                      Graduate  40.0  \n",
              "3                      Graduate  47.0  \n",
              "4                       Primary  39.0  \n",
              "...                         ...   ...  \n",
              "4363                   Graduate  40.0  \n",
              "4364                   Graduate  35.0  \n",
              "4365                   Graduate  35.0  \n",
              "4366                   Graduate  35.0  \n",
              "4367                   Graduate  37.0  \n",
              "\n",
              "[4368 rows x 6 columns]"
            ]
          },
          "execution_count": 118,
          "metadata": {},
          "output_type": "execute_result"
        }
      ],
      "source": [
        "X"
      ]
    },
    {
      "cell_type": "code",
      "execution_count": null,
      "id": "12022ceb-b8fa-46b9-a427-4d2b466e6b4e",
      "metadata": {
        "id": "12022ceb-b8fa-46b9-a427-4d2b466e6b4e",
        "outputId": "690acd0e-8d65-4508-ebd5-50c1f7304f30"
      },
      "outputs": [
        {
          "data": {
            "text/plain": [
              "totaldue                      float64\n",
              "termdays                        int64\n",
              "loan_to_due_ratio             float64\n",
              "employment_status_clients      object\n",
              "level_of_education_clients     object\n",
              "age                           float64\n",
              "dtype: object"
            ]
          },
          "execution_count": 119,
          "metadata": {},
          "output_type": "execute_result"
        }
      ],
      "source": [
        "X.dtypes"
      ]
    },
    {
      "cell_type": "code",
      "execution_count": null,
      "id": "49f6e091-453f-4f17-8722-1402fae298ed",
      "metadata": {
        "id": "49f6e091-453f-4f17-8722-1402fae298ed",
        "outputId": "b864065e-fbb9-4d11-b923-048e1264bd9e"
      },
      "outputs": [
        {
          "data": {
            "text/plain": [
              "0       Good\n",
              "1       Good\n",
              "2       Good\n",
              "3       Good\n",
              "4       Good\n",
              "        ... \n",
              "4363     Bad\n",
              "4364     Bad\n",
              "4365     Bad\n",
              "4366     Bad\n",
              "4367     Bad\n",
              "Name: good_bad_flag, Length: 4368, dtype: object"
            ]
          },
          "execution_count": 120,
          "metadata": {},
          "output_type": "execute_result"
        }
      ],
      "source": [
        "y"
      ]
    },
    {
      "cell_type": "code",
      "execution_count": null,
      "id": "252736bc-4d94-461d-bcea-87d920785cea",
      "metadata": {
        "id": "252736bc-4d94-461d-bcea-87d920785cea",
        "outputId": "7bcca45f-76f6-4321-837d-30ad801af241"
      },
      "outputs": [
        {
          "data": {
            "text/plain": [
              "63.0"
            ]
          },
          "execution_count": 121,
          "metadata": {},
          "output_type": "execute_result"
        }
      ],
      "source": [
        "df6['age'].max()"
      ]
    },
    {
      "cell_type": "code",
      "execution_count": null,
      "id": "39fbffcf-803d-47d9-baf0-c0461980218d",
      "metadata": {
        "id": "39fbffcf-803d-47d9-baf0-c0461980218d",
        "outputId": "9caf656e-86e9-4597-dad7-fcd26bce8171"
      },
      "outputs": [
        {
          "data": {
            "text/plain": [
              "29.0"
            ]
          },
          "execution_count": 122,
          "metadata": {},
          "output_type": "execute_result"
        }
      ],
      "source": [
        "df6['age'].min()"
      ]
    },
    {
      "cell_type": "code",
      "execution_count": null,
      "id": "29b82cc6-9624-4bdc-a386-e7bf7cf87486",
      "metadata": {
        "id": "29b82cc6-9624-4bdc-a386-e7bf7cf87486",
        "outputId": "7d6a8273-cf01-4f2c-acb5-43add6aee5b0"
      },
      "outputs": [
        {
          "data": {
            "text/plain": [
              "level_of_education_clients\n",
              "Graduate         4246\n",
              "Secondary          65\n",
              "Post-Graduate      50\n",
              "Primary             7\n",
              "Name: count, dtype: int64"
            ]
          },
          "execution_count": 123,
          "metadata": {},
          "output_type": "execute_result"
        }
      ],
      "source": [
        "df6['level_of_education_clients'].value_counts()"
      ]
    },
    {
      "cell_type": "code",
      "execution_count": null,
      "id": "b6fdc8e0-b1d0-4c69-a40f-66efe4494e65",
      "metadata": {
        "id": "b6fdc8e0-b1d0-4c69-a40f-66efe4494e65",
        "outputId": "64b105fc-6d61-4845-9204-3d92c1638562"
      },
      "outputs": [
        {
          "data": {
            "text/plain": [
              "employment_status_clients\n",
              "Permanent        3932\n",
              "Self-Employed     277\n",
              "Student           111\n",
              "Unemployed         43\n",
              "Retired             4\n",
              "Contract            1\n",
              "Name: count, dtype: int64"
            ]
          },
          "execution_count": 124,
          "metadata": {},
          "output_type": "execute_result"
        }
      ],
      "source": [
        "df6['employment_status_clients'].value_counts()"
      ]
    },
    {
      "cell_type": "code",
      "execution_count": null,
      "id": "60cd7177-cf7b-48e0-906c-b2c04864cbed",
      "metadata": {
        "id": "60cd7177-cf7b-48e0-906c-b2c04864cbed",
        "outputId": "3c09825b-b267-4d9d-f7a5-8cd2b6cc91d3"
      },
      "outputs": [
        {
          "data": {
            "text/plain": [
              "10000.0"
            ]
          },
          "execution_count": 125,
          "metadata": {},
          "output_type": "execute_result"
        }
      ],
      "source": [
        "df6['totaldue'].min()"
      ]
    },
    {
      "cell_type": "code",
      "execution_count": null,
      "id": "41529fdd-fecf-4516-b77c-6a61cdb922c3",
      "metadata": {
        "id": "41529fdd-fecf-4516-b77c-6a61cdb922c3",
        "outputId": "2e3e988b-2956-454a-cf1d-41d6f0d97f0a"
      },
      "outputs": [
        {
          "data": {
            "text/plain": [
              "68100.0"
            ]
          },
          "execution_count": 126,
          "metadata": {},
          "output_type": "execute_result"
        }
      ],
      "source": [
        "df6['totaldue'].max()"
      ]
    },
    {
      "cell_type": "code",
      "execution_count": null,
      "id": "8c339ad6-210c-45e0-be4e-b06be5623947",
      "metadata": {
        "id": "8c339ad6-210c-45e0-be4e-b06be5623947"
      },
      "outputs": [],
      "source": []
    }
  ],
  "metadata": {
    "kernelspec": {
      "display_name": "Python [conda env:base] *",
      "language": "python",
      "name": "conda-base-py"
    },
    "language_info": {
      "codemirror_mode": {
        "name": "ipython",
        "version": 3
      },
      "file_extension": ".py",
      "mimetype": "text/x-python",
      "name": "python",
      "nbconvert_exporter": "python",
      "pygments_lexer": "ipython3",
      "version": "3.12.7"
    },
    "colab": {
      "provenance": []
    }
  },
  "nbformat": 4,
  "nbformat_minor": 5
}